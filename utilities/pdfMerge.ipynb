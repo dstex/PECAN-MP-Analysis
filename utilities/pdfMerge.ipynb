{
 "cells": [
  {
   "cell_type": "code",
   "execution_count": null,
   "metadata": {
    "ExecuteTime": {
     "end_time": "2018-04-04T15:18:52.865486",
     "start_time": "2018-04-04T15:18:52.097219"
    },
    "collapsed": false
   },
   "outputs": [],
   "source": [
    "from PyPDF2 import PdfFileMerger\n",
    "from glob import glob\n",
    "from natsort import natsorted, ns\n",
    "import numpy as np\n",
    "import shutil\n",
    "import os"
   ]
  },
  {
   "cell_type": "code",
   "execution_count": null,
   "metadata": {
    "ExecuteTime": {
     "end_time": "2018-04-04T15:23:19.165618",
     "start_time": "2018-04-04T15:22:48.738353"
    },
    "collapsed": false
   },
   "outputs": [],
   "source": [
    "flight = '20150709'\n",
    "varStr = 'CIP-MD-Temp'\n",
    "dirStr = 'CIP-MD-TempBinned'\n",
    "\n",
    "\n",
    "\n",
    "pdfDir = '/Users/danstechman/GoogleDrive/School/Research/PECAN/Microphysics/plots/{}/CIP-Fitting/{}'.format(flight,dirStr)\n",
    "mvDir = pdfDir + '/IndvFiles'\n",
    "\n",
    "if not os.path.exists(mvDir):\n",
    "    os.makedirs(mvDir)\n",
    "\n",
    "if flight == '20150617':\n",
    "    numSprls = 7\n",
    "if flight == '20150620':\n",
    "    numSprls = 7\n",
    "if flight == '20150701':\n",
    "    numSprls = 1\n",
    "if flight == '20150702':\n",
    "    numSprls = 3\n",
    "if flight == '20150706':\n",
    "    numSprls = 8\n",
    "if flight == '20150709':\n",
    "    numSprls = 16\n",
    "\n",
    "for ix in range(1,numSprls+1):\n",
    "    pdfList = natsorted(glob('{}/*S{}_*degC.pdf'.format(pdfDir,ix)))\n",
    "    pdfListZ = natsorted(glob('{}/*S{}_*_zoom.pdf'.format(pdfDir,ix)))\n",
    "    \n",
    "    merger = PdfFileMerger()\n",
    "    mergerZ = PdfFileMerger()\n",
    "\n",
    "    for pdf in pdfList:\n",
    "        merger.append(pdf)\n",
    "    for pdfZ in pdfListZ:\n",
    "        mergerZ.append(pdfZ)\n",
    "\n",
    "    merger.write('{}/{}_{}_S{}.pdf'.format(pdfDir,flight,varStr,ix))\n",
    "    mergerZ.write('{}/{}_{}_S{}_zoom.pdf'.format(pdfDir,flight,varStr,ix))\n",
    "    \n",
    "    for f in pdfList:\n",
    "        shutil.move(f,mvDir)\n",
    "    for fZ in pdfListZ:\n",
    "        shutil.move(fZ,mvDir)"
   ]
  }
 ],
 "metadata": {
  "anaconda-cloud": {},
  "kernelspec": {
   "display_name": "Python [conda root]",
   "language": "python",
   "name": "conda-root-py"
  },
  "language_info": {
   "codemirror_mode": {
    "name": "ipython",
    "version": 3
   },
   "file_extension": ".py",
   "mimetype": "text/x-python",
   "name": "python",
   "nbconvert_exporter": "python",
   "pygments_lexer": "ipython3",
   "version": "3.5.2"
  }
 },
 "nbformat": 4,
 "nbformat_minor": 1
}
