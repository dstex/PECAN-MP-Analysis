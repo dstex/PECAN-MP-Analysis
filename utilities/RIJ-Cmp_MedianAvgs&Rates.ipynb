{
 "cells": [
  {
   "cell_type": "code",
   "execution_count": 1,
   "metadata": {
    "ExecuteTime": {
     "end_time": "2018-08-06T03:44:11.458381Z",
     "start_time": "2018-08-06T03:44:10.810472Z"
    },
    "run_control": {
     "frozen": false,
     "read_only": false
    }
   },
   "outputs": [],
   "source": [
    "import numpy as np\n",
    "from matplotlib import pyplot as plt\n",
    "import os\n",
    "import warnings\n",
    "warnings.filterwarnings(\"ignore\",category=FutureWarning)\n",
    "import xarray as xr\n",
    "from matplotlib.ticker import MultipleLocator, FormatStrFormatter\n",
    "\n",
    "warnings.filterwarnings(\"ignore\",message='invalid value encountered in less_equal')\n",
    "\n",
    "%matplotlib inline"
   ]
  },
  {
   "cell_type": "code",
   "execution_count": 2,
   "metadata": {
    "ExecuteTime": {
     "end_time": "2018-08-06T03:44:11.467475Z",
     "start_time": "2018-08-06T03:44:11.460639Z"
    }
   },
   "outputs": [],
   "source": [
    "# npRIJall = np.load('/Users/danstechman/GoogleDrive/PECAN-Data/mp-data/esr_RIJcmp_stats.npz')\n",
    "npRIJall = np.load('/Users/danstechman/GoogleDrive/PECAN-Data/mp-data/esr_RIJcmp_stats_excldU4S7.npz')"
   ]
  },
  {
   "cell_type": "code",
   "execution_count": 3,
   "metadata": {
    "ExecuteTime": {
     "end_time": "2018-08-06T03:44:11.477523Z",
     "start_time": "2018-08-06T03:44:11.470300Z"
    }
   },
   "outputs": [],
   "source": [
    "temps = npRIJall['bin_mid']\n",
    "temp_lte0 = temps[temps <= 0]\n",
    "temp_gt0 = temps[temps > 0]\n",
    "temp_gte5 = temps[temps >= 5]\n",
    "\n",
    "lte0 = np.where(temps <= 0)[0]\n",
    "gt0 = np.where(temps > 0)[0]\n",
    "gte5 = np.where(temps >= 5)[0]\n",
    "gt0lt5 = np.where((temps > 0) & (temps < 5))[0]"
   ]
  },
  {
   "cell_type": "markdown",
   "metadata": {},
   "source": [
    "# $dRH/dT$ for $T \\leq 0^{\\circ}C$"
   ]
  },
  {
   "cell_type": "code",
   "execution_count": 4,
   "metadata": {
    "ExecuteTime": {
     "end_time": "2018-08-06T03:46:07.201319Z",
     "start_time": "2018-08-06T03:46:07.175416Z"
    },
    "run_control": {
     "frozen": false,
     "read_only": false
    }
   },
   "outputs": [
    {
     "name": "stdout",
     "output_type": "stream",
     "text": [
      "-1.4040355661747412\n",
      "-1.3088817107362871\n",
      "\n",
      "\n",
      "-1.523725319680409\n",
      "-1.2417910983042049\n"
     ]
    }
   ],
   "source": [
    "RHMed_ALLrij_lte0 = npRIJall['binRH_median_ALLrij'][lte0]\n",
    "finiteIx = np.isfinite(np.log10(RHMed_ALLrij_lte0))\n",
    "pf_RHMed_ALLrij_lte0 = np.poly1d(np.polyfit(temp_lte0[finiteIx],RHMed_ALLrij_lte0[finiteIx],  1))\n",
    "RHMed_ALLrij_lte0_dT = pf_RHMed_ALLrij_lte0(-5) - pf_RHMed_ALLrij_lte0(-6)\n",
    "print('{}'.format(RHMed_ALLrij_lte0_dT))\n",
    "\n",
    "RHMed_ALLnrij_lte0 = npRIJall['binRH_median_ALLnrij'][lte0]\n",
    "finiteIx = np.isfinite(np.log10(RHMed_ALLnrij_lte0))\n",
    "pf_RHMed_ALLnrij_lte0 = np.poly1d(np.polyfit(temp_lte0[finiteIx],RHMed_ALLnrij_lte0[finiteIx],  1))\n",
    "RHMed_ALLnrij_lte0_dT = pf_RHMed_ALLnrij_lte0(-5) - pf_RHMed_ALLnrij_lte0(-6)\n",
    "print('{}\\n\\n'.format(RHMed_ALLnrij_lte0_dT))\n",
    "\n",
    "\n",
    "RHMed_SRrij_lte0 = npRIJall['binRH_median_SRrij'][lte0]\n",
    "finiteIx = np.isfinite(np.log10(RHMed_SRrij_lte0))\n",
    "pf_RHMed_SRrij_lte0 = np.poly1d(np.polyfit(temp_lte0[finiteIx],RHMed_SRrij_lte0[finiteIx],  1))\n",
    "RHMed_SRrij_lte0_dT = pf_RHMed_SRrij_lte0(-5) - pf_RHMed_SRrij_lte0(-6)\n",
    "print('{}'.format(RHMed_SRrij_lte0_dT))\n",
    "\n",
    "RHMed_SRnrij_lte0 = npRIJall['binRH_median_SRnrij'][lte0]\n",
    "finiteIx = np.isfinite(np.log10(RHMed_SRnrij_lte0))\n",
    "pf_RHMed_SRnrij_lte0 = np.poly1d(np.polyfit(temp_lte0[finiteIx],RHMed_SRnrij_lte0[finiteIx],  1))\n",
    "RHMed_SRnrij_lte0_dT = pf_RHMed_SRnrij_lte0(-5) - pf_RHMed_SRnrij_lte0(-6)\n",
    "print('{}'.format(RHMed_SRnrij_lte0_dT))"
   ]
  },
  {
   "cell_type": "markdown",
   "metadata": {},
   "source": [
    "# $dRH/dT$ for $T \\geq 5^{\\circ}C$"
   ]
  },
  {
   "cell_type": "code",
   "execution_count": 5,
   "metadata": {
    "ExecuteTime": {
     "end_time": "2018-08-06T03:46:07.220970Z",
     "start_time": "2018-08-06T03:46:07.204830Z"
    },
    "run_control": {
     "frozen": false,
     "read_only": false
    }
   },
   "outputs": [
    {
     "name": "stdout",
     "output_type": "stream",
     "text": [
      "-3.202165434613221\n",
      "-3.0425909310103236\n",
      "\n",
      "\n",
      "-2.62017262284229\n",
      "-3.116374160743547\n"
     ]
    }
   ],
   "source": [
    "RHMed_ALLrij_gte5 = npRIJall['binRH_median_ALLrij'][gte5]\n",
    "finiteIx = np.isfinite(np.log10(RHMed_ALLrij_gte5))\n",
    "pf_RHMed_ALLrij_gte5 = np.poly1d(np.polyfit(temp_gte5[finiteIx],RHMed_ALLrij_gte5[finiteIx],  1))\n",
    "RHMed_ALLrij_gte5_dT = pf_RHMed_ALLrij_gte5(6) - pf_RHMed_ALLrij_gte5(5)\n",
    "print('{}'.format(RHMed_ALLrij_gte5_dT))\n",
    "\n",
    "RHMed_ALLnrij_gte5 = npRIJall['binRH_median_ALLnrij'][gte5]\n",
    "finiteIx = np.isfinite(np.log10(RHMed_ALLnrij_gte5))\n",
    "pf_RHMed_ALLnrij_gte5 = np.poly1d(np.polyfit(temp_gte5[finiteIx],RHMed_ALLnrij_gte5[finiteIx],  1))\n",
    "RHMed_ALLnrij_gte5_dT = pf_RHMed_ALLnrij_gte5(6) - pf_RHMed_ALLnrij_gte5(5)\n",
    "print('{}\\n\\n'.format(RHMed_ALLnrij_gte5_dT))\n",
    "\n",
    "\n",
    "RHMed_SRrij_gte5 = npRIJall['binRH_median_SRrij'][gte5]\n",
    "finiteIx = np.isfinite(np.log10(RHMed_SRrij_gte5))\n",
    "pf_RHMed_SRrij_gte5 = np.poly1d(np.polyfit(temp_gte5[finiteIx],RHMed_SRrij_gte5[finiteIx],  1))\n",
    "RHMed_SRrij_gte5_dT = pf_RHMed_SRrij_gte5(6) - pf_RHMed_SRrij_gte5(5)\n",
    "print('{}'.format(RHMed_SRrij_gte5_dT))\n",
    "\n",
    "RHMed_SRnrij_gte5 = npRIJall['binRH_median_SRnrij'][gte5]\n",
    "finiteIx = np.isfinite(np.log10(RHMed_SRnrij_gte5))\n",
    "pf_RHMed_SRnrij_gte5 = np.poly1d(np.polyfit(temp_gte5[finiteIx],RHMed_SRnrij_gte5[finiteIx],  1))\n",
    "RHMed_SRnrij_gte5_dT = pf_RHMed_SRnrij_gte5(6) - pf_RHMed_SRnrij_gte5(5)\n",
    "print('{}'.format(RHMed_SRnrij_gte5_dT))"
   ]
  },
  {
   "cell_type": "markdown",
   "metadata": {},
   "source": [
    "# $d𝒜/dT$ for $T \\leq 0^{\\circ}C$"
   ]
  },
  {
   "cell_type": "code",
   "execution_count": 6,
   "metadata": {
    "ExecuteTime": {
     "end_time": "2018-08-06T03:46:07.238900Z",
     "start_time": "2018-08-06T03:46:07.223645Z"
    },
    "run_control": {
     "frozen": false,
     "read_only": false
    }
   },
   "outputs": [
    {
     "name": "stdout",
     "output_type": "stream",
     "text": [
      "0.00013050871029601785\n",
      "-0.0019009404624312776\n",
      "\n",
      "\n",
      "0.0014921020678541064\n",
      "-0.0019777554671047137\n"
     ]
    }
   ],
   "source": [
    "ARatMed_ALLrij_lte0 = npRIJall['binARat_median_ALLrij'][lte0]\n",
    "finiteIx = np.isfinite(np.log10(ARatMed_ALLrij_lte0))\n",
    "pf_ARatMed_ALLrij_lte0 = np.poly1d(np.polyfit(temp_lte0[finiteIx],ARatMed_ALLrij_lte0[finiteIx],  1))\n",
    "ARatMed_ALLrij_lte0_dT = pf_ARatMed_ALLrij_lte0(-5) - pf_ARatMed_ALLrij_lte0(-6) \n",
    "print('{}'.format(ARatMed_ALLrij_lte0_dT))\n",
    "\n",
    "ARatMed_ALLnrij_lte0 = npRIJall['binARat_median_ALLnrij'][lte0]\n",
    "finiteIx = np.isfinite(np.log10(ARatMed_ALLnrij_lte0))\n",
    "pf_ARatMed_ALLnrij_lte0 = np.poly1d(np.polyfit(temp_lte0[finiteIx],ARatMed_ALLnrij_lte0[finiteIx],  1))\n",
    "ARatMed_ALLnrij_lte0_dT = pf_ARatMed_ALLnrij_lte0(-5) - pf_ARatMed_ALLnrij_lte0(-6)\n",
    "print('{}\\n\\n'.format(ARatMed_ALLnrij_lte0_dT))\n",
    "\n",
    "\n",
    "ARatMed_SRrij_lte0 = npRIJall['binARat_median_SRrij'][lte0]\n",
    "finiteIx = np.isfinite(np.log10(ARatMed_SRrij_lte0))\n",
    "pf_ARatMed_SRrij_lte0 = np.poly1d(np.polyfit(temp_lte0[finiteIx],ARatMed_SRrij_lte0[finiteIx],  1))\n",
    "ARatMed_SRrij_lte0_dT = pf_ARatMed_SRrij_lte0(-5) - pf_ARatMed_SRrij_lte0(-6)\n",
    "print('{}'.format(ARatMed_SRrij_lte0_dT))\n",
    "\n",
    "ARatMed_SRnrij_lte0 = npRIJall['binARat_median_SRnrij'][lte0]\n",
    "finiteIx = np.isfinite(np.log10(ARatMed_SRnrij_lte0))\n",
    "pf_ARatMed_SRnrij_lte0 = np.poly1d(np.polyfit(temp_lte0[finiteIx],ARatMed_SRnrij_lte0[finiteIx],  1))\n",
    "ARatMed_SRnrij_lte0_dT = pf_ARatMed_SRnrij_lte0(-5) - pf_ARatMed_SRnrij_lte0(-6)\n",
    "print('{}'.format(ARatMed_SRnrij_lte0_dT))"
   ]
  },
  {
   "cell_type": "markdown",
   "metadata": {},
   "source": [
    "# $d𝒜/dT$ for $T \\geq 5^{\\circ}C$"
   ]
  },
  {
   "cell_type": "code",
   "execution_count": 7,
   "metadata": {
    "ExecuteTime": {
     "end_time": "2018-08-06T03:46:07.255525Z",
     "start_time": "2018-08-06T03:46:07.241864Z"
    },
    "run_control": {
     "frozen": false,
     "read_only": false
    }
   },
   "outputs": [
    {
     "name": "stdout",
     "output_type": "stream",
     "text": [
      "0.007042545067728612\n",
      "0.00017222091792234995\n",
      "\n",
      "\n",
      "0.005418997106827805\n",
      "0.00017004020394628672\n"
     ]
    }
   ],
   "source": [
    "ARatMed_ALLrij_gte5 = npRIJall['binARat_median_ALLrij'][gte5]\n",
    "finiteIx = np.isfinite(np.log10(ARatMed_ALLrij_gte5))\n",
    "pf_ARatMed_ALLrij_gte5 = np.poly1d(np.polyfit(temp_gte5[finiteIx],ARatMed_ALLrij_gte5[finiteIx],  1))\n",
    "ARatMed_ALLrij_gte5_dT = pf_ARatMed_ALLrij_gte5(6) - pf_ARatMed_ALLrij_gte5(5)\n",
    "print('{}'.format(ARatMed_ALLrij_gte5_dT))\n",
    "\n",
    "ARatMed_ALLnrij_gte5 = npRIJall['binARat_median_ALLnrij'][gte5]\n",
    "finiteIx = np.isfinite(np.log10(ARatMed_ALLnrij_gte5))\n",
    "pf_ARatMed_ALLnrij_gte5 = np.poly1d(np.polyfit(temp_gte5[finiteIx],ARatMed_ALLnrij_gte5[finiteIx],  1))\n",
    "ARatMed_ALLnrij_gte5_dT = pf_ARatMed_ALLnrij_gte5(6) - pf_ARatMed_ALLnrij_gte5(5)\n",
    "print('{}\\n\\n'.format(ARatMed_ALLnrij_gte5_dT))\n",
    "\n",
    "\n",
    "ARatMed_SRrij_gte5 = npRIJall['binARat_median_SRrij'][gte5]\n",
    "finiteIx = np.isfinite(np.log10(ARatMed_SRrij_gte5))\n",
    "pf_ARatMed_SRrij_gte5 = np.poly1d(np.polyfit(temp_gte5[finiteIx],ARatMed_SRrij_gte5[finiteIx],  1))\n",
    "ARatMed_SRrij_gte5_dT = pf_ARatMed_SRrij_gte5(6) - pf_ARatMed_SRrij_gte5(5)\n",
    "print('{}'.format(ARatMed_SRrij_gte5_dT))\n",
    "\n",
    "ARatMed_SRnrij_gte5 = npRIJall['binARat_median_SRnrij'][gte5]\n",
    "finiteIx = np.isfinite(np.log10(ARatMed_SRnrij_gte5))\n",
    "pf_ARatMed_SRnrij_gte5 = np.poly1d(np.polyfit(temp_gte5[finiteIx],ARatMed_SRnrij_gte5[finiteIx],  1))\n",
    "ARatMed_SRnrij_gte5_dT = pf_ARatMed_SRnrij_gte5(6) - pf_ARatMed_SRnrij_gte5(5)\n",
    "print('{}'.format(ARatMed_SRnrij_gte5_dT))"
   ]
  },
  {
   "cell_type": "markdown",
   "metadata": {},
   "source": [
    "# $dD_{mm}/dT$ for $T \\leq 0^{\\circ}C$"
   ]
  },
  {
   "cell_type": "code",
   "execution_count": 8,
   "metadata": {
    "ExecuteTime": {
     "end_time": "2018-08-06T03:46:07.273993Z",
     "start_time": "2018-08-06T03:46:07.258332Z"
    },
    "run_control": {
     "frozen": false,
     "read_only": false
    }
   },
   "outputs": [
    {
     "name": "stdout",
     "output_type": "stream",
     "text": [
      "0.007707688338493224\n",
      "0.022123323013415686\n",
      "\n",
      "\n",
      "0.02767857142857122\n",
      "0.027096233230134104\n"
     ]
    }
   ],
   "source": [
    "DmmMed_ALLrij_lte0 = npRIJall['binDmm_median_ALLrij'][lte0]\n",
    "finiteIx = np.isfinite(np.log10(DmmMed_ALLrij_lte0))\n",
    "pf_DmmMed_ALLrij_lte0 = np.poly1d(np.polyfit(temp_lte0[finiteIx],DmmMed_ALLrij_lte0[finiteIx],  1))\n",
    "DmmMed_ALLrij_lte0_dT = pf_DmmMed_ALLrij_lte0(-5) - pf_DmmMed_ALLrij_lte0(-6)\n",
    "print('{}'.format(DmmMed_ALLrij_lte0_dT))\n",
    "\n",
    "DmmMed_ALLnrij_lte0 = npRIJall['binDmm_median_ALLnrij'][lte0]\n",
    "finiteIx = np.isfinite(np.log10(DmmMed_ALLnrij_lte0))\n",
    "pf_DmmMed_ALLnrij_lte0 = np.poly1d(np.polyfit(temp_lte0[finiteIx],DmmMed_ALLnrij_lte0[finiteIx],  1))\n",
    "DmmMed_ALLnrij_lte0_dT = pf_DmmMed_ALLnrij_lte0(-5) - pf_DmmMed_ALLnrij_lte0(-6)\n",
    "print('{}\\n\\n'.format(DmmMed_ALLnrij_lte0_dT))\n",
    "\n",
    "\n",
    "DmmMed_SRrij_lte0 = npRIJall['binDmm_median_SRrij'][lte0]\n",
    "finiteIx = np.isfinite(np.log10(DmmMed_SRrij_lte0))\n",
    "pf_DmmMed_SRrij_lte0 = np.poly1d(np.polyfit(temp_lte0[finiteIx],DmmMed_SRrij_lte0[finiteIx],  1))\n",
    "DmmMed_SRrij_lte0_dT = pf_DmmMed_SRrij_lte0(-5) - pf_DmmMed_SRrij_lte0(-6)\n",
    "print('{}'.format(DmmMed_SRrij_lte0_dT))\n",
    "\n",
    "DmmMed_SRnrij_lte0 = npRIJall['binDmm_median_SRnrij'][lte0]\n",
    "finiteIx = np.isfinite(np.log10(DmmMed_SRnrij_lte0))\n",
    "pf_DmmMed_SRnrij_lte0 = np.poly1d(np.polyfit(temp_lte0[finiteIx],DmmMed_SRnrij_lte0[finiteIx],  1))\n",
    "DmmMed_SRnrij_lte0_dT = pf_DmmMed_SRnrij_lte0(-5) - pf_DmmMed_SRnrij_lte0(-6)\n",
    "print('{}'.format(DmmMed_SRnrij_lte0_dT))"
   ]
  },
  {
   "cell_type": "markdown",
   "metadata": {},
   "source": [
    "# $dD_{mm}/dT$ for $T \\geq 5^{\\circ}C$"
   ]
  },
  {
   "cell_type": "code",
   "execution_count": 9,
   "metadata": {
    "ExecuteTime": {
     "end_time": "2018-08-06T03:46:07.292315Z",
     "start_time": "2018-08-06T03:46:07.276458Z"
    },
    "run_control": {
     "frozen": false,
     "read_only": false
    }
   },
   "outputs": [
    {
     "name": "stdout",
     "output_type": "stream",
     "text": [
      "-0.007878787878787818\n",
      "0.005022321428571397\n",
      "\n",
      "\n",
      "0.02204545454545459\n",
      "0.0019642857142856407\n"
     ]
    }
   ],
   "source": [
    "DmmMed_ALLrij_gte5 = npRIJall['binDmm_median_ALLrij'][gte5]\n",
    "finiteIx = np.isfinite(np.log10(DmmMed_ALLrij_gte5))\n",
    "pf_DmmMed_ALLrij_gte5 = np.poly1d(np.polyfit(temp_gte5[finiteIx],DmmMed_ALLrij_gte5[finiteIx],  1))\n",
    "DmmMed_ALLrij_gte5_dT = pf_DmmMed_ALLrij_gte5(6) - pf_DmmMed_ALLrij_gte5(5) \n",
    "print('{}'.format(DmmMed_ALLrij_gte5_dT))\n",
    "\n",
    "DmmMed_ALLnrij_gte5 = npRIJall['binDmm_median_ALLnrij'][gte5]\n",
    "finiteIx = np.isfinite(np.log10(DmmMed_ALLnrij_gte5))\n",
    "pf_DmmMed_ALLnrij_gte5 = np.poly1d(np.polyfit(temp_gte5[finiteIx],DmmMed_ALLnrij_gte5[finiteIx],  1))\n",
    "DmmMed_ALLnrij_gte5_dT = pf_DmmMed_ALLnrij_gte5(6) - pf_DmmMed_ALLnrij_gte5(5)\n",
    "print('{}\\n\\n'.format(DmmMed_ALLnrij_gte5_dT))\n",
    "\n",
    "\n",
    "DmmMed_SRrij_gte5 = npRIJall['binDmm_median_SRrij'][gte5]\n",
    "finiteIx = np.isfinite(np.log10(DmmMed_SRrij_gte5))\n",
    "pf_DmmMed_SRrij_gte5 = np.poly1d(np.polyfit(temp_gte5[finiteIx],DmmMed_SRrij_gte5[finiteIx],  1))\n",
    "DmmMed_SRrij_gte5_dT = pf_DmmMed_SRrij_gte5(6) - pf_DmmMed_SRrij_gte5(5)\n",
    "print('{}'.format(DmmMed_SRrij_gte5_dT))\n",
    "\n",
    "DmmMed_SRnrij_gte5 = npRIJall['binDmm_median_SRnrij'][gte5]\n",
    "finiteIx = np.isfinite(np.log10(DmmMed_SRnrij_gte5))\n",
    "pf_DmmMed_SRnrij_gte5 = np.poly1d(np.polyfit(temp_gte5[finiteIx],DmmMed_SRnrij_gte5[finiteIx],  1))\n",
    "DmmMed_SRnrij_gte5_dT = pf_DmmMed_SRnrij_gte5(6) - pf_DmmMed_SRnrij_gte5(5)\n",
    "print('{}'.format(DmmMed_SRnrij_gte5_dT))"
   ]
  },
  {
   "cell_type": "markdown",
   "metadata": {},
   "source": [
    "# $dN_t/dT$ for $T \\leq 0^{\\circ}C$"
   ]
  },
  {
   "cell_type": "code",
   "execution_count": 10,
   "metadata": {
    "ExecuteTime": {
     "end_time": "2018-08-06T03:46:07.313936Z",
     "start_time": "2018-08-06T03:46:07.295464Z"
    },
    "run_control": {
     "frozen": false,
     "read_only": false
    }
   },
   "outputs": [
    {
     "name": "stdout",
     "output_type": "stream",
     "text": [
      "-0.12461149471419963\n",
      "-0.23308133256876973\n",
      "\n",
      "\n",
      "-0.22762985064809427\n",
      "-0.22983764565753262\n"
     ]
    }
   ],
   "source": [
    "ntMed_ALLrij_lte0 = npRIJall['binNt_median_ALLrij'][lte0]\n",
    "finiteIx = np.isfinite(np.log10(ntMed_ALLrij_lte0))\n",
    "pf_ntMed_ALLrij_lte0 = np.poly1d(np.polyfit(temp_lte0[finiteIx],np.log10(ntMed_ALLrij_lte0[finiteIx]),  1))\n",
    "ntMed_ALLrij_lte0_dT = 1 - (10**pf_ntMed_ALLrij_lte0(-6)/10**pf_ntMed_ALLrij_lte0(-5)) # 1 deg C change percentage     \n",
    "print('{}'.format(ntMed_ALLrij_lte0_dT))\n",
    "\n",
    "ntMed_ALLnrij_lte0 = npRIJall['binNt_median_ALLnrij'][lte0]\n",
    "finiteIx = np.isfinite(np.log10(ntMed_ALLnrij_lte0))\n",
    "pf_ntMed_ALLnrij_lte0 = np.poly1d(np.polyfit(temp_lte0[finiteIx],np.log10(ntMed_ALLnrij_lte0[finiteIx]),  1))\n",
    "ntMed_ALLnrij_lte0_dT = 1 - (10**pf_ntMed_ALLnrij_lte0(-6)/10**pf_ntMed_ALLnrij_lte0(-5)) # 1 deg C change percentage      \n",
    "print('{}\\n\\n'.format(ntMed_ALLnrij_lte0_dT))\n",
    "\n",
    "\n",
    "ntMed_SRrij_lte0 = npRIJall['binNt_median_SRrij'][lte0]\n",
    "finiteIx = np.isfinite(np.log10(ntMed_SRrij_lte0))\n",
    "pf_ntMed_SRrij_lte0 = np.poly1d(np.polyfit(temp_lte0[finiteIx],np.log10(ntMed_SRrij_lte0[finiteIx]),  1))\n",
    "ntMed_SRrij_lte0_dT = 1 - (10**pf_ntMed_SRrij_lte0(-6)/10**pf_ntMed_SRrij_lte0(-5)) # 1 deg C change percentage    \n",
    "print('{}'.format(ntMed_SRrij_lte0_dT))\n",
    "\n",
    "ntMed_SRnrij_lte0 = npRIJall['binNt_median_SRnrij'][lte0]\n",
    "finiteIx = np.isfinite(np.log10(ntMed_SRnrij_lte0))\n",
    "pf_ntMed_SRnrij_lte0 = np.poly1d(np.polyfit(temp_lte0[finiteIx],np.log10(ntMed_SRnrij_lte0[finiteIx]),  1))\n",
    "ntMed_SRnrij_lte0_dT = 1 - (10**pf_ntMed_SRnrij_lte0(-6)/10**pf_ntMed_SRnrij_lte0(-5)) # 1 deg C change percentage    \n",
    "print('{}'.format(ntMed_SRnrij_lte0_dT))"
   ]
  },
  {
   "cell_type": "markdown",
   "metadata": {},
   "source": [
    "# $dN_t/dT$ for $T \\geq 5^{\\circ}C$"
   ]
  },
  {
   "cell_type": "code",
   "execution_count": 11,
   "metadata": {
    "ExecuteTime": {
     "end_time": "2018-08-06T03:46:07.340330Z",
     "start_time": "2018-08-06T03:46:07.316955Z"
    },
    "run_control": {
     "frozen": false,
     "read_only": false
    }
   },
   "outputs": [
    {
     "name": "stdout",
     "output_type": "stream",
     "text": [
      "-0.07360393863120995\n",
      "-0.11988040472671768\n",
      "\n",
      "\n",
      "-0.09470030243816474\n",
      "-0.11993443150071714\n"
     ]
    }
   ],
   "source": [
    "ntMed_ALLrij_gte5 = npRIJall['binNt_median_ALLrij'][gte5]\n",
    "finiteIx = np.isfinite(np.log10(ntMed_ALLrij_gte5))\n",
    "pf_ntMed_ALLrij_gte5 = np.poly1d(np.polyfit(temp_gte5[finiteIx],np.log10(ntMed_ALLrij_gte5[finiteIx]),  1))\n",
    "ntMed_ALLrij_gte5_dT = 1 - (10**pf_ntMed_ALLrij_gte5(-6)/10**pf_ntMed_ALLrij_gte5(-5)) # 1 deg C change percentage    \n",
    "print('{}'.format(ntMed_ALLrij_gte5_dT))\n",
    "\n",
    "ntMed_ALLnrij_gte5 = npRIJall['binNt_median_ALLnrij'][gte5]\n",
    "finiteIx = np.isfinite(np.log10(ntMed_ALLnrij_gte5))\n",
    "pf_ntMed_ALLnrij_gte5 = np.poly1d(np.polyfit(temp_gte5[finiteIx],np.log10(ntMed_ALLnrij_gte5[finiteIx]),  1))\n",
    "ntMed_ALLnrij_gte5_dT = 1 - (10**pf_ntMed_ALLnrij_gte5(-6)/10**pf_ntMed_ALLnrij_gte5(-5)) # 1 deg C change percentage \n",
    "print('{}\\n\\n'.format(ntMed_ALLnrij_gte5_dT))\n",
    "\n",
    "\n",
    "ntMed_SRrij_gte5 = npRIJall['binNt_median_SRrij'][gte5]\n",
    "finiteIx = np.isfinite(np.log10(ntMed_SRrij_gte5))\n",
    "pf_ntMed_SRrij_gte5 = np.poly1d(np.polyfit(temp_gte5[finiteIx],np.log10(ntMed_SRrij_gte5[finiteIx]),  1))\n",
    "ntMed_SRrij_gte5_dT = 1 - (10**pf_ntMed_SRrij_gte5(-6)/10**pf_ntMed_SRrij_gte5(-5)) # 1 deg C change percentage\n",
    "print('{}'.format(ntMed_SRrij_gte5_dT))\n",
    "\n",
    "\n",
    "ntMed_SRnrij_gte5 = npRIJall['binNt_median_SRnrij'][gte5]\n",
    "finiteIx = np.isfinite(np.log10(ntMed_SRnrij_gte5))\n",
    "pf_ntMed_SRnrij_gte5 = np.poly1d(np.polyfit(temp_gte5[finiteIx],np.log10(ntMed_SRnrij_gte5[finiteIx]),  1))\n",
    "ntMed_SRnrij_gte5_dT = 1 - (10**pf_ntMed_SRnrij_gte5(-6)/10**pf_ntMed_SRnrij_gte5(-5)) # 1 deg C change percentage\n",
    "print('{}'.format(ntMed_SRnrij_gte5_dT))"
   ]
  },
  {
   "cell_type": "markdown",
   "metadata": {},
   "source": [
    "# $dTWC/dT$ for $T \\leq 0^{\\circ}C$"
   ]
  },
  {
   "cell_type": "code",
   "execution_count": 12,
   "metadata": {
    "ExecuteTime": {
     "end_time": "2018-08-06T03:46:07.357689Z",
     "start_time": "2018-08-06T03:46:07.343086Z"
    },
    "run_control": {
     "frozen": false,
     "read_only": false
    }
   },
   "outputs": [
    {
     "name": "stdout",
     "output_type": "stream",
     "text": [
      "-0.08673565091247282\n",
      "-0.15621256309133225\n",
      "\n",
      "\n",
      "-0.10263992831177249\n",
      "-0.15813705798612143\n"
     ]
    }
   ],
   "source": [
    "twcMed_ALLrij_lte0 = npRIJall['binTWC_median_ALLrij'][lte0]\n",
    "finiteIx = np.isfinite(np.log10(twcMed_ALLrij_lte0))\n",
    "pf_twcMed_ALLrij_lte0 = np.poly1d(np.polyfit(temp_lte0[finiteIx],np.log10(twcMed_ALLrij_lte0[finiteIx]),  1))\n",
    "twcMed_ALLrij_lte0_dT = 1 - (10**pf_twcMed_ALLrij_lte0(-6)/10**pf_twcMed_ALLrij_lte0(-5)) # 1 deg C change percentage\n",
    "print('{}'.format(twcMed_ALLrij_lte0_dT))\n",
    "\n",
    "twcMed_ALLnrij_lte0 = npRIJall['binTWC_median_ALLnrij'][lte0]\n",
    "finiteIx = np.isfinite(np.log10(twcMed_ALLnrij_lte0))\n",
    "pf_twcMed_ALLnrij_lte0 = np.poly1d(np.polyfit(temp_lte0[finiteIx],np.log10(twcMed_ALLnrij_lte0[finiteIx]),  1))\n",
    "twcMed_ALLnrij_lte0_dT = 1 - (10**pf_twcMed_ALLnrij_lte0(-6)/10**pf_twcMed_ALLnrij_lte0(-5)) # 1 deg C change percentage\n",
    "print('{}\\n\\n'.format(twcMed_ALLnrij_lte0_dT))\n",
    "\n",
    "\n",
    "twcMed_SRrij_lte0 = npRIJall['binTWC_median_SRrij'][lte0]\n",
    "finiteIx = np.isfinite(np.log10(twcMed_SRrij_lte0))\n",
    "pf_twcMed_SRrij_lte0 = np.poly1d(np.polyfit(temp_lte0[finiteIx],np.log10(twcMed_SRrij_lte0[finiteIx]),  1))\n",
    "twcMed_SRrij_lte0_dT = 1 - (10**pf_twcMed_SRrij_lte0(-6)/10**pf_twcMed_SRrij_lte0(-5)) # 1 deg C change percentage\n",
    "print('{}'.format(twcMed_SRrij_lte0_dT))\n",
    "\n",
    "twcMed_SRnrij_lte0 = npRIJall['binTWC_median_SRnrij'][lte0]\n",
    "finiteIx = np.isfinite(np.log10(twcMed_SRnrij_lte0))\n",
    "pf_twcMed_SRnrij_lte0 = np.poly1d(np.polyfit(temp_lte0[finiteIx],np.log10(twcMed_SRnrij_lte0[finiteIx]),  1))\n",
    "twcMed_SRnrij_lte0_dT = 1 - (10**pf_twcMed_SRnrij_lte0(-6)/10**pf_twcMed_SRnrij_lte0(-5)) # 1 deg C change percentage  \n",
    "print('{}'.format(twcMed_SRnrij_lte0_dT))"
   ]
  },
  {
   "cell_type": "markdown",
   "metadata": {},
   "source": [
    "# $dTWC/dT$ for $T \\geq 5^{\\circ}C$"
   ]
  },
  {
   "cell_type": "code",
   "execution_count": 13,
   "metadata": {
    "ExecuteTime": {
     "end_time": "2018-08-06T03:46:07.375411Z",
     "start_time": "2018-08-06T03:46:07.360428Z"
    },
    "run_control": {
     "frozen": false,
     "read_only": false
    }
   },
   "outputs": [
    {
     "name": "stdout",
     "output_type": "stream",
     "text": [
      "0.12088037344131808\n",
      "-0.09249240649765778\n",
      "\n",
      "\n",
      "0.12799962228442086\n",
      "-0.09368190450609082\n"
     ]
    }
   ],
   "source": [
    "TWCMed_ALLrij_gte5 = npRIJall['binTWC_median_ALLrij'][gte5]\n",
    "finiteIx = np.isfinite(np.log10(TWCMed_ALLrij_gte5))\n",
    "pf_TWCMed_ALLrij_gte5 = np.poly1d(np.polyfit(temp_gte5[finiteIx],np.log10(TWCMed_ALLrij_gte5[finiteIx]),  1))\n",
    "TWCMed_ALLrij_gte5_dT = 1 - (10**pf_TWCMed_ALLrij_gte5(-6)/10**pf_TWCMed_ALLrij_gte5(-5)) # 1 deg C change percentage\n",
    "print('{}'.format(TWCMed_ALLrij_gte5_dT))\n",
    "\n",
    "TWCMed_ALLnrij_gte5 = npRIJall['binTWC_median_ALLnrij'][gte5]\n",
    "finiteIx = np.isfinite(np.log10(TWCMed_ALLnrij_gte5))\n",
    "pf_TWCMed_ALLnrij_gte5 = np.poly1d(np.polyfit(temp_gte5[finiteIx],np.log10(TWCMed_ALLnrij_gte5[finiteIx]),  1))\n",
    "TWCMed_ALLnrij_gte5_dT = 1 - (10**pf_TWCMed_ALLnrij_gte5(-6)/10**pf_TWCMed_ALLnrij_gte5(-5)) # 1 deg C change percentage\n",
    "print('{}\\n\\n'.format(TWCMed_ALLnrij_gte5_dT))\n",
    "\n",
    "\n",
    "TWCMed_SRrij_gte5 = npRIJall['binTWC_median_SRrij'][gte5]\n",
    "finiteIx = np.isfinite(np.log10(TWCMed_SRrij_gte5))\n",
    "pf_TWCMed_SRrij_gte5 = np.poly1d(np.polyfit(temp_gte5[finiteIx],np.log10(TWCMed_SRrij_gte5[finiteIx]),  1))\n",
    "TWCMed_SRrij_gte5_dT = 1 - (10**pf_TWCMed_SRrij_gte5(-6)/10**pf_TWCMed_SRrij_gte5(-5)) # 1 deg C change percentage\n",
    "print('{}'.format(TWCMed_SRrij_gte5_dT))\n",
    "\n",
    "TWCMed_SRnrij_gte5 = npRIJall['binTWC_median_SRnrij'][gte5]\n",
    "finiteIx = np.isfinite(np.log10(TWCMed_SRnrij_gte5))\n",
    "pf_TWCMed_SRnrij_gte5 = np.poly1d(np.polyfit(temp_gte5[finiteIx],np.log10(TWCMed_SRnrij_gte5[finiteIx]),  1))\n",
    "TWCMed_SRnrij_gte5_dT = 1 - (10**pf_TWCMed_SRnrij_gte5(-6)/10**pf_TWCMed_SRnrij_gte5(-5)) # 1 deg C change percentage\n",
    "print('{}'.format(TWCMed_SRnrij_gte5_dT))"
   ]
  },
  {
   "cell_type": "markdown",
   "metadata": {
    "heading_collapsed": true
   },
   "source": [
    "# ...\n",
    "# ...\n",
    "# ..."
   ]
  },
  {
   "cell_type": "markdown",
   "metadata": {},
   "source": [
    "# Average of $RH$ Median Values for $T \\leq 0^{\\circ}C$"
   ]
  },
  {
   "cell_type": "code",
   "execution_count": 14,
   "metadata": {
    "ExecuteTime": {
     "end_time": "2018-08-06T03:46:07.394377Z",
     "start_time": "2018-08-06T03:46:07.377723Z"
    },
    "run_control": {
     "frozen": false,
     "read_only": false
    },
    "scrolled": true
   },
   "outputs": [
    {
     "name": "stdout",
     "output_type": "stream",
     "text": [
      "108.57388675064607\n",
      "106.64797391025328\n",
      "106.27009022648515\n",
      "108.03117003650054\n"
     ]
    }
   ],
   "source": [
    "rhMed_ALLrij_lte0 = npRIJall['binRH_median_ALLrij'][lte0]\n",
    "rhMedAvg_ALLrij_lte0 = np.nanmean(rhMed_ALLrij_lte0)\n",
    "print('{}'.format(rhMedAvg_ALLrij_lte0))\n",
    "\n",
    "rhMed_ALLnrij_lte0 = npRIJall['binRH_median_ALLnrij'][lte0]\n",
    "rhMedAvg_ALLnrij_lte0 = np.nanmean(rhMed_ALLnrij_lte0)\n",
    "print('{}'.format(rhMedAvg_ALLnrij_lte0))\n",
    "\n",
    "\n",
    "rhMed_SRrij_lte0 = npRIJall['binRH_median_SRrij'][lte0]\n",
    "rhMedAvg_SRrij_lte0 = np.nanmean(rhMed_SRrij_lte0)\n",
    "print('{}'.format(rhMedAvg_SRrij_lte0))\n",
    "\n",
    "rhMed_SRnrij_lte0 = npRIJall['binRH_median_SRnrij'][lte0]\n",
    "rhMedAvg_SRnrij_lte0 = np.nanmean(rhMed_SRnrij_lte0)\n",
    "print('{}'.format(rhMedAvg_SRnrij_lte0))"
   ]
  },
  {
   "cell_type": "markdown",
   "metadata": {},
   "source": [
    "# Average of $RH$ Median Values for $T \\geq 5^{\\circ}C$"
   ]
  },
  {
   "cell_type": "code",
   "execution_count": 15,
   "metadata": {
    "ExecuteTime": {
     "end_time": "2018-08-06T03:46:07.412057Z",
     "start_time": "2018-08-06T03:46:07.397705Z"
    },
    "run_control": {
     "frozen": false,
     "read_only": false
    },
    "scrolled": true
   },
   "outputs": [
    {
     "name": "stdout",
     "output_type": "stream",
     "text": [
      "55.06341816264919\n",
      "65.48604669267911\n",
      "58.137902793819144\n",
      "65.80391439435378\n"
     ]
    }
   ],
   "source": [
    "rhMed_ALLrij_gte5 = npRIJall['binRH_median_ALLrij'][gte5]\n",
    "rhMedAvg_ALLrij_gte5 = np.nanmean(rhMed_ALLrij_gte5)\n",
    "print('{}'.format(rhMedAvg_ALLrij_gte5))\n",
    "\n",
    "rhMed_ALLnrij_gte5 = npRIJall['binRH_median_ALLnrij'][gte5]\n",
    "rhMedAvg_ALLnrij_gte5 = np.nanmean(rhMed_ALLnrij_gte5)\n",
    "print('{}'.format(rhMedAvg_ALLnrij_gte5))\n",
    "\n",
    "\n",
    "rhMed_SRrij_gte5 = npRIJall['binRH_median_SRrij'][gte5]\n",
    "rhMedAvg_SRrij_gte5 = np.nanmean(rhMed_SRrij_gte5)\n",
    "print('{}'.format(rhMedAvg_SRrij_gte5))\n",
    "\n",
    "rhMed_SRnrij_gte5 = npRIJall['binRH_median_SRnrij'][gte5]\n",
    "rhMedAvg_SRnrij_gte5 = np.nanmean(rhMed_SRnrij_gte5)\n",
    "print('{}'.format(rhMedAvg_SRnrij_gte5))"
   ]
  },
  {
   "cell_type": "markdown",
   "metadata": {},
   "source": [
    "# Average of $𝒜$ Median Values for $T \\leq 0^{\\circ}C$"
   ]
  },
  {
   "cell_type": "code",
   "execution_count": 16,
   "metadata": {
    "ExecuteTime": {
     "end_time": "2018-08-06T03:46:07.430605Z",
     "start_time": "2018-08-06T03:46:07.414558Z"
    },
    "run_control": {
     "frozen": false,
     "read_only": false
    }
   },
   "outputs": [
    {
     "name": "stdout",
     "output_type": "stream",
     "text": [
      "0.47271583818819046\n",
      "0.4579316619840416\n",
      "0.4682031571171745\n",
      "0.4539074435369086\n"
     ]
    }
   ],
   "source": [
    "ARatMed_ALLrij_lte0 = npRIJall['binARat_median_ALLrij'][lte0]\n",
    "ARatMedAvg_ALLrij_lte0 = np.nanmean(ARatMed_ALLrij_lte0)\n",
    "print('{}'.format(ARatMedAvg_ALLrij_lte0))\n",
    "\n",
    "ARatMed_ALLnrij_lte0 = npRIJall['binARat_median_ALLnrij'][lte0]\n",
    "ARatMedAvg_ALLnrij_lte0 = np.nanmean(ARatMed_ALLnrij_lte0)\n",
    "print('{}'.format(ARatMedAvg_ALLnrij_lte0))\n",
    "\n",
    "\n",
    "ARatMed_SRrij_lte0 = npRIJall['binARat_median_SRrij'][lte0]\n",
    "ARatMedAvg_SRrij_lte0 = np.nanmean(ARatMed_SRrij_lte0)\n",
    "print('{}'.format(ARatMedAvg_SRrij_lte0))\n",
    "\n",
    "ARatMed_SRnrij_lte0 = npRIJall['binARat_median_SRnrij'][lte0]\n",
    "ARatMedAvg_SRnrij_lte0 = np.nanmean(ARatMed_SRnrij_lte0)\n",
    "print('{}'.format(ARatMedAvg_SRnrij_lte0))"
   ]
  },
  {
   "cell_type": "markdown",
   "metadata": {},
   "source": [
    "# Average of $𝒜$ Median Values for $T \\geq 5^{\\circ}C$"
   ]
  },
  {
   "cell_type": "code",
   "execution_count": 17,
   "metadata": {
    "ExecuteTime": {
     "end_time": "2018-08-06T03:46:07.444726Z",
     "start_time": "2018-08-06T03:46:07.433189Z"
    },
    "run_control": {
     "frozen": false,
     "read_only": false
    }
   },
   "outputs": [
    {
     "name": "stdout",
     "output_type": "stream",
     "text": [
      "0.7003689676853355\n",
      "0.7180264635387696\n",
      "0.7202994101732528\n",
      "0.7154642007173607\n"
     ]
    }
   ],
   "source": [
    "ARatMed_ALLrij_gte5 = npRIJall['binARat_median_ALLrij'][gte5]\n",
    "ARatMedAvg_ALLrij_gte5 = np.nanmean(ARatMed_ALLrij_gte5)\n",
    "print('{}'.format(ARatMedAvg_ALLrij_gte5))\n",
    "\n",
    "ARatMed_ALLnrij_gte5 = npRIJall['binARat_median_ALLnrij'][gte5]\n",
    "ARatMedAvg_ALLnrij_gte5 = np.nanmean(ARatMed_ALLnrij_gte5)\n",
    "print('{}'.format(ARatMedAvg_ALLnrij_gte5))\n",
    "\n",
    "\n",
    "ARatMed_SRrij_gte5 = npRIJall['binARat_median_SRrij'][gte5]\n",
    "ARatMedAvg_SRrij_gte5 = np.nanmean(ARatMed_SRrij_gte5)\n",
    "print('{}'.format(ARatMedAvg_SRrij_gte5))\n",
    "\n",
    "ARatMed_SRnrij_gte5 = npRIJall['binARat_median_SRnrij'][gte5]\n",
    "ARatMedAvg_SRnrij_gte5 = np.nanmean(ARatMed_SRnrij_gte5)\n",
    "print('{}'.format(ARatMedAvg_SRnrij_gte5))"
   ]
  },
  {
   "cell_type": "markdown",
   "metadata": {},
   "source": [
    "# Average of $D_{mm}$ Median Values for $T \\leq 0^{\\circ}C$"
   ]
  },
  {
   "cell_type": "code",
   "execution_count": 18,
   "metadata": {
    "ExecuteTime": {
     "end_time": "2018-08-06T03:46:07.463325Z",
     "start_time": "2018-08-06T03:46:07.448940Z"
    },
    "run_control": {
     "frozen": false,
     "read_only": false
    }
   },
   "outputs": [
    {
     "name": "stdout",
     "output_type": "stream",
     "text": [
      "1.2656250000000002\n",
      "1.2048611111111116\n",
      "1.2129464285714289\n",
      "1.146180555555556\n"
     ]
    }
   ],
   "source": [
    "DmmMed_ALLrij_lte0 = npRIJall['binDmm_median_ALLrij'][lte0]\n",
    "DmmMedAvg_ALLrij_lte0 = np.nanmean(DmmMed_ALLrij_lte0)\n",
    "print('{}'.format(DmmMedAvg_ALLrij_lte0))\n",
    "\n",
    "DmmMed_ALLnrij_lte0 = npRIJall['binDmm_median_ALLnrij'][lte0]\n",
    "DmmMedAvg_ALLnrij_lte0 = np.nanmean(DmmMed_ALLnrij_lte0)\n",
    "print('{}'.format(DmmMedAvg_ALLnrij_lte0))\n",
    "\n",
    "\n",
    "DmmMed_SRrij_lte0 = npRIJall['binDmm_median_SRrij'][lte0]\n",
    "DmmMedAvg_SRrij_lte0 = np.nanmean(DmmMed_SRrij_lte0)\n",
    "print('{}'.format(DmmMedAvg_SRrij_lte0))\n",
    "\n",
    "DmmMed_SRnrij_lte0 = npRIJall['binDmm_median_SRnrij'][lte0]\n",
    "DmmMedAvg_SRnrij_lte0 = np.nanmean(DmmMed_SRnrij_lte0)\n",
    "print('{}'.format(DmmMedAvg_SRnrij_lte0))"
   ]
  },
  {
   "cell_type": "markdown",
   "metadata": {},
   "source": [
    "# Average of $D_{mm}$ Median Values for $T \\geq 5^{\\circ}C$"
   ]
  },
  {
   "cell_type": "code",
   "execution_count": 19,
   "metadata": {
    "ExecuteTime": {
     "end_time": "2018-08-06T03:46:07.481928Z",
     "start_time": "2018-08-06T03:46:07.466048Z"
    },
    "run_control": {
     "frozen": false,
     "read_only": false
    }
   },
   "outputs": [
    {
     "name": "stdout",
     "output_type": "stream",
     "text": [
      "0.9325000000000001\n",
      "1.1645833333333335\n",
      "0.9550000000000001\n",
      "1.1858333333333335\n"
     ]
    }
   ],
   "source": [
    "DmmMed_ALLrij_gte5 = npRIJall['binDmm_median_ALLrij'][gte5]\n",
    "DmmMedAvg_ALLrij_gte5 = np.nanmean(DmmMed_ALLrij_gte5)\n",
    "print('{}'.format(DmmMedAvg_ALLrij_gte5))\n",
    "\n",
    "DmmMed_ALLnrij_gte5 = npRIJall['binDmm_median_ALLnrij'][gte5]\n",
    "DmmMedAvg_ALLnrij_gte5 = np.nanmean(DmmMed_ALLnrij_gte5)\n",
    "print('{}'.format(DmmMedAvg_ALLnrij_gte5))\n",
    "\n",
    "\n",
    "DmmMed_SRrij_gte5 = npRIJall['binDmm_median_SRrij'][gte5]\n",
    "DmmMedAvg_SRrij_gte5 = np.nanmean(DmmMed_SRrij_gte5)\n",
    "print('{}'.format(DmmMedAvg_SRrij_gte5))\n",
    "\n",
    "DmmMed_SRnrij_gte5 = npRIJall['binDmm_median_SRnrij'][gte5]\n",
    "DmmMedAvg_SRnrij_gte5 = np.nanmean(DmmMed_SRnrij_gte5)\n",
    "print('{}'.format(DmmMedAvg_SRnrij_gte5))"
   ]
  },
  {
   "cell_type": "markdown",
   "metadata": {},
   "source": [
    "# Average of $N_t$ Median Values for $T \\leq 0^{\\circ}C$"
   ]
  },
  {
   "cell_type": "code",
   "execution_count": 20,
   "metadata": {
    "ExecuteTime": {
     "end_time": "2018-08-06T03:46:07.500202Z",
     "start_time": "2018-08-06T03:46:07.485543Z"
    },
    "run_control": {
     "frozen": false,
     "read_only": false
    }
   },
   "outputs": [
    {
     "name": "stdout",
     "output_type": "stream",
     "text": [
      "0.04134617440842435\n",
      "0.04181896482308808\n",
      "0.058551538328716186\n",
      "0.055421720122038005\n"
     ]
    }
   ],
   "source": [
    "ntMed_ALLrij_lte0 = npRIJall['binNt_median_ALLrij'][lte0]\n",
    "ntMedAvg_ALLrij_lte0 = np.nanmean(ntMed_ALLrij_lte0)\n",
    "print('{}'.format(ntMedAvg_ALLrij_lte0))\n",
    "\n",
    "ntMed_ALLnrij_lte0 = npRIJall['binNt_median_ALLnrij'][lte0]\n",
    "ntMedAvg_ALLnrij_lte0 = np.nanmean(ntMed_ALLnrij_lte0)\n",
    "print('{}'.format(ntMedAvg_ALLnrij_lte0))\n",
    "\n",
    "\n",
    "ntMed_SRrij_lte0 = npRIJall['binNt_median_SRrij'][lte0]\n",
    "ntMedAvg_SRrij_lte0 = np.nanmean(ntMed_SRrij_lte0)\n",
    "print('{}'.format(ntMedAvg_SRrij_lte0))\n",
    "\n",
    "ntMed_SRnrij_lte0 = npRIJall['binNt_median_SRnrij'][lte0]\n",
    "ntMedAvg_SRnrij_lte0 = np.nanmean(ntMed_SRnrij_lte0)\n",
    "print('{}'.format(ntMedAvg_SRnrij_lte0))"
   ]
  },
  {
   "cell_type": "markdown",
   "metadata": {},
   "source": [
    "# Average of $N_t$ Median Values for $T \\geq 5^{\\circ}C$"
   ]
  },
  {
   "cell_type": "code",
   "execution_count": 21,
   "metadata": {
    "ExecuteTime": {
     "end_time": "2018-08-06T03:46:07.513003Z",
     "start_time": "2018-08-06T03:46:07.502580Z"
    },
    "run_control": {
     "frozen": false,
     "read_only": false
    }
   },
   "outputs": [
    {
     "name": "stdout",
     "output_type": "stream",
     "text": [
      "0.0005943415996730159\n",
      "0.00020179476694051184\n",
      "0.0007706485595870881\n",
      "0.00021790763608945301\n"
     ]
    }
   ],
   "source": [
    "ntMed_ALLrij_gte5 = npRIJall['binNt_median_ALLrij'][gte5]\n",
    "ntMedAvg_ALLrij_gte5 = np.nanmean(ntMed_ALLrij_gte5)\n",
    "print('{}'.format(ntMedAvg_ALLrij_gte5))\n",
    "\n",
    "ntMed_ALLnrij_gte5 = npRIJall['binNt_median_ALLnrij'][gte5]\n",
    "ntMedAvg_ALLnrij_gte5 = np.nanmean(ntMed_ALLnrij_gte5)\n",
    "print('{}'.format(ntMedAvg_ALLnrij_gte5))\n",
    "\n",
    "\n",
    "ntMed_SRrij_gte5 = npRIJall['binNt_median_SRrij'][gte5]\n",
    "ntMedAvg_SRrij_gte5 = np.nanmean(ntMed_SRrij_gte5)\n",
    "print('{}'.format(ntMedAvg_SRrij_gte5))\n",
    "\n",
    "ntMed_SRnrij_gte5 = npRIJall['binNt_median_SRnrij'][gte5]\n",
    "ntMedAvg_SRnrij_gte5 = np.nanmean(ntMed_SRnrij_gte5)\n",
    "print('{}'.format(ntMedAvg_SRnrij_gte5))"
   ]
  },
  {
   "cell_type": "markdown",
   "metadata": {},
   "source": [
    "# Average of $TWC$ Median Values for $T \\leq 0^{\\circ}C$"
   ]
  },
  {
   "cell_type": "code",
   "execution_count": 22,
   "metadata": {
    "ExecuteTime": {
     "end_time": "2018-08-06T03:46:07.530565Z",
     "start_time": "2018-08-06T03:46:07.515651Z"
    },
    "run_control": {
     "frozen": false,
     "read_only": false
    }
   },
   "outputs": [
    {
     "name": "stdout",
     "output_type": "stream",
     "text": [
      "0.6072602080434002\n",
      "0.47996851906965904\n",
      "0.5827800414795684\n",
      "0.5490319345811208\n"
     ]
    }
   ],
   "source": [
    "twcMed_ALLrij_lte0 = npRIJall['binTWC_median_ALLrij'][lte0]\n",
    "twcMedAvg_ALLrij_lte0 = np.nanmean(twcMed_ALLrij_lte0)\n",
    "print('{}'.format(twcMedAvg_ALLrij_lte0))\n",
    "\n",
    "twcMed_ALLnrij_lte0 = npRIJall['binTWC_median_ALLnrij'][lte0]\n",
    "twcMedAvg_ALLnrij_lte0 = np.nanmean(twcMed_ALLnrij_lte0)\n",
    "print('{}'.format(twcMedAvg_ALLnrij_lte0))\n",
    "\n",
    "\n",
    "twcMed_SRrij_lte0 = npRIJall['binTWC_median_SRrij'][lte0]\n",
    "twcMedAvg_SRrij_lte0 = np.nanmean(twcMed_SRrij_lte0)\n",
    "print('{}'.format(twcMedAvg_SRrij_lte0))\n",
    "\n",
    "twcMed_SRnrij_lte0 = npRIJall['binTWC_median_SRnrij'][lte0]\n",
    "twcMedAvg_SRnrij_lte0 = np.nanmean(twcMed_SRnrij_lte0)\n",
    "print('{}'.format(twcMedAvg_SRnrij_lte0))"
   ]
  },
  {
   "cell_type": "markdown",
   "metadata": {},
   "source": [
    "# Average of $TWC$ Median Values for $T \\geq 5^{\\circ}C$"
   ]
  },
  {
   "cell_type": "code",
   "execution_count": 23,
   "metadata": {
    "ExecuteTime": {
     "end_time": "2018-08-06T03:46:07.548910Z",
     "start_time": "2018-08-06T03:46:07.533150Z"
    },
    "run_control": {
     "frozen": false,
     "read_only": false
    }
   },
   "outputs": [
    {
     "name": "stdout",
     "output_type": "stream",
     "text": [
      "0.04553579499109446\n",
      "0.03778868209654382\n",
      "0.05542281116684518\n",
      "0.04168947453575408\n"
     ]
    }
   ],
   "source": [
    "twcMed_ALLrij_gte5 = npRIJall['binTWC_median_ALLrij'][gte5]\n",
    "twcMedAvg_ALLrij_gte5 = np.nanmean(twcMed_ALLrij_gte5)\n",
    "print('{}'.format(twcMedAvg_ALLrij_gte5))\n",
    "\n",
    "twcMed_ALLnrij_gte5 = npRIJall['binTWC_median_ALLnrij'][gte5]\n",
    "twcMedAvg_ALLnrij_gte5 = np.nanmean(twcMed_ALLnrij_gte5)\n",
    "print('{}'.format(twcMedAvg_ALLnrij_gte5))\n",
    "\n",
    "\n",
    "twcMed_SRrij_gte5 = npRIJall['binTWC_median_SRrij'][gte5]\n",
    "twcMedAvg_SRrij_gte5 = np.nanmean(twcMed_SRrij_gte5)\n",
    "print('{}'.format(twcMedAvg_SRrij_gte5))\n",
    "\n",
    "twcMed_SRnrij_gte5 = npRIJall['binTWC_median_SRnrij'][gte5]\n",
    "twcMedAvg_SRnrij_gte5 = np.nanmean(twcMed_SRnrij_gte5)\n",
    "print('{}'.format(twcMedAvg_SRnrij_gte5))"
   ]
  },
  {
   "cell_type": "markdown",
   "metadata": {},
   "source": [
    "# ...\n",
    "# ...\n",
    "# ..."
   ]
  },
  {
   "cell_type": "markdown",
   "metadata": {},
   "source": [
    "# Mean $ℛ_{RH}$ for $T \\leq 0^{\\circ}C$"
   ]
  },
  {
   "cell_type": "code",
   "execution_count": null,
   "metadata": {
    "ExecuteTime": {
     "end_time": "2018-07-31T23:19:24.309436Z",
     "start_time": "2018-07-31T23:19:24.298015Z"
    }
   },
   "outputs": [],
   "source": [
    "RH_rStdv_ALLrij_lte0 = npRIJall['binRH_stdv_ALLrij'][lte0]/npRIJall['binRH_mean_ALLrij'][lte0]\n",
    "# print('Min:\\t{:.1f}'.format(np.nanmin(RH_rStdv_ALLrij_lte0)*100))\n",
    "# print('Max:\\t{:.1f}'.format(np.nanmax(RH_rStdv_ALLrij_lte0)*100))\n",
    "# print('Median:\\t{:.1f}'.format(np.nanmedian(RH_rStdv_ALLrij_lte0)*100))\n",
    "print('**Mean:\\t{:.1f}\\n'.format(np.nanmean(RH_rStdv_ALLrij_lte0)*100))\n",
    "\n",
    "RH_rStdv_ALLnrij_lte0 = npRIJall['binRH_stdv_ALLnrij'][lte0]/npRIJall['binRH_mean_ALLnrij'][lte0]\n",
    "# print('Min:\\t{:.1f}'.format(np.nanmin(RH_rStdv_ALLnrij_lte0)*100))\n",
    "# print('Max:\\t{:.1f}'.format(np.nanmax(RH_rStdv_ALLnrij_lte0)*100))\n",
    "# print('Median:\\t{:.1f}'.format(np.nanmedian(RH_rStdv_ALLnrij_lte0)*100))\n",
    "print('**Mean:\\t{:.1f}\\n'.format(np.nanmean(RH_rStdv_ALLnrij_lte0)*100))\n",
    "\n",
    "RH_rStdv_SRrij_lte0 = npRIJall['binRH_stdv_SRrij'][lte0]/npRIJall['binRH_mean_SRrij'][lte0]\n",
    "# print('Min:\\t{:.1f}'.format(np.nanmin(RH_rStdv_SRrij_lte0)*100))\n",
    "# print('Max:\\t{:.1f}'.format(np.nanmax(RH_rStdv_SRrij_lte0)*100))\n",
    "# print('Median:\\t{:.1f}'.format(np.nanmedian(RH_rStdv_SRrij_lte0)*100))\n",
    "print('**Mean:\\t{:.1f}\\n'.format(np.nanmean(RH_rStdv_SRrij_lte0)*100))\n",
    "\n",
    "RH_rStdv_SRnrij_lte0 = npRIJall['binRH_stdv_SRnrij'][lte0]/npRIJall['binRH_mean_SRnrij'][lte0]\n",
    "# print('Min:\\t{:.1f}'.format(np.nanmin(RH_rStdv_SRnrij_lte0)*100))\n",
    "# print('Max:\\t{:.1f}'.format(np.nanmax(RH_rStdv_SRnrij_lte0)*100))\n",
    "# print('Median:\\t{:.1f}'.format(np.nanmedian(RH_rStdv_SRnrij_lte0)*100))\n",
    "print('**Mean:\\t{:.1f}\\n'.format(np.nanmean(RH_rStdv_SRnrij_lte0)*100))"
   ]
  },
  {
   "cell_type": "markdown",
   "metadata": {},
   "source": [
    "# Mean $ℛ_{RH}$ for $T \\geq 5^{\\circ}C$"
   ]
  },
  {
   "cell_type": "code",
   "execution_count": null,
   "metadata": {
    "ExecuteTime": {
     "end_time": "2018-07-31T23:19:24.325018Z",
     "start_time": "2018-07-31T23:19:24.312057Z"
    }
   },
   "outputs": [],
   "source": [
    "RH_rStdv_ALLrij_gte5 = npRIJall['binRH_stdv_ALLrij'][gte5]/npRIJall['binRH_mean_ALLrij'][gte5]\n",
    "# print('Min:\\t{:.1f}'.format(np.nanmin(RH_rStdv_ALLrij_gte5)*100))\n",
    "# print('Max:\\t{:.1f}'.format(np.nanmax(RH_rStdv_ALLrij_gte5)*100))\n",
    "# print('Median:\\t{:.1f}'.format(np.nanmedian(RH_rStdv_ALLrij_gte5)*100))\n",
    "print('**Mean:\\t{:.1f}\\n'.format(np.nanmean(RH_rStdv_ALLrij_gte5)*100))\n",
    "\n",
    "RH_rStdv_ALLnrij_gte5 = npRIJall['binRH_stdv_ALLnrij'][gte5]/npRIJall['binRH_mean_ALLnrij'][gte5]\n",
    "# print('Min:\\t{:.1f}'.format(np.nanmin(RH_rStdv_ALLnrij_gte5)*100))\n",
    "# print('Max:\\t{:.1f}'.format(np.nanmax(RH_rStdv_ALLnrij_gte5)*100))\n",
    "# print('Median:\\t{:.1f}'.format(np.nanmedian(RH_rStdv_ALLnrij_gte5)*100))\n",
    "print('**Mean:\\t{:.1f}\\n'.format(np.nanmean(RH_rStdv_ALLnrij_gte5)*100))\n",
    "\n",
    "RH_rStdv_SRrij_gte5 = npRIJall['binRH_stdv_SRrij'][gte5]/npRIJall['binRH_mean_SRrij'][gte5]\n",
    "# print('Min:\\t{:.1f}'.format(np.nanmin(RH_rStdv_SRrij_gte5)*100))\n",
    "# print('Max:\\t{:.1f}'.format(np.nanmax(RH_rStdv_SRrij_gte5)*100))\n",
    "# print('Median:\\t{:.1f}'.format(np.nanmedian(RH_rStdv_SRrij_gte5)*100))\n",
    "print('**Mean:\\t{:.1f}\\n'.format(np.nanmean(RH_rStdv_SRrij_gte5)*100))\n",
    "\n",
    "RH_rStdv_SRnrij_gte5 = npRIJall['binRH_stdv_SRnrij'][gte5]/npRIJall['binRH_mean_SRnrij'][gte5]\n",
    "# print('Min:\\t{:.1f}'.format(np.nanmin(RH_rStdv_SRnrij_gte5)*100))\n",
    "# print('Max:\\t{:.1f}'.format(np.nanmax(RH_rStdv_SRnrij_gte5)*100))\n",
    "# print('Median:\\t{:.1f}'.format(np.nanmedian(RH_rStdv_SRnrij_gte5)*100))\n",
    "print('**Mean:\\t{:.1f}\\n'.format(np.nanmean(RH_rStdv_SRnrij_gte5)*100))"
   ]
  },
  {
   "cell_type": "markdown",
   "metadata": {},
   "source": [
    "# Mean $ℛ_{𝒜}$ for $T \\leq 0^{\\circ}C$"
   ]
  },
  {
   "cell_type": "code",
   "execution_count": null,
   "metadata": {
    "ExecuteTime": {
     "end_time": "2018-07-31T23:19:24.341393Z",
     "start_time": "2018-07-31T23:19:24.328482Z"
    }
   },
   "outputs": [],
   "source": [
    "ARat_rStdv_ALLrij_lte0 = npRIJall['binARat_stdv_ALLrij'][lte0]/npRIJall['binARat_mean_ALLrij'][lte0]\n",
    "# print('Min:\\t{:.1f}'.format(np.nanmin(ARat_rStdv_ALLrij_lte0)*100))\n",
    "# print('Max:\\t{:.1f}'.format(np.nanmax(ARat_rStdv_ALLrij_lte0)*100))\n",
    "# print('Median:\\t{:.1f}'.format(np.nanmedian(ARat_rStdv_ALLrij_lte0)*100))\n",
    "print('**Mean:\\t{:.1f}\\n'.format(np.nanmean(ARat_rStdv_ALLrij_lte0)*100))\n",
    "\n",
    "ARat_rStdv_ALLnrij_lte0 = npRIJall['binARat_stdv_ALLnrij'][lte0]/npRIJall['binARat_mean_ALLnrij'][lte0]\n",
    "# print('Min:\\t{:.1f}'.format(np.nanmin(ARat_rStdv_ALLnrij_lte0)*100))\n",
    "# print('Max:\\t{:.1f}'.format(np.nanmax(ARat_rStdv_ALLnrij_lte0)*100))\n",
    "# print('Median:\\t{:.1f}'.format(np.nanmedian(ARat_rStdv_ALLnrij_lte0)*100))\n",
    "print('**Mean:\\t{:.1f}\\n'.format(np.nanmean(ARat_rStdv_ALLnrij_lte0)*100))\n",
    "\n",
    "ARat_rStdv_SRrij_lte0 = npRIJall['binARat_stdv_SRrij'][lte0]/npRIJall['binARat_mean_SRrij'][lte0]\n",
    "# print('Min:\\t{:.1f}'.format(np.nanmin(ARat_rStdv_SRrij_lte0)*100))\n",
    "# print('Max:\\t{:.1f}'.format(np.nanmax(ARat_rStdv_SRrij_lte0)*100))\n",
    "# print('Median:\\t{:.1f}'.format(np.nanmedian(ARat_rStdv_SRrij_lte0)*100))\n",
    "print('**Mean:\\t{:.1f}\\n'.format(np.nanmean(ARat_rStdv_SRrij_lte0)*100))\n",
    "\n",
    "ARat_rStdv_SRnrij_lte0 = npRIJall['binARat_stdv_SRnrij'][lte0]/npRIJall['binARat_mean_SRnrij'][lte0]\n",
    "# print('Min:\\t{:.1f}'.format(np.nanmin(ARat_rStdv_SRnrij_lte0)*100))\n",
    "# print('Max:\\t{:.1f}'.format(np.nanmax(ARat_rStdv_SRnrij_lte0)*100))\n",
    "# print('Median:\\t{:.1f}'.format(np.nanmedian(ARat_rStdv_SRnrij_lte0)*100))\n",
    "print('**Mean:\\t{:.1f}\\n'.format(np.nanmean(ARat_rStdv_SRnrij_lte0)*100))"
   ]
  },
  {
   "cell_type": "markdown",
   "metadata": {},
   "source": [
    "# Mean $ℛ_{𝒜}$ for $T \\geq 5^{\\circ}C$"
   ]
  },
  {
   "cell_type": "code",
   "execution_count": null,
   "metadata": {
    "ExecuteTime": {
     "end_time": "2018-07-31T23:19:24.355898Z",
     "start_time": "2018-07-31T23:19:24.343533Z"
    }
   },
   "outputs": [],
   "source": [
    "ARat_rStdv_ALLrij_gte5 = npRIJall['binARat_stdv_ALLrij'][gte5]/npRIJall['binARat_mean_ALLrij'][gte5]\n",
    "# print('Min:\\t{:.1f}'.format(np.nanmin(ARat_rStdv_ALLrij_gte5)*100))\n",
    "# print('Max:\\t{:.1f}'.format(np.nanmax(ARat_rStdv_ALLrij_gte5)*100))\n",
    "# print('Median:\\t{:.1f}'.format(np.nanmedian(ARat_rStdv_ALLrij_gte5)*100))\n",
    "print('**Mean:\\t{:.1f}\\n'.format(np.nanmean(ARat_rStdv_ALLrij_gte5)*100))\n",
    "\n",
    "ARat_rStdv_ALLnrij_gte5 = npRIJall['binARat_stdv_ALLnrij'][gte5]/npRIJall['binARat_mean_ALLnrij'][gte5]\n",
    "# print('Min:\\t{:.1f}'.format(np.nanmin(ARat_rStdv_ALLnrij_gte5)*100))\n",
    "# print('Max:\\t{:.1f}'.format(np.nanmax(ARat_rStdv_ALLnrij_gte5)*100))\n",
    "# print('Median:\\t{:.1f}'.format(np.nanmedian(ARat_rStdv_ALLnrij_gte5)*100))\n",
    "print('**Mean:\\t{:.1f}\\n'.format(np.nanmean(ARat_rStdv_ALLnrij_gte5)*100))\n",
    "\n",
    "ARat_rStdv_SRrij_gte5 = npRIJall['binARat_stdv_SRrij'][gte5]/npRIJall['binARat_mean_SRrij'][gte5]\n",
    "# print('Min:\\t{:.1f}'.format(np.nanmin(ARat_rStdv_SRrij_gte5)*100))\n",
    "# print('Max:\\t{:.1f}'.format(np.nanmax(ARat_rStdv_SRrij_gte5)*100))\n",
    "# print('Median:\\t{:.1f}'.format(np.nanmedian(ARat_rStdv_SRrij_gte5)*100))\n",
    "print('**Mean:\\t{:.1f}\\n'.format(np.nanmean(ARat_rStdv_SRrij_gte5)*100))\n",
    "\n",
    "ARat_rStdv_SRnrij_gte5 = npRIJall['binARat_stdv_SRnrij'][gte5]/npRIJall['binARat_mean_SRnrij'][gte5]\n",
    "# print('Min:\\t{:.1f}'.format(np.nanmin(ARat_rStdv_SRnrij_gte5)*100))\n",
    "# print('Max:\\t{:.1f}'.format(np.nanmax(ARat_rStdv_SRnrij_gte5)*100))\n",
    "# print('Median:\\t{:.1f}'.format(np.nanmedian(ARat_rStdv_SRnrij_gte5)*100))\n",
    "print('**Mean:\\t{:.1f}\\n'.format(np.nanmean(ARat_rStdv_SRnrij_gte5)*100))"
   ]
  },
  {
   "cell_type": "markdown",
   "metadata": {},
   "source": [
    "# Mean $ℛ_{D_{mm}}$ for $T \\leq 0^{\\circ}C$"
   ]
  },
  {
   "cell_type": "code",
   "execution_count": null,
   "metadata": {
    "ExecuteTime": {
     "end_time": "2018-07-31T23:19:24.369514Z",
     "start_time": "2018-07-31T23:19:24.357856Z"
    }
   },
   "outputs": [],
   "source": [
    "Dmm_rStdv_ALLrij_lte0 = npRIJall['binDmm_stdv_ALLrij'][lte0]/npRIJall['binDmm_mean_ALLrij'][lte0]\n",
    "# print('Min:\\t{:.1f}'.format(np.nanmin(Dmm_rStdv_ALLrij_lte0)*100))\n",
    "# print('Max:\\t{:.1f}'.format(np.nanmax(Dmm_rStdv_ALLrij_lte0)*100))\n",
    "# print('Median:\\t{:.1f}'.format(np.nanmedian(Dmm_rStdv_ALLrij_lte0)*100))\n",
    "print('**Mean:\\t{:.1f}\\n'.format(np.nanmean(Dmm_rStdv_ALLrij_lte0)*100))\n",
    "\n",
    "Dmm_rStdv_ALLnrij_lte0 = npRIJall['binDmm_stdv_ALLnrij'][lte0]/npRIJall['binDmm_mean_ALLnrij'][lte0]\n",
    "# print('Min:\\t{:.1f}'.format(np.nanmin(Dmm_rStdv_ALLnrij_lte0)*100))\n",
    "# print('Max:\\t{:.1f}'.format(np.nanmax(Dmm_rStdv_ALLnrij_lte0)*100))\n",
    "# print('Median:\\t{:.1f}'.format(np.nanmedian(Dmm_rStdv_ALLnrij_lte0)*100))\n",
    "print('**Mean:\\t{:.1f}\\n'.format(np.nanmean(Dmm_rStdv_ALLnrij_lte0)*100))\n",
    "\n",
    "Dmm_rStdv_SRrij_lte0 = npRIJall['binDmm_stdv_SRrij'][lte0]/npRIJall['binDmm_mean_SRrij'][lte0]\n",
    "# print('Min:\\t{:.1f}'.format(np.nanmin(Dmm_rStdv_SRrij_lte0)*100))\n",
    "# print('Max:\\t{:.1f}'.format(np.nanmax(Dmm_rStdv_SRrij_lte0)*100))\n",
    "# print('Median:\\t{:.1f}'.format(np.nanmedian(Dmm_rStdv_SRrij_lte0)*100))\n",
    "print('**Mean:\\t{:.1f}\\n'.format(np.nanmean(Dmm_rStdv_SRrij_lte0)*100))\n",
    "\n",
    "Dmm_rStdv_SRnrij_lte0 = npRIJall['binDmm_stdv_SRnrij'][lte0]/npRIJall['binDmm_mean_SRnrij'][lte0]\n",
    "# print('Min:\\t{:.1f}'.format(np.nanmin(Dmm_rStdv_SRnrij_lte0)*100))\n",
    "# print('Max:\\t{:.1f}'.format(np.nanmax(Dmm_rStdv_SRnrij_lte0)*100))\n",
    "# print('Median:\\t{:.1f}'.format(np.nanmedian(Dmm_rStdv_SRnrij_lte0)*100))\n",
    "print('**Mean:\\t{:.1f}\\n'.format(np.nanmean(Dmm_rStdv_SRnrij_lte0)*100))"
   ]
  },
  {
   "cell_type": "markdown",
   "metadata": {},
   "source": [
    "# Mean $ℛ_{D_{mm}}$ for $T \\geq 5^{\\circ}C$"
   ]
  },
  {
   "cell_type": "code",
   "execution_count": null,
   "metadata": {
    "ExecuteTime": {
     "end_time": "2018-07-31T23:19:24.384153Z",
     "start_time": "2018-07-31T23:19:24.371467Z"
    }
   },
   "outputs": [],
   "source": [
    "Dmm_rStdv_ALLrij_gte5 = npRIJall['binDmm_stdv_ALLrij'][gte5]/npRIJall['binDmm_mean_ALLrij'][gte5]\n",
    "# print('Min:\\t{:.1f}'.format(np.nanmin(Dmm_rStdv_ALLrij_gte5)*100))\n",
    "# print('Max:\\t{:.1f}'.format(np.nanmax(Dmm_rStdv_ALLrij_gte5)*100))\n",
    "# print('Median:\\t{:.1f}'.format(np.nanmedian(Dmm_rStdv_ALLrij_gte5)*100))\n",
    "print('**Mean:\\t{:.1f}\\n'.format(np.nanmean(Dmm_rStdv_ALLrij_gte5)*100))\n",
    "\n",
    "Dmm_rStdv_ALLnrij_gte5 = npRIJall['binDmm_stdv_ALLnrij'][gte5]/npRIJall['binDmm_mean_ALLnrij'][gte5]\n",
    "# print('Min:\\t{:.1f}'.format(np.nanmin(Dmm_rStdv_ALLnrij_gte5)*100))\n",
    "# print('Max:\\t{:.1f}'.format(np.nanmax(Dmm_rStdv_ALLnrij_gte5)*100))\n",
    "# print('Median:\\t{:.1f}'.format(np.nanmedian(Dmm_rStdv_ALLnrij_gte5)*100))\n",
    "print('**Mean:\\t{:.1f}\\n'.format(np.nanmean(Dmm_rStdv_ALLnrij_gte5)*100))\n",
    "\n",
    "Dmm_rStdv_SRrij_gte5 = npRIJall['binDmm_stdv_SRrij'][gte5]/npRIJall['binDmm_mean_SRrij'][gte5]\n",
    "# print('Min:\\t{:.1f}'.format(np.nanmin(Dmm_rStdv_SRrij_gte5)*100))\n",
    "# print('Max:\\t{:.1f}'.format(np.nanmax(Dmm_rStdv_SRrij_gte5)*100))\n",
    "# print('Median:\\t{:.1f}'.format(np.nanmedian(Dmm_rStdv_SRrij_gte5)*100))\n",
    "print('**Mean:\\t{:.1f}\\n'.format(np.nanmean(Dmm_rStdv_SRrij_gte5)*100))\n",
    "\n",
    "Dmm_rStdv_SRnrij_gte5 = npRIJall['binDmm_stdv_SRnrij'][gte5]/npRIJall['binDmm_mean_SRnrij'][gte5]\n",
    "# print('Min:\\t{:.1f}'.format(np.nanmin(Dmm_rStdv_SRnrij_gte5)*100))\n",
    "# print('Max:\\t{:.1f}'.format(np.nanmax(Dmm_rStdv_SRnrij_gte5)*100))\n",
    "# print('Median:\\t{:.1f}'.format(np.nanmedian(Dmm_rStdv_SRnrij_gte5)*100))\n",
    "print('**Mean:\\t{:.1f}\\n'.format(np.nanmean(Dmm_rStdv_SRnrij_gte5)*100))"
   ]
  },
  {
   "cell_type": "markdown",
   "metadata": {},
   "source": [
    "# Mean $ℛ_{N_t}$ for $T \\leq 0^{\\circ}C$"
   ]
  },
  {
   "cell_type": "code",
   "execution_count": null,
   "metadata": {
    "ExecuteTime": {
     "end_time": "2018-07-31T23:19:24.404422Z",
     "start_time": "2018-07-31T23:19:24.386977Z"
    }
   },
   "outputs": [],
   "source": [
    "Nt_rStdv_ALLrij_lte0 = npRIJall['binNt_stdv_ALLrij'][lte0]/npRIJall['binNt_mean_ALLrij'][lte0]\n",
    "# print('Min:\\t{:.1f}'.format(np.nanmin(Nt_rStdv_ALLrij_lte0)*100))\n",
    "# print('Max:\\t{:.1f}'.format(np.nanmax(Nt_rStdv_ALLrij_lte0)*100))\n",
    "# print('Median:\\t{:.1f}'.format(np.nanmedian(Nt_rStdv_ALLrij_lte0)*100))\n",
    "print('**Mean:\\t{:.1f}\\n'.format(np.nanmean(Nt_rStdv_ALLrij_lte0)*100))\n",
    "\n",
    "Nt_rStdv_ALLnrij_lte0 = npRIJall['binNt_stdv_ALLnrij'][lte0]/npRIJall['binNt_mean_ALLnrij'][lte0]\n",
    "# print('Min:\\t{:.1f}'.format(np.nanmin(Nt_rStdv_ALLnrij_lte0)*100))\n",
    "# print('Max:\\t{:.1f}'.format(np.nanmax(Nt_rStdv_ALLnrij_lte0)*100))\n",
    "# print('Median:\\t{:.1f}'.format(np.nanmedian(Nt_rStdv_ALLnrij_lte0)*100))\n",
    "print('**Mean:\\t{:.1f}\\n'.format(np.nanmean(Nt_rStdv_ALLnrij_lte0)*100))\n",
    "\n",
    "Nt_rStdv_SRrij_lte0 = npRIJall['binNt_stdv_SRrij'][lte0]/npRIJall['binNt_mean_SRrij'][lte0]\n",
    "# print('Min:\\t{:.1f}'.format(np.nanmin(Nt_rStdv_SRrij_lte0)*100))\n",
    "# print('Max:\\t{:.1f}'.format(np.nanmax(Nt_rStdv_SRrij_lte0)*100))\n",
    "# print('Median:\\t{:.1f}'.format(np.nanmedian(Nt_rStdv_SRrij_lte0)*100))\n",
    "print('**Mean:\\t{:.1f}\\n'.format(np.nanmean(Nt_rStdv_SRrij_lte0)*100))\n",
    "\n",
    "Nt_rStdv_SRnrij_lte0 = npRIJall['binNt_stdv_SRnrij'][lte0]/npRIJall['binNt_mean_SRnrij'][lte0]\n",
    "# print('Min:\\t{:.1f}'.format(np.nanmin(Nt_rStdv_SRnrij_lte0)*100))\n",
    "# print('Max:\\t{:.1f}'.format(np.nanmax(Nt_rStdv_SRnrij_lte0)*100))\n",
    "# print('Median:\\t{:.1f}'.format(np.nanmedian(Nt_rStdv_SRnrij_lte0)*100))\n",
    "print('**Mean:\\t{:.1f}\\n'.format(np.nanmean(Nt_rStdv_SRnrij_lte0)*100))"
   ]
  },
  {
   "cell_type": "markdown",
   "metadata": {},
   "source": [
    "# Mean $ℛ_{N_t}$ for $T \\geq 5^{\\circ}C$"
   ]
  },
  {
   "cell_type": "code",
   "execution_count": null,
   "metadata": {
    "ExecuteTime": {
     "end_time": "2018-07-31T23:19:24.421406Z",
     "start_time": "2018-07-31T23:19:24.407308Z"
    }
   },
   "outputs": [],
   "source": [
    "Nt_rStdv_ALLrij_gte5 = npRIJall['binNt_stdv_ALLrij'][gte5]/npRIJall['binNt_mean_ALLrij'][gte5]\n",
    "# print('Min:\\t{:.1f}'.format(np.nanmin(Nt_rStdv_ALLrij_gte5)*100))\n",
    "# print('Max:\\t{:.1f}'.format(np.nanmax(Nt_rStdv_ALLrij_gte5)*100))\n",
    "# print('Median:\\t{:.1f}'.format(np.nanmedian(Nt_rStdv_ALLrij_gte5)*100))\n",
    "print('**Mean:\\t{:.1f}\\n'.format(np.nanmean(Nt_rStdv_ALLrij_gte5)*100))\n",
    "\n",
    "Nt_rStdv_ALLnrij_gte5 = npRIJall['binNt_stdv_ALLnrij'][gte5]/npRIJall['binNt_mean_ALLnrij'][gte5]\n",
    "# print('Min:\\t{:.1f}'.format(np.nanmin(Nt_rStdv_ALLnrij_gte5)*100))\n",
    "# print('Max:\\t{:.1f}'.format(np.nanmax(Nt_rStdv_ALLnrij_gte5)*100))\n",
    "# print('Median:\\t{:.1f}'.format(np.nanmedian(Nt_rStdv_ALLnrij_gte5)*100))\n",
    "print('**Mean:\\t{:.1f}\\n'.format(np.nanmean(Nt_rStdv_ALLnrij_gte5)*100))\n",
    "\n",
    "Nt_rStdv_SRrij_gte5 = npRIJall['binNt_stdv_SRrij'][gte5]/npRIJall['binNt_mean_SRrij'][gte5]\n",
    "# print('Min:\\t{:.1f}'.format(np.nanmin(Nt_rStdv_SRrij_gte5)*100))\n",
    "# print('Max:\\t{:.1f}'.format(np.nanmax(Nt_rStdv_SRrij_gte5)*100))\n",
    "# print('Median:\\t{:.1f}'.format(np.nanmedian(Nt_rStdv_SRrij_gte5)*100))\n",
    "print('**Mean:\\t{:.1f}\\n'.format(np.nanmean(Nt_rStdv_SRrij_gte5)*100))\n",
    "\n",
    "Nt_rStdv_SRnrij_gte5 = npRIJall['binNt_stdv_SRnrij'][gte5]/npRIJall['binNt_mean_SRnrij'][gte5]\n",
    "# print('Min:\\t{:.1f}'.format(np.nanmin(Nt_rStdv_SRnrij_gte5)*100))\n",
    "# print('Max:\\t{:.1f}'.format(np.nanmax(Nt_rStdv_SRnrij_gte5)*100))\n",
    "# print('Median:\\t{:.1f}'.format(np.nanmedian(Nt_rStdv_SRnrij_gte5)*100))\n",
    "print('**Mean:\\t{:.1f}\\n'.format(np.nanmean(Nt_rStdv_SRnrij_gte5)*100))"
   ]
  },
  {
   "cell_type": "markdown",
   "metadata": {},
   "source": [
    "# Mean $ℛ_{TWC}$ for $T \\leq 0^{\\circ}C$"
   ]
  },
  {
   "cell_type": "code",
   "execution_count": null,
   "metadata": {
    "ExecuteTime": {
     "end_time": "2018-07-31T23:19:24.437003Z",
     "start_time": "2018-07-31T23:19:24.423945Z"
    }
   },
   "outputs": [],
   "source": [
    "TWC_rStdv_ALLrij_lte0 = npRIJall['binTWC_stdv_ALLrij'][lte0]/npRIJall['binTWC_mean_ALLrij'][lte0]\n",
    "# print('Min:\\t{:.1f}'.format(np.nanmin(TWC_rStdv_ALLrij_lte0)*100))\n",
    "# print('Max:\\t{:.1f}'.format(np.nanmax(TWC_rStdv_ALLrij_lte0)*100))\n",
    "# print('Median:\\t{:.1f}'.format(np.nanmedian(TWC_rStdv_ALLrij_lte0)*100))\n",
    "print('**Mean:\\t{:.1f}\\n'.format(np.nanmean(TWC_rStdv_ALLrij_lte0)*100))\n",
    "\n",
    "TWC_rStdv_ALLnrij_lte0 = npRIJall['binTWC_stdv_ALLnrij'][lte0]/npRIJall['binTWC_mean_ALLnrij'][lte0]\n",
    "# print('Min:\\t{:.1f}'.format(np.nanmin(TWC_rStdv_ALLnrij_lte0)*100))\n",
    "# print('Max:\\t{:.1f}'.format(np.nanmax(TWC_rStdv_ALLnrij_lte0)*100))\n",
    "# print('Median:\\t{:.1f}'.format(np.nanmedian(TWC_rStdv_ALLnrij_lte0)*100))\n",
    "print('**Mean:\\t{:.1f}\\n'.format(np.nanmean(TWC_rStdv_ALLnrij_lte0)*100))\n",
    "\n",
    "TWC_rStdv_SRrij_lte0 = npRIJall['binTWC_stdv_SRrij'][lte0]/npRIJall['binTWC_mean_SRrij'][lte0]\n",
    "# print('Min:\\t{:.1f}'.format(np.nanmin(TWC_rStdv_SRrij_lte0)*100))\n",
    "# print('Max:\\t{:.1f}'.format(np.nanmax(TWC_rStdv_SRrij_lte0)*100))\n",
    "# print('Median:\\t{:.1f}'.format(np.nanmedian(TWC_rStdv_SRrij_lte0)*100))\n",
    "print('**Mean:\\t{:.1f}\\n'.format(np.nanmean(TWC_rStdv_SRrij_lte0)*100))\n",
    "\n",
    "TWC_rStdv_SRnrij_lte0 = npRIJall['binTWC_stdv_SRnrij'][lte0]/npRIJall['binTWC_mean_SRnrij'][lte0]\n",
    "# print('Min:\\t{:.1f}'.format(np.nanmin(TWC_rStdv_SRnrij_lte0)*100))\n",
    "# print('Max:\\t{:.1f}'.format(np.nanmax(TWC_rStdv_SRnrij_lte0)*100))\n",
    "# print('Median:\\t{:.1f}'.format(np.nanmedian(TWC_rStdv_SRnrij_lte0)*100))\n",
    "print('**Mean:\\t{:.1f}\\n'.format(np.nanmean(TWC_rStdv_SRnrij_lte0)*100))"
   ]
  },
  {
   "cell_type": "markdown",
   "metadata": {},
   "source": [
    "# Mean $ℛ_{TWC}$ for $T \\geq 5^{\\circ}C$"
   ]
  },
  {
   "cell_type": "code",
   "execution_count": null,
   "metadata": {
    "ExecuteTime": {
     "end_time": "2018-07-31T23:19:24.452418Z",
     "start_time": "2018-07-31T23:19:24.439623Z"
    }
   },
   "outputs": [],
   "source": [
    "TWC_rStdv_ALLrij_gte5 = npRIJall['binTWC_stdv_ALLrij'][gte5]/npRIJall['binTWC_mean_ALLrij'][gte5]\n",
    "# print('Min:\\t{:.1f}'.format(np.nanmin(TWC_rStdv_ALLrij_gte5)*100))\n",
    "# print('Max:\\t{:.1f}'.format(np.nanmax(TWC_rStdv_ALLrij_gte5)*100))\n",
    "# print('Median:\\t{:.1f}'.format(np.nanmedian(TWC_rStdv_ALLrij_gte5)*100))\n",
    "print('**Mean:\\t{:.1f}\\n'.format(np.nanmean(TWC_rStdv_ALLrij_gte5)*100))\n",
    "\n",
    "TWC_rStdv_ALLnrij_gte5 = npRIJall['binTWC_stdv_ALLnrij'][gte5]/npRIJall['binTWC_mean_ALLnrij'][gte5]\n",
    "# print('Min:\\t{:.1f}'.format(np.nanmin(TWC_rStdv_ALLnrij_gte5)*100))\n",
    "# print('Max:\\t{:.1f}'.format(np.nanmax(TWC_rStdv_ALLnrij_gte5)*100))\n",
    "# print('Median:\\t{:.1f}'.format(np.nanmedian(TWC_rStdv_ALLnrij_gte5)*100))\n",
    "print('**Mean:\\t{:.1f}\\n'.format(np.nanmean(TWC_rStdv_ALLnrij_gte5)*100))\n",
    "\n",
    "TWC_rStdv_SRrij_gte5 = npRIJall['binTWC_stdv_SRrij'][gte5]/npRIJall['binTWC_mean_SRrij'][gte5]\n",
    "# print('Min:\\t{:.1f}'.format(np.nanmin(TWC_rStdv_SRrij_gte5)*100))\n",
    "# print('Max:\\t{:.1f}'.format(np.nanmax(TWC_rStdv_SRrij_gte5)*100))\n",
    "# print('Median:\\t{:.1f}'.format(np.nanmedian(TWC_rStdv_SRrij_gte5)*100))\n",
    "print('**Mean:\\t{:.1f}\\n'.format(np.nanmean(TWC_rStdv_SRrij_gte5)*100))\n",
    "\n",
    "TWC_rStdv_SRnrij_gte5 = npRIJall['binTWC_stdv_SRnrij'][gte5]/npRIJall['binTWC_mean_SRnrij'][gte5]\n",
    "# print('Min:\\t{:.1f}'.format(np.nanmin(TWC_rStdv_SRnrij_gte5)*100))\n",
    "# print('Max:\\t{:.1f}'.format(np.nanmax(TWC_rStdv_SRnrij_gte5)*100))\n",
    "# print('Median:\\t{:.1f}'.format(np.nanmedian(TWC_rStdv_SRnrij_gte5)*100))\n",
    "print('**Mean:\\t{:.1f}\\n'.format(np.nanmean(TWC_rStdv_SRnrij_gte5)*100))"
   ]
  }
 ],
 "metadata": {
  "anaconda-cloud": {},
  "kernelspec": {
   "display_name": "Python 3",
   "language": "python",
   "name": "python3"
  },
  "language_info": {
   "codemirror_mode": {
    "name": "ipython",
    "version": 3
   },
   "file_extension": ".py",
   "mimetype": "text/x-python",
   "name": "python",
   "nbconvert_exporter": "python",
   "pygments_lexer": "ipython3",
   "version": "3.5.5"
  },
  "varInspector": {
   "cols": {
    "lenName": 16,
    "lenType": 16,
    "lenVar": 40
   },
   "kernels_config": {
    "python": {
     "delete_cmd_postfix": "",
     "delete_cmd_prefix": "del ",
     "library": "var_list.py",
     "varRefreshCmd": "print(var_dic_list())"
    },
    "r": {
     "delete_cmd_postfix": ") ",
     "delete_cmd_prefix": "rm(",
     "library": "var_list.r",
     "varRefreshCmd": "cat(var_dic_list()) "
    }
   },
   "position": {
    "height": "491px",
    "left": "1166px",
    "right": "20px",
    "top": "120px",
    "width": "350px"
   },
   "types_to_exclude": [
    "module",
    "function",
    "builtin_function_or_method",
    "instance",
    "_Feature"
   ],
   "window_display": false
  }
 },
 "nbformat": 4,
 "nbformat_minor": 1
}
