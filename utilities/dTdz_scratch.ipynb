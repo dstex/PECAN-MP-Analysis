{
 "cells": [
  {
   "cell_type": "code",
   "execution_count": 4,
   "metadata": {
    "ExecuteTime": {
     "end_time": "2018-08-13T23:32:41.143697Z",
     "start_time": "2018-08-13T23:32:41.134459Z"
    },
    "run_control": {
     "frozen": false,
     "read_only": false
    }
   },
   "outputs": [],
   "source": [
    "import numpy as np\n",
    "from matplotlib import pyplot as plt\n",
    "import os\n",
    "import warnings\n",
    "warnings.filterwarnings(\"ignore\",category=FutureWarning)\n",
    "import xarray as xr\n",
    "from matplotlib.ticker import MultipleLocator, FormatStrFormatter\n",
    "\n",
    "warnings.filterwarnings(\"ignore\",message='invalid value encountered in less_equal')\n",
    "\n",
    "%matplotlib inline"
   ]
  },
  {
   "cell_type": "code",
   "execution_count": 19,
   "metadata": {
    "ExecuteTime": {
     "end_time": "2018-08-14T00:09:05.038093Z",
     "start_time": "2018-08-14T00:09:04.796888Z"
    },
    "run_control": {
     "frozen": false,
     "read_only": false
    }
   },
   "outputs": [],
   "source": [
    "flight = '20150620'\n",
    "ix = 5\n",
    "\n",
    "pecanPrmF = '/Users/danstechman/GoogleDrive/PECAN-Data/' + flight + '_PECANparams.nc'\n",
    "flFile = '/Users/danstechman/GoogleDrive/PECAN-Data/FlightLevelData/Processed/' + flight + '_FltLvl_Processed.nc'\n",
    "\n",
    "pecanPrms = xr.open_dataset(pecanPrmF,decode_times=False)\n",
    "startT = pecanPrms.startT.data\n",
    "endT = pecanPrms.endT.data\n",
    "\n",
    "# Pull out FL data\n",
    "flData = xr.open_dataset(flFile,decode_times=False)\n",
    "timeSecs_FL = flData.time_secs_FL.data\n",
    "fl_tempC = flData.TA.data\n",
    "fl_alt_mMSL = flData.Alt.data\n",
    "\n",
    "\n",
    " # Get start and end indices for FL variables within current spiral\n",
    "strtMatch = min(timeSecs_FL, key=lambda x: abs(x - startT[ix]))\n",
    "endMatch = min(timeSecs_FL, key=lambda x: abs(x - endT[ix]))\n",
    "flStrtIx = np.squeeze(np.where(timeSecs_FL == strtMatch))\n",
    "flEndIx = np.squeeze(np.where(timeSecs_FL == endMatch))\n",
    "\n",
    "flAltSprl = fl_alt_mMSL[flStrtIx:flEndIx]\n",
    "flTempCsprl = fl_tempC[flStrtIx:flEndIx]\n",
    "\n",
    "flAltSprl_lte0 = flAltSprl[flTempCsprl <= 0]\n",
    "flTempCsprl_lte0 = flTempCsprl[flTempCsprl <= 0]\n",
    "flAltSprl_gt0 = flAltSprl[flTempCsprl > 0]\n",
    "flTempCsprl_gt0 = flTempCsprl[flTempCsprl > 0]"
   ]
  },
  {
   "cell_type": "code",
   "execution_count": 8,
   "metadata": {
    "ExecuteTime": {
     "end_time": "2018-08-13T23:34:55.361980Z",
     "start_time": "2018-08-13T23:34:55.356542Z"
    },
    "run_control": {
     "frozen": false,
     "read_only": false
    }
   },
   "outputs": [
    {
     "name": "stdout",
     "output_type": "stream",
     "text": [
      "-5.487003143991682\n"
     ]
    }
   ],
   "source": [
    "finiteIx_lte0 = np.isfinite(flAltSprl_lte0) & np.isfinite(flTempCsprl_lte0)\n",
    "pf_temp_lte0 = np.poly1d(np.polyfit(flAltSprl_lte0[finiteIx_lte0]/1000,flTempCsprl_lte0[finiteIx_lte0],  1))\n",
    "tempLapse_lte0 = pf_temp_lte0(6) - pf_temp_lte0(5)\n",
    "print(tempLapse_lte0)"
   ]
  },
  {
   "cell_type": "code",
   "execution_count": 7,
   "metadata": {
    "ExecuteTime": {
     "end_time": "2018-08-13T23:34:44.818116Z",
     "start_time": "2018-08-13T23:34:44.812431Z"
    }
   },
   "outputs": [
    {
     "name": "stdout",
     "output_type": "stream",
     "text": [
      "-8.609385444333888\n"
     ]
    }
   ],
   "source": [
    "finiteIx_gt0 = np.isfinite(flAltSprl_gt0) & np.isfinite(flTempCsprl_gt0)\n",
    "pf_temp_gt0 = np.poly1d(np.polyfit(flAltSprl_gt0[finiteIx_gt0]/1000,flTempCsprl_gt0[finiteIx_gt0],  1))\n",
    "tempLapse_gt0 = pf_temp_gt0(6) - pf_temp_gt0(5)\n",
    "print(tempLapse_gt0)"
   ]
  },
  {
   "cell_type": "code",
   "execution_count": null,
   "metadata": {},
   "outputs": [],
   "source": []
  },
  {
   "cell_type": "code",
   "execution_count": 14,
   "metadata": {
    "ExecuteTime": {
     "end_time": "2018-08-13T23:35:43.867043Z",
     "start_time": "2018-08-13T23:35:43.859546Z"
    },
    "run_control": {
     "frozen": false,
     "read_only": false
    }
   },
   "outputs": [
    {
     "name": "stdout",
     "output_type": "stream",
     "text": [
      "-5.535622010353443\n"
     ]
    }
   ],
   "source": [
    "finiteIx_lte0 = np.isfinite(flAltSprl_lte0) & np.isfinite(flTempCsprl_lte0)\n",
    "pf_temp_lte0 = np.poly1d(np.polyfit(flAltSprl_lte0[finiteIx_lte0]/1000,flTempCsprl_lte0[finiteIx_lte0],  1))\n",
    "tempLapse_lte0 = pf_temp_lte0(6) - pf_temp_lte0(5)\n",
    "print(tempLapse_lte0)"
   ]
  },
  {
   "cell_type": "code",
   "execution_count": 15,
   "metadata": {
    "ExecuteTime": {
     "end_time": "2018-08-13T23:35:43.878014Z",
     "start_time": "2018-08-13T23:35:43.869868Z"
    }
   },
   "outputs": [
    {
     "name": "stdout",
     "output_type": "stream",
     "text": [
      "-8.009107250885165\n"
     ]
    }
   ],
   "source": [
    "finiteIx_gt0 = np.isfinite(flAltSprl_gt0) & np.isfinite(flTempCsprl_gt0)\n",
    "pf_temp_gt0 = np.poly1d(np.polyfit(flAltSprl_gt0[finiteIx_gt0]/1000,flTempCsprl_gt0[finiteIx_gt0],  1))\n",
    "tempLapse_gt0 = pf_temp_gt0(6) - pf_temp_gt0(5)\n",
    "print(tempLapse_gt0)"
   ]
  },
  {
   "cell_type": "code",
   "execution_count": null,
   "metadata": {},
   "outputs": [],
   "source": []
  },
  {
   "cell_type": "code",
   "execution_count": 17,
   "metadata": {
    "ExecuteTime": {
     "end_time": "2018-08-13T23:36:14.274264Z",
     "start_time": "2018-08-13T23:36:14.267865Z"
    },
    "run_control": {
     "frozen": false,
     "read_only": false
    }
   },
   "outputs": [
    {
     "name": "stdout",
     "output_type": "stream",
     "text": [
      "-5.1384553616190765\n"
     ]
    }
   ],
   "source": [
    "finiteIx_lte0 = np.isfinite(flAltSprl_lte0) & np.isfinite(flTempCsprl_lte0)\n",
    "pf_temp_lte0 = np.poly1d(np.polyfit(flAltSprl_lte0[finiteIx_lte0]/1000,flTempCsprl_lte0[finiteIx_lte0],  1))\n",
    "tempLapse_lte0 = pf_temp_lte0(6) - pf_temp_lte0(5)\n",
    "print(tempLapse_lte0)"
   ]
  },
  {
   "cell_type": "code",
   "execution_count": 18,
   "metadata": {
    "ExecuteTime": {
     "end_time": "2018-08-13T23:36:14.284573Z",
     "start_time": "2018-08-13T23:36:14.277232Z"
    }
   },
   "outputs": [
    {
     "name": "stdout",
     "output_type": "stream",
     "text": [
      "-7.715049249971422\n"
     ]
    }
   ],
   "source": [
    "finiteIx_gt0 = np.isfinite(flAltSprl_gt0) & np.isfinite(flTempCsprl_gt0)\n",
    "pf_temp_gt0 = np.poly1d(np.polyfit(flAltSprl_gt0[finiteIx_gt0]/1000,flTempCsprl_gt0[finiteIx_gt0],  1))\n",
    "tempLapse_gt0 = pf_temp_gt0(6) - pf_temp_gt0(5)\n",
    "print(tempLapse_gt0)"
   ]
  },
  {
   "cell_type": "code",
   "execution_count": null,
   "metadata": {},
   "outputs": [],
   "source": []
  },
  {
   "cell_type": "code",
   "execution_count": 20,
   "metadata": {
    "ExecuteTime": {
     "end_time": "2018-08-14T00:09:18.571684Z",
     "start_time": "2018-08-14T00:09:18.564601Z"
    },
    "run_control": {
     "frozen": false,
     "read_only": false
    }
   },
   "outputs": [
    {
     "name": "stdout",
     "output_type": "stream",
     "text": [
      "-4.7663793844096745\n"
     ]
    }
   ],
   "source": [
    "finiteIx_lte0 = np.isfinite(flAltSprl_lte0) & np.isfinite(flTempCsprl_lte0)\n",
    "pf_temp_lte0 = np.poly1d(np.polyfit(flAltSprl_lte0[finiteIx_lte0]/1000,flTempCsprl_lte0[finiteIx_lte0],  1))\n",
    "tempLapse_lte0 = pf_temp_lte0(6) - pf_temp_lte0(5)\n",
    "print(tempLapse_lte0)"
   ]
  },
  {
   "cell_type": "code",
   "execution_count": 21,
   "metadata": {
    "ExecuteTime": {
     "end_time": "2018-08-14T00:09:18.581776Z",
     "start_time": "2018-08-14T00:09:18.574253Z"
    }
   },
   "outputs": [
    {
     "name": "stdout",
     "output_type": "stream",
     "text": [
      "-6.726111485039425\n"
     ]
    }
   ],
   "source": [
    "finiteIx_gt0 = np.isfinite(flAltSprl_gt0) & np.isfinite(flTempCsprl_gt0)\n",
    "pf_temp_gt0 = np.poly1d(np.polyfit(flAltSprl_gt0[finiteIx_gt0]/1000,flTempCsprl_gt0[finiteIx_gt0],  1))\n",
    "tempLapse_gt0 = pf_temp_gt0(6) - pf_temp_gt0(5)\n",
    "print(tempLapse_gt0)"
   ]
  }
 ],
 "metadata": {
  "anaconda-cloud": {},
  "kernelspec": {
   "display_name": "Python 3",
   "language": "python",
   "name": "python3"
  },
  "language_info": {
   "codemirror_mode": {
    "name": "ipython",
    "version": 3
   },
   "file_extension": ".py",
   "mimetype": "text/x-python",
   "name": "python",
   "nbconvert_exporter": "python",
   "pygments_lexer": "ipython3",
   "version": "3.5.5"
  },
  "varInspector": {
   "cols": {
    "lenName": 16,
    "lenType": 16,
    "lenVar": 40
   },
   "kernels_config": {
    "python": {
     "delete_cmd_postfix": "",
     "delete_cmd_prefix": "del ",
     "library": "var_list.py",
     "varRefreshCmd": "print(var_dic_list())"
    },
    "r": {
     "delete_cmd_postfix": ") ",
     "delete_cmd_prefix": "rm(",
     "library": "var_list.r",
     "varRefreshCmd": "cat(var_dic_list()) "
    }
   },
   "types_to_exclude": [
    "module",
    "function",
    "builtin_function_or_method",
    "instance",
    "_Feature"
   ],
   "window_display": false
  }
 },
 "nbformat": 4,
 "nbformat_minor": 1
}
