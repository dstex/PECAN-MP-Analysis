{
 "cells": [
  {
   "cell_type": "code",
   "execution_count": 2,
   "metadata": {
    "ExecuteTime": {
     "end_time": "2018-07-15T03:03:28.732342Z",
     "start_time": "2018-07-15T03:03:26.576747Z"
    },
    "run_control": {
     "frozen": false,
     "read_only": false
    }
   },
   "outputs": [],
   "source": [
    "import numpy as np\n",
    "from matplotlib import pyplot as plt\n",
    "import os\n",
    "import warnings\n",
    "warnings.filterwarnings(\"ignore\",category=FutureWarning)\n",
    "import xarray as xr\n",
    "from matplotlib.ticker import MultipleLocator, FormatStrFormatter\n",
    "\n",
    "warnings.filterwarnings(\"ignore\",message='invalid value encountered in less_equal')\n",
    "\n",
    "%matplotlib inline"
   ]
  },
  {
   "cell_type": "code",
   "execution_count": 3,
   "metadata": {
    "ExecuteTime": {
     "end_time": "2018-07-15T03:03:28.743422Z",
     "start_time": "2018-07-15T03:03:28.735468Z"
    }
   },
   "outputs": [],
   "source": [
    "npStgZn = np.load('/Users/danstechman/GoogleDrive/PECAN-Data/mp-data/allSpirals_zoneStage_stats.npz')"
   ]
  },
  {
   "cell_type": "code",
   "execution_count": 4,
   "metadata": {
    "ExecuteTime": {
     "end_time": "2018-07-15T03:03:28.763862Z",
     "start_time": "2018-07-15T03:03:28.746160Z"
    }
   },
   "outputs": [],
   "source": [
    "temp_lte0 = npStgZn['bin_mid'][:20]\n",
    "temp_gt0 = npStgZn['bin_mid'][20:]\n",
    "temp_gte5 = npStgZn['bin_mid'][24:]"
   ]
  },
  {
   "cell_type": "markdown",
   "metadata": {},
   "source": [
    "# Formative"
   ]
  },
  {
   "cell_type": "markdown",
   "metadata": {
    "heading_collapsed": true
   },
   "source": [
    "# $dN_t/dT$ for $T \\leq 0^{\\circ}C$"
   ]
  },
  {
   "cell_type": "code",
   "execution_count": null,
   "metadata": {
    "ExecuteTime": {
     "end_time": "2018-07-10T00:41:06.890947Z",
     "start_time": "2018-07-10T00:41:06.557163Z"
    },
    "hidden": true,
    "run_control": {
     "frozen": false,
     "read_only": false
    }
   },
   "outputs": [],
   "source": [
    "ntMed_TZf_lte0 = npStgZn['binNt_median_TZf'][:20]\n",
    "finiteIx = np.isfinite(np.log10(ntMed_TZf_lte0))\n",
    "pf_ntMed_TZf_lte0 = np.poly1d(np.polyfit(temp_lte0[finiteIx],np.log10(ntMed_TZf_lte0[finiteIx]),  1))\n",
    "ntMed_TZf_lte0_dT = 1 - (10**pf_ntMed_TZf_lte0(-6)/10**pf_ntMed_TZf_lte0(-5)) # 1 deg C change percentage\n",
    "        \n",
    "print(ntMed_TZf_lte0_dT)\n",
    "\n",
    "fig, ax = plt.subplots(figsize=(4,5))\n",
    "ax.plot(ntMed_TZf_lte0,temp_lte0,'b-')\n",
    "ax.plot(ntMed_TZf_lte0,temp_lte0,'bo',markeredgecolor='white',markeredgewidth=1,markersize=12)\n",
    "ax.plot(10**(pf_ntMed_TZf_lte0(temp_lte0)),temp_lte0,'r-')\n",
    "\n",
    "ax.set_ylim(-18.5,5)\n",
    "ax.set_title('TZf\\t\\t$dN_t/dT$ for $T \\leq 0^{\\circ}C$',fontsize=24)\n",
    "ax.set_xscale('log',nonposx='mask')\n",
    "ax.invert_yaxis()\n",
    "ax.set_ylabel('Temperature ($^{\\circ}$C)',fontsize=24)\n",
    "ax.tick_params(axis='both', which='major', labelsize=22)\n",
    "ax.grid(which='both')"
   ]
  },
  {
   "cell_type": "markdown",
   "metadata": {
    "heading_collapsed": true
   },
   "source": [
    "# $dN_t/dT$ for $T > 0^{\\circ}C$"
   ]
  },
  {
   "cell_type": "code",
   "execution_count": null,
   "metadata": {
    "ExecuteTime": {
     "end_time": "2018-07-10T00:41:17.349723Z",
     "start_time": "2018-07-10T00:41:16.996274Z"
    },
    "hidden": true,
    "run_control": {
     "frozen": false,
     "read_only": false
    }
   },
   "outputs": [],
   "source": [
    "ntMed_TZf_gt0 = npStgZn['binNt_median_TZf'][20:]\n",
    "finiteIx = np.isfinite(np.log10(ntMed_TZf_gt0))\n",
    "pf_ntMed_TZf_gt0 = np.poly1d(np.polyfit(temp_gt0[finiteIx],np.log10(ntMed_TZf_gt0[finiteIx]),  1))\n",
    "ntMed_TZf_gt0_dT = 1 - (10**pf_ntMed_TZf_gt0(2)/10**pf_ntMed_TZf_gt0(3)) # 1 deg C change percentage\n",
    "        \n",
    "print(ntMed_TZf_gt0_dT)\n",
    "\n",
    "fig, ax = plt.subplots(figsize=(4,5))\n",
    "ax.plot(ntMed_TZf_gt0,temp_gt0,'b-')\n",
    "ax.plot(ntMed_TZf_gt0,temp_gt0,'bo',markeredgecolor='white',markeredgewidth=1,markersize=12)\n",
    "ax.plot(10**(pf_ntMed_TZf_gt0(temp_gt0)),temp_gt0,'r-')\n",
    "\n",
    "ax.set_ylim(-5,20)\n",
    "ax.set_title('TZf\\t\\t$dN_t/dT$ for $T > 0^{\\circ}C$',fontsize=24)\n",
    "ax.set_xscale('log',nonposx='mask')\n",
    "ax.invert_yaxis()\n",
    "ax.set_ylabel('Temperature ($^{\\circ}$C)',fontsize=24)\n",
    "ax.tick_params(axis='both', which='major', labelsize=22)\n",
    "ax.grid(which='both')"
   ]
  },
  {
   "cell_type": "markdown",
   "metadata": {
    "heading_collapsed": true
   },
   "source": [
    "# $dTWC/dT$ for $T \\leq 0^{\\circ}C$"
   ]
  },
  {
   "cell_type": "code",
   "execution_count": null,
   "metadata": {
    "ExecuteTime": {
     "end_time": "2018-07-09T21:06:42.256625Z",
     "start_time": "2018-07-09T21:06:41.506372Z"
    },
    "hidden": true,
    "run_control": {
     "frozen": false,
     "read_only": false
    }
   },
   "outputs": [],
   "source": [
    "twcMed_TZ_lte0 = npStgZn['binTWC_median_TZ'][:20]\n",
    "finiteIx = np.isfinite(np.log10(twcMed_TZ_lte0))\n",
    "pf_twcMed_TZ_lte0 = np.poly1d(np.polyfit(temp_lte0[finiteIx],np.log10(twcMed_TZ_lte0[finiteIx]),  1))\n",
    "twcMed_TZ_lte0_dT = 1 - (10**pf_twcMed_TZ_lte0(-6)/10**pf_twcMed_TZ_lte0(-5)) # 1 deg C change percentage\n",
    "        \n",
    "print(twcMed_TZ_lte0_dT)\n",
    "\n",
    "fig, ax = plt.subplots(figsize=(4,5))\n",
    "ax.plot(twcMed_TZ_lte0,temp_lte0,'b-')\n",
    "ax.plot(twcMed_TZ_lte0,temp_lte0,'bo',markeredgecolor='white',markeredgewidth=1,markersize=12)\n",
    "ax.plot(10**(pf_twcMed_TZ_lte0(temp_lte0)),temp_lte0,'r-')\n",
    "\n",
    "ax.set_ylim(-18.5,5)\n",
    "ax.set_title('TZ\\t\\t$dTWC/dT$ for $T \\leq 0^{\\circ}C$',fontsize=24)\n",
    "ax.set_xscale('log',nonposx='mask')\n",
    "ax.invert_yaxis()\n",
    "ax.set_ylabel('Temperature ($^{\\circ}$C)',fontsize=24)\n",
    "ax.tick_params(axis='both', which='major', labelsize=22)\n",
    "ax.grid(which='both')"
   ]
  },
  {
   "cell_type": "code",
   "execution_count": null,
   "metadata": {
    "ExecuteTime": {
     "end_time": "2018-07-09T21:06:43.065020Z",
     "start_time": "2018-07-09T21:06:42.259684Z"
    },
    "hidden": true,
    "run_control": {
     "frozen": false,
     "read_only": false
    }
   },
   "outputs": [],
   "source": [
    "twcMed_SR_lte0 = npStgZn['binTWC_median_SR'][:20]\n",
    "finiteIx = np.isfinite(np.log10(twcMed_SR_lte0))\n",
    "pf_twcMed_SR_lte0 = np.poly1d(np.polyfit(temp_lte0[finiteIx],np.log10(twcMed_SR_lte0[finiteIx]),  1))\n",
    "twcMed_SR_lte0_dT = 1 - (10**pf_twcMed_SR_lte0(-6)/10**pf_twcMed_SR_lte0(-5)) # 1 deg C change percentage\n",
    "        \n",
    "print(twcMed_SR_lte0_dT)\n",
    "\n",
    "fig, ax = plt.subplots(figsize=(4,5))\n",
    "ax.plot(twcMed_SR_lte0,temp_lte0,'b-')\n",
    "ax.plot(twcMed_SR_lte0,temp_lte0,'bo',markeredgecolor='white',markeredgewidth=1,markersize=12)\n",
    "ax.plot(10**(pf_twcMed_SR_lte0(temp_lte0)),temp_lte0,'r-')\n",
    "\n",
    "ax.set_ylim(-18.5,5)\n",
    "ax.set_title('ESR\\t\\t$dTWC/dT$ for $T \\leq 0^{\\circ}C$',fontsize=24)\n",
    "ax.set_xscale('log',nonposx='mask')\n",
    "ax.invert_yaxis()\n",
    "ax.set_ylabel('Temperature ($^{\\circ}$C)',fontsize=24)\n",
    "ax.tick_params(axis='both', which='major', labelsize=22)\n",
    "ax.grid(which='both')"
   ]
  },
  {
   "cell_type": "code",
   "execution_count": null,
   "metadata": {
    "ExecuteTime": {
     "end_time": "2018-07-09T21:06:43.877121Z",
     "start_time": "2018-07-09T21:06:43.066784Z"
    },
    "hidden": true,
    "run_control": {
     "frozen": false,
     "read_only": false
    }
   },
   "outputs": [],
   "source": [
    "twcMed_AR_lte0 = npStgZn['binTWC_median_AR'][:20]\n",
    "finiteIx = np.isfinite(np.log10(twcMed_AR_lte0))\n",
    "pf_twcMed_AR_lte0 = np.poly1d(np.polyfit(temp_lte0[finiteIx],np.log10(twcMed_AR_lte0[finiteIx]),  1))\n",
    "twcMed_AR_lte0_dT = 1 - (10**pf_twcMed_AR_lte0(-6)/10**pf_twcMed_AR_lte0(-5)) # 1 deg C change percentage\n",
    "        \n",
    "print(twcMed_AR_lte0_dT)\n",
    "\n",
    "fig, ax = plt.subplots(figsize=(4,5))\n",
    "ax.plot(twcMed_AR_lte0,temp_lte0,'b-')\n",
    "ax.plot(twcMed_AR_lte0,temp_lte0,'bo',markeredgecolor='white',markeredgewidth=1,markersize=12)\n",
    "ax.plot(10**(pf_twcMed_AR_lte0(temp_lte0)),temp_lte0,'r-')\n",
    "\n",
    "ax.set_ylim(-18.5,5)\n",
    "ax.set_title('AR\\t\\t$dTWC/dT$ for $T \\leq 0^{\\circ}C$',fontsize=24)\n",
    "ax.set_xscale('log',nonposx='mask')\n",
    "ax.invert_yaxis()\n",
    "ax.set_ylabel('Temperature ($^{\\circ}$C)',fontsize=24)\n",
    "ax.tick_params(axis='both', which='major', labelsize=22)\n",
    "ax.grid(which='both')"
   ]
  },
  {
   "cell_type": "markdown",
   "metadata": {
    "heading_collapsed": true
   },
   "source": [
    "# $dTWC/dT$ for $T > 0^{\\circ}C$"
   ]
  },
  {
   "cell_type": "code",
   "execution_count": null,
   "metadata": {
    "ExecuteTime": {
     "end_time": "2018-07-09T21:06:44.616150Z",
     "start_time": "2018-07-09T21:06:43.879696Z"
    },
    "hidden": true,
    "run_control": {
     "frozen": false,
     "read_only": false
    }
   },
   "outputs": [],
   "source": [
    "twcMed_TZ_gt0 = npStgZn['binTWC_median_TZ'][20:]\n",
    "finiteIx = np.isfinite(np.log10(twcMed_TZ_gt0))\n",
    "pf_twcMed_TZ_gt0 = np.poly1d(np.polyfit(temp_gt0[finiteIx],np.log10(twcMed_TZ_gt0[finiteIx]),  1))\n",
    "twcMed_TZ_gt0_dT = 1 - (10**pf_twcMed_TZ_gt0(2)/10**pf_twcMed_TZ_gt0(3)) # 1 deg C change percentage\n",
    "        \n",
    "print(twcMed_TZ_gt0_dT)\n",
    "\n",
    "fig, ax = plt.subplots(figsize=(4,5))\n",
    "ax.plot(twcMed_TZ_gt0,temp_gt0,'b-')\n",
    "ax.plot(twcMed_TZ_gt0,temp_gt0,'bo',markeredgecolor='white',markeredgewidth=1,markersize=12)\n",
    "ax.plot(10**(pf_twcMed_TZ_gt0(temp_gt0)),temp_gt0,'r-')\n",
    "\n",
    "ax.set_ylim(-5,20)\n",
    "ax.set_title('TZ\\t\\t$dTWC/dT$ for $T > 0^{\\circ}C$',fontsize=24)\n",
    "ax.set_xscale('log',nonposx='mask')\n",
    "ax.invert_yaxis()\n",
    "ax.set_ylabel('Temperature ($^{\\circ}$C)',fontsize=24)\n",
    "ax.tick_params(axis='both', which='major', labelsize=22)\n",
    "ax.grid(which='both')"
   ]
  },
  {
   "cell_type": "code",
   "execution_count": null,
   "metadata": {
    "ExecuteTime": {
     "end_time": "2018-07-09T21:06:45.367606Z",
     "start_time": "2018-07-09T21:06:44.617940Z"
    },
    "hidden": true,
    "run_control": {
     "frozen": false,
     "read_only": false
    }
   },
   "outputs": [],
   "source": [
    "twcMed_SR_gt0 = npStgZn['binTWC_median_SR'][20:]\n",
    "finiteIx = np.isfinite(np.log10(twcMed_SR_gt0))\n",
    "pf_twcMed_SR_gt0 = np.poly1d(np.polyfit(temp_gt0[finiteIx],np.log10(twcMed_SR_gt0[finiteIx]),  1))\n",
    "twcMed_SR_gt0_dT = 1 - (10**pf_twcMed_SR_gt0(2)/10**pf_twcMed_SR_gt0(3)) # 1 deg C change percentage\n",
    "        \n",
    "print(twcMed_SR_gt0_dT)\n",
    "\n",
    "fig, ax = plt.subplots(figsize=(4,5))\n",
    "ax.plot(twcMed_SR_gt0,temp_gt0,'b-')\n",
    "ax.plot(twcMed_SR_gt0,temp_gt0,'bo',markeredgecolor='white',markeredgewidth=1,markersize=12)\n",
    "ax.plot(10**(pf_twcMed_SR_gt0(temp_gt0)),temp_gt0,'r-')\n",
    "\n",
    "ax.set_ylim(-5,20)\n",
    "ax.set_title('ESR\\t\\t$dTWC/dT$ for $T > 0^{\\circ}C$',fontsize=24)\n",
    "ax.set_xscale('log',nonposx='mask')\n",
    "ax.invert_yaxis()\n",
    "ax.set_ylabel('Temperature ($^{\\circ}$C)',fontsize=24)\n",
    "ax.tick_params(axis='both', which='major', labelsize=22)\n",
    "ax.grid(which='both')"
   ]
  },
  {
   "cell_type": "code",
   "execution_count": null,
   "metadata": {
    "ExecuteTime": {
     "end_time": "2018-07-09T21:16:59.509411Z",
     "start_time": "2018-07-09T21:16:58.737496Z"
    },
    "hidden": true,
    "run_control": {
     "frozen": false,
     "read_only": false
    }
   },
   "outputs": [],
   "source": [
    "twcMed_AR_gt0 = npStgZn['binTWC_median_AR'][20:]\n",
    "finiteIx = np.isfinite(np.log10(twcMed_AR_gt0))\n",
    "pf_twcMed_AR_gt0 = np.poly1d(np.polyfit(temp_gt0[finiteIx],np.log10(twcMed_AR_gt0[finiteIx]),  1))\n",
    "twcMed_AR_gt0_dT = 1 - (10**pf_twcMed_AR_gt0(2)/10**pf_twcMed_AR_gt0(3)) # 1 deg C change percentage\n",
    "        \n",
    "print(twcMed_AR_gt0_dT)\n",
    "\n",
    "fig, ax = plt.subplots(figsize=(4,5))\n",
    "ax.plot(twcMed_AR_gt0,temp_gt0,'b-')\n",
    "ax.plot(twcMed_AR_gt0,temp_gt0,'bo',markeredgecolor='white',markeredgewidth=1,markersize=12)\n",
    "ax.plot(10**(pf_twcMed_AR_gt0(temp_gt0)),temp_gt0,'r-')\n",
    "\n",
    "ax.set_ylim(-5,20)\n",
    "ax.set_title('AR\\t\\t$dTWC/dT$ for $T > 0^{\\circ}C$',fontsize=24)\n",
    "ax.set_xscale('log',nonposx='mask')\n",
    "ax.invert_yaxis()\n",
    "ax.set_ylabel('Temperature ($^{\\circ}$C)',fontsize=24)\n",
    "ax.tick_params(axis='both', which='major', labelsize=22)\n",
    "ax.grid(which='both')"
   ]
  },
  {
   "cell_type": "markdown",
   "metadata": {
    "heading_collapsed": true
   },
   "source": [
    "# $dD_{mm}/dT$ for $T \\leq 0^{\\circ}C$"
   ]
  },
  {
   "cell_type": "code",
   "execution_count": null,
   "metadata": {
    "ExecuteTime": {
     "end_time": "2018-07-09T21:23:02.095297Z",
     "start_time": "2018-07-09T21:23:01.343563Z"
    },
    "hidden": true,
    "run_control": {
     "frozen": false,
     "read_only": false
    }
   },
   "outputs": [],
   "source": [
    "dmmMed_TZ_lte0 = npStgZn['binDmm_median_TZ'][:20]\n",
    "\n",
    "finiteIx = np.isfinite(dmmMed_TZ_lte0)\n",
    "pf_dmmMed_TZ_lte0 = np.poly1d(np.polyfit(temp_lte0[finiteIx],dmmMed_TZ_lte0[finiteIx],  1))\n",
    "dmmMed_TZ_lte0_dT = pf_dmmMed_TZ_lte0(-5) - pf_dmmMed_TZ_lte0(-6)\n",
    "        \n",
    "print(dmmMed_TZ_lte0_dT)\n",
    "\n",
    "fig, ax = plt.subplots(figsize=(4,5))\n",
    "ax.plot(dmmMed_TZ_lte0,temp_lte0,'b-')\n",
    "ax.plot(dmmMed_TZ_lte0,temp_lte0,'bo',markeredgecolor='white',markeredgewidth=1,markersize=12)\n",
    "ax.plot(pf_dmmMed_TZ_lte0(temp_lte0),temp_lte0,'r-')\n",
    "\n",
    "ax.set_ylim(-18.5,5)\n",
    "ax.set_title('TZ\\t\\t$dD_{mm}/dT$ for $T \\leq 0^{\\circ}C$',fontsize=24)\n",
    "ax.invert_yaxis()\n",
    "ax.set_ylabel('Temperature ($^{\\circ}$C)',fontsize=24)\n",
    "ax.tick_params(axis='both', which='major', labelsize=22)\n",
    "ax.grid(which='both')"
   ]
  },
  {
   "cell_type": "code",
   "execution_count": null,
   "metadata": {
    "ExecuteTime": {
     "end_time": "2018-07-09T21:25:30.931655Z",
     "start_time": "2018-07-09T21:25:30.299143Z"
    },
    "hidden": true,
    "run_control": {
     "frozen": false,
     "read_only": false
    }
   },
   "outputs": [],
   "source": [
    "dmmMed_SR_lte0 = npStgZn['binDmm_median_SR'][:20]\n",
    "\n",
    "finiteIx = np.isfinite(dmmMed_SR_lte0)\n",
    "pf_dmmMed_SR_lte0 = np.poly1d(np.polyfit(temp_lte0[finiteIx],dmmMed_SR_lte0[finiteIx],  1))\n",
    "dmmMed_SR_lte0_dT = pf_dmmMed_SR_lte0(-5) - pf_dmmMed_SR_lte0(-6)\n",
    "        \n",
    "print(dmmMed_SR_lte0_dT)\n",
    "\n",
    "fig, ax = plt.subplots(figsize=(4,5))\n",
    "ax.plot(dmmMed_SR_lte0,temp_lte0,'b-')\n",
    "ax.plot(dmmMed_SR_lte0,temp_lte0,'bo',markeredgecolor='white',markeredgewidth=1,markersize=12)\n",
    "ax.plot(pf_dmmMed_SR_lte0(temp_lte0),temp_lte0,'r-')\n",
    "\n",
    "ax.set_ylim(-18.5,5)\n",
    "ax.set_title('ESR\\t\\t$dD_{mm}/dT$ for $T \\leq 0^{\\circ}C$',fontsize=24)\n",
    "ax.invert_yaxis()\n",
    "ax.set_ylabel('Temperature ($^{\\circ}$C)',fontsize=24)\n",
    "ax.tick_params(axis='both', which='major', labelsize=22)\n",
    "ax.grid(which='both')"
   ]
  },
  {
   "cell_type": "code",
   "execution_count": null,
   "metadata": {
    "ExecuteTime": {
     "end_time": "2018-07-09T21:27:27.137484Z",
     "start_time": "2018-07-09T21:27:26.445070Z"
    },
    "hidden": true,
    "run_control": {
     "frozen": false,
     "read_only": false
    }
   },
   "outputs": [],
   "source": [
    "dmmMed_AR_lte0 = npStgZn['binDmm_median_AR'][:20]\n",
    "\n",
    "finiteIx = np.isfinite(dmmMed_AR_lte0)\n",
    "pf_dmmMed_AR_lte0 = np.poly1d(np.polyfit(temp_lte0[finiteIx],dmmMed_AR_lte0[finiteIx],  1))\n",
    "dmmMed_AR_lte0_dT = pf_dmmMed_AR_lte0(-5) - pf_dmmMed_AR_lte0(-6)\n",
    "        \n",
    "print(dmmMed_AR_lte0_dT)\n",
    "\n",
    "fig, ax = plt.subplots(figsize=(4,5))\n",
    "ax.plot(dmmMed_AR_lte0,temp_lte0,'b-')\n",
    "ax.plot(dmmMed_AR_lte0,temp_lte0,'bo',markeredgecolor='white',markeredgewidth=1,markersize=12)\n",
    "ax.plot(pf_dmmMed_AR_lte0(temp_lte0),temp_lte0,'r-')\n",
    "\n",
    "ax.set_ylim(-18.5,5)\n",
    "ax.set_title('AR\\t\\t$dD_{mm}/dT$ for $T \\leq 0^{\\circ}C$',fontsize=24)\n",
    "ax.invert_yaxis()\n",
    "ax.set_ylabel('Temperature ($^{\\circ}$C)',fontsize=24)\n",
    "ax.tick_params(axis='both', which='major', labelsize=22)\n",
    "ax.grid(which='both')"
   ]
  },
  {
   "cell_type": "markdown",
   "metadata": {
    "heading_collapsed": true
   },
   "source": [
    "# $dD_{mm}/dT$ for $T > 0^{\\circ}C$"
   ]
  },
  {
   "cell_type": "code",
   "execution_count": null,
   "metadata": {
    "ExecuteTime": {
     "end_time": "2018-07-09T21:30:09.165874Z",
     "start_time": "2018-07-09T21:30:08.523308Z"
    },
    "hidden": true,
    "run_control": {
     "frozen": false,
     "read_only": false
    }
   },
   "outputs": [],
   "source": [
    "dmmMed_TZ_gt0 = npStgZn['binDmm_median_TZ'][20:]\n",
    "\n",
    "finiteIx = np.isfinite(dmmMed_TZ_gt0)\n",
    "pf_dmmMed_TZ_gt0 = np.poly1d(np.polyfit(temp_gt0[finiteIx],dmmMed_TZ_gt0[finiteIx],  1))\n",
    "dmmMed_TZ_gt0_dT = pf_dmmMed_TZ_gt0(6) - pf_dmmMed_TZ_gt0(5)\n",
    "        \n",
    "print(dmmMed_TZ_gt0_dT)\n",
    "\n",
    "fig, ax = plt.subplots(figsize=(4,5))\n",
    "ax.plot(dmmMed_TZ_gt0,temp_gt0,'b-')\n",
    "ax.plot(dmmMed_TZ_gt0,temp_gt0,'bo',markeredgecolor='white',markeredgewidth=1,markersize=12)\n",
    "ax.plot(pf_dmmMed_TZ_gt0(temp_gt0),temp_gt0,'r-')\n",
    "\n",
    "ax.set_ylim(-5,20)\n",
    "ax.set_title('TZ\\t\\t$dD_{mm}/dT$ for $T > 0^{\\circ}C$',fontsize=24)\n",
    "ax.invert_yaxis()\n",
    "ax.set_ylabel('Temperature ($^{\\circ}$C)',fontsize=24)\n",
    "ax.tick_params(axis='both', which='major', labelsize=22)\n",
    "ax.grid(which='both')"
   ]
  },
  {
   "cell_type": "code",
   "execution_count": null,
   "metadata": {
    "ExecuteTime": {
     "end_time": "2018-07-09T21:31:13.710772Z",
     "start_time": "2018-07-09T21:31:13.084523Z"
    },
    "hidden": true,
    "run_control": {
     "frozen": false,
     "read_only": false
    }
   },
   "outputs": [],
   "source": [
    "dmmMed_SR_gt0 = npStgZn['binDmm_median_SR'][20:]\n",
    "\n",
    "finiteIx = np.isfinite(dmmMed_SR_gt0)\n",
    "pf_dmmMed_SR_gt0 = np.poly1d(np.polyfit(temp_gt0[finiteIx],dmmMed_SR_gt0[finiteIx],  1))\n",
    "dmmMed_SR_gt0_dT = pf_dmmMed_SR_gt0(6) - pf_dmmMed_SR_gt0(5)\n",
    "        \n",
    "print(dmmMed_SR_gt0_dT)\n",
    "\n",
    "fig, ax = plt.subplots(figsize=(4,5))\n",
    "ax.plot(dmmMed_SR_gt0,temp_gt0,'b-')\n",
    "ax.plot(dmmMed_SR_gt0,temp_gt0,'bo',markeredgecolor='white',markeredgewidth=1,markersize=12)\n",
    "ax.plot(pf_dmmMed_SR_gt0(temp_gt0),temp_gt0,'r-')\n",
    "\n",
    "ax.set_ylim(-5,20)\n",
    "ax.set_title('ESR\\t\\t$dD_{mm}/dT$ for $T > 0^{\\circ}C$',fontsize=24)\n",
    "ax.invert_yaxis()\n",
    "ax.set_ylabel('Temperature ($^{\\circ}$C)',fontsize=24)\n",
    "ax.tick_params(axis='both', which='major', labelsize=22)\n",
    "ax.grid(which='both')"
   ]
  },
  {
   "cell_type": "code",
   "execution_count": null,
   "metadata": {
    "ExecuteTime": {
     "end_time": "2018-07-09T21:31:46.378084Z",
     "start_time": "2018-07-09T21:31:45.724065Z"
    },
    "hidden": true,
    "run_control": {
     "frozen": false,
     "read_only": false
    }
   },
   "outputs": [],
   "source": [
    "dmmMed_AR_gt0 = npStgZn['binDmm_median_AR'][20:]\n",
    "\n",
    "finiteIx = np.isfinite(dmmMed_AR_gt0)\n",
    "pf_dmmMed_AR_gt0 = np.poly1d(np.polyfit(temp_gt0[finiteIx],dmmMed_AR_gt0[finiteIx],  1))\n",
    "dmmMed_AR_gt0_dT = pf_dmmMed_AR_gt0(6) - pf_dmmMed_AR_gt0(5)\n",
    "        \n",
    "print(dmmMed_AR_gt0_dT)\n",
    "\n",
    "fig, ax = plt.subplots(figsize=(4,5))\n",
    "ax.plot(dmmMed_AR_gt0,temp_gt0,'b-')\n",
    "ax.plot(dmmMed_AR_gt0,temp_gt0,'bo',markeredgecolor='white',markeredgewidth=1,markersize=12)\n",
    "ax.plot(pf_dmmMed_AR_gt0(temp_gt0),temp_gt0,'r-')\n",
    "\n",
    "ax.set_ylim(-5,20)\n",
    "ax.set_title('AR\\t\\t$dD_{mm}/dT$ for $T > 0^{\\circ}C$',fontsize=24)\n",
    "ax.invert_yaxis()\n",
    "ax.set_ylabel('Temperature ($^{\\circ}$C)',fontsize=24)\n",
    "ax.tick_params(axis='both', which='major', labelsize=22)\n",
    "ax.grid(which='both')"
   ]
  },
  {
   "cell_type": "markdown",
   "metadata": {
    "heading_collapsed": true
   },
   "source": [
    "# $dAR/dT$ for $T \\leq 0^{\\circ}C$"
   ]
  },
  {
   "cell_type": "code",
   "execution_count": null,
   "metadata": {
    "ExecuteTime": {
     "end_time": "2018-07-09T21:41:31.164767Z",
     "start_time": "2018-07-09T21:41:30.555530Z"
    },
    "hidden": true,
    "run_control": {
     "frozen": false,
     "read_only": false
    }
   },
   "outputs": [],
   "source": [
    "ARatMed_TZ_lte0 = npStgZn['binARat_median_TZ'][:20]\n",
    "\n",
    "finiteIx = np.isfinite(ARatMed_TZ_lte0)\n",
    "pf_ARatMed_TZ_lte0 = np.poly1d(np.polyfit(temp_lte0[finiteIx],ARatMed_TZ_lte0[finiteIx],  1))\n",
    "ARatMed_TZ_lte0_dT = pf_ARatMed_TZ_lte0(-5) - pf_ARatMed_TZ_lte0(-6)\n",
    "        \n",
    "print(ARatMed_TZ_lte0_dT)\n",
    "\n",
    "fig, ax = plt.subplots(figsize=(4,5))\n",
    "ax.plot(ARatMed_TZ_lte0,temp_lte0,'b-')\n",
    "ax.plot(ARatMed_TZ_lte0,temp_lte0,'bo',markeredgecolor='white',markeredgewidth=1,markersize=12)\n",
    "ax.plot(pf_ARatMed_TZ_lte0(temp_lte0),temp_lte0,'r-')\n",
    "\n",
    "ax.set_ylim(-18.5,5)\n",
    "ax.set_title('TZ\\t\\t$dAR/dT$ for $T \\leq 0^{\\circ}C$',fontsize=24)\n",
    "ax.invert_yaxis()\n",
    "ax.set_ylabel('Temperature ($^{\\circ}$C)',fontsize=24)\n",
    "ax.tick_params(axis='both', which='major', labelsize=22)\n",
    "ax.grid(which='both')"
   ]
  },
  {
   "cell_type": "code",
   "execution_count": null,
   "metadata": {
    "ExecuteTime": {
     "end_time": "2018-07-09T21:42:22.831525Z",
     "start_time": "2018-07-09T21:42:22.184864Z"
    },
    "hidden": true,
    "run_control": {
     "frozen": false,
     "read_only": false
    }
   },
   "outputs": [],
   "source": [
    "ARatMed_SR_lte0 = npStgZn['binARat_median_SR'][:20]\n",
    "\n",
    "finiteIx = np.isfinite(ARatMed_SR_lte0)\n",
    "pf_ARatMed_SR_lte0 = np.poly1d(np.polyfit(temp_lte0[finiteIx],ARatMed_SR_lte0[finiteIx],  1))\n",
    "ARatMed_SR_lte0_dT = pf_ARatMed_SR_lte0(-5) - pf_ARatMed_SR_lte0(-6)\n",
    "        \n",
    "print(ARatMed_SR_lte0_dT)\n",
    "\n",
    "fig, ax = plt.subplots(figsize=(4,5))\n",
    "ax.plot(ARatMed_SR_lte0,temp_lte0,'b-')\n",
    "ax.plot(ARatMed_SR_lte0,temp_lte0,'bo',markeredgecolor='white',markeredgewidth=1,markersize=12)\n",
    "ax.plot(pf_ARatMed_SR_lte0(temp_lte0),temp_lte0,'r-')\n",
    "\n",
    "ax.set_ylim(-18.5,5)\n",
    "ax.set_title('ESR\\t\\t$dAR/dT$ for $T \\leq 0^{\\circ}C$',fontsize=24)\n",
    "ax.invert_yaxis()\n",
    "ax.set_ylabel('Temperature ($^{\\circ}$C)',fontsize=24)\n",
    "ax.tick_params(axis='both', which='major', labelsize=22)\n",
    "ax.grid(which='both')"
   ]
  },
  {
   "cell_type": "code",
   "execution_count": null,
   "metadata": {
    "ExecuteTime": {
     "end_time": "2018-07-09T21:42:23.497495Z",
     "start_time": "2018-07-09T21:42:22.833631Z"
    },
    "hidden": true,
    "run_control": {
     "frozen": false,
     "read_only": false
    }
   },
   "outputs": [],
   "source": [
    "ARatMed_AR_lte0 = npStgZn['binARat_median_AR'][:20]\n",
    "\n",
    "finiteIx = np.isfinite(ARatMed_AR_lte0)\n",
    "pf_ARatMed_AR_lte0 = np.poly1d(np.polyfit(temp_lte0[finiteIx],ARatMed_AR_lte0[finiteIx],  1))\n",
    "ARatMed_AR_lte0_dT = pf_ARatMed_AR_lte0(-5) - pf_ARatMed_AR_lte0(-6)\n",
    "        \n",
    "print(ARatMed_AR_lte0_dT)\n",
    "\n",
    "fig, ax = plt.subplots(figsize=(4,5))\n",
    "ax.plot(ARatMed_AR_lte0,temp_lte0,'b-')\n",
    "ax.plot(ARatMed_AR_lte0,temp_lte0,'bo',markeredgecolor='white',markeredgewidth=1,markersize=12)\n",
    "ax.plot(pf_ARatMed_AR_lte0(temp_lte0),temp_lte0,'r-')\n",
    "\n",
    "ax.set_ylim(-18.5,5)\n",
    "ax.set_title('AR\\t\\t$dAR/dT$ for $T \\leq 0^{\\circ}C$',fontsize=24)\n",
    "ax.invert_yaxis()\n",
    "ax.set_ylabel('Temperature ($^{\\circ}$C)',fontsize=24)\n",
    "ax.tick_params(axis='both', which='major', labelsize=22)\n",
    "ax.grid(which='both')"
   ]
  },
  {
   "cell_type": "markdown",
   "metadata": {
    "heading_collapsed": true
   },
   "source": [
    "# $dAR/dT$ for $T > 0^{\\circ}C$"
   ]
  },
  {
   "cell_type": "code",
   "execution_count": null,
   "metadata": {
    "ExecuteTime": {
     "end_time": "2018-07-09T21:42:24.193255Z",
     "start_time": "2018-07-09T21:42:23.499947Z"
    },
    "hidden": true,
    "run_control": {
     "frozen": false,
     "read_only": false
    }
   },
   "outputs": [],
   "source": [
    "ARatMed_TZ_gt0 = npStgZn['binARat_median_TZ'][20:]\n",
    "\n",
    "finiteIx = np.isfinite(ARatMed_TZ_gt0)\n",
    "pf_ARatMed_TZ_gt0 = np.poly1d(np.polyfit(temp_gt0[finiteIx],ARatMed_TZ_gt0[finiteIx],  1))\n",
    "ARatMed_TZ_gt0_dT = pf_ARatMed_TZ_gt0(6) - pf_ARatMed_TZ_gt0(5)\n",
    "        \n",
    "print(ARatMed_TZ_gt0_dT)\n",
    "\n",
    "fig, ax = plt.subplots(figsize=(4,5))\n",
    "ax.plot(ARatMed_TZ_gt0,temp_gt0,'b-')\n",
    "ax.plot(ARatMed_TZ_gt0,temp_gt0,'bo',markeredgecolor='white',markeredgewidth=1,markersize=12)\n",
    "ax.plot(pf_ARatMed_TZ_gt0(temp_gt0),temp_gt0,'r-')\n",
    "\n",
    "ax.set_ylim(-5,20)\n",
    "ax.set_title('TZ\\t\\t$dAR/dT$ for $T > 0^{\\circ}C$',fontsize=24)\n",
    "ax.invert_yaxis()\n",
    "ax.set_ylabel('Temperature ($^{\\circ}$C)',fontsize=24)\n",
    "ax.tick_params(axis='both', which='major', labelsize=22)\n",
    "ax.grid(which='both')"
   ]
  },
  {
   "cell_type": "code",
   "execution_count": null,
   "metadata": {
    "ExecuteTime": {
     "end_time": "2018-07-09T21:42:24.828422Z",
     "start_time": "2018-07-09T21:42:24.195374Z"
    },
    "hidden": true,
    "run_control": {
     "frozen": false,
     "read_only": false
    }
   },
   "outputs": [],
   "source": [
    "ARatMed_SR_gt0 = npStgZn['binARat_median_SR'][20:]\n",
    "\n",
    "finiteIx = np.isfinite(ARatMed_SR_gt0)\n",
    "pf_ARatMed_SR_gt0 = np.poly1d(np.polyfit(temp_gt0[finiteIx],ARatMed_SR_gt0[finiteIx],  1))\n",
    "ARatMed_SR_gt0_dT = pf_ARatMed_SR_gt0(6) - pf_ARatMed_SR_gt0(5)\n",
    "        \n",
    "print(ARatMed_SR_gt0_dT)\n",
    "\n",
    "fig, ax = plt.subplots(figsize=(4,5))\n",
    "ax.plot(ARatMed_SR_gt0,temp_gt0,'b-')\n",
    "ax.plot(ARatMed_SR_gt0,temp_gt0,'bo',markeredgecolor='white',markeredgewidth=1,markersize=12)\n",
    "ax.plot(pf_ARatMed_SR_gt0(temp_gt0),temp_gt0,'r-')\n",
    "\n",
    "ax.set_ylim(-5,20)\n",
    "ax.set_title('ESR\\t\\t$dAR/dT$ for $T > 0^{\\circ}C$',fontsize=24)\n",
    "ax.invert_yaxis()\n",
    "ax.set_ylabel('Temperature ($^{\\circ}$C)',fontsize=24)\n",
    "ax.tick_params(axis='both', which='major', labelsize=22)\n",
    "ax.grid(which='both')"
   ]
  },
  {
   "cell_type": "code",
   "execution_count": null,
   "metadata": {
    "ExecuteTime": {
     "end_time": "2018-07-09T21:42:25.481778Z",
     "start_time": "2018-07-09T21:42:24.830318Z"
    },
    "hidden": true,
    "run_control": {
     "frozen": false,
     "read_only": false
    }
   },
   "outputs": [],
   "source": [
    "ARatMed_AR_gt0 = npStgZn['binARat_median_AR'][20:]\n",
    "\n",
    "finiteIx = np.isfinite(ARatMed_AR_gt0)\n",
    "pf_ARatMed_AR_gt0 = np.poly1d(np.polyfit(temp_gt0[finiteIx],ARatMed_AR_gt0[finiteIx],  1))\n",
    "ARatMed_AR_gt0_dT = pf_ARatMed_AR_gt0(6) - pf_ARatMed_AR_gt0(5)\n",
    "        \n",
    "print(ARatMed_AR_gt0_dT)\n",
    "\n",
    "fig, ax = plt.subplots(figsize=(4,5))\n",
    "ax.plot(ARatMed_AR_gt0,temp_gt0,'b-')\n",
    "ax.plot(ARatMed_AR_gt0,temp_gt0,'bo',markeredgecolor='white',markeredgewidth=1,markersize=12)\n",
    "ax.plot(pf_ARatMed_AR_gt0(temp_gt0),temp_gt0,'r-')\n",
    "\n",
    "ax.set_ylim(-5,20)\n",
    "ax.set_title('AR\\t\\t$dAR/dT$ for $T > 0^{\\circ}C$',fontsize=24)\n",
    "ax.invert_yaxis()\n",
    "ax.set_ylabel('Temperature ($^{\\circ}$C)',fontsize=24)\n",
    "ax.tick_params(axis='both', which='major', labelsize=22)\n",
    "ax.grid(which='both')"
   ]
  },
  {
   "cell_type": "markdown",
   "metadata": {
    "heading_collapsed": true
   },
   "source": [
    "# $dRH/dT$ for $T \\leq 0^{\\circ}C$"
   ]
  },
  {
   "cell_type": "code",
   "execution_count": null,
   "metadata": {
    "ExecuteTime": {
     "end_time": "2018-07-09T21:50:09.018034Z",
     "start_time": "2018-07-09T21:50:08.383468Z"
    },
    "hidden": true,
    "run_control": {
     "frozen": false,
     "read_only": false
    }
   },
   "outputs": [],
   "source": [
    "rhMed_TZ_lte0 = npStgZn['binRH_median_TZ'][:20]\n",
    "\n",
    "finiteIx = np.isfinite(rhMed_TZ_lte0)\n",
    "pf_rhMed_TZ_lte0 = np.poly1d(np.polyfit(temp_lte0[finiteIx],rhMed_TZ_lte0[finiteIx],  1))\n",
    "rhMed_TZ_lte0_dT = pf_rhMed_TZ_lte0(-5) - pf_rhMed_TZ_lte0(-6)\n",
    "        \n",
    "print(rhMed_TZ_lte0_dT)\n",
    "\n",
    "fig, ax = plt.subplots(figsize=(4,5))\n",
    "ax.plot(rhMed_TZ_lte0,temp_lte0,'b-')\n",
    "ax.plot(rhMed_TZ_lte0,temp_lte0,'bo',markeredgecolor='white',markeredgewidth=1,markersize=12)\n",
    "ax.plot(pf_rhMed_TZ_lte0(temp_lte0),temp_lte0,'r-')\n",
    "\n",
    "ax.set_ylim(-18.5,5)\n",
    "ax.set_title('TZ\\t\\t$dRH/dT$ for $T \\leq 0^{\\circ}C$',fontsize=24)\n",
    "ax.invert_yaxis()\n",
    "ax.set_ylabel('Temperature ($^{\\circ}$C)',fontsize=24)\n",
    "ax.tick_params(axis='both', which='major', labelsize=22)\n",
    "ax.grid(which='both')"
   ]
  },
  {
   "cell_type": "code",
   "execution_count": null,
   "metadata": {
    "ExecuteTime": {
     "end_time": "2018-07-09T21:50:41.080839Z",
     "start_time": "2018-07-09T21:50:40.452118Z"
    },
    "hidden": true,
    "run_control": {
     "frozen": false,
     "read_only": false
    }
   },
   "outputs": [],
   "source": [
    "rhMed_SR_lte0 = npStgZn['binRH_median_SR'][:20]\n",
    "\n",
    "finiteIx = np.isfinite(rhMed_SR_lte0)\n",
    "pf_rhMed_SR_lte0 = np.poly1d(np.polyfit(temp_lte0[finiteIx],rhMed_SR_lte0[finiteIx],  1))\n",
    "rhMed_SR_lte0_dT = pf_rhMed_SR_lte0(-5) - pf_rhMed_SR_lte0(-6)\n",
    "        \n",
    "print(rhMed_SR_lte0_dT)\n",
    "\n",
    "fig, ax = plt.subplots(figsize=(4,5))\n",
    "ax.plot(rhMed_SR_lte0,temp_lte0,'b-')\n",
    "ax.plot(rhMed_SR_lte0,temp_lte0,'bo',markeredgecolor='white',markeredgewidth=1,markersize=12)\n",
    "ax.plot(pf_rhMed_SR_lte0(temp_lte0),temp_lte0,'r-')\n",
    "\n",
    "ax.set_ylim(-18.5,5)\n",
    "ax.set_title('ESR\\t\\t$dRH/dT$ for $T \\leq 0^{\\circ}C$',fontsize=24)\n",
    "ax.invert_yaxis()\n",
    "ax.set_ylabel('Temperature ($^{\\circ}$C)',fontsize=24)\n",
    "ax.tick_params(axis='both', which='major', labelsize=22)\n",
    "ax.grid(which='both')"
   ]
  },
  {
   "cell_type": "code",
   "execution_count": null,
   "metadata": {
    "ExecuteTime": {
     "end_time": "2018-07-09T21:50:57.093013Z",
     "start_time": "2018-07-09T21:50:56.464579Z"
    },
    "hidden": true,
    "run_control": {
     "frozen": false,
     "read_only": false
    }
   },
   "outputs": [],
   "source": [
    "rhMed_AR_lte0 = npStgZn['binRH_median_AR'][:20]\n",
    "\n",
    "finiteIx = np.isfinite(rhMed_AR_lte0)\n",
    "pf_rhMed_AR_lte0 = np.poly1d(np.polyfit(temp_lte0[finiteIx],rhMed_AR_lte0[finiteIx],  1))\n",
    "rhMed_AR_lte0_dT = pf_rhMed_AR_lte0(-5) - pf_rhMed_AR_lte0(-6)\n",
    "        \n",
    "print(rhMed_AR_lte0_dT)\n",
    "\n",
    "fig, ax = plt.subplots(figsize=(4,5))\n",
    "ax.plot(rhMed_AR_lte0,temp_lte0,'b-')\n",
    "ax.plot(rhMed_AR_lte0,temp_lte0,'bo',markeredgecolor='white',markeredgewidth=1,markersize=12)\n",
    "ax.plot(pf_rhMed_AR_lte0(temp_lte0),temp_lte0,'r-')\n",
    "\n",
    "ax.set_ylim(-18.5,5)\n",
    "ax.set_title('AR\\t\\t$dRH/dT$ for $T \\leq 0^{\\circ}C$',fontsize=24)\n",
    "ax.invert_yaxis()\n",
    "ax.set_ylabel('Temperature ($^{\\circ}$C)',fontsize=24)\n",
    "ax.tick_params(axis='both', which='major', labelsize=22)\n",
    "ax.grid(which='both')"
   ]
  },
  {
   "cell_type": "markdown",
   "metadata": {
    "heading_collapsed": true
   },
   "source": [
    "# $dRH/dT$ for $T > 0^{\\circ}C$"
   ]
  },
  {
   "cell_type": "code",
   "execution_count": null,
   "metadata": {
    "ExecuteTime": {
     "end_time": "2018-07-09T21:52:23.233917Z",
     "start_time": "2018-07-09T21:52:22.571553Z"
    },
    "hidden": true,
    "run_control": {
     "frozen": false,
     "read_only": false
    }
   },
   "outputs": [],
   "source": [
    "rhMed_TZ_gt0 = npStgZn['binRH_median_TZ'][20:]\n",
    "\n",
    "finiteIx = np.isfinite(rhMed_TZ_gt0)\n",
    "pf_rhMed_TZ_gt0 = np.poly1d(np.polyfit(temp_gt0[finiteIx],rhMed_TZ_gt0[finiteIx],  1))\n",
    "rhMed_TZ_gt0_dT = pf_rhMed_TZ_gt0(6) - pf_rhMed_TZ_gt0(5)\n",
    "        \n",
    "print(rhMed_TZ_gt0_dT)\n",
    "\n",
    "fig, ax = plt.subplots(figsize=(4,5))\n",
    "ax.plot(rhMed_TZ_gt0,temp_gt0,'b-')\n",
    "ax.plot(rhMed_TZ_gt0,temp_gt0,'bo',markeredgecolor='white',markeredgewidth=1,markersize=12)\n",
    "ax.plot(pf_rhMed_TZ_gt0(temp_gt0),temp_gt0,'r-')\n",
    "\n",
    "ax.set_ylim(-5,20)\n",
    "ax.set_title('TZ\\t\\t$dRH/dT$ for $T > 0^{\\circ}C$',fontsize=24)\n",
    "ax.invert_yaxis()\n",
    "ax.set_ylabel('Temperature ($^{\\circ}$C)',fontsize=24)\n",
    "ax.tick_params(axis='both', which='major', labelsize=22)\n",
    "ax.grid(which='both')"
   ]
  },
  {
   "cell_type": "code",
   "execution_count": null,
   "metadata": {
    "ExecuteTime": {
     "end_time": "2018-07-09T21:52:41.498918Z",
     "start_time": "2018-07-09T21:52:40.842686Z"
    },
    "hidden": true,
    "run_control": {
     "frozen": false,
     "read_only": false
    }
   },
   "outputs": [],
   "source": [
    "rhMed_SR_gt0 = npStgZn['binRH_median_SR'][20:]\n",
    "\n",
    "finiteIx = np.isfinite(rhMed_SR_gt0)\n",
    "pf_rhMed_SR_gt0 = np.poly1d(np.polyfit(temp_gt0[finiteIx],rhMed_SR_gt0[finiteIx],  1))\n",
    "rhMed_SR_gt0_dT = pf_rhMed_SR_gt0(6) - pf_rhMed_SR_gt0(5)\n",
    "        \n",
    "print(rhMed_SR_gt0_dT)\n",
    "\n",
    "fig, ax = plt.subplots(figsize=(4,5))\n",
    "ax.plot(rhMed_SR_gt0,temp_gt0,'b-')\n",
    "ax.plot(rhMed_SR_gt0,temp_gt0,'bo',markeredgecolor='white',markeredgewidth=1,markersize=12)\n",
    "ax.plot(pf_rhMed_SR_gt0(temp_gt0),temp_gt0,'r-')\n",
    "\n",
    "ax.set_ylim(-5,20)\n",
    "ax.set_title('ESR\\t\\t$dRH/dT$ for $T > 0^{\\circ}C$',fontsize=24)\n",
    "ax.invert_yaxis()\n",
    "ax.set_ylabel('Temperature ($^{\\circ}$C)',fontsize=24)\n",
    "ax.tick_params(axis='both', which='major', labelsize=22)\n",
    "ax.grid(which='both')"
   ]
  },
  {
   "cell_type": "code",
   "execution_count": null,
   "metadata": {
    "ExecuteTime": {
     "end_time": "2018-07-09T21:52:55.791974Z",
     "start_time": "2018-07-09T21:52:55.059006Z"
    },
    "hidden": true,
    "run_control": {
     "frozen": false,
     "read_only": false
    }
   },
   "outputs": [],
   "source": [
    "rhMed_AR_gt0 = npStgZn['binRH_median_AR'][20:]\n",
    "\n",
    "finiteIx = np.isfinite(rhMed_AR_gt0)\n",
    "pf_rhMed_AR_gt0 = np.poly1d(np.polyfit(temp_gt0[finiteIx],rhMed_AR_gt0[finiteIx],  1))\n",
    "rhMed_AR_gt0_dT = pf_rhMed_AR_gt0(6) - pf_rhMed_AR_gt0(5)\n",
    "        \n",
    "print(rhMed_AR_gt0_dT)\n",
    "\n",
    "fig, ax = plt.subplots(figsize=(4,5))\n",
    "ax.plot(rhMed_AR_gt0,temp_gt0,'b-')\n",
    "ax.plot(rhMed_AR_gt0,temp_gt0,'bo',markeredgecolor='white',markeredgewidth=1,markersize=12)\n",
    "ax.plot(pf_rhMed_AR_gt0(temp_gt0),temp_gt0,'r-')\n",
    "\n",
    "ax.set_ylim(-5,20)\n",
    "ax.set_title('AR\\t\\t$dRH/dT$ for $T > 0^{\\circ}C$',fontsize=24)\n",
    "ax.invert_yaxis()\n",
    "ax.set_ylabel('Temperature ($^{\\circ}$C)',fontsize=24)\n",
    "ax.tick_params(axis='both', which='major', labelsize=22)\n",
    "ax.grid(which='both')"
   ]
  },
  {
   "cell_type": "markdown",
   "metadata": {},
   "source": [
    "# ...\n",
    "# ...\n",
    "# ..."
   ]
  },
  {
   "cell_type": "markdown",
   "metadata": {},
   "source": [
    "# Average of $N_t$ Median Values for $T \\leq 0^{\\circ}C$"
   ]
  },
  {
   "cell_type": "code",
   "execution_count": 5,
   "metadata": {
    "ExecuteTime": {
     "end_time": "2018-07-15T03:03:33.582401Z",
     "start_time": "2018-07-15T03:03:33.570268Z"
    },
    "run_control": {
     "frozen": false,
     "read_only": false
    }
   },
   "outputs": [
    {
     "name": "stdout",
     "output_type": "stream",
     "text": [
      "0.023420791813047376\n",
      "0.03959015487901049\n",
      "0.06258528723122292\n",
      "0.004159038889628855\n"
     ]
    }
   ],
   "source": [
    "ntMed_TZf_lte0 = npStgZn['binNt_median_TZf'][:20]\n",
    "ntMedAvg_TZf_lte0 = np.nanmean(ntMed_TZf_lte0)\n",
    "print('{}'.format(ntMedAvg_TZf_lte0))\n",
    "\n",
    "ntMed_ARf_lte0 = npStgZn['binNt_median_ARf'][:20]\n",
    "ntMedAvg_ARf_lte0 = np.nanmean(ntMed_ARf_lte0)\n",
    "print('{}'.format(ntMedAvg_ARf_lte0))\n",
    "\n",
    "ntMed_SRm_lte0 = npStgZn['binNt_median_SRm'][:20]\n",
    "ntMedAvg_SRm_lte0 = np.nanmean(ntMed_SRm_lte0)\n",
    "print('{}'.format(ntMedAvg_SRm_lte0))\n",
    "\n",
    "ntMed_ARm_lte0 = npStgZn['binNt_median_ARm'][:20]\n",
    "ntMedAvg_ARm_lte0 = np.nanmean(ntMed_ARm_lte0)\n",
    "print('{}'.format(ntMedAvg_ARm_lte0))"
   ]
  },
  {
   "cell_type": "markdown",
   "metadata": {},
   "source": [
    "# Average of $N_t$ Median Values for $T \\geq 5^{\\circ}C$"
   ]
  },
  {
   "cell_type": "code",
   "execution_count": 6,
   "metadata": {
    "ExecuteTime": {
     "end_time": "2018-07-15T03:03:33.596159Z",
     "start_time": "2018-07-15T03:03:33.585242Z"
    },
    "run_control": {
     "frozen": false,
     "read_only": false
    }
   },
   "outputs": [
    {
     "name": "stdout",
     "output_type": "stream",
     "text": [
      "0.0005546838044318119\n",
      "0.00029442873121550406\n",
      "0.000300487139762649\n",
      "nan\n"
     ]
    },
    {
     "name": "stderr",
     "output_type": "stream",
     "text": [
      "/Users/danstechman/anaconda3/envs/py35/lib/python3.5/site-packages/ipykernel_launcher.py:14: RuntimeWarning: Mean of empty slice\n",
      "  \n"
     ]
    }
   ],
   "source": [
    "ntMed_TZf_gte5 = npStgZn['binNt_median_TZf'][24:]\n",
    "ntMedAvg_TZf_gte5 = np.nanmean(ntMed_TZf_gte5)\n",
    "print('{}'.format(ntMedAvg_TZf_gte5))\n",
    "\n",
    "ntMed_ARf_gte5 = npStgZn['binNt_median_ARf'][24:]\n",
    "ntMedAvg_ARf_gte5 = np.nanmean(ntMed_ARf_gte5)\n",
    "print('{}'.format(ntMedAvg_ARf_gte5))\n",
    "\n",
    "ntMed_SRm_gte5 = npStgZn['binNt_median_SRm'][24:]\n",
    "ntMedAvg_SRm_gte5 = np.nanmean(ntMed_SRm_gte5)\n",
    "print('{}'.format(ntMedAvg_SRm_gte5))\n",
    "\n",
    "ntMed_ARm_gte5 = npStgZn['binNt_median_ARm'][24:]\n",
    "ntMedAvg_ARm_gte5 = np.nanmean(ntMed_ARm_gte5)\n",
    "print('{}'.format(ntMedAvg_ARm_gte5))"
   ]
  },
  {
   "cell_type": "markdown",
   "metadata": {},
   "source": [
    "# Average of $TWC$ Median Values for $T \\leq 0^{\\circ}C$"
   ]
  },
  {
   "cell_type": "code",
   "execution_count": 7,
   "metadata": {
    "ExecuteTime": {
     "end_time": "2018-07-15T03:03:33.607519Z",
     "start_time": "2018-07-15T03:03:33.598641Z"
    },
    "run_control": {
     "frozen": false,
     "read_only": false
    }
   },
   "outputs": [
    {
     "name": "stdout",
     "output_type": "stream",
     "text": [
      "0.38962004199433853\n",
      "0.4651985617816578\n",
      "0.6016717986843637\n",
      "0.1554675638044952\n"
     ]
    }
   ],
   "source": [
    "twcMed_TZf_lte0 = npStgZn['binTWC_median_TZf'][:20]\n",
    "twcMedAvg_TZf_lte0 = np.nanmean(twcMed_TZf_lte0)\n",
    "print('{}'.format(twcMedAvg_TZf_lte0))\n",
    "\n",
    "twcMed_ARf_lte0 = npStgZn['binTWC_median_ARf'][:20]\n",
    "twcMedAvg_ARf_lte0 = np.nanmean(twcMed_ARf_lte0)\n",
    "print('{}'.format(twcMedAvg_ARf_lte0))\n",
    "\n",
    "twcMed_SRm_lte0 = npStgZn['binTWC_median_SRm'][:20]\n",
    "twcMedAvg_SRm_lte0 = np.nanmean(twcMed_SRm_lte0)\n",
    "print('{}'.format(twcMedAvg_SRm_lte0))\n",
    "\n",
    "twcMed_ARm_lte0 = npStgZn['binTWC_median_ARm'][:20]\n",
    "twcMedAvg_ARm_lte0 = np.nanmean(twcMed_ARm_lte0)\n",
    "print('{}'.format(twcMedAvg_ARm_lte0))"
   ]
  },
  {
   "cell_type": "markdown",
   "metadata": {},
   "source": [
    "# Average of $TWC$ Median Values for $T \\geq 5^{\\circ}C$"
   ]
  },
  {
   "cell_type": "code",
   "execution_count": 8,
   "metadata": {
    "ExecuteTime": {
     "end_time": "2018-07-15T03:03:33.621764Z",
     "start_time": "2018-07-15T03:03:33.610504Z"
    },
    "run_control": {
     "frozen": false,
     "read_only": false
    }
   },
   "outputs": [
    {
     "name": "stdout",
     "output_type": "stream",
     "text": [
      "0.01754958511841883\n",
      "0.03243342138561299\n",
      "0.0493874679620232\n",
      "nan\n"
     ]
    },
    {
     "name": "stderr",
     "output_type": "stream",
     "text": [
      "/Users/danstechman/anaconda3/envs/py35/lib/python3.5/site-packages/ipykernel_launcher.py:14: RuntimeWarning: Mean of empty slice\n",
      "  \n"
     ]
    }
   ],
   "source": [
    "twcMed_TZf_gte5 = npStgZn['binTWC_median_TZf'][24:]\n",
    "twcMedAvg_TZf_gte5 = np.nanmean(twcMed_TZf_gte5)\n",
    "print('{}'.format(twcMedAvg_TZf_gte5))\n",
    "\n",
    "twcMed_ARf_gte5 = npStgZn['binTWC_median_ARf'][24:]\n",
    "twcMedAvg_ARf_gte5 = np.nanmean(twcMed_ARf_gte5)\n",
    "print('{}'.format(twcMedAvg_ARf_gte5))\n",
    "\n",
    "twcMed_SRm_gte5 = npStgZn['binTWC_median_SRm'][24:]\n",
    "twcMedAvg_SRm_gte5 = np.nanmean(twcMed_SRm_gte5)\n",
    "print('{}'.format(twcMedAvg_SRm_gte5))\n",
    "\n",
    "twcMed_ARm_gte5 = npStgZn['binTWC_median_ARm'][24:]\n",
    "twcMedAvg_ARm_gte5 = np.nanmean(twcMed_ARm_gte5)\n",
    "print('{}'.format(twcMedAvg_ARm_gte5))"
   ]
  },
  {
   "cell_type": "markdown",
   "metadata": {},
   "source": [
    "# Average of $D_{mm}$ Median Values for $T \\leq 0^{\\circ}C$"
   ]
  },
  {
   "cell_type": "code",
   "execution_count": 9,
   "metadata": {
    "ExecuteTime": {
     "end_time": "2018-07-15T03:03:33.636323Z",
     "start_time": "2018-07-15T03:03:33.624850Z"
    },
    "run_control": {
     "frozen": false,
     "read_only": false
    }
   },
   "outputs": [
    {
     "name": "stdout",
     "output_type": "stream",
     "text": [
      "1.0694444444444444\n",
      "1.2933823529411768\n",
      "1.132291666666667\n",
      "1.1218750000000002\n"
     ]
    }
   ],
   "source": [
    "DmmMed_TZf_lte0 = npStgZn['binDmm_median_TZf'][:20]\n",
    "DmmMedAvg_TZf_lte0 = np.nanmean(DmmMed_TZf_lte0)\n",
    "print('{}'.format(DmmMedAvg_TZf_lte0))\n",
    "\n",
    "DmmMed_ARf_lte0 = npStgZn['binDmm_median_ARf'][:20]\n",
    "DmmMedAvg_ARf_lte0 = np.nanmean(DmmMed_ARf_lte0)\n",
    "print('{}'.format(DmmMedAvg_ARf_lte0))\n",
    "\n",
    "DmmMed_SRm_lte0 = npStgZn['binDmm_median_SRm'][:20]\n",
    "DmmMedAvg_SRm_lte0 = np.nanmean(DmmMed_SRm_lte0)\n",
    "print('{}'.format(DmmMedAvg_SRm_lte0))\n",
    "\n",
    "DmmMed_ARm_lte0 = npStgZn['binDmm_median_ARm'][:20]\n",
    "DmmMedAvg_ARm_lte0 = np.nanmean(DmmMed_ARm_lte0)\n",
    "print('{}'.format(DmmMedAvg_ARm_lte0))"
   ]
  },
  {
   "cell_type": "markdown",
   "metadata": {},
   "source": [
    "# Average of $D_{mm}$ Median Values for $T \\geq 5^{\\circ}C$"
   ]
  },
  {
   "cell_type": "code",
   "execution_count": 10,
   "metadata": {
    "ExecuteTime": {
     "end_time": "2018-07-15T03:03:33.648224Z",
     "start_time": "2018-07-15T03:03:33.638903Z"
    },
    "run_control": {
     "frozen": false,
     "read_only": false
    }
   },
   "outputs": [
    {
     "name": "stdout",
     "output_type": "stream",
     "text": [
      "0.5616666666666668\n",
      "0.7697916666666667\n",
      "1.149166666666667\n",
      "nan\n"
     ]
    },
    {
     "name": "stderr",
     "output_type": "stream",
     "text": [
      "/Users/danstechman/anaconda3/envs/py35/lib/python3.5/site-packages/ipykernel_launcher.py:14: RuntimeWarning: Mean of empty slice\n",
      "  \n"
     ]
    }
   ],
   "source": [
    "DmmMed_TZf_gte5 = npStgZn['binDmm_median_TZf'][24:]\n",
    "DmmMedAvg_TZf_gte5 = np.nanmean(DmmMed_TZf_gte5)\n",
    "print('{}'.format(DmmMedAvg_TZf_gte5))\n",
    "\n",
    "DmmMed_ARf_gte5 = npStgZn['binDmm_median_ARf'][24:]\n",
    "DmmMedAvg_ARf_gte5 = np.nanmean(DmmMed_ARf_gte5)\n",
    "print('{}'.format(DmmMedAvg_ARf_gte5))\n",
    "\n",
    "DmmMed_SRm_gte5 = npStgZn['binDmm_median_SRm'][24:]\n",
    "DmmMedAvg_SRm_gte5 = np.nanmean(DmmMed_SRm_gte5)\n",
    "print('{}'.format(DmmMedAvg_SRm_gte5))\n",
    "\n",
    "DmmMed_ARm_gte5 = npStgZn['binDmm_median_ARm'][24:]\n",
    "DmmMedAvg_ARm_gte5 = np.nanmean(DmmMed_ARm_gte5)\n",
    "print('{}'.format(DmmMedAvg_ARm_gte5))"
   ]
  },
  {
   "cell_type": "markdown",
   "metadata": {},
   "source": [
    "# Average of $AR$ Median Values for $T \\leq 0^{\\circ}C$"
   ]
  },
  {
   "cell_type": "code",
   "execution_count": 11,
   "metadata": {
    "ExecuteTime": {
     "end_time": "2018-07-15T03:03:33.659410Z",
     "start_time": "2018-07-15T03:03:33.650942Z"
    },
    "run_control": {
     "frozen": false,
     "read_only": false
    }
   },
   "outputs": [
    {
     "name": "stdout",
     "output_type": "stream",
     "text": [
      "0.4871870152996207\n",
      "0.4664072102526744\n",
      "0.45835055164812705\n",
      "0.44323440255831853\n"
     ]
    }
   ],
   "source": [
    "ARatMed_TZf_lte0 = npStgZn['binARat_median_TZf'][:20]\n",
    "ARatMedAvg_TZf_lte0 = np.nanmean(ARatMed_TZf_lte0)\n",
    "print('{}'.format(ARatMedAvg_TZf_lte0))\n",
    "\n",
    "ARatMed_ARf_lte0 = npStgZn['binARat_median_ARf'][:20]\n",
    "ARatMedAvg_ARf_lte0 = np.nanmean(ARatMed_ARf_lte0)\n",
    "print('{}'.format(ARatMedAvg_ARf_lte0))\n",
    "\n",
    "ARatMed_SRm_lte0 = npStgZn['binARat_median_SRm'][:20]\n",
    "ARatMedAvg_SRm_lte0 = np.nanmean(ARatMed_SRm_lte0)\n",
    "print('{}'.format(ARatMedAvg_SRm_lte0))\n",
    "\n",
    "ARatMed_ARm_lte0 = npStgZn['binARat_median_ARm'][:20]\n",
    "ARatMedAvg_ARm_lte0 = np.nanmean(ARatMed_ARm_lte0)\n",
    "print('{}'.format(ARatMedAvg_ARm_lte0))"
   ]
  },
  {
   "cell_type": "markdown",
   "metadata": {},
   "source": [
    "# Average of $AR$ Median Values for $T \\geq 5^{\\circ}C$"
   ]
  },
  {
   "cell_type": "code",
   "execution_count": 12,
   "metadata": {
    "ExecuteTime": {
     "end_time": "2018-07-15T03:03:33.671343Z",
     "start_time": "2018-07-15T03:03:33.662314Z"
    },
    "run_control": {
     "frozen": false,
     "read_only": false
    }
   },
   "outputs": [
    {
     "name": "stdout",
     "output_type": "stream",
     "text": [
      "0.6992666614838501\n",
      "0.7586141443451795\n",
      "0.7174562125214204\n",
      "nan\n"
     ]
    },
    {
     "name": "stderr",
     "output_type": "stream",
     "text": [
      "/Users/danstechman/anaconda3/envs/py35/lib/python3.5/site-packages/ipykernel_launcher.py:14: RuntimeWarning: Mean of empty slice\n",
      "  \n"
     ]
    }
   ],
   "source": [
    "ARatMed_TZf_gte5 = npStgZn['binARat_median_TZf'][24:]\n",
    "ARatMedAvg_TZf_gte5 = np.nanmean(ARatMed_TZf_gte5)\n",
    "print('{}'.format(ARatMedAvg_TZf_gte5))\n",
    "\n",
    "ARatMed_ARf_gte5 = npStgZn['binARat_median_ARf'][24:]\n",
    "ARatMedAvg_ARf_gte5 = np.nanmean(ARatMed_ARf_gte5)\n",
    "print('{}'.format(ARatMedAvg_ARf_gte5))\n",
    "\n",
    "ARatMed_SRm_gte5 = npStgZn['binARat_median_SRm'][24:]\n",
    "ARatMedAvg_SRm_gte5 = np.nanmean(ARatMed_SRm_gte5)\n",
    "print('{}'.format(ARatMedAvg_SRm_gte5))\n",
    "\n",
    "ARatMed_ARm_gte5 = npStgZn['binARat_median_ARm'][24:]\n",
    "ARatMedAvg_ARm_gte5 = np.nanmean(ARatMed_ARm_gte5)\n",
    "print('{}'.format(ARatMedAvg_ARm_gte5))"
   ]
  },
  {
   "cell_type": "markdown",
   "metadata": {},
   "source": [
    "# Average of $RH$ Median Values for $T \\leq 0^{\\circ}C$"
   ]
  },
  {
   "cell_type": "code",
   "execution_count": 13,
   "metadata": {
    "ExecuteTime": {
     "end_time": "2018-07-15T03:03:33.688086Z",
     "start_time": "2018-07-15T03:03:33.673886Z"
    },
    "run_control": {
     "frozen": false,
     "read_only": false
    }
   },
   "outputs": [
    {
     "name": "stdout",
     "output_type": "stream",
     "text": [
      "107.9518604021693\n",
      "92.29648466528441\n",
      "108.7671504493976\n",
      "83.26694330635476\n"
     ]
    }
   ],
   "source": [
    "rhMed_TZf_lte0 = npStgZn['binRH_median_TZf'][:20]\n",
    "rhMedAvg_TZf_lte0 = np.nanmean(rhMed_TZf_lte0)\n",
    "print('{}'.format(rhMedAvg_TZf_lte0))\n",
    "\n",
    "rhMed_ARf_lte0 = npStgZn['binRH_median_ARf'][:20]\n",
    "rhMedAvg_ARf_lte0 = np.nanmean(rhMed_ARf_lte0)\n",
    "print('{}'.format(rhMedAvg_ARf_lte0))\n",
    "\n",
    "rhMed_SRm_lte0 = npStgZn['binRH_median_SRm'][:20]\n",
    "rhMedAvg_SRm_lte0 = np.nanmean(rhMed_SRm_lte0)\n",
    "print('{}'.format(rhMedAvg_SRm_lte0))\n",
    "\n",
    "rhMed_ARm_lte0 = npStgZn['binRH_median_ARm'][:20]\n",
    "rhMedAvg_ARm_lte0 = np.nanmean(rhMed_ARm_lte0)\n",
    "print('{}'.format(rhMedAvg_ARm_lte0))"
   ]
  },
  {
   "cell_type": "markdown",
   "metadata": {},
   "source": [
    "# Average of $RH$ Median Values for $T \\geq 5^{\\circ}C$"
   ]
  },
  {
   "cell_type": "code",
   "execution_count": 14,
   "metadata": {
    "ExecuteTime": {
     "end_time": "2018-07-15T03:03:33.701978Z",
     "start_time": "2018-07-15T03:03:33.690434Z"
    },
    "run_control": {
     "frozen": false,
     "read_only": false
    }
   },
   "outputs": [
    {
     "name": "stdout",
     "output_type": "stream",
     "text": [
      "70.4715735401493\n",
      "55.648408642906745\n",
      "67.40310741377964\n",
      "54.48347134919271\n"
     ]
    }
   ],
   "source": [
    "rhMed_TZf_gte5 = npStgZn['binRH_median_TZf'][24:]\n",
    "rhMedAvg_TZf_gte5 = np.nanmean(rhMed_TZf_gte5)\n",
    "print('{}'.format(rhMedAvg_TZf_gte5))\n",
    "\n",
    "rhMed_ARf_gte5 = npStgZn['binRH_median_ARf'][24:]\n",
    "rhMedAvg_ARf_gte5 = np.nanmean(rhMed_ARf_gte5)\n",
    "print('{}'.format(rhMedAvg_ARf_gte5))\n",
    "\n",
    "rhMed_SRm_gte5 = npStgZn['binRH_median_SRm'][24:]\n",
    "rhMedAvg_SRm_gte5 = np.nanmean(rhMed_SRm_gte5)\n",
    "print('{}'.format(rhMedAvg_SRm_gte5))\n",
    "\n",
    "rhMed_ARm_gte5 = npStgZn['binRH_median_ARm'][24:]\n",
    "rhMedAvg_ARm_gte5 = np.nanmean(rhMed_ARm_gte5)\n",
    "print('{}'.format(rhMedAvg_ARm_gte5))"
   ]
  }
 ],
 "metadata": {
  "anaconda-cloud": {},
  "kernelspec": {
   "display_name": "Python 3",
   "language": "python",
   "name": "python3"
  },
  "language_info": {
   "codemirror_mode": {
    "name": "ipython",
    "version": 3
   },
   "file_extension": ".py",
   "mimetype": "text/x-python",
   "name": "python",
   "nbconvert_exporter": "python",
   "pygments_lexer": "ipython3",
   "version": "3.5.5"
  },
  "varInspector": {
   "cols": {
    "lenName": 16,
    "lenType": 16,
    "lenVar": 40
   },
   "kernels_config": {
    "python": {
     "delete_cmd_postfix": "",
     "delete_cmd_prefix": "del ",
     "library": "var_list.py",
     "varRefreshCmd": "print(var_dic_list())"
    },
    "r": {
     "delete_cmd_postfix": ") ",
     "delete_cmd_prefix": "rm(",
     "library": "var_list.r",
     "varRefreshCmd": "cat(var_dic_list()) "
    }
   },
   "position": {
    "height": "491px",
    "left": "1166px",
    "right": "20px",
    "top": "120px",
    "width": "350px"
   },
   "types_to_exclude": [
    "module",
    "function",
    "builtin_function_or_method",
    "instance",
    "_Feature"
   ],
   "window_display": false
  }
 },
 "nbformat": 4,
 "nbformat_minor": 1
}
