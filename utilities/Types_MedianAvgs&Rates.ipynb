{
 "cells": [
  {
   "cell_type": "code",
   "execution_count": 1,
   "metadata": {
    "ExecuteTime": {
     "end_time": "2018-07-31T22:14:26.987408Z",
     "start_time": "2018-07-31T22:14:25.821663Z"
    },
    "run_control": {
     "frozen": false,
     "read_only": false
    }
   },
   "outputs": [],
   "source": [
    "import numpy as np\n",
    "from matplotlib import pyplot as plt\n",
    "import os\n",
    "import warnings\n",
    "warnings.filterwarnings(\"ignore\",category=FutureWarning)\n",
    "import xarray as xr\n",
    "from matplotlib.ticker import MultipleLocator, FormatStrFormatter\n",
    "\n",
    "warnings.filterwarnings(\"ignore\",message='invalid value encountered in less_equal')\n",
    "\n",
    "%matplotlib inline"
   ]
  },
  {
   "cell_type": "code",
   "execution_count": 2,
   "metadata": {
    "ExecuteTime": {
     "end_time": "2018-07-31T22:14:26.995500Z",
     "start_time": "2018-07-31T22:14:26.989647Z"
    }
   },
   "outputs": [],
   "source": [
    "npTypeZn = np.load('/Users/danstechman/GoogleDrive/PECAN-Data/mp-data/typeZone_stats.npz')"
   ]
  },
  {
   "cell_type": "code",
   "execution_count": 3,
   "metadata": {
    "ExecuteTime": {
     "end_time": "2018-07-31T22:14:27.009981Z",
     "start_time": "2018-07-31T22:14:26.998017Z"
    }
   },
   "outputs": [],
   "source": [
    "srCs1 = npTypeZn['srC_1JulS1'][()]\n",
    "pfs1 = npTypeZn['pf_6JulS1'][()]\n",
    "pfs2 = npTypeZn['pf_6JulS2'][()]\n",
    "\n",
    "temps = npTypeZn['bin_mid']\n",
    "temp_lte0 = temps[temps <= 0]\n",
    "temp_gt0 = temps[temps > 0]\n",
    "temp_gte5 = temps[temps >= 5]\n",
    "\n",
    "lte0 = np.where(temps <= 0)[0]\n",
    "gt0 = np.where(temps > 0)[0]\n",
    "gte5 = np.where(temps >= 5)[0]\n",
    "gt0lt5 = np.where((temps > 0) & (temps < 5))[0]"
   ]
  },
  {
   "cell_type": "markdown",
   "metadata": {},
   "source": [
    "# ...\n",
    "# ...\n",
    "# ..."
   ]
  },
  {
   "cell_type": "markdown",
   "metadata": {},
   "source": [
    "# $dRH/dT$ for $T \\leq 0^{\\circ}C$"
   ]
  },
  {
   "cell_type": "code",
   "execution_count": 4,
   "metadata": {
    "ExecuteTime": {
     "end_time": "2018-07-31T22:14:27.038577Z",
     "start_time": "2018-07-31T22:14:27.013668Z"
    },
    "run_control": {
     "frozen": false,
     "read_only": false
    }
   },
   "outputs": [
    {
     "name": "stdout",
     "output_type": "stream",
     "text": [
      "-1.18167057924704\n",
      "-2.5616459818238013\n",
      "-0.9247557392883152\n",
      "-0.15614178260902634\n",
      "\n",
      "-1.0968525526386372\n",
      "-1.5387395664021568\n",
      "-1.7387309162027833\n"
     ]
    }
   ],
   "source": [
    "rhMed_SRt_lte0 = npTypeZn['binRH_median_SRt'][lte0]\n",
    "finiteIx = np.isfinite(rhMed_SRt_lte0)\n",
    "pf_rhMed_SRt_lte0 = np.poly1d(np.polyfit(temp_lte0[finiteIx],rhMed_SRt_lte0[finiteIx],  1))\n",
    "rhMed_SRt_lte0_dT = pf_rhMed_SRt_lte0(-5) - pf_rhMed_SRt_lte0(-6) \n",
    "print(rhMed_SRt_lte0_dT)\n",
    "\n",
    "rhMed_ARt_lte0 = npTypeZn['binRH_median_ARt'][lte0]\n",
    "finiteIx = np.isfinite(rhMed_ARt_lte0)\n",
    "pf_rhMed_ARt_lte0 = np.poly1d(np.polyfit(temp_lte0[finiteIx],rhMed_ARt_lte0[finiteIx],  1))\n",
    "rhMed_ARt_lte0_dT = pf_rhMed_ARt_lte0(-5) - pf_rhMed_ARt_lte0(-6)     \n",
    "print(rhMed_ARt_lte0_dT)\n",
    "\n",
    "rhMed_SRp_lte0 = npTypeZn['binRH_median_SRp'][lte0]\n",
    "finiteIx = np.isfinite(rhMed_SRp_lte0)\n",
    "pf_rhMed_SRp_lte0 = np.poly1d(np.polyfit(temp_lte0[finiteIx],rhMed_SRp_lte0[finiteIx],  1))\n",
    "rhMed_SRp_lte0_dT = pf_rhMed_SRp_lte0(-5) - pf_rhMed_SRp_lte0(-6) \n",
    "print(rhMed_SRp_lte0_dT)\n",
    "\n",
    "rhMed_ARp_lte0 = npTypeZn['binRH_median_ARp'][lte0]\n",
    "finiteIx = np.isfinite(rhMed_ARp_lte0)\n",
    "pf_rhMed_ARp_lte0 = np.poly1d(np.polyfit(temp_lte0[finiteIx],rhMed_ARp_lte0[finiteIx],  1))\n",
    "rhMed_ARp_lte0_dT = pf_rhMed_ARp_lte0(-5) - pf_rhMed_ARp_lte0(-6)     \n",
    "print(rhMed_ARp_lte0_dT)\n",
    "\n",
    "\n",
    "rh_srCs1_lte0 = srCs1['rh'][srCs1['tempC'] <= 0]\n",
    "finiteIx_srCs1 = np.isfinite(rh_srCs1_lte0)\n",
    "pf_rh_srCs1_lte0 = np.poly1d(np.polyfit(srCs1['tempC'][srCs1['tempC'] <= 0][finiteIx_srCs1],rh_srCs1_lte0[finiteIx_srCs1],  1))\n",
    "rh_srCs1_lte0_dT = pf_rh_srCs1_lte0(-5) - pf_rh_srCs1_lte0(-6)\n",
    "print('\\n{}'.format(rh_srCs1_lte0_dT))\n",
    "\n",
    "rh_pfs1_lte0 = pfs1['rh'][pfs1['tempC'] <= 0]\n",
    "finiteIx_pfs1 = np.isfinite(rh_pfs1_lte0)\n",
    "pf_rh_pfs1_lte0 = np.poly1d(np.polyfit(pfs1['tempC'][pfs1['tempC'] <= 0][finiteIx_pfs1],rh_pfs1_lte0[finiteIx_pfs1],  1))\n",
    "rh_pfs1_lte0_dT = pf_rh_pfs1_lte0(-5) - pf_rh_pfs1_lte0(-6)\n",
    "print('{}'.format(rh_pfs1_lte0_dT))\n",
    "\n",
    "rh_pfs2_lte0 = pfs2['rh'][pfs2['tempC'] <= 0]\n",
    "finiteIx_pfs2 = np.isfinite(rh_pfs2_lte0)\n",
    "pf_rh_pfs2_lte0 = np.poly1d(np.polyfit(pfs2['tempC'][pfs2['tempC'] <= 0][finiteIx_pfs2],rh_pfs2_lte0[finiteIx_pfs2],  1))\n",
    "rh_pfs2_lte0_dT = pf_rh_pfs2_lte0(-5) - pf_rh_pfs2_lte0(-6)\n",
    "print('{}'.format(rh_pfs2_lte0_dT))"
   ]
  },
  {
   "cell_type": "markdown",
   "metadata": {},
   "source": [
    "# $dRH/dT$ for $T \\geq 5^{\\circ}C$"
   ]
  },
  {
   "cell_type": "code",
   "execution_count": 5,
   "metadata": {
    "ExecuteTime": {
     "end_time": "2018-07-31T22:14:27.057580Z",
     "start_time": "2018-07-31T22:14:27.041800Z"
    },
    "run_control": {
     "frozen": false,
     "read_only": false
    }
   },
   "outputs": [
    {
     "name": "stdout",
     "output_type": "stream",
     "text": [
      "-3.018034724246462\n",
      "-0.8623992895150892\n",
      "-2.5503460219079557\n",
      "-2.970400886023114\n",
      "\n",
      "-1.404971655512469\n",
      "-0.2641469462220698\n"
     ]
    }
   ],
   "source": [
    "rhMed_SRt_gte5 = npTypeZn['binRH_median_SRt'][gte5]\n",
    "finiteIx = np.isfinite(rhMed_SRt_gte5)\n",
    "pf_rhMed_SRt_gte5 = np.poly1d(np.polyfit(temp_gte5[finiteIx],rhMed_SRt_gte5[finiteIx],  1))\n",
    "rhMed_SRt_gte5_dT = pf_rhMed_SRt_gte5(6) - pf_rhMed_SRt_gte5(5) \n",
    "print(rhMed_SRt_gte5_dT)\n",
    "\n",
    "rhMed_ARt_gte5 = npTypeZn['binRH_median_ARt'][gte5]\n",
    "finiteIx = np.isfinite(rhMed_ARt_gte5)\n",
    "pf_rhMed_ARt_gte5 = np.poly1d(np.polyfit(temp_gte5[finiteIx],rhMed_ARt_gte5[finiteIx],  1))\n",
    "rhMed_ARt_gte5_dT = pf_rhMed_ARt_gte5(6) - pf_rhMed_ARt_gte5(5)     \n",
    "print(rhMed_ARt_gte5_dT)\n",
    "\n",
    "rhMed_SRp_gte5 = npTypeZn['binRH_median_SRp'][gte5]\n",
    "finiteIx = np.isfinite(rhMed_SRp_gte5)\n",
    "pf_rhMed_SRp_gte5 = np.poly1d(np.polyfit(temp_gte5[finiteIx],rhMed_SRp_gte5[finiteIx],  1))\n",
    "rhMed_SRp_gte5_dT = pf_rhMed_SRp_gte5(6) - pf_rhMed_SRp_gte5(5) \n",
    "print(rhMed_SRp_gte5_dT)\n",
    "\n",
    "rhMed_ARp_gte5 = npTypeZn['binRH_median_ARp'][gte5]\n",
    "finiteIx = np.isfinite(rhMed_ARp_gte5)\n",
    "pf_rhMed_ARp_gte5 = np.poly1d(np.polyfit(temp_gte5[finiteIx],rhMed_ARp_gte5[finiteIx],  1))\n",
    "rhMed_ARp_gte5_dT = pf_rhMed_ARp_gte5(6) - pf_rhMed_ARp_gte5(5)     \n",
    "print(rhMed_ARp_gte5_dT)\n",
    "\n",
    "\n",
    "rh_srCs1_gte5 = srCs1['rh'][srCs1['tempC'] >= 5]\n",
    "finiteIx_srCs1 = np.isfinite(rh_srCs1_gte5)\n",
    "pf_rh_srCs1_gte5 = np.poly1d(np.polyfit(srCs1['tempC'][srCs1['tempC'] >= 5][finiteIx_srCs1],rh_srCs1_gte5[finiteIx_srCs1],  1))\n",
    "rh_srCs1_gte5_dT = pf_rh_srCs1_gte5(6) - pf_rh_srCs1_gte5(5)\n",
    "print('\\n{}'.format(rh_srCs1_gte5_dT))\n",
    "\n",
    "rh_pfs2_gte5 = pfs2['rh'][pfs2['tempC'] >= 5]\n",
    "finiteIx_pfs2 = np.isfinite(rh_pfs2_gte5)\n",
    "pf_rh_pfs2_gte5 = np.poly1d(np.polyfit(pfs2['tempC'][pfs2['tempC'] >= 5][finiteIx_pfs2],rh_pfs2_gte5[finiteIx_pfs2],  1))\n",
    "rh_pfs2_gte5_dT = pf_rh_pfs2_gte5(6) - pf_rh_pfs2_gte5(5)\n",
    "print('{}'.format(rh_pfs2_gte5_dT))"
   ]
  },
  {
   "cell_type": "markdown",
   "metadata": {},
   "source": [
    "# $d𝒜/dT$ for $T \\leq 0^{\\circ}C$"
   ]
  },
  {
   "cell_type": "code",
   "execution_count": 6,
   "metadata": {
    "ExecuteTime": {
     "end_time": "2018-07-31T22:14:27.076444Z",
     "start_time": "2018-07-31T22:14:27.060214Z"
    },
    "run_control": {
     "frozen": false,
     "read_only": false
    }
   },
   "outputs": [
    {
     "name": "stdout",
     "output_type": "stream",
     "text": [
      "-0.001587942923338137\n",
      "0.004274667218122197\n",
      "-0.003437811263710122\n",
      "0.0037373435510775765\n",
      "\n",
      "-0.0032427929360022145\n",
      "-0.01720816122992541\n",
      "0.0008080408010409657\n"
     ]
    }
   ],
   "source": [
    "ARatMed_SRt_lte0 = npTypeZn['binARat_median_SRt'][lte0]\n",
    "finiteIx = np.isfinite(ARatMed_SRt_lte0)\n",
    "pf_ARatMed_SRt_lte0 = np.poly1d(np.polyfit(temp_lte0[finiteIx],ARatMed_SRt_lte0[finiteIx],  1))\n",
    "ARatMed_SRt_lte0_dT = pf_ARatMed_SRt_lte0(-5) - pf_ARatMed_SRt_lte0(-6) \n",
    "print(ARatMed_SRt_lte0_dT)\n",
    "\n",
    "ARatMed_ARt_lte0 = npTypeZn['binARat_median_ARt'][lte0]\n",
    "finiteIx = np.isfinite(ARatMed_ARt_lte0)\n",
    "pf_ARatMed_ARt_lte0 = np.poly1d(np.polyfit(temp_lte0[finiteIx],ARatMed_ARt_lte0[finiteIx],  1))\n",
    "ARatMed_ARt_lte0_dT = pf_ARatMed_ARt_lte0(-5) - pf_ARatMed_ARt_lte0(-6)     \n",
    "print(ARatMed_ARt_lte0_dT)\n",
    "\n",
    "ARatMed_SRp_lte0 = npTypeZn['binARat_median_SRp'][lte0]\n",
    "finiteIx = np.isfinite(ARatMed_SRp_lte0)\n",
    "pf_ARatMed_SRp_lte0 = np.poly1d(np.polyfit(temp_lte0[finiteIx],ARatMed_SRp_lte0[finiteIx],  1))\n",
    "ARatMed_SRp_lte0_dT = pf_ARatMed_SRp_lte0(-5) - pf_ARatMed_SRp_lte0(-6) \n",
    "print(ARatMed_SRp_lte0_dT)\n",
    "\n",
    "ARatMed_ARp_lte0 = npTypeZn['binARat_median_ARp'][lte0]\n",
    "finiteIx = np.isfinite(ARatMed_ARp_lte0)\n",
    "pf_ARatMed_ARp_lte0 = np.poly1d(np.polyfit(temp_lte0[finiteIx],ARatMed_ARp_lte0[finiteIx],  1))\n",
    "ARatMed_ARp_lte0_dT = pf_ARatMed_ARp_lte0(-5) - pf_ARatMed_ARp_lte0(-6)     \n",
    "print(ARatMed_ARp_lte0_dT)\n",
    "\n",
    "\n",
    "ARat_srCs1_lte0 = srCs1['ar'][srCs1['tempC'] <= 0]\n",
    "finiteIx_srCs1 = np.isfinite(ARat_srCs1_lte0)\n",
    "pf_ARat_srCs1_lte0 = np.poly1d(np.polyfit(srCs1['tempC'][srCs1['tempC'] <= 0][finiteIx_srCs1],ARat_srCs1_lte0[finiteIx_srCs1],  1))\n",
    "ARat_srCs1_lte0_dT = pf_ARat_srCs1_lte0(-5) - pf_ARat_srCs1_lte0(-6)\n",
    "print('\\n{}'.format(ARat_srCs1_lte0_dT))\n",
    "\n",
    "ARat_pfs1_lte0 = pfs1['ar'][pfs1['tempC'] <= 0]\n",
    "finiteIx_pfs1 = np.isfinite(ARat_pfs1_lte0)\n",
    "pf_ARat_pfs1_lte0 = np.poly1d(np.polyfit(pfs1['tempC'][pfs1['tempC'] <= 0][finiteIx_pfs1],ARat_pfs1_lte0[finiteIx_pfs1],  1))\n",
    "ARat_pfs1_lte0_dT = pf_ARat_pfs1_lte0(-5) - pf_ARat_pfs1_lte0(-6)\n",
    "print('{}'.format(ARat_pfs1_lte0_dT))\n",
    "\n",
    "ARat_pfs2_lte0 = pfs2['ar'][pfs2['tempC'] <= 0]\n",
    "finiteIx_pfs2 = np.isfinite(ARat_pfs2_lte0)\n",
    "pf_ARat_pfs2_lte0 = np.poly1d(np.polyfit(pfs2['tempC'][pfs2['tempC'] <= 0][finiteIx_pfs2],ARat_pfs2_lte0[finiteIx_pfs2],  1))\n",
    "ARat_pfs2_lte0_dT = pf_ARat_pfs2_lte0(-5) - pf_ARat_pfs2_lte0(-6)\n",
    "print('{}'.format(ARat_pfs2_lte0_dT))"
   ]
  },
  {
   "cell_type": "markdown",
   "metadata": {},
   "source": [
    "# $d𝒜/dT$ for $T \\geq 5^{\\circ}C$"
   ]
  },
  {
   "cell_type": "code",
   "execution_count": 7,
   "metadata": {
    "ExecuteTime": {
     "end_time": "2018-07-31T22:14:27.094303Z",
     "start_time": "2018-07-31T22:14:27.078493Z"
    },
    "run_control": {
     "frozen": false,
     "read_only": false
    }
   },
   "outputs": [
    {
     "name": "stdout",
     "output_type": "stream",
     "text": [
      "-0.00048045685671660454\n",
      "-0.005911044800520404\n",
      "0.0007528008198094405\n",
      "-0.004135782685875555\n",
      "\n",
      "-0.0010492083743433023\n",
      "0.006686653702242973\n"
     ]
    }
   ],
   "source": [
    "ARatMed_SRt_gte5 = npTypeZn['binARat_median_SRt'][gte5]\n",
    "finiteIx = np.isfinite(ARatMed_SRt_gte5)\n",
    "pf_ARatMed_SRt_gte5 = np.poly1d(np.polyfit(temp_gte5[finiteIx],ARatMed_SRt_gte5[finiteIx],  1))\n",
    "ARatMed_SRt_gte5_dT = pf_ARatMed_SRt_gte5(-5) - pf_ARatMed_SRt_gte5(-6) \n",
    "print(ARatMed_SRt_gte5_dT)\n",
    "\n",
    "ARatMed_ARt_gte5 = npTypeZn['binARat_median_ARt'][gte5]\n",
    "finiteIx = np.isfinite(ARatMed_ARt_gte5)\n",
    "pf_ARatMed_ARt_gte5 = np.poly1d(np.polyfit(temp_gte5[finiteIx],ARatMed_ARt_gte5[finiteIx],  1))\n",
    "ARatMed_ARt_gte5_dT = pf_ARatMed_ARt_gte5(-5) - pf_ARatMed_ARt_gte5(-6)     \n",
    "print(ARatMed_ARt_gte5_dT)\n",
    "\n",
    "ARatMed_SRp_gte5 = npTypeZn['binARat_median_SRp'][gte5]\n",
    "finiteIx = np.isfinite(ARatMed_SRp_gte5)\n",
    "pf_ARatMed_SRp_gte5 = np.poly1d(np.polyfit(temp_gte5[finiteIx],ARatMed_SRp_gte5[finiteIx],  1))\n",
    "ARatMed_SRp_gte5_dT = pf_ARatMed_SRp_gte5(-5) - pf_ARatMed_SRp_gte5(-6) \n",
    "print(ARatMed_SRp_gte5_dT)\n",
    "\n",
    "ARatMed_ARp_gte5 = npTypeZn['binARat_median_ARp'][gte5]\n",
    "finiteIx = np.isfinite(ARatMed_ARp_gte5)\n",
    "pf_ARatMed_ARp_gte5 = np.poly1d(np.polyfit(temp_gte5[finiteIx],ARatMed_ARp_gte5[finiteIx],  1))\n",
    "ARatMed_ARp_gte5_dT = pf_ARatMed_ARp_gte5(-5) - pf_ARatMed_ARp_gte5(-6)     \n",
    "print(ARatMed_ARp_gte5_dT)\n",
    "\n",
    "\n",
    "ARat_srCs1_gte5 = srCs1['ar'][srCs1['tempC'] >= 5]\n",
    "finiteIx_srCs1 = np.isfinite(ARat_srCs1_gte5)\n",
    "pf_ARat_srCs1_gte5 = np.poly1d(np.polyfit(srCs1['tempC'][srCs1['tempC'] >= 5][finiteIx_srCs1],ARat_srCs1_gte5[finiteIx_srCs1],  1))\n",
    "ARat_srCs1_gte5_dT = pf_ARat_srCs1_gte5(-5) - pf_ARat_srCs1_gte5(-6)\n",
    "print('\\n{}'.format(ARat_srCs1_gte5_dT))\n",
    "\n",
    "ARat_pfs2_gte5 = pfs2['ar'][pfs2['tempC'] >= 5]\n",
    "finiteIx_pfs2 = np.isfinite(ARat_pfs2_gte5)\n",
    "pf_ARat_pfs2_gte5 = np.poly1d(np.polyfit(pfs2['tempC'][pfs2['tempC'] >= 5][finiteIx_pfs2],ARat_pfs2_gte5[finiteIx_pfs2],  1))\n",
    "ARat_pfs2_gte5_dT = pf_ARat_pfs2_gte5(-5) - pf_ARat_pfs2_gte5(-6)\n",
    "print('{}'.format(ARat_pfs2_gte5_dT))"
   ]
  },
  {
   "cell_type": "markdown",
   "metadata": {},
   "source": [
    "# $dD_{mm}/dT$ for $T \\leq 0^{\\circ}C$"
   ]
  },
  {
   "cell_type": "code",
   "execution_count": 8,
   "metadata": {
    "ExecuteTime": {
     "end_time": "2018-07-31T22:14:27.117672Z",
     "start_time": "2018-07-31T22:14:27.096709Z"
    },
    "run_control": {
     "frozen": false,
     "read_only": false
    }
   },
   "outputs": [
    {
     "name": "stdout",
     "output_type": "stream",
     "text": [
      "0.02645123839009278\n",
      "0.004151348039215685\n",
      "0.033522727272727426\n",
      "-0.03279532967032961\n",
      "\n",
      "0.028867281296104164\n",
      "0.05367702263745433\n",
      "-0.06788525356751629\n"
     ]
    }
   ],
   "source": [
    "DmmMed_SRt_lte0 = npTypeZn['binDmm_median_SRt'][lte0]\n",
    "finiteIx = np.isfinite(DmmMed_SRt_lte0)\n",
    "pf_DmmMed_SRt_lte0 = np.poly1d(np.polyfit(temp_lte0[finiteIx],DmmMed_SRt_lte0[finiteIx],  1))\n",
    "DmmMed_SRt_lte0_dT = pf_DmmMed_SRt_lte0(-5) - pf_DmmMed_SRt_lte0(-6) \n",
    "print(DmmMed_SRt_lte0_dT)\n",
    "\n",
    "DmmMed_ARt_lte0 = npTypeZn['binDmm_median_ARt'][lte0]\n",
    "finiteIx = np.isfinite(DmmMed_ARt_lte0)\n",
    "pf_DmmMed_ARt_lte0 = np.poly1d(np.polyfit(temp_lte0[finiteIx],DmmMed_ARt_lte0[finiteIx],  1))\n",
    "DmmMed_ARt_lte0_dT = pf_DmmMed_ARt_lte0(-5) - pf_DmmMed_ARt_lte0(-6)     \n",
    "print(DmmMed_ARt_lte0_dT)\n",
    "\n",
    "DmmMed_SRp_lte0 = npTypeZn['binDmm_median_SRp'][lte0]\n",
    "finiteIx = np.isfinite(DmmMed_SRp_lte0)\n",
    "pf_DmmMed_SRp_lte0 = np.poly1d(np.polyfit(temp_lte0[finiteIx],DmmMed_SRp_lte0[finiteIx],  1))\n",
    "DmmMed_SRp_lte0_dT = pf_DmmMed_SRp_lte0(-5) - pf_DmmMed_SRp_lte0(-6) \n",
    "print(DmmMed_SRp_lte0_dT)\n",
    "\n",
    "DmmMed_ARp_lte0 = npTypeZn['binDmm_median_ARp'][lte0]\n",
    "finiteIx = np.isfinite(DmmMed_ARp_lte0)\n",
    "pf_DmmMed_ARp_lte0 = np.poly1d(np.polyfit(temp_lte0[finiteIx],DmmMed_ARp_lte0[finiteIx],  1))\n",
    "DmmMed_ARp_lte0_dT = pf_DmmMed_ARp_lte0(-5) - pf_DmmMed_ARp_lte0(-6)     \n",
    "print(DmmMed_ARp_lte0_dT)\n",
    "\n",
    "\n",
    "Dmm_srCs1_lte0 = srCs1['Dmm'][srCs1['tempC'] <= 0]\n",
    "finiteIx_srCs1 = np.isfinite(Dmm_srCs1_lte0)\n",
    "pf_Dmm_srCs1_lte0 = np.poly1d(np.polyfit(srCs1['tempC'][srCs1['tempC'] <= 0][finiteIx_srCs1],Dmm_srCs1_lte0[finiteIx_srCs1],  1))\n",
    "Dmm_srCs1_lte0_dT = pf_Dmm_srCs1_lte0(-5) - pf_Dmm_srCs1_lte0(-6)\n",
    "print('\\n{}'.format(Dmm_srCs1_lte0_dT))\n",
    "\n",
    "Dmm_pfs1_lte0 = pfs1['Dmm'][pfs1['tempC'] <= 0]\n",
    "finiteIx_pfs1 = np.isfinite(Dmm_pfs1_lte0)\n",
    "pf_Dmm_pfs1_lte0 = np.poly1d(np.polyfit(pfs1['tempC'][pfs1['tempC'] <= 0][finiteIx_pfs1],Dmm_pfs1_lte0[finiteIx_pfs1],  1))\n",
    "Dmm_pfs1_lte0_dT = pf_Dmm_pfs1_lte0(-5) - pf_Dmm_pfs1_lte0(-6)\n",
    "print('{}'.format(Dmm_pfs1_lte0_dT))\n",
    "\n",
    "Dmm_pfs2_lte0 = pfs2['Dmm'][pfs2['tempC'] <= 0]\n",
    "finiteIx_pfs2 = np.isfinite(Dmm_pfs2_lte0)\n",
    "pf_Dmm_pfs2_lte0 = np.poly1d(np.polyfit(pfs2['tempC'][pfs2['tempC'] <= 0][finiteIx_pfs2],Dmm_pfs2_lte0[finiteIx_pfs2],  1))\n",
    "Dmm_pfs2_lte0_dT = pf_Dmm_pfs2_lte0(-5) - pf_Dmm_pfs2_lte0(-6)\n",
    "print('{}'.format(Dmm_pfs2_lte0_dT))"
   ]
  },
  {
   "cell_type": "markdown",
   "metadata": {},
   "source": [
    "# $dD_{mm}/dT$ for $T \\geq 5^{\\circ}C$"
   ]
  },
  {
   "cell_type": "code",
   "execution_count": 9,
   "metadata": {
    "ExecuteTime": {
     "end_time": "2018-07-31T22:14:27.138000Z",
     "start_time": "2018-07-31T22:14:27.120369Z"
    },
    "run_control": {
     "frozen": false,
     "read_only": false
    }
   },
   "outputs": [
    {
     "name": "stdout",
     "output_type": "stream",
     "text": [
      "0.005892857142857144\n",
      "0.054469273743016744\n",
      "0.002611607142857242\n",
      "0.027397297891036898\n",
      "\n",
      "-0.017299089699716497\n",
      "0.020716517832148507\n"
     ]
    }
   ],
   "source": [
    "DmmMed_SRt_gte5 = npTypeZn['binDmm_median_SRt'][gte5]\n",
    "finiteIx = np.isfinite(DmmMed_SRt_gte5)\n",
    "pf_DmmMed_SRt_gte5 = np.poly1d(np.polyfit(temp_gte5[finiteIx],DmmMed_SRt_gte5[finiteIx],  1))\n",
    "DmmMed_SRt_gte5_dT = pf_DmmMed_SRt_gte5(-5) - pf_DmmMed_SRt_gte5(-6) \n",
    "print(DmmMed_SRt_gte5_dT)\n",
    "\n",
    "DmmMed_ARt_gte5 = npTypeZn['binDmm_median_ARt'][gte5]\n",
    "finiteIx = np.isfinite(DmmMed_ARt_gte5)\n",
    "pf_DmmMed_ARt_gte5 = np.poly1d(np.polyfit(temp_gte5[finiteIx],DmmMed_ARt_gte5[finiteIx],  1))\n",
    "DmmMed_ARt_gte5_dT = pf_DmmMed_ARt_gte5(-5) - pf_DmmMed_ARt_gte5(-6)     \n",
    "print(DmmMed_ARt_gte5_dT)\n",
    "\n",
    "DmmMed_SRp_gte5 = npTypeZn['binDmm_median_SRp'][gte5]\n",
    "finiteIx = np.isfinite(DmmMed_SRp_gte5)\n",
    "pf_DmmMed_SRp_gte5 = np.poly1d(np.polyfit(temp_gte5[finiteIx],DmmMed_SRp_gte5[finiteIx],  1))\n",
    "DmmMed_SRp_gte5_dT = pf_DmmMed_SRp_gte5(-5) - pf_DmmMed_SRp_gte5(-6) \n",
    "print(DmmMed_SRp_gte5_dT)\n",
    "\n",
    "DmmMed_ARp_gte5 = npTypeZn['binDmm_median_ARp'][gte5]\n",
    "finiteIx = np.isfinite(DmmMed_ARp_gte5)\n",
    "pf_DmmMed_ARp_gte5 = np.poly1d(np.polyfit(temp_gte5[finiteIx],DmmMed_ARp_gte5[finiteIx],  1))\n",
    "DmmMed_ARp_gte5_dT = pf_DmmMed_ARp_gte5(-5) - pf_DmmMed_ARp_gte5(-6)     \n",
    "print(DmmMed_ARp_gte5_dT)\n",
    "\n",
    "\n",
    "Dmm_srCs1_gte5 = srCs1['Dmm'][srCs1['tempC'] >= 5]\n",
    "finiteIx_srCs1 = np.isfinite(Dmm_srCs1_gte5)\n",
    "pf_Dmm_srCs1_gte5 = np.poly1d(np.polyfit(srCs1['tempC'][srCs1['tempC'] >= 5][finiteIx_srCs1],Dmm_srCs1_gte5[finiteIx_srCs1],  1))\n",
    "Dmm_srCs1_gte5_dT = pf_Dmm_srCs1_gte5(-5) - pf_Dmm_srCs1_gte5(-6)\n",
    "print('\\n{}'.format(Dmm_srCs1_gte5_dT))\n",
    "\n",
    "Dmm_pfs2_gte5 = pfs2['Dmm'][pfs2['tempC'] >= 5]\n",
    "finiteIx_pfs2 = np.isfinite(Dmm_pfs2_gte5)\n",
    "pf_Dmm_pfs2_gte5 = np.poly1d(np.polyfit(pfs2['tempC'][pfs2['tempC'] >= 5][finiteIx_pfs2],Dmm_pfs2_gte5[finiteIx_pfs2],  1))\n",
    "Dmm_pfs2_gte5_dT = pf_Dmm_pfs2_gte5(-5) - pf_Dmm_pfs2_gte5(-6)\n",
    "print('{}'.format(Dmm_pfs2_gte5_dT))"
   ]
  },
  {
   "cell_type": "markdown",
   "metadata": {},
   "source": [
    "# $dN_t/dT$ for $T \\leq 0^{\\circ}C$"
   ]
  },
  {
   "cell_type": "code",
   "execution_count": 10,
   "metadata": {
    "ExecuteTime": {
     "end_time": "2018-07-31T22:14:27.158223Z",
     "start_time": "2018-07-31T22:14:27.141273Z"
    },
    "run_control": {
     "frozen": false,
     "read_only": false
    }
   },
   "outputs": [
    {
     "name": "stdout",
     "output_type": "stream",
     "text": [
      "-0.1954092655529147\n",
      "-0.34557856874573867\n",
      "-0.19645235544460693\n",
      "-0.485966405122366\n",
      "\n",
      "-0.1886079458737584\n",
      "0.3505182543832218\n",
      "0.17926551740473973\n"
     ]
    }
   ],
   "source": [
    "NtMed_SRt_lte0 = npTypeZn['binNt_median_SRt'][lte0]\n",
    "finiteIx = np.isfinite(np.log10(NtMed_SRt_lte0))\n",
    "pf_NtMed_SRt_lte0 = np.poly1d(np.polyfit(temp_lte0[finiteIx],np.log10(NtMed_SRt_lte0[finiteIx]),  1))\n",
    "NtMed_SRt_lte0_dT = 1 - (10**pf_NtMed_SRt_lte0(-6)/10**pf_NtMed_SRt_lte0(-5)) # 1 deg C change percentage \n",
    "print(NtMed_SRt_lte0_dT)\n",
    "\n",
    "NtMed_ARt_lte0 = npTypeZn['binNt_median_ARt'][lte0]\n",
    "finiteIx = np.isfinite(np.log10(NtMed_ARt_lte0))\n",
    "pf_NtMed_ARt_lte0 = np.poly1d(np.polyfit(temp_lte0[finiteIx],np.log10(NtMed_ARt_lte0[finiteIx]),  1))\n",
    "NtMed_ARt_lte0_dT = 1 - (10**pf_NtMed_ARt_lte0(-6)/10**pf_NtMed_ARt_lte0(-5)) # 1 deg C change percentage \n",
    "print(NtMed_ARt_lte0_dT)\n",
    "\n",
    "NtMed_SRp_lte0 = npTypeZn['binNt_median_SRp'][lte0]\n",
    "finiteIx = np.isfinite(np.log10(NtMed_SRp_lte0))\n",
    "pf_NtMed_SRp_lte0 = np.poly1d(np.polyfit(temp_lte0[finiteIx],np.log10(NtMed_SRp_lte0[finiteIx]),  1))\n",
    "NtMed_SRp_lte0_dT = 1 - (10**pf_NtMed_SRp_lte0(-6)/10**pf_NtMed_SRp_lte0(-5)) # 1 deg C change percentage \n",
    "print(NtMed_SRp_lte0_dT)\n",
    "\n",
    "NtMed_ARp_lte0 = npTypeZn['binNt_median_ARp'][lte0]\n",
    "finiteIx = np.isfinite(np.log10(NtMed_ARp_lte0))\n",
    "pf_NtMed_ARp_lte0 = np.poly1d(np.polyfit(temp_lte0[finiteIx],np.log10(NtMed_ARp_lte0[finiteIx]),  1))\n",
    "NtMed_ARp_lte0_dT = 1 - (10**pf_NtMed_ARp_lte0(-6)/10**pf_NtMed_ARp_lte0(-5)) # 1 deg C change percentage \n",
    "print(NtMed_ARp_lte0_dT)\n",
    "\n",
    "\n",
    "\n",
    "Nt_srCs1_lte0 = srCs1['Nt'][srCs1['tempC'] <= 0]\n",
    "finiteIx_srCs1 = np.isfinite(np.log10(Nt_srCs1_lte0))\n",
    "pf_Nt_srCs1_lte0 = np.poly1d(np.polyfit(srCs1['tempC'][srCs1['tempC'] <= 0][finiteIx_srCs1],np.log10(Nt_srCs1_lte0[finiteIx_srCs1]),  1))\n",
    "Nt_srCs1_lte0_dT = 1 - (10**pf_Nt_srCs1_lte0(-6)/10**pf_Nt_srCs1_lte0(-5))\n",
    "print('\\n{}'.format(Nt_srCs1_lte0_dT))\n",
    "\n",
    "Nt_pfs1_lte0 = pfs1['Nt'][pfs1['tempC'] <= 0]\n",
    "finiteIx_pfs1 = np.isfinite(np.log10(Nt_pfs1_lte0))\n",
    "pf_Nt_pfs1_lte0 = np.poly1d(np.polyfit(pfs1['tempC'][pfs1['tempC'] <= 0][finiteIx_pfs1],np.log10(Nt_pfs1_lte0[finiteIx_pfs1]),  1))\n",
    "Nt_pfs1_lte0_dT = 1 - (10**pf_Nt_pfs1_lte0(-6)/10**pf_Nt_pfs1_lte0(-5))\n",
    "print('{}'.format(Nt_pfs1_lte0_dT))\n",
    "\n",
    "Nt_pfs2_lte0 = pfs2['Nt'][pfs2['tempC'] <= 0]\n",
    "finiteIx_pfs2 = np.isfinite(np.log10(Nt_pfs2_lte0))\n",
    "pf_Nt_pfs2_lte0 = np.poly1d(np.polyfit(pfs2['tempC'][pfs2['tempC'] <= 0][finiteIx_pfs2],np.log10(Nt_pfs2_lte0[finiteIx_pfs2]),  1))\n",
    "Nt_pfs2_lte0_dT = 1 - (10**pf_Nt_pfs2_lte0(-6)/10**pf_Nt_pfs2_lte0(-5))\n",
    "print('{}'.format(Nt_pfs2_lte0_dT))"
   ]
  },
  {
   "cell_type": "markdown",
   "metadata": {},
   "source": [
    "# $dN_t/dT$ for $T \\geq 5^{\\circ}C$"
   ]
  },
  {
   "cell_type": "code",
   "execution_count": 11,
   "metadata": {
    "ExecuteTime": {
     "end_time": "2018-07-31T22:14:27.179866Z",
     "start_time": "2018-07-31T22:14:27.160420Z"
    },
    "run_control": {
     "frozen": false,
     "read_only": false
    }
   },
   "outputs": [
    {
     "name": "stdout",
     "output_type": "stream",
     "text": [
      "-0.1521055773193618\n",
      "0.1992797946465693\n",
      "-0.0235674028416768\n",
      "-0.025856268971608642\n",
      "\n",
      "-0.062407688092258606\n",
      "-0.06551822285913622\n"
     ]
    }
   ],
   "source": [
    "NtMed_SRt_gte5 = npTypeZn['binNt_median_SRt'][gte5]\n",
    "finiteIx = np.isfinite(np.log10(NtMed_SRt_gte5))\n",
    "pf_NtMed_SRt_gte5 = np.poly1d(np.polyfit(temp_gte5[finiteIx],np.log10(NtMed_SRt_gte5[finiteIx]),  1))\n",
    "NtMed_SRt_gte5_dT = 1 - (10**pf_NtMed_SRt_gte5(2)/10**pf_NtMed_SRt_gte5(3)) # 1 deg C change percentage \n",
    "print(NtMed_SRt_gte5_dT)\n",
    "\n",
    "NtMed_ARt_gte5 = npTypeZn['binNt_median_ARt'][gte5]\n",
    "finiteIx = np.isfinite(np.log10(NtMed_ARt_gte5))\n",
    "pf_NtMed_ARt_gte5 = np.poly1d(np.polyfit(temp_gte5[finiteIx],np.log10(NtMed_ARt_gte5[finiteIx]),  1))\n",
    "NtMed_ARt_gte5_dT = 1 - (10**pf_NtMed_ARt_gte5(2)/10**pf_NtMed_ARt_gte5(3)) # 1 deg C change percentage \n",
    "print(NtMed_ARt_gte5_dT)\n",
    "\n",
    "NtMed_SRp_gte5 = npTypeZn['binNt_median_SRp'][gte5]\n",
    "finiteIx = np.isfinite(np.log10(NtMed_SRp_gte5))\n",
    "pf_NtMed_SRp_gte5 = np.poly1d(np.polyfit(temp_gte5[finiteIx],np.log10(NtMed_SRp_gte5[finiteIx]),  1))\n",
    "NtMed_SRp_gte5_dT = 1 - (10**pf_NtMed_SRp_gte5(2)/10**pf_NtMed_SRp_gte5(3)) # 1 deg C change percentage \n",
    "print(NtMed_SRp_gte5_dT)\n",
    "\n",
    "NtMed_ARp_gte5 = npTypeZn['binNt_median_ARp'][gte5]\n",
    "finiteIx = np.isfinite(np.log10(NtMed_ARp_gte5))\n",
    "pf_NtMed_ARp_gte5 = np.poly1d(np.polyfit(temp_gte5[finiteIx],np.log10(NtMed_ARp_gte5[finiteIx]),  1))\n",
    "NtMed_ARp_gte5_dT = 1 - (10**pf_NtMed_ARp_gte5(2)/10**pf_NtMed_ARp_gte5(3)) # 1 deg C change percentage \n",
    "print(NtMed_ARp_gte5_dT)\n",
    "\n",
    "\n",
    "\n",
    "Nt_srCs1_gte5 = srCs1['Nt'][srCs1['tempC'] >= 5]\n",
    "finiteIx_srCs1 = np.isfinite(np.log10(Nt_srCs1_gte5))\n",
    "pf_Nt_srCs1_gte5 = np.poly1d(np.polyfit(srCs1['tempC'][srCs1['tempC'] >= 5][finiteIx_srCs1],np.log10(Nt_srCs1_gte5[finiteIx_srCs1]),  1))\n",
    "Nt_srCs1_gte5_dT = 1 - (10**pf_Nt_srCs1_gte5(2)/10**pf_Nt_srCs1_gte5(3))\n",
    "print('\\n{}'.format(Nt_srCs1_gte5_dT))\n",
    "\n",
    "Nt_pfs2_gte5 = pfs2['Nt'][pfs2['tempC'] >= 5]\n",
    "finiteIx_pfs2 = np.isfinite(np.log10(Nt_pfs2_gte5))\n",
    "pf_Nt_pfs2_gte5 = np.poly1d(np.polyfit(pfs2['tempC'][pfs2['tempC'] >= 5][finiteIx_pfs2],np.log10(Nt_pfs2_gte5[finiteIx_pfs2]),  1))\n",
    "Nt_pfs2_gte5_dT = 1 - (10**pf_Nt_pfs2_gte5(2)/10**pf_Nt_pfs2_gte5(3))\n",
    "print('{}'.format(Nt_pfs2_gte5_dT))"
   ]
  },
  {
   "cell_type": "markdown",
   "metadata": {},
   "source": [
    "# $dTWC/dT$ for $T \\leq 0^{\\circ}C$"
   ]
  },
  {
   "cell_type": "code",
   "execution_count": 12,
   "metadata": {
    "ExecuteTime": {
     "end_time": "2018-07-31T22:14:27.207416Z",
     "start_time": "2018-07-31T22:14:27.186664Z"
    },
    "run_control": {
     "frozen": false,
     "read_only": false
    }
   },
   "outputs": [
    {
     "name": "stdout",
     "output_type": "stream",
     "text": [
      "-0.12906899245236514\n",
      "-0.30914564298487535\n",
      "-0.10913909680971368\n",
      "-0.6064912918860832\n",
      "\n",
      "-0.10012271479656398\n",
      "0.3868639290341105\n",
      "0.06244524378263461\n"
     ]
    }
   ],
   "source": [
    "twcMed_SRt_lte0 = npTypeZn['binTWC_median_SRt'][lte0]\n",
    "finiteIx = np.isfinite(np.log10(twcMed_SRt_lte0))\n",
    "pf_twcMed_SRt_lte0 = np.poly1d(np.polyfit(temp_lte0[finiteIx],np.log10(twcMed_SRt_lte0[finiteIx]),  1))\n",
    "twcMed_SRt_lte0_dT = 1 - (10**pf_twcMed_SRt_lte0(-6)/10**pf_twcMed_SRt_lte0(-5)) # 1 deg C change percentage \n",
    "print(twcMed_SRt_lte0_dT)\n",
    "\n",
    "twcMed_ARt_lte0 = npTypeZn['binTWC_median_ARt'][lte0]\n",
    "finiteIx = np.isfinite(np.log10(twcMed_ARt_lte0))\n",
    "pf_twcMed_ARt_lte0 = np.poly1d(np.polyfit(temp_lte0[finiteIx],np.log10(twcMed_ARt_lte0[finiteIx]),  1))\n",
    "twcMed_ARt_lte0_dT = 1 - (10**pf_twcMed_ARt_lte0(-6)/10**pf_twcMed_ARt_lte0(-5)) # 1 deg C change percentage \n",
    "print(twcMed_ARt_lte0_dT)\n",
    "\n",
    "twcMed_SRp_lte0 = npTypeZn['binTWC_median_SRp'][lte0]\n",
    "finiteIx = np.isfinite(np.log10(twcMed_SRp_lte0))\n",
    "pf_twcMed_SRp_lte0 = np.poly1d(np.polyfit(temp_lte0[finiteIx],np.log10(twcMed_SRp_lte0[finiteIx]),  1))\n",
    "twcMed_SRp_lte0_dT = 1 - (10**pf_twcMed_SRp_lte0(-6)/10**pf_twcMed_SRp_lte0(-5)) # 1 deg C change percentage \n",
    "print(twcMed_SRp_lte0_dT)\n",
    "\n",
    "twcMed_ARp_lte0 = npTypeZn['binTWC_median_ARp'][lte0]\n",
    "finiteIx = np.isfinite(np.log10(twcMed_ARp_lte0))\n",
    "pf_twcMed_ARp_lte0 = np.poly1d(np.polyfit(temp_lte0[finiteIx],np.log10(twcMed_ARp_lte0[finiteIx]),  1))\n",
    "twcMed_ARp_lte0_dT = 1 - (10**pf_twcMed_ARp_lte0(-6)/10**pf_twcMed_ARp_lte0(-5)) # 1 deg C change percentage \n",
    "print(twcMed_ARp_lte0_dT)\n",
    "\n",
    "\n",
    "\n",
    "TWC_srCs1_lte0 = srCs1['twc'][srCs1['tempC'] <= 0]\n",
    "finiteIx_srCs1 = np.isfinite(np.log10(TWC_srCs1_lte0))\n",
    "pf_TWC_srCs1_lte0 = np.poly1d(np.polyfit(srCs1['tempC'][srCs1['tempC'] <= 0][finiteIx_srCs1],np.log10(TWC_srCs1_lte0[finiteIx_srCs1]),  1))\n",
    "TWC_srCs1_lte0_dT = 1 - (10**pf_TWC_srCs1_lte0(-6)/10**pf_TWC_srCs1_lte0(-5))\n",
    "print('\\n{}'.format(TWC_srCs1_lte0_dT))\n",
    "\n",
    "TWC_pfs1_lte0 = pfs1['twc'][pfs1['tempC'] <= 0]\n",
    "finiteIx_pfs1 = np.isfinite(np.log10(TWC_pfs1_lte0))\n",
    "pf_TWC_pfs1_lte0 = np.poly1d(np.polyfit(pfs1['tempC'][pfs1['tempC'] <= 0][finiteIx_pfs1],np.log10(TWC_pfs1_lte0[finiteIx_pfs1]),  1))\n",
    "TWC_pfs1_lte0_dT = 1 - (10**pf_TWC_pfs1_lte0(-6)/10**pf_TWC_pfs1_lte0(-5))\n",
    "print('{}'.format(TWC_pfs1_lte0_dT))\n",
    "\n",
    "TWC_pfs2_lte0 = pfs2['twc'][pfs2['tempC'] <= 0]\n",
    "finiteIx_pfs2 = np.isfinite(np.log10(TWC_pfs2_lte0))\n",
    "pf_TWC_pfs2_lte0 = np.poly1d(np.polyfit(pfs2['tempC'][pfs2['tempC'] <= 0][finiteIx_pfs2],np.log10(TWC_pfs2_lte0[finiteIx_pfs2]),  1))\n",
    "TWC_pfs2_lte0_dT = 1 - (10**pf_TWC_pfs2_lte0(-6)/10**pf_TWC_pfs2_lte0(-5))\n",
    "print('{}'.format(TWC_pfs2_lte0_dT))"
   ]
  },
  {
   "cell_type": "markdown",
   "metadata": {},
   "source": [
    "# $dTWC/dT$ for $T \\geq 5^{\\circ}C$"
   ]
  },
  {
   "cell_type": "code",
   "execution_count": 13,
   "metadata": {
    "ExecuteTime": {
     "end_time": "2018-07-31T22:14:27.242892Z",
     "start_time": "2018-07-31T22:14:27.213447Z"
    },
    "run_control": {
     "frozen": false,
     "read_only": false
    }
   },
   "outputs": [
    {
     "name": "stdout",
     "output_type": "stream",
     "text": [
      "-0.10504387438026885\n",
      "0.36344029900128816\n",
      "0.02615622898291725\n",
      "0.06961735706367889\n",
      "\n",
      "-0.06008546762710942\n",
      "-0.021612761024605298\n"
     ]
    }
   ],
   "source": [
    "twcMed_SRt_gte5 = npTypeZn['binTWC_median_SRt'][gte5]\n",
    "finiteIx = np.isfinite(np.log10(twcMed_SRt_gte5))\n",
    "pf_twcMed_SRt_gte5 = np.poly1d(np.polyfit(temp_gte5[finiteIx],np.log10(twcMed_SRt_gte5[finiteIx]),  1))\n",
    "twcMed_SRt_gte5_dT = 1 - (10**pf_twcMed_SRt_gte5(2)/10**pf_twcMed_SRt_gte5(3)) # 1 deg C change percentage \n",
    "print(twcMed_SRt_gte5_dT)\n",
    "\n",
    "twcMed_ARt_gte5 = npTypeZn['binTWC_median_ARt'][gte5]\n",
    "finiteIx = np.isfinite(np.log10(twcMed_ARt_gte5))\n",
    "pf_twcMed_ARt_gte5 = np.poly1d(np.polyfit(temp_gte5[finiteIx],np.log10(twcMed_ARt_gte5[finiteIx]),  1))\n",
    "twcMed_ARt_gte5_dT = 1 - (10**pf_twcMed_ARt_gte5(2)/10**pf_twcMed_ARt_gte5(3)) # 1 deg C change percentage \n",
    "print(twcMed_ARt_gte5_dT)\n",
    "\n",
    "twcMed_SRp_gte5 = npTypeZn['binTWC_median_SRp'][gte5]\n",
    "finiteIx = np.isfinite(np.log10(twcMed_SRp_gte5))\n",
    "pf_twcMed_SRp_gte5 = np.poly1d(np.polyfit(temp_gte5[finiteIx],np.log10(twcMed_SRp_gte5[finiteIx]),  1))\n",
    "twcMed_SRp_gte5_dT = 1 - (10**pf_twcMed_SRp_gte5(2)/10**pf_twcMed_SRp_gte5(3)) # 1 deg C change percentage \n",
    "print(twcMed_SRp_gte5_dT)\n",
    "\n",
    "twcMed_ARp_gte5 = npTypeZn['binTWC_median_ARp'][gte5]\n",
    "finiteIx = np.isfinite(np.log10(twcMed_ARp_gte5))\n",
    "pf_twcMed_ARp_gte5 = np.poly1d(np.polyfit(temp_gte5[finiteIx],np.log10(twcMed_ARp_gte5[finiteIx]),  1))\n",
    "twcMed_ARp_gte5_dT = 1 - (10**pf_twcMed_ARp_gte5(2)/10**pf_twcMed_ARp_gte5(3)) # 1 deg C change percentage \n",
    "print(twcMed_ARp_gte5_dT)\n",
    "\n",
    "\n",
    "\n",
    "TWC_srCs1_gte5 = srCs1['twc'][srCs1['tempC'] >= 5]\n",
    "finiteIx_srCs1 = np.isfinite(np.log10(TWC_srCs1_gte5))\n",
    "pf_TWC_srCs1_gte5 = np.poly1d(np.polyfit(srCs1['tempC'][srCs1['tempC'] >= 5][finiteIx_srCs1],np.log10(TWC_srCs1_gte5[finiteIx_srCs1]),  1))\n",
    "TWC_srCs1_gte5_dT = 1 - (10**pf_TWC_srCs1_gte5(2)/10**pf_TWC_srCs1_gte5(3))\n",
    "print('\\n{}'.format(TWC_srCs1_gte5_dT))\n",
    "\n",
    "TWC_pfs2_gte5 = pfs2['twc'][pfs2['tempC'] >= 5]\n",
    "finiteIx_pfs2 = np.isfinite(np.log10(TWC_pfs2_gte5))\n",
    "pf_TWC_pfs2_gte5 = np.poly1d(np.polyfit(pfs2['tempC'][pfs2['tempC'] >= 5][finiteIx_pfs2],np.log10(TWC_pfs2_gte5[finiteIx_pfs2]),  1))\n",
    "TWC_pfs2_gte5_dT = 1 - (10**pf_TWC_pfs2_gte5(2)/10**pf_TWC_pfs2_gte5(3))\n",
    "print('{}'.format(TWC_pfs2_gte5_dT))"
   ]
  },
  {
   "cell_type": "markdown",
   "metadata": {},
   "source": [
    "# ...\n",
    "# ...\n",
    "# ..."
   ]
  },
  {
   "cell_type": "markdown",
   "metadata": {},
   "source": [
    "# Average of $RH$ Median Values for $T \\leq 0^{\\circ}C$"
   ]
  },
  {
   "cell_type": "code",
   "execution_count": 14,
   "metadata": {
    "ExecuteTime": {
     "end_time": "2018-07-31T22:14:27.260269Z",
     "start_time": "2018-07-31T22:14:27.246794Z"
    },
    "run_control": {
     "frozen": false,
     "read_only": false
    }
   },
   "outputs": [
    {
     "name": "stdout",
     "output_type": "stream",
     "text": [
      "108.7671504493976\n",
      "93.79847944936004\n",
      "93.19036683552969\n",
      "81.00428921659646\n",
      "\n",
      "105.74826728160639\n",
      "104.25040758867199\n",
      "100.81165250084683\n"
     ]
    }
   ],
   "source": [
    "rhMed_SRt_lte0 = npTypeZn['binRH_median_SRt'][lte0]\n",
    "rhMedAvg_SRt_lte0 = np.nanmean(rhMed_SRt_lte0)\n",
    "print('{}'.format(rhMedAvg_SRt_lte0))\n",
    "\n",
    "rhMed_ARt_lte0 = npTypeZn['binRH_median_ARt'][lte0]\n",
    "rhMedAvg_ARt_lte0 = np.nanmean(rhMed_ARt_lte0)\n",
    "print('{}'.format(rhMedAvg_ARt_lte0))\n",
    "\n",
    "rhMed_SRp_lte0 = npTypeZn['binRH_median_SRp'][lte0]\n",
    "rhMedAvg_SRp_lte0 = np.nanmean(rhMed_SRp_lte0)\n",
    "print('{}'.format(rhMedAvg_SRp_lte0))\n",
    "\n",
    "rhMed_ARp_lte0 = npTypeZn['binRH_median_ARp'][lte0]\n",
    "rhMedAvg_ARp_lte0 = np.nanmean(rhMed_ARp_lte0)\n",
    "print('{}'.format(rhMedAvg_ARp_lte0))\n",
    "\n",
    "print('\\n{}'.format(np.nanmean(srCs1['rh'][srCs1['tempC'] <= 0])))\n",
    "print('{}'.format(np.nanmean(pfs1['rh'][pfs1['tempC'] <= 0])))\n",
    "print('{}'.format(np.nanmean(pfs2['rh'][pfs2['tempC'] <= 0])))"
   ]
  },
  {
   "cell_type": "markdown",
   "metadata": {},
   "source": [
    "# Average of $RH$ Median Values for $T \\geq 5^{\\circ}C$"
   ]
  },
  {
   "cell_type": "code",
   "execution_count": 15,
   "metadata": {
    "ExecuteTime": {
     "end_time": "2018-07-31T22:14:27.282340Z",
     "start_time": "2018-07-31T22:14:27.262479Z"
    },
    "run_control": {
     "frozen": false,
     "read_only": false
    }
   },
   "outputs": [
    {
     "name": "stdout",
     "output_type": "stream",
     "text": [
      "67.40310741377964\n",
      "49.61811222785604\n",
      "55.53799957744915\n",
      "70.62118295146568\n",
      "\n",
      "86.32477512414326\n",
      "73.91955286562525\n"
     ]
    }
   ],
   "source": [
    "rhMed_SRt_gte5 = npTypeZn['binRH_median_SRt'][gte5]\n",
    "rhMedAvg_SRt_gte5 = np.nanmean(rhMed_SRt_gte5)\n",
    "print('{}'.format(rhMedAvg_SRt_gte5))\n",
    "\n",
    "rhMed_ARt_gte5 = npTypeZn['binRH_median_ARt'][gte5]\n",
    "rhMedAvg_ARt_gte5 = np.nanmean(rhMed_ARt_gte5)\n",
    "print('{}'.format(rhMedAvg_ARt_gte5))\n",
    "\n",
    "rhMed_SRp_gte5 = npTypeZn['binRH_median_SRp'][gte5]\n",
    "rhMedAvg_SRp_gte5 = np.nanmean(rhMed_SRp_gte5)\n",
    "print('{}'.format(rhMedAvg_SRp_gte5))\n",
    "\n",
    "rhMed_ARp_gte5 = npTypeZn['binRH_median_ARp'][gte5]\n",
    "rhMedAvg_ARp_gte5 = np.nanmean(rhMed_ARp_gte5)\n",
    "print('{}'.format(rhMedAvg_ARp_gte5))\n",
    "\n",
    "\n",
    "print('\\n{}'.format(np.nanmean(srCs1['rh'][srCs1['tempC'] >= 5])))\n",
    "print('{}'.format(np.nanmean(pfs2['rh'][pfs2['tempC'] >= 5])))"
   ]
  },
  {
   "cell_type": "markdown",
   "metadata": {},
   "source": [
    "# Average of $𝒜$ Median Values for $T \\leq 0^{\\circ}C$"
   ]
  },
  {
   "cell_type": "code",
   "execution_count": 16,
   "metadata": {
    "ExecuteTime": {
     "end_time": "2018-07-31T22:14:27.301073Z",
     "start_time": "2018-07-31T22:14:27.285525Z"
    },
    "run_control": {
     "frozen": false,
     "read_only": false
    }
   },
   "outputs": [
    {
     "name": "stdout",
     "output_type": "stream",
     "text": [
      "0.45835055164812705\n",
      "0.4852672636480371\n",
      "0.428212426327026\n",
      "0.5197895773833812\n",
      "\n",
      "0.44799971054405946\n",
      "0.5004027153536509\n",
      "0.4968649817362637\n"
     ]
    }
   ],
   "source": [
    "ARatMed_SRt_lte0 = npTypeZn['binARat_median_SRt'][lte0]\n",
    "ARatMedAvg_SRt_lte0 = np.nanmean(ARatMed_SRt_lte0)\n",
    "print('{}'.format(ARatMedAvg_SRt_lte0))\n",
    "\n",
    "ARatMed_ARt_lte0 = npTypeZn['binARat_median_ARt'][lte0]\n",
    "ARatMedAvg_ARt_lte0 = np.nanmean(ARatMed_ARt_lte0)\n",
    "print('{}'.format(ARatMedAvg_ARt_lte0))\n",
    "\n",
    "ARatMed_SRp_lte0 = npTypeZn['binARat_median_SRp'][lte0]\n",
    "ARatMedAvg_SRp_lte0 = np.nanmean(ARatMed_SRp_lte0)\n",
    "print('{}'.format(ARatMedAvg_SRp_lte0))\n",
    "\n",
    "ARatMed_ARp_lte0 = npTypeZn['binARat_median_ARp'][lte0]\n",
    "ARatMedAvg_ARp_lte0 = np.nanmean(ARatMed_ARp_lte0)\n",
    "print('{}'.format(ARatMedAvg_ARp_lte0))\n",
    "\n",
    "\n",
    "print('\\n{}'.format(np.nanmean(srCs1['ar'][srCs1['tempC'] <= 0])))\n",
    "print('{}'.format(np.nanmean(pfs1['ar'][pfs1['tempC'] <= 0])))\n",
    "print('{}'.format(np.nanmean(pfs2['ar'][pfs2['tempC'] <= 0])))"
   ]
  },
  {
   "cell_type": "markdown",
   "metadata": {},
   "source": [
    "# Average of $𝒜$ Median Values for $T \\geq 5^{\\circ}C$"
   ]
  },
  {
   "cell_type": "code",
   "execution_count": 17,
   "metadata": {
    "ExecuteTime": {
     "end_time": "2018-07-31T22:14:27.322851Z",
     "start_time": "2018-07-31T22:14:27.303569Z"
    },
    "run_control": {
     "frozen": false,
     "read_only": false
    }
   },
   "outputs": [
    {
     "name": "stdout",
     "output_type": "stream",
     "text": [
      "0.7174562125214204\n",
      "0.7586141443451795\n",
      "0.7047048649663207\n",
      "0.7474183274670622\n",
      "\n",
      "0.7006623227845545\n",
      "0.7013811249070705\n"
     ]
    }
   ],
   "source": [
    "ARatMed_SRt_gte5 = npTypeZn['binARat_median_SRt'][gte5]\n",
    "ARatMedAvg_SRt_gte5 = np.nanmean(ARatMed_SRt_gte5)\n",
    "print('{}'.format(ARatMedAvg_SRt_gte5))\n",
    "\n",
    "ARatMed_ARt_gte5 = npTypeZn['binARat_median_ARt'][gte5]\n",
    "ARatMedAvg_ARt_gte5 = np.nanmean(ARatMed_ARt_gte5)\n",
    "print('{}'.format(ARatMedAvg_ARt_gte5))\n",
    "\n",
    "ARatMed_SRp_gte5 = npTypeZn['binARat_median_SRp'][gte5]\n",
    "ARatMedAvg_SRp_gte5 = np.nanmean(ARatMed_SRp_gte5)\n",
    "print('{}'.format(ARatMedAvg_SRp_gte5))\n",
    "\n",
    "ARatMed_ARp_gte5 = npTypeZn['binARat_median_ARp'][gte5]\n",
    "ARatMedAvg_ARp_gte5 = np.nanmean(ARatMed_ARp_gte5)\n",
    "print('{}'.format(ARatMedAvg_ARp_gte5))\n",
    "\n",
    "\n",
    "print('\\n{}'.format(np.nanmean(srCs1['ar'][srCs1['tempC'] >= 5])))\n",
    "print('{}'.format(np.nanmean(pfs2['ar'][pfs2['tempC'] >= 5])))"
   ]
  },
  {
   "cell_type": "markdown",
   "metadata": {},
   "source": [
    "# Average of $D_{mm}$ Median Values for $T \\leq 0^{\\circ}C$"
   ]
  },
  {
   "cell_type": "code",
   "execution_count": 18,
   "metadata": {
    "ExecuteTime": {
     "end_time": "2018-07-31T22:14:27.337247Z",
     "start_time": "2018-07-31T22:14:27.325145Z"
    },
    "run_control": {
     "frozen": false,
     "read_only": false
    }
   },
   "outputs": [
    {
     "name": "stdout",
     "output_type": "stream",
     "text": [
      "1.132291666666667\n",
      "1.3161764705882353\n",
      "1.343181818181818\n",
      "1.272596153846154\n",
      "\n",
      "1.1755813953488374\n",
      "0.8638059701492538\n",
      "0.9490131578947371\n"
     ]
    }
   ],
   "source": [
    "DmmMed_SRt_lte0 = npTypeZn['binDmm_median_SRt'][lte0]\n",
    "DmmMedAvg_SRt_lte0 = np.nanmean(DmmMed_SRt_lte0)\n",
    "print('{}'.format(DmmMedAvg_SRt_lte0))\n",
    "\n",
    "DmmMed_ARt_lte0 = npTypeZn['binDmm_median_ARt'][lte0]\n",
    "DmmMedAvg_ARt_lte0 = np.nanmean(DmmMed_ARt_lte0)\n",
    "print('{}'.format(DmmMedAvg_ARt_lte0))\n",
    "\n",
    "DmmMed_SRp_lte0 = npTypeZn['binDmm_median_SRp'][lte0]\n",
    "DmmMedAvg_SRp_lte0 = np.nanmean(DmmMed_SRp_lte0)\n",
    "print('{}'.format(DmmMedAvg_SRp_lte0))\n",
    "\n",
    "DmmMed_ARp_lte0 = npTypeZn['binDmm_median_ARp'][lte0]\n",
    "DmmMedAvg_ARp_lte0 = np.nanmean(DmmMed_ARp_lte0)\n",
    "print('{}'.format(DmmMedAvg_ARp_lte0))\n",
    "\n",
    "\n",
    "print('\\n{}'.format(np.nanmean(srCs1['Dmm'][srCs1['tempC'] <= 0])))\n",
    "print('{}'.format(np.nanmean(pfs1['Dmm'][pfs1['tempC'] <= 0])))\n",
    "print('{}'.format(np.nanmean(pfs2['Dmm'][pfs2['tempC'] <= 0])))"
   ]
  },
  {
   "cell_type": "markdown",
   "metadata": {},
   "source": [
    "# Average of $D_{mm}$ Median Values for $T \\geq 5^{\\circ}C$"
   ]
  },
  {
   "cell_type": "code",
   "execution_count": 19,
   "metadata": {
    "ExecuteTime": {
     "end_time": "2018-07-31T22:14:27.351042Z",
     "start_time": "2018-07-31T22:14:27.340161Z"
    },
    "run_control": {
     "frozen": false,
     "read_only": false
    }
   },
   "outputs": [
    {
     "name": "stdout",
     "output_type": "stream",
     "text": [
      "1.149166666666667\n",
      "0.7697916666666667\n",
      "1.1895833333333334\n",
      "0.6065104166666666\n",
      "\n",
      "1.3301724137931035\n",
      "0.6817708333333335\n"
     ]
    }
   ],
   "source": [
    "DmmMed_SRt_gte5 = npTypeZn['binDmm_median_SRt'][gte5]\n",
    "DmmMedAvg_SRt_gte5 = np.nanmean(DmmMed_SRt_gte5)\n",
    "print('{}'.format(DmmMedAvg_SRt_gte5))\n",
    "\n",
    "DmmMed_ARt_gte5 = npTypeZn['binDmm_median_ARt'][gte5]\n",
    "DmmMedAvg_ARt_gte5 = np.nanmean(DmmMed_ARt_gte5)\n",
    "print('{}'.format(DmmMedAvg_ARt_gte5))\n",
    "\n",
    "DmmMed_SRp_gte5 = npTypeZn['binDmm_median_SRp'][gte5]\n",
    "DmmMedAvg_SRp_gte5 = np.nanmean(DmmMed_SRp_gte5)\n",
    "print('{}'.format(DmmMedAvg_SRp_gte5))\n",
    "\n",
    "DmmMed_ARp_gte5 = npTypeZn['binDmm_median_ARp'][gte5]\n",
    "DmmMedAvg_ARp_gte5 = np.nanmean(DmmMed_ARp_gte5)\n",
    "print('{}'.format(DmmMedAvg_ARp_gte5))\n",
    "\n",
    "\n",
    "print('\\n{}'.format(np.nanmean(srCs1['Dmm'][srCs1['tempC'] >= 5])))\n",
    "print('{}'.format(np.nanmean(pfs2['Dmm'][pfs2['tempC'] >= 5])))"
   ]
  },
  {
   "cell_type": "markdown",
   "metadata": {},
   "source": [
    "# Average of $N_t$ Median Values for $T \\leq 0^{\\circ}C$"
   ]
  },
  {
   "cell_type": "code",
   "execution_count": 20,
   "metadata": {
    "ExecuteTime": {
     "end_time": "2018-07-31T22:14:27.366509Z",
     "start_time": "2018-07-31T22:14:27.354258Z"
    },
    "run_control": {
     "frozen": false,
     "read_only": false
    }
   },
   "outputs": [
    {
     "name": "stdout",
     "output_type": "stream",
     "text": [
      "0.06258528720591569\n",
      "0.023096177853716697\n",
      "0.0058735591003069906\n",
      "0.004183855613670667\n",
      "\n",
      "0.028064582846677667\n",
      "0.011991338084514589\n",
      "0.009249095830266816\n"
     ]
    }
   ],
   "source": [
    "ntMed_SRt_lte0 = npTypeZn['binNt_median_SRt'][lte0]\n",
    "ntMedAvg_SRt_lte0 = np.nanmean(ntMed_SRt_lte0)\n",
    "print('{}'.format(ntMedAvg_SRt_lte0))\n",
    "\n",
    "ntMed_ARt_lte0 = npTypeZn['binNt_median_ARt'][lte0]\n",
    "ntMedAvg_ARt_lte0 = np.nanmean(ntMed_ARt_lte0)\n",
    "print('{}'.format(ntMedAvg_ARt_lte0))\n",
    "\n",
    "ntMed_SRp_lte0 = npTypeZn['binNt_median_SRp'][lte0]\n",
    "ntMedAvg_SRp_lte0 = np.nanmean(ntMed_SRp_lte0)\n",
    "print('{}'.format(ntMedAvg_SRp_lte0))\n",
    "\n",
    "ntMed_ARp_lte0 = npTypeZn['binNt_median_ARp'][lte0]\n",
    "ntMedAvg_ARp_lte0 = np.nanmean(ntMed_ARp_lte0)\n",
    "print('{}'.format(ntMedAvg_ARp_lte0))\n",
    "\n",
    "\n",
    "print('\\n{}'.format(np.nanmean(srCs1['Nt'][srCs1['tempC'] <= 0])))\n",
    "print('{}'.format(np.nanmean(pfs1['Nt'][pfs1['tempC'] <= 0])))\n",
    "print('{}'.format(np.nanmean(pfs2['Nt'][pfs2['tempC'] <= 0])))"
   ]
  },
  {
   "cell_type": "markdown",
   "metadata": {},
   "source": [
    "# Average of $N_t$ Median Values for $T \\geq 5^{\\circ}C$"
   ]
  },
  {
   "cell_type": "code",
   "execution_count": 21,
   "metadata": {
    "ExecuteTime": {
     "end_time": "2018-07-31T22:14:27.378912Z",
     "start_time": "2018-07-31T22:14:27.369060Z"
    },
    "run_control": {
     "frozen": false,
     "read_only": false
    }
   },
   "outputs": [
    {
     "name": "stdout",
     "output_type": "stream",
     "text": [
      "0.0003004871395136338\n",
      "0.00029442873122654655\n",
      "8.454664557204488e-05\n",
      "4.806236524058642e-05\n",
      "\n",
      "0.00042241950085798936\n",
      "0.00044106008822810175\n"
     ]
    }
   ],
   "source": [
    "ntMed_SRt_gte5 = npTypeZn['binNt_median_SRt'][gte5]\n",
    "ntMedAvg_SRt_gte5 = np.nanmean(ntMed_SRt_gte5)\n",
    "print('{}'.format(ntMedAvg_SRt_gte5))\n",
    "\n",
    "ntMed_ARt_gte5 = npTypeZn['binNt_median_ARt'][gte5]\n",
    "ntMedAvg_ARt_gte5 = np.nanmean(ntMed_ARt_gte5)\n",
    "print('{}'.format(ntMedAvg_ARt_gte5))\n",
    "\n",
    "ntMed_SRp_gte5 = npTypeZn['binNt_median_SRp'][gte5]\n",
    "ntMedAvg_SRp_gte5 = np.nanmean(ntMed_SRp_gte5)\n",
    "print('{}'.format(ntMedAvg_SRp_gte5))\n",
    "\n",
    "ntMed_ARp_gte5 = npTypeZn['binNt_median_ARp'][gte5]\n",
    "ntMedAvg_ARp_gte5 = np.nanmean(ntMed_ARp_gte5)\n",
    "print('{}'.format(ntMedAvg_ARp_gte5))\n",
    "\n",
    "\n",
    "print('\\n{}'.format(np.nanmean(srCs1['Nt'][srCs1['tempC'] >= 5])))\n",
    "print('{}'.format(np.nanmean(pfs2['Nt'][pfs2['tempC'] >= 5])))"
   ]
  },
  {
   "cell_type": "markdown",
   "metadata": {},
   "source": [
    "# Average of $TWC$ Median Values for $T \\leq 0^{\\circ}C$"
   ]
  },
  {
   "cell_type": "code",
   "execution_count": 22,
   "metadata": {
    "ExecuteTime": {
     "end_time": "2018-07-31T22:14:27.395067Z",
     "start_time": "2018-07-31T22:14:27.381767Z"
    },
    "run_control": {
     "frozen": false,
     "read_only": false
    }
   },
   "outputs": [
    {
     "name": "stdout",
     "output_type": "stream",
     "text": [
      "0.6016717978447375\n",
      "0.39216965399803094\n",
      "0.10035667504800738\n",
      "0.15351949434372475\n",
      "\n",
      "0.4268076666204515\n",
      "0.09170073436034976\n",
      "0.0944918775240399\n"
     ]
    }
   ],
   "source": [
    "twcMed_SRt_lte0 = npTypeZn['binTWC_median_SRt'][lte0]\n",
    "twcMedAvg_SRt_lte0 = np.nanmean(twcMed_SRt_lte0)\n",
    "print('{}'.format(twcMedAvg_SRt_lte0))\n",
    "\n",
    "twcMed_ARt_lte0 = npTypeZn['binTWC_median_ARt'][lte0]\n",
    "twcMedAvg_ARt_lte0 = np.nanmean(twcMed_ARt_lte0)\n",
    "print('{}'.format(twcMedAvg_ARt_lte0))\n",
    "\n",
    "twcMed_SRp_lte0 = npTypeZn['binTWC_median_SRp'][lte0]\n",
    "twcMedAvg_SRp_lte0 = np.nanmean(twcMed_SRp_lte0)\n",
    "print('{}'.format(twcMedAvg_SRp_lte0))\n",
    "\n",
    "twcMed_ARp_lte0 = npTypeZn['binTWC_median_ARp'][lte0]\n",
    "twcMedAvg_ARp_lte0 = np.nanmean(twcMed_ARp_lte0)\n",
    "print('{}'.format(twcMedAvg_ARp_lte0))\n",
    "\n",
    "\n",
    "print('\\n{}'.format(np.nanmean(srCs1['twc'][srCs1['tempC'] <= 0])))\n",
    "print('{}'.format(np.nanmean(pfs1['twc'][pfs1['tempC'] <= 0])))\n",
    "print('{}'.format(np.nanmean(pfs2['twc'][pfs2['tempC'] <= 0])))"
   ]
  },
  {
   "cell_type": "markdown",
   "metadata": {},
   "source": [
    "# Average of $TWC$ Median Values for $T \\geq 5^{\\circ}C$"
   ]
  },
  {
   "cell_type": "code",
   "execution_count": 23,
   "metadata": {
    "ExecuteTime": {
     "end_time": "2018-07-31T22:14:27.410900Z",
     "start_time": "2018-07-31T22:14:27.397988Z"
    },
    "run_control": {
     "frozen": false,
     "read_only": false
    }
   },
   "outputs": [
    {
     "name": "stdout",
     "output_type": "stream",
     "text": [
      "0.049387467473419475\n",
      "0.03243342144856784\n",
      "0.017052943160593987\n",
      "0.003157143602797839\n",
      "\n",
      "0.09687523702310702\n",
      "0.018950228302530937\n"
     ]
    }
   ],
   "source": [
    "twcMed_SRt_gte5 = npTypeZn['binTWC_median_SRt'][gte5]\n",
    "twcMedAvg_SRt_gte5 = np.nanmean(twcMed_SRt_gte5)\n",
    "print('{}'.format(twcMedAvg_SRt_gte5))\n",
    "\n",
    "twcMed_ARt_gte5 = npTypeZn['binTWC_median_ARt'][gte5]\n",
    "twcMedAvg_ARt_gte5 = np.nanmean(twcMed_ARt_gte5)\n",
    "print('{}'.format(twcMedAvg_ARt_gte5))\n",
    "\n",
    "twcMed_SRp_gte5 = npTypeZn['binTWC_median_SRp'][gte5]\n",
    "twcMedAvg_SRp_gte5 = np.nanmean(twcMed_SRp_gte5)\n",
    "print('{}'.format(twcMedAvg_SRp_gte5))\n",
    "\n",
    "twcMed_ARp_gte5 = npTypeZn['binTWC_median_ARp'][gte5]\n",
    "twcMedAvg_ARp_gte5 = np.nanmean(twcMed_ARp_gte5)\n",
    "print('{}'.format(twcMedAvg_ARp_gte5))\n",
    "\n",
    "\n",
    "print('\\n{}'.format(np.nanmean(srCs1['twc'][srCs1['tempC'] >= 5])))\n",
    "print('{}'.format(np.nanmean(pfs2['twc'][pfs2['tempC'] >= 5])))"
   ]
  },
  {
   "cell_type": "markdown",
   "metadata": {},
   "source": [
    "# ...\n",
    "# ...\n",
    "# ..."
   ]
  },
  {
   "cell_type": "markdown",
   "metadata": {},
   "source": [
    "# Mean $ℛ_{RH}$ for $T \\leq 0^{\\circ}C$"
   ]
  },
  {
   "cell_type": "code",
   "execution_count": 24,
   "metadata": {
    "ExecuteTime": {
     "end_time": "2018-07-31T22:14:27.429315Z",
     "start_time": "2018-07-31T22:14:27.413755Z"
    }
   },
   "outputs": [
    {
     "name": "stdout",
     "output_type": "stream",
     "text": [
      "**Mean:\t3.7\n",
      "\n",
      "**Mean:\t9.5\n",
      "\n",
      "**Mean:\t5.5\n",
      "\n",
      "**Mean:\t12.8\n",
      "\n"
     ]
    }
   ],
   "source": [
    "RH_rStdv_SRt_lte0 = npTypeZn['binRH_stdv_SRt'][lte0]/npTypeZn['binRH_mean_SRt'][lte0]\n",
    "# print('Min:\\t{:.1f}'.format(np.nanmin(RH_rStdv_SRt_lte0)*100))\n",
    "# print('Max:\\t{:.1f}'.format(np.nanmax(RH_rStdv_SRt_lte0)*100))\n",
    "# print('Median:\\t{:.1f}'.format(np.nanmedian(RH_rStdv_SRt_lte0)*100))\n",
    "print('**Mean:\\t{:.1f}\\n'.format(np.nanmean(RH_rStdv_SRt_lte0)*100))\n",
    "\n",
    "RH_rStdv_ARt_lte0 = npTypeZn['binRH_stdv_ARt'][lte0]/npTypeZn['binRH_mean_ARt'][lte0]\n",
    "# print('Min:\\t{:.1f}'.format(np.nanmin(RH_rStdv_ARt_lte0)*100))\n",
    "# print('Max:\\t{:.1f}'.format(np.nanmax(RH_rStdv_ARt_lte0)*100))\n",
    "# print('Median:\\t{:.1f}'.format(np.nanmedian(RH_rStdv_ARt_lte0)*100))\n",
    "print('**Mean:\\t{:.1f}\\n'.format(np.nanmean(RH_rStdv_ARt_lte0)*100))\n",
    "\n",
    "RH_rStdv_SRp_lte0 = npTypeZn['binRH_stdv_SRp'][lte0]/npTypeZn['binRH_mean_SRp'][lte0]\n",
    "# print('Min:\\t{:.1f}'.format(np.nanmin(RH_rStdv_SRp_lte0)*100))\n",
    "# print('Max:\\t{:.1f}'.format(np.nanmax(RH_rStdv_SRp_lte0)*100))\n",
    "# print('Median:\\t{:.1f}'.format(np.nanmedian(RH_rStdv_SRp_lte0)*100))\n",
    "print('**Mean:\\t{:.1f}\\n'.format(np.nanmean(RH_rStdv_SRp_lte0)*100))\n",
    "\n",
    "RH_rStdv_ARp_lte0 = npTypeZn['binRH_stdv_ARp'][lte0]/npTypeZn['binRH_mean_ARp'][lte0]\n",
    "# print('Min:\\t{:.1f}'.format(np.nanmin(RH_rStdv_ARp_lte0)*100))\n",
    "# print('Max:\\t{:.1f}'.format(np.nanmax(RH_rStdv_ARp_lte0)*100))\n",
    "# print('Median:\\t{:.1f}'.format(np.nanmedian(RH_rStdv_ARp_lte0)*100))\n",
    "print('**Mean:\\t{:.1f}\\n'.format(np.nanmean(RH_rStdv_ARp_lte0)*100))"
   ]
  },
  {
   "cell_type": "markdown",
   "metadata": {},
   "source": [
    "# Mean $ℛ_{RH}$ for $T \\geq 5^{\\circ}C$"
   ]
  },
  {
   "cell_type": "code",
   "execution_count": 25,
   "metadata": {
    "ExecuteTime": {
     "end_time": "2018-07-31T22:14:27.445895Z",
     "start_time": "2018-07-31T22:14:27.432255Z"
    }
   },
   "outputs": [
    {
     "name": "stdout",
     "output_type": "stream",
     "text": [
      "**Mean:\t18.8\n",
      "\n",
      "**Mean:\t5.4\n",
      "\n",
      "**Mean:\t6.0\n",
      "\n",
      "**Mean:\t8.9\n",
      "\n"
     ]
    }
   ],
   "source": [
    "RH_rStdv_SRt_gte5 = npTypeZn['binRH_stdv_SRt'][gte5]/npTypeZn['binRH_mean_SRt'][gte5]\n",
    "# print('Min:\\t{:.1f}'.format(np.nanmin(RH_rStdv_SRt_gte5)*100))\n",
    "# print('Max:\\t{:.1f}'.format(np.nanmax(RH_rStdv_SRt_gte5)*100))\n",
    "# print('Median:\\t{:.1f}'.format(np.nanmedian(RH_rStdv_SRt_gte5)*100))\n",
    "print('**Mean:\\t{:.1f}\\n'.format(np.nanmean(RH_rStdv_SRt_gte5)*100))\n",
    "\n",
    "RH_rStdv_ARt_gte5 = npTypeZn['binRH_stdv_ARt'][gte5]/npTypeZn['binRH_mean_ARt'][gte5]\n",
    "# print('Min:\\t{:.1f}'.format(np.nanmin(RH_rStdv_ARt_gte5)*100))\n",
    "# print('Max:\\t{:.1f}'.format(np.nanmax(RH_rStdv_ARt_gte5)*100))\n",
    "# print('Median:\\t{:.1f}'.format(np.nanmedian(RH_rStdv_ARt_gte5)*100))\n",
    "print('**Mean:\\t{:.1f}\\n'.format(np.nanmean(RH_rStdv_ARt_gte5)*100))\n",
    "\n",
    "RH_rStdv_SRp_gte5 = npTypeZn['binRH_stdv_SRp'][gte5]/npTypeZn['binRH_mean_SRp'][gte5]\n",
    "# print('Min:\\t{:.1f}'.format(np.nanmin(RH_rStdv_SRp_gte5)*100))\n",
    "# print('Max:\\t{:.1f}'.format(np.nanmax(RH_rStdv_SRp_gte5)*100))\n",
    "# print('Median:\\t{:.1f}'.format(np.nanmedian(RH_rStdv_SRp_gte5)*100))\n",
    "print('**Mean:\\t{:.1f}\\n'.format(np.nanmean(RH_rStdv_SRp_gte5)*100))\n",
    "\n",
    "RH_rStdv_ARp_gte5 = npTypeZn['binRH_stdv_ARp'][gte5]/npTypeZn['binRH_mean_ARp'][gte5]\n",
    "# print('Min:\\t{:.1f}'.format(np.nanmin(RH_rStdv_ARp_gte5)*100))\n",
    "# print('Max:\\t{:.1f}'.format(np.nanmax(RH_rStdv_ARp_gte5)*100))\n",
    "# print('Median:\\t{:.1f}'.format(np.nanmedian(RH_rStdv_ARp_gte5)*100))\n",
    "print('**Mean:\\t{:.1f}\\n'.format(np.nanmean(RH_rStdv_ARp_gte5)*100))"
   ]
  },
  {
   "cell_type": "markdown",
   "metadata": {},
   "source": [
    "# Mean $ℛ_{𝒜}$ for $T \\leq 0^{\\circ}C$"
   ]
  },
  {
   "cell_type": "code",
   "execution_count": 26,
   "metadata": {
    "ExecuteTime": {
     "end_time": "2018-07-31T22:14:27.460879Z",
     "start_time": "2018-07-31T22:14:27.448201Z"
    }
   },
   "outputs": [
    {
     "name": "stdout",
     "output_type": "stream",
     "text": [
      "**Mean:\t3.7\n",
      "\n",
      "**Mean:\t3.8\n",
      "\n",
      "**Mean:\t3.8\n",
      "\n",
      "**Mean:\t7.0\n",
      "\n"
     ]
    }
   ],
   "source": [
    "ARat_rStdv_SRt_lte0 = npTypeZn['binARat_stdv_SRt'][lte0]/npTypeZn['binARat_mean_SRt'][lte0]\n",
    "# print('Min:\\t{:.1f}'.format(np.nanmin(ARat_rStdv_SRt_lte0)*100))\n",
    "# print('Max:\\t{:.1f}'.format(np.nanmax(ARat_rStdv_SRt_lte0)*100))\n",
    "# print('Median:\\t{:.1f}'.format(np.nanmedian(ARat_rStdv_SRt_lte0)*100))\n",
    "print('**Mean:\\t{:.1f}\\n'.format(np.nanmean(ARat_rStdv_SRt_lte0)*100))\n",
    "\n",
    "ARat_rStdv_ARt_lte0 = npTypeZn['binARat_stdv_ARt'][lte0]/npTypeZn['binARat_mean_ARt'][lte0]\n",
    "# print('Min:\\t{:.1f}'.format(np.nanmin(ARat_rStdv_ARt_lte0)*100))\n",
    "# print('Max:\\t{:.1f}'.format(np.nanmax(ARat_rStdv_ARt_lte0)*100))\n",
    "# print('Median:\\t{:.1f}'.format(np.nanmedian(ARat_rStdv_ARt_lte0)*100))\n",
    "print('**Mean:\\t{:.1f}\\n'.format(np.nanmean(ARat_rStdv_ARt_lte0)*100))\n",
    "\n",
    "ARat_rStdv_SRp_lte0 = npTypeZn['binARat_stdv_SRp'][lte0]/npTypeZn['binARat_mean_SRp'][lte0]\n",
    "# print('Min:\\t{:.1f}'.format(np.nanmin(ARat_rStdv_SRp_lte0)*100))\n",
    "# print('Max:\\t{:.1f}'.format(np.nanmax(ARat_rStdv_SRp_lte0)*100))\n",
    "# print('Median:\\t{:.1f}'.format(np.nanmedian(ARat_rStdv_SRp_lte0)*100))\n",
    "print('**Mean:\\t{:.1f}\\n'.format(np.nanmean(ARat_rStdv_SRp_lte0)*100))\n",
    "\n",
    "ARat_rStdv_ARp_lte0 = npTypeZn['binARat_stdv_ARp'][lte0]/npTypeZn['binARat_mean_ARp'][lte0]\n",
    "# print('Min:\\t{:.1f}'.format(np.nanmin(ARat_rStdv_ARp_lte0)*100))\n",
    "# print('Max:\\t{:.1f}'.format(np.nanmax(ARat_rStdv_ARp_lte0)*100))\n",
    "# print('Median:\\t{:.1f}'.format(np.nanmedian(ARat_rStdv_ARp_lte0)*100))\n",
    "print('**Mean:\\t{:.1f}\\n'.format(np.nanmean(ARat_rStdv_ARp_lte0)*100))"
   ]
  },
  {
   "cell_type": "markdown",
   "metadata": {},
   "source": [
    "# Mean $ℛ_{𝒜}$ for $T \\geq 5^{\\circ}C$"
   ]
  },
  {
   "cell_type": "code",
   "execution_count": 27,
   "metadata": {
    "ExecuteTime": {
     "end_time": "2018-07-31T22:14:27.473461Z",
     "start_time": "2018-07-31T22:14:27.462982Z"
    }
   },
   "outputs": [
    {
     "name": "stdout",
     "output_type": "stream",
     "text": [
      "**Mean:\t9.9\n",
      "\n",
      "**Mean:\t1.7\n",
      "\n",
      "**Mean:\t9.5\n",
      "\n",
      "**Mean:\t4.9\n",
      "\n"
     ]
    }
   ],
   "source": [
    "ARat_rStdv_SRt_gte5 = npTypeZn['binARat_stdv_SRt'][gte5]/npTypeZn['binARat_mean_SRt'][gte5]\n",
    "# print('Min:\\t{:.1f}'.format(np.nanmin(ARat_rStdv_SRt_gte5)*100))\n",
    "# print('Max:\\t{:.1f}'.format(np.nanmax(ARat_rStdv_SRt_gte5)*100))\n",
    "# print('Median:\\t{:.1f}'.format(np.nanmedian(ARat_rStdv_SRt_gte5)*100))\n",
    "print('**Mean:\\t{:.1f}\\n'.format(np.nanmean(ARat_rStdv_SRt_gte5)*100))\n",
    "\n",
    "ARat_rStdv_ARt_gte5 = npTypeZn['binARat_stdv_ARt'][gte5]/npTypeZn['binARat_mean_ARt'][gte5]\n",
    "# print('Min:\\t{:.1f}'.format(np.nanmin(ARat_rStdv_ARt_gte5)*100))\n",
    "# print('Max:\\t{:.1f}'.format(np.nanmax(ARat_rStdv_ARt_gte5)*100))\n",
    "# print('Median:\\t{:.1f}'.format(np.nanmedian(ARat_rStdv_ARt_gte5)*100))\n",
    "print('**Mean:\\t{:.1f}\\n'.format(np.nanmean(ARat_rStdv_ARt_gte5)*100))\n",
    "\n",
    "ARat_rStdv_SRp_gte5 = npTypeZn['binARat_stdv_SRp'][gte5]/npTypeZn['binARat_mean_SRp'][gte5]\n",
    "# print('Min:\\t{:.1f}'.format(np.nanmin(ARat_rStdv_SRp_gte5)*100))\n",
    "# print('Max:\\t{:.1f}'.format(np.nanmax(ARat_rStdv_SRp_gte5)*100))\n",
    "# print('Median:\\t{:.1f}'.format(np.nanmedian(ARat_rStdv_SRp_gte5)*100))\n",
    "print('**Mean:\\t{:.1f}\\n'.format(np.nanmean(ARat_rStdv_SRp_gte5)*100))\n",
    "\n",
    "ARat_rStdv_ARp_gte5 = npTypeZn['binARat_stdv_ARp'][gte5]/npTypeZn['binARat_mean_ARp'][gte5]\n",
    "# print('Min:\\t{:.1f}'.format(np.nanmin(ARat_rStdv_ARp_gte5)*100))\n",
    "# print('Max:\\t{:.1f}'.format(np.nanmax(ARat_rStdv_ARp_gte5)*100))\n",
    "# print('Median:\\t{:.1f}'.format(np.nanmedian(ARat_rStdv_ARp_gte5)*100))\n",
    "print('**Mean:\\t{:.1f}\\n'.format(np.nanmean(ARat_rStdv_ARp_gte5)*100))"
   ]
  },
  {
   "cell_type": "markdown",
   "metadata": {},
   "source": [
    "# Mean $ℛ_{D_{mm}}$ for $T \\leq 0^{\\circ}C$"
   ]
  },
  {
   "cell_type": "code",
   "execution_count": 28,
   "metadata": {
    "ExecuteTime": {
     "end_time": "2018-07-31T22:14:27.486782Z",
     "start_time": "2018-07-31T22:14:27.475765Z"
    }
   },
   "outputs": [
    {
     "name": "stdout",
     "output_type": "stream",
     "text": [
      "**Mean:\t16.1\n",
      "\n",
      "**Mean:\t10.8\n",
      "\n",
      "**Mean:\t16.0\n",
      "\n",
      "**Mean:\t20.1\n",
      "\n"
     ]
    }
   ],
   "source": [
    "Dmm_rStdv_SRt_lte0 = npTypeZn['binDmm_stdv_SRt'][lte0]/npTypeZn['binDmm_mean_SRt'][lte0]\n",
    "# print('Min:\\t{:.1f}'.format(np.nanmin(Dmm_rStdv_SRt_lte0)*100))\n",
    "# print('Max:\\t{:.1f}'.format(np.nanmax(Dmm_rStdv_SRt_lte0)*100))\n",
    "# print('Median:\\t{:.1f}'.format(np.nanmedian(Dmm_rStdv_SRt_lte0)*100))\n",
    "print('**Mean:\\t{:.1f}\\n'.format(np.nanmean(Dmm_rStdv_SRt_lte0)*100))\n",
    "\n",
    "Dmm_rStdv_ARt_lte0 = npTypeZn['binDmm_stdv_ARt'][lte0]/npTypeZn['binDmm_mean_ARt'][lte0]\n",
    "# print('Min:\\t{:.1f}'.format(np.nanmin(Dmm_rStdv_ARt_lte0)*100))\n",
    "# print('Max:\\t{:.1f}'.format(np.nanmax(Dmm_rStdv_ARt_lte0)*100))\n",
    "# print('Median:\\t{:.1f}'.format(np.nanmedian(Dmm_rStdv_ARt_lte0)*100))\n",
    "print('**Mean:\\t{:.1f}\\n'.format(np.nanmean(Dmm_rStdv_ARt_lte0)*100))\n",
    "\n",
    "Dmm_rStdv_SRp_lte0 = npTypeZn['binDmm_stdv_SRp'][lte0]/npTypeZn['binDmm_mean_SRp'][lte0]\n",
    "# print('Min:\\t{:.1f}'.format(np.nanmin(Dmm_rStdv_SRp_lte0)*100))\n",
    "# print('Max:\\t{:.1f}'.format(np.nanmax(Dmm_rStdv_SRp_lte0)*100))\n",
    "# print('Median:\\t{:.1f}'.format(np.nanmedian(Dmm_rStdv_SRp_lte0)*100))\n",
    "print('**Mean:\\t{:.1f}\\n'.format(np.nanmean(Dmm_rStdv_SRp_lte0)*100))\n",
    "\n",
    "Dmm_rStdv_ARp_lte0 = npTypeZn['binDmm_stdv_ARp'][lte0]/npTypeZn['binDmm_mean_ARp'][lte0]\n",
    "# print('Min:\\t{:.1f}'.format(np.nanmin(Dmm_rStdv_ARp_lte0)*100))\n",
    "# print('Max:\\t{:.1f}'.format(np.nanmax(Dmm_rStdv_ARp_lte0)*100))\n",
    "# print('Median:\\t{:.1f}'.format(np.nanmedian(Dmm_rStdv_ARp_lte0)*100))\n",
    "print('**Mean:\\t{:.1f}\\n'.format(np.nanmean(Dmm_rStdv_ARp_lte0)*100))"
   ]
  },
  {
   "cell_type": "markdown",
   "metadata": {},
   "source": [
    "# Mean $ℛ_{D_{mm}}$ for $T \\geq 5^{\\circ}C$"
   ]
  },
  {
   "cell_type": "code",
   "execution_count": 29,
   "metadata": {
    "ExecuteTime": {
     "end_time": "2018-07-31T22:14:27.503478Z",
     "start_time": "2018-07-31T22:14:27.488913Z"
    }
   },
   "outputs": [
    {
     "name": "stdout",
     "output_type": "stream",
     "text": [
      "**Mean:\t27.3\n",
      "\n",
      "**Mean:\t13.2\n",
      "\n",
      "**Mean:\t24.3\n",
      "\n",
      "**Mean:\t17.3\n",
      "\n"
     ]
    }
   ],
   "source": [
    "Dmm_rStdv_SRt_gte5 = npTypeZn['binDmm_stdv_SRt'][gte5]/npTypeZn['binDmm_mean_SRt'][gte5]\n",
    "# print('Min:\\t{:.1f}'.format(np.nanmin(Dmm_rStdv_SRt_gte5)*100))\n",
    "# print('Max:\\t{:.1f}'.format(np.nanmax(Dmm_rStdv_SRt_gte5)*100))\n",
    "# print('Median:\\t{:.1f}'.format(np.nanmedian(Dmm_rStdv_SRt_gte5)*100))\n",
    "print('**Mean:\\t{:.1f}\\n'.format(np.nanmean(Dmm_rStdv_SRt_gte5)*100))\n",
    "\n",
    "Dmm_rStdv_ARt_gte5 = npTypeZn['binDmm_stdv_ARt'][gte5]/npTypeZn['binDmm_mean_ARt'][gte5]\n",
    "# print('Min:\\t{:.1f}'.format(np.nanmin(Dmm_rStdv_ARt_gte5)*100))\n",
    "# print('Max:\\t{:.1f}'.format(np.nanmax(Dmm_rStdv_ARt_gte5)*100))\n",
    "# print('Median:\\t{:.1f}'.format(np.nanmedian(Dmm_rStdv_ARt_gte5)*100))\n",
    "print('**Mean:\\t{:.1f}\\n'.format(np.nanmean(Dmm_rStdv_ARt_gte5)*100))\n",
    "\n",
    "Dmm_rStdv_SRp_gte5 = npTypeZn['binDmm_stdv_SRp'][gte5]/npTypeZn['binDmm_mean_SRp'][gte5]\n",
    "# print('Min:\\t{:.1f}'.format(np.nanmin(Dmm_rStdv_SRp_gte5)*100))\n",
    "# print('Max:\\t{:.1f}'.format(np.nanmax(Dmm_rStdv_SRp_gte5)*100))\n",
    "# print('Median:\\t{:.1f}'.format(np.nanmedian(Dmm_rStdv_SRp_gte5)*100))\n",
    "print('**Mean:\\t{:.1f}\\n'.format(np.nanmean(Dmm_rStdv_SRp_gte5)*100))\n",
    "\n",
    "Dmm_rStdv_ARp_gte5 = npTypeZn['binDmm_stdv_ARp'][gte5]/npTypeZn['binDmm_mean_ARp'][gte5]\n",
    "# print('Min:\\t{:.1f}'.format(np.nanmin(Dmm_rStdv_ARp_gte5)*100))\n",
    "# print('Max:\\t{:.1f}'.format(np.nanmax(Dmm_rStdv_ARp_gte5)*100))\n",
    "# print('Median:\\t{:.1f}'.format(np.nanmedian(Dmm_rStdv_ARp_gte5)*100))\n",
    "print('**Mean:\\t{:.1f}\\n'.format(np.nanmean(Dmm_rStdv_ARp_gte5)*100))"
   ]
  },
  {
   "cell_type": "markdown",
   "metadata": {},
   "source": [
    "# Mean $ℛ_{N_t}$ for $T \\leq 0^{\\circ}C$"
   ]
  },
  {
   "cell_type": "code",
   "execution_count": 30,
   "metadata": {
    "ExecuteTime": {
     "end_time": "2018-07-31T22:14:27.522784Z",
     "start_time": "2018-07-31T22:14:27.506858Z"
    }
   },
   "outputs": [
    {
     "name": "stdout",
     "output_type": "stream",
     "text": [
      "**Mean:\t79.3\n",
      "\n",
      "**Mean:\t74.3\n",
      "\n",
      "**Mean:\t48.8\n",
      "\n",
      "**Mean:\t76.6\n",
      "\n"
     ]
    }
   ],
   "source": [
    "Nt_rStdv_SRt_lte0 = npTypeZn['binNt_stdv_SRt'][lte0]/npTypeZn['binNt_mean_SRt'][lte0]\n",
    "# print('Min:\\t{:.1f}'.format(np.nanmin(Nt_rStdv_SRt_lte0)*100))\n",
    "# print('Max:\\t{:.1f}'.format(np.nanmax(Nt_rStdv_SRt_lte0)*100))\n",
    "# print('Median:\\t{:.1f}'.format(np.nanmedian(Nt_rStdv_SRt_lte0)*100))\n",
    "print('**Mean:\\t{:.1f}\\n'.format(np.nanmean(Nt_rStdv_SRt_lte0)*100))\n",
    "\n",
    "Nt_rStdv_ARt_lte0 = npTypeZn['binNt_stdv_ARt'][lte0]/npTypeZn['binNt_mean_ARt'][lte0]\n",
    "# print('Min:\\t{:.1f}'.format(np.nanmin(Nt_rStdv_ARt_lte0)*100))\n",
    "# print('Max:\\t{:.1f}'.format(np.nanmax(Nt_rStdv_ARt_lte0)*100))\n",
    "# print('Median:\\t{:.1f}'.format(np.nanmedian(Nt_rStdv_ARt_lte0)*100))\n",
    "print('**Mean:\\t{:.1f}\\n'.format(np.nanmean(Nt_rStdv_ARt_lte0)*100))\n",
    "\n",
    "Nt_rStdv_SRp_lte0 = npTypeZn['binNt_stdv_SRp'][lte0]/npTypeZn['binNt_mean_SRp'][lte0]\n",
    "# print('Min:\\t{:.1f}'.format(np.nanmin(Nt_rStdv_SRp_lte0)*100))\n",
    "# print('Max:\\t{:.1f}'.format(np.nanmax(Nt_rStdv_SRp_lte0)*100))\n",
    "# print('Median:\\t{:.1f}'.format(np.nanmedian(Nt_rStdv_SRp_lte0)*100))\n",
    "print('**Mean:\\t{:.1f}\\n'.format(np.nanmean(Nt_rStdv_SRp_lte0)*100))\n",
    "\n",
    "Nt_rStdv_ARp_lte0 = npTypeZn['binNt_stdv_ARp'][lte0]/npTypeZn['binNt_mean_ARp'][lte0]\n",
    "# print('Min:\\t{:.1f}'.format(np.nanmin(Nt_rStdv_ARp_lte0)*100))\n",
    "# print('Max:\\t{:.1f}'.format(np.nanmax(Nt_rStdv_ARp_lte0)*100))\n",
    "# print('Median:\\t{:.1f}'.format(np.nanmedian(Nt_rStdv_ARp_lte0)*100))\n",
    "print('**Mean:\\t{:.1f}\\n'.format(np.nanmean(Nt_rStdv_ARp_lte0)*100))"
   ]
  },
  {
   "cell_type": "markdown",
   "metadata": {},
   "source": [
    "# Mean $ℛ_{N_t}$ for $T \\geq 5^{\\circ}C$"
   ]
  },
  {
   "cell_type": "code",
   "execution_count": 31,
   "metadata": {
    "ExecuteTime": {
     "end_time": "2018-07-31T22:14:27.537543Z",
     "start_time": "2018-07-31T22:14:27.525598Z"
    }
   },
   "outputs": [
    {
     "name": "stdout",
     "output_type": "stream",
     "text": [
      "**Mean:\t86.1\n",
      "\n",
      "**Mean:\t43.0\n",
      "\n",
      "**Mean:\t45.1\n",
      "\n",
      "**Mean:\t19.1\n",
      "\n"
     ]
    }
   ],
   "source": [
    "Nt_rStdv_SRt_gte5 = npTypeZn['binNt_stdv_SRt'][gte5]/npTypeZn['binNt_mean_SRt'][gte5]\n",
    "# print('Min:\\t{:.1f}'.format(np.nanmin(Nt_rStdv_SRt_gte5)*100))\n",
    "# print('Max:\\t{:.1f}'.format(np.nanmax(Nt_rStdv_SRt_gte5)*100))\n",
    "# print('Median:\\t{:.1f}'.format(np.nanmedian(Nt_rStdv_SRt_gte5)*100))\n",
    "print('**Mean:\\t{:.1f}\\n'.format(np.nanmean(Nt_rStdv_SRt_gte5)*100))\n",
    "\n",
    "Nt_rStdv_ARt_gte5 = npTypeZn['binNt_stdv_ARt'][gte5]/npTypeZn['binNt_mean_ARt'][gte5]\n",
    "# print('Min:\\t{:.1f}'.format(np.nanmin(Nt_rStdv_ARt_gte5)*100))\n",
    "# print('Max:\\t{:.1f}'.format(np.nanmax(Nt_rStdv_ARt_gte5)*100))\n",
    "# print('Median:\\t{:.1f}'.format(np.nanmedian(Nt_rStdv_ARt_gte5)*100))\n",
    "print('**Mean:\\t{:.1f}\\n'.format(np.nanmean(Nt_rStdv_ARt_gte5)*100))\n",
    "\n",
    "Nt_rStdv_SRp_gte5 = npTypeZn['binNt_stdv_SRp'][gte5]/npTypeZn['binNt_mean_SRp'][gte5]\n",
    "# print('Min:\\t{:.1f}'.format(np.nanmin(Nt_rStdv_SRp_gte5)*100))\n",
    "# print('Max:\\t{:.1f}'.format(np.nanmax(Nt_rStdv_SRp_gte5)*100))\n",
    "# print('Median:\\t{:.1f}'.format(np.nanmedian(Nt_rStdv_SRp_gte5)*100))\n",
    "print('**Mean:\\t{:.1f}\\n'.format(np.nanmean(Nt_rStdv_SRp_gte5)*100))\n",
    "\n",
    "Nt_rStdv_ARp_gte5 = npTypeZn['binNt_stdv_ARp'][gte5]/npTypeZn['binNt_mean_ARp'][gte5]\n",
    "# print('Min:\\t{:.1f}'.format(np.nanmin(Nt_rStdv_ARp_gte5)*100))\n",
    "# print('Max:\\t{:.1f}'.format(np.nanmax(Nt_rStdv_ARp_gte5)*100))\n",
    "# print('Median:\\t{:.1f}'.format(np.nanmedian(Nt_rStdv_ARp_gte5)*100))\n",
    "print('**Mean:\\t{:.1f}\\n'.format(np.nanmean(Nt_rStdv_ARp_gte5)*100))"
   ]
  },
  {
   "cell_type": "markdown",
   "metadata": {},
   "source": [
    "# Mean $ℛ_{TWC}$ for $T \\leq 0^{\\circ}C$"
   ]
  },
  {
   "cell_type": "code",
   "execution_count": 32,
   "metadata": {
    "ExecuteTime": {
     "end_time": "2018-07-31T22:14:27.553380Z",
     "start_time": "2018-07-31T22:14:27.539803Z"
    }
   },
   "outputs": [
    {
     "name": "stdout",
     "output_type": "stream",
     "text": [
      "**Mean:\t49.2\n",
      "\n",
      "**Mean:\t53.4\n",
      "\n",
      "**Mean:\t42.0\n",
      "\n",
      "**Mean:\t91.6\n",
      "\n"
     ]
    }
   ],
   "source": [
    "TWC_rStdv_SRt_lte0 = npTypeZn['binTWC_stdv_SRt'][lte0]/npTypeZn['binTWC_mean_SRt'][lte0]\n",
    "# print('Min:\\t{:.1f}'.format(np.nanmin(TWC_rStdv_SRt_lte0)*100))\n",
    "# print('Max:\\t{:.1f}'.format(np.nanmax(TWC_rStdv_SRt_lte0)*100))\n",
    "# print('Median:\\t{:.1f}'.format(np.nanmedian(TWC_rStdv_SRt_lte0)*100))\n",
    "print('**Mean:\\t{:.1f}\\n'.format(np.nanmean(TWC_rStdv_SRt_lte0)*100))\n",
    "\n",
    "TWC_rStdv_ARt_lte0 = npTypeZn['binTWC_stdv_ARt'][lte0]/npTypeZn['binTWC_mean_ARt'][lte0]\n",
    "# print('Min:\\t{:.1f}'.format(np.nanmin(TWC_rStdv_ARt_lte0)*100))\n",
    "# print('Max:\\t{:.1f}'.format(np.nanmax(TWC_rStdv_ARt_lte0)*100))\n",
    "# print('Median:\\t{:.1f}'.format(np.nanmedian(TWC_rStdv_ARt_lte0)*100))\n",
    "print('**Mean:\\t{:.1f}\\n'.format(np.nanmean(TWC_rStdv_ARt_lte0)*100))\n",
    "\n",
    "TWC_rStdv_SRp_lte0 = npTypeZn['binTWC_stdv_SRp'][lte0]/npTypeZn['binTWC_mean_SRp'][lte0]\n",
    "# print('Min:\\t{:.1f}'.format(np.nanmin(TWC_rStdv_SRp_lte0)*100))\n",
    "# print('Max:\\t{:.1f}'.format(np.nanmax(TWC_rStdv_SRp_lte0)*100))\n",
    "# print('Median:\\t{:.1f}'.format(np.nanmedian(TWC_rStdv_SRp_lte0)*100))\n",
    "print('**Mean:\\t{:.1f}\\n'.format(np.nanmean(TWC_rStdv_SRp_lte0)*100))\n",
    "\n",
    "TWC_rStdv_ARp_lte0 = npTypeZn['binTWC_stdv_ARp'][lte0]/npTypeZn['binTWC_mean_ARp'][lte0]\n",
    "# print('Min:\\t{:.1f}'.format(np.nanmin(TWC_rStdv_ARp_lte0)*100))\n",
    "# print('Max:\\t{:.1f}'.format(np.nanmax(TWC_rStdv_ARp_lte0)*100))\n",
    "# print('Median:\\t{:.1f}'.format(np.nanmedian(TWC_rStdv_ARp_lte0)*100))\n",
    "print('**Mean:\\t{:.1f}\\n'.format(np.nanmean(TWC_rStdv_ARp_lte0)*100))"
   ]
  },
  {
   "cell_type": "markdown",
   "metadata": {},
   "source": [
    "# Mean $ℛ_{TWC}$ for $T \\geq 5^{\\circ}C$"
   ]
  },
  {
   "cell_type": "code",
   "execution_count": 33,
   "metadata": {
    "ExecuteTime": {
     "end_time": "2018-07-31T22:14:27.567339Z",
     "start_time": "2018-07-31T22:14:27.555685Z"
    }
   },
   "outputs": [
    {
     "name": "stdout",
     "output_type": "stream",
     "text": [
      "**Mean:\t78.7\n",
      "\n",
      "**Mean:\t44.0\n",
      "\n",
      "**Mean:\t79.6\n",
      "\n",
      "**Mean:\t33.8\n",
      "\n"
     ]
    }
   ],
   "source": [
    "TWC_rStdv_SRt_gte5 = npTypeZn['binTWC_stdv_SRt'][gte5]/npTypeZn['binTWC_mean_SRt'][gte5]\n",
    "# print('Min:\\t{:.1f}'.format(np.nanmin(TWC_rStdv_SRt_gte5)*100))\n",
    "# print('Max:\\t{:.1f}'.format(np.nanmax(TWC_rStdv_SRt_gte5)*100))\n",
    "# print('Median:\\t{:.1f}'.format(np.nanmedian(TWC_rStdv_SRt_gte5)*100))\n",
    "print('**Mean:\\t{:.1f}\\n'.format(np.nanmean(TWC_rStdv_SRt_gte5)*100))\n",
    "\n",
    "TWC_rStdv_ARt_gte5 = npTypeZn['binTWC_stdv_ARt'][gte5]/npTypeZn['binTWC_mean_ARt'][gte5]\n",
    "# print('Min:\\t{:.1f}'.format(np.nanmin(TWC_rStdv_ARt_gte5)*100))\n",
    "# print('Max:\\t{:.1f}'.format(np.nanmax(TWC_rStdv_ARt_gte5)*100))\n",
    "# print('Median:\\t{:.1f}'.format(np.nanmedian(TWC_rStdv_ARt_gte5)*100))\n",
    "print('**Mean:\\t{:.1f}\\n'.format(np.nanmean(TWC_rStdv_ARt_gte5)*100))\n",
    "\n",
    "TWC_rStdv_SRp_gte5 = npTypeZn['binTWC_stdv_SRp'][gte5]/npTypeZn['binTWC_mean_SRp'][gte5]\n",
    "# print('Min:\\t{:.1f}'.format(np.nanmin(TWC_rStdv_SRp_gte5)*100))\n",
    "# print('Max:\\t{:.1f}'.format(np.nanmax(TWC_rStdv_SRp_gte5)*100))\n",
    "# print('Median:\\t{:.1f}'.format(np.nanmedian(TWC_rStdv_SRp_gte5)*100))\n",
    "print('**Mean:\\t{:.1f}\\n'.format(np.nanmean(TWC_rStdv_SRp_gte5)*100))\n",
    "\n",
    "TWC_rStdv_ARp_gte5 = npTypeZn['binTWC_stdv_ARp'][gte5]/npTypeZn['binTWC_mean_ARp'][gte5]\n",
    "# print('Min:\\t{:.1f}'.format(np.nanmin(TWC_rStdv_ARp_gte5)*100))\n",
    "# print('Max:\\t{:.1f}'.format(np.nanmax(TWC_rStdv_ARp_gte5)*100))\n",
    "# print('Median:\\t{:.1f}'.format(np.nanmedian(TWC_rStdv_ARp_gte5)*100))\n",
    "print('**Mean:\\t{:.1f}\\n'.format(np.nanmean(TWC_rStdv_ARp_gte5)*100))"
   ]
  }
 ],
 "metadata": {
  "anaconda-cloud": {},
  "kernelspec": {
   "display_name": "Python 3",
   "language": "python",
   "name": "python3"
  },
  "language_info": {
   "codemirror_mode": {
    "name": "ipython",
    "version": 3
   },
   "file_extension": ".py",
   "mimetype": "text/x-python",
   "name": "python",
   "nbconvert_exporter": "python",
   "pygments_lexer": "ipython3",
   "version": "3.5.5"
  },
  "varInspector": {
   "cols": {
    "lenName": 16,
    "lenType": 16,
    "lenVar": 40
   },
   "kernels_config": {
    "python": {
     "delete_cmd_postfix": "",
     "delete_cmd_prefix": "del ",
     "library": "var_list.py",
     "varRefreshCmd": "print(var_dic_list())"
    },
    "r": {
     "delete_cmd_postfix": ") ",
     "delete_cmd_prefix": "rm(",
     "library": "var_list.r",
     "varRefreshCmd": "cat(var_dic_list()) "
    }
   },
   "position": {
    "height": "491px",
    "left": "1166px",
    "right": "20px",
    "top": "120px",
    "width": "350px"
   },
   "types_to_exclude": [
    "module",
    "function",
    "builtin_function_or_method",
    "instance",
    "_Feature"
   ],
   "window_display": false
  }
 },
 "nbformat": 4,
 "nbformat_minor": 1
}
