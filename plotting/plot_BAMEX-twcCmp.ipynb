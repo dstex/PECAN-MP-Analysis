{
 "cells": [
  {
   "cell_type": "code",
   "execution_count": 1,
   "metadata": {
    "ExecuteTime": {
     "end_time": "2018-08-05T00:26:50.330469Z",
     "start_time": "2018-08-05T00:26:49.541140Z"
    },
    "run_control": {
     "frozen": false,
     "read_only": false
    },
    "scrolled": true
   },
   "outputs": [],
   "source": [
    "import numpy as np\n",
    "from matplotlib import pyplot as plt\n",
    "import os\n",
    "import warnings\n",
    "warnings.filterwarnings(\"ignore\",category=FutureWarning)\n",
    "import xarray as xr\n",
    "from matplotlib.ticker import MultipleLocator, FormatStrFormatter\n",
    "import matplotlib as mpl\n",
    "\n",
    "mpl.rcParams['axes.autolimit_mode'] = 'round_numbers'\n",
    "mpl.rcParams['axes.xmargin'] = 0\n",
    "mpl.rcParams['axes.ymargin'] = 0\n",
    "\n",
    "# mpl.rcParams['grid.color'] = 'k'\n",
    "mpl.rcParams['grid.linestyle'] = ':'\n",
    "mpl.rcParams['grid.linewidth'] = 0.5\n",
    "\n",
    "warnings.filterwarnings(\"ignore\",message='invalid value encountered in less_equal')\n",
    "\n",
    "%matplotlib inline"
   ]
  },
  {
   "cell_type": "code",
   "execution_count": 2,
   "metadata": {
    "ExecuteTime": {
     "end_time": "2018-08-05T00:26:50.336627Z",
     "start_time": "2018-08-05T00:26:50.332791Z"
    },
    "run_control": {
     "frozen": false,
     "read_only": false
    }
   },
   "outputs": [],
   "source": [
    "savePath = '/Users/danstechman/GoogleDrive/School/Research/PECAN/Microphysics/plots/vertical_profiles'\n",
    "fType = 'pdf'\n",
    "\n",
    "noDispSave = True\n",
    "\n",
    "fNameAppnd = ''\n",
    "\n",
    "flights = ['20150709']"
   ]
  },
  {
   "cell_type": "code",
   "execution_count": 3,
   "metadata": {
    "ExecuteTime": {
     "end_time": "2018-08-05T00:26:50.342789Z",
     "start_time": "2018-08-05T00:26:50.339791Z"
    },
    "run_control": {
     "frozen": false,
     "read_only": false
    }
   },
   "outputs": [],
   "source": [
    "tempLim = (-13,3)"
   ]
  },
  {
   "cell_type": "code",
   "execution_count": 4,
   "metadata": {
    "ExecuteTime": {
     "end_time": "2018-08-05T00:26:51.359991Z",
     "start_time": "2018-08-05T00:26:50.345853Z"
    },
    "code_folding": [],
    "run_control": {
     "frozen": false,
     "read_only": false
    }
   },
   "outputs": [],
   "source": [
    "for flight in flights:\n",
    "    figSavePath = '{}/{}'.format(savePath,flight)\n",
    "    if not os.path.exists(figSavePath):\n",
    "        os.makedirs(figSavePath)\n",
    "    pecanPrmF = '/Users/danstechman/GoogleDrive/PECAN-Data/' + flight + '_PECANparams.nc'        \n",
    "    cipFile = '/Users/danstechman/GoogleDrive/PECAN-Data/mp-data/' + flight + '/' + flight + '_CIPfit-spirals-10s1sAvg_wBAMEXmass.nc'\n",
    "    flFile = '/Users/danstechman/GoogleDrive/PECAN-Data/FlightLevelData/Processed/' + flight + '_FltLvl_Processed.nc'\n",
    "\n",
    "\n",
    "    # Pull out any PECAN parameters\n",
    "    pecanPrms = xr.open_dataset(pecanPrmF,decode_times=False)\n",
    "    startT = pecanPrms.startT.data\n",
    "    endT = pecanPrms.endT.data\n",
    "\n",
    "    # Pull out any global variables/attributes from the netcdf file\n",
    "    cipData_root = xr.open_dataset(cipFile)\n",
    "    sprlZone = str(cipData_root.sprlZone.data,'utf-8')\n",
    "    mcsType = str(cipData_root.mcsType.data,'utf-8')\n",
    "    numSprls = len(sprlZone)\n",
    "\n",
    "    # Loop over each spiral for the current flight\n",
    "#     for ix in np.arange(0,numSprls):\n",
    "    for ix in np.arange(12,13):\n",
    "        cipData = xr.open_dataset(cipFile,group='spiral_' + str(ix+1))\n",
    "\n",
    "        tempC = cipData.tempC_10s.data\n",
    "        twc = cipData.cipTWC_hybrid_igf_mlr.data\n",
    "        twcBMX29jun = cipData.cipTWCBMX29jun_hybrid_igf_mlr.data\n",
    "        twcBMX3jul = cipData.cipTWCBMX3jul_hybrid_igf_mlr.data\n",
    "        twcBMX6jul = cipData.cipTWCBMX6jul_hybrid_igf_mlr.data\n",
    "\n",
    "        twc[twc == 0] = np.nan\n",
    "        twcBMX29jun[twcBMX29jun == 0] = np.nan\n",
    "        twcBMX3jul[twcBMX3jul == 0] = np.nan\n",
    "        twcBMX6jul[twcBMX6jul == 0] = np.nan\n",
    "\n",
    "        traceCol = 'black'\n",
    "        traceColBMX29jun = '#008080'\n",
    "        traceColBMX3jul = '#800000'\n",
    "        traceColBMX6jul = '#911eb4'\n",
    "        lwdth = 4\n",
    "\n",
    "        fig3, ax3 = plt.subplots(figsize=(16,20))\n",
    "        ax3.plot(twc,tempC,color=traceCol,linewidth=lwdth,label='PECAN')\n",
    "        ax3.plot(twcBMX29jun,tempC,color=traceColBMX29jun,linewidth=lwdth,label='BAMEX 29 Jun m-D')\n",
    "        ax3.plot(twcBMX3jul,tempC,color=traceColBMX3jul,linewidth=lwdth,label='BAMEX 3 Jul m-D')\n",
    "        ax3.plot(twcBMX6jul,tempC,color=traceColBMX6jul,linewidth=lwdth,label='BAMEX 6 Jul m-D')\n",
    "        \n",
    "        ax3.set_xscale('log',nonposx='mask')\n",
    "        ax3.set_ylim(tempLim)\n",
    "        ax3.invert_yaxis()\n",
    "        ax3.set_xlabel('Total Water Content ($g\\ m^{-3}$)',fontsize=24)\n",
    "        ax3.set_ylabel('Temperature ($^{\\circ}$C)',fontsize=24)\n",
    "        ax3.tick_params(axis='both', which='major', labelsize=22)\n",
    "        ax3.set_title('{} - Spiral {} - TWC - BAMEX m-D Comparison'.format(flight,ix+1),fontsize=26)\n",
    "        ax3.grid(which='both')\n",
    "        ax3.legend(loc='best',fontsize=18)\n",
    "        if noDispSave:\n",
    "            saveStr3 = '{}/{}_TWC-BAMEX_mD-cmp_sprl{:02d}{}.{}'.format(figSavePath,flight,ix+1,fNameAppnd,fType)\n",
    "            fig3.savefig(saveStr3,bbox_inches='tight')\n",
    "\n",
    "if noDispSave:\n",
    "    plt.close('all')"
   ]
  },
  {
   "cell_type": "code",
   "execution_count": 5,
   "metadata": {
    "ExecuteTime": {
     "end_time": "2018-08-05T00:26:51.370431Z",
     "start_time": "2018-08-05T00:26:51.362626Z"
    }
   },
   "outputs": [
    {
     "data": {
      "text/plain": [
       "8.62657344821652"
      ]
     },
     "execution_count": 5,
     "metadata": {},
     "output_type": "execute_result"
    }
   ],
   "source": [
    "np.nanmean(twcBMX29jun[tempC <= 0.5]/twc[tempC <= 0.5])"
   ]
  },
  {
   "cell_type": "code",
   "execution_count": 6,
   "metadata": {
    "ExecuteTime": {
     "end_time": "2018-08-05T00:26:51.378695Z",
     "start_time": "2018-08-05T00:26:51.372481Z"
    }
   },
   "outputs": [
    {
     "data": {
      "text/plain": [
       "2.4532597612787286"
      ]
     },
     "execution_count": 6,
     "metadata": {},
     "output_type": "execute_result"
    }
   ],
   "source": [
    "np.nanmean(twcBMX3jul[tempC <= 0.5]/twc[tempC <= 0.5])"
   ]
  },
  {
   "cell_type": "code",
   "execution_count": 7,
   "metadata": {
    "ExecuteTime": {
     "end_time": "2018-08-05T00:26:51.388890Z",
     "start_time": "2018-08-05T00:26:51.380704Z"
    }
   },
   "outputs": [
    {
     "data": {
      "text/plain": [
       "1.8261062048907126"
      ]
     },
     "execution_count": 7,
     "metadata": {},
     "output_type": "execute_result"
    }
   ],
   "source": [
    "np.nanmean(twcBMX6jul[tempC <= 0.5]/twc[tempC <= 0.5])"
   ]
  }
 ],
 "metadata": {
  "anaconda-cloud": {},
  "kernelspec": {
   "display_name": "Python 3",
   "language": "python",
   "name": "python3"
  },
  "language_info": {
   "codemirror_mode": {
    "name": "ipython",
    "version": 3
   },
   "file_extension": ".py",
   "mimetype": "text/x-python",
   "name": "python",
   "nbconvert_exporter": "python",
   "pygments_lexer": "ipython3",
   "version": "3.5.5"
  },
  "varInspector": {
   "cols": {
    "lenName": 16,
    "lenType": 16,
    "lenVar": 40
   },
   "kernels_config": {
    "python": {
     "delete_cmd_postfix": "",
     "delete_cmd_prefix": "del ",
     "library": "var_list.py",
     "varRefreshCmd": "print(var_dic_list())"
    },
    "r": {
     "delete_cmd_postfix": ") ",
     "delete_cmd_prefix": "rm(",
     "library": "var_list.r",
     "varRefreshCmd": "cat(var_dic_list()) "
    }
   },
   "types_to_exclude": [
    "module",
    "function",
    "builtin_function_or_method",
    "instance",
    "_Feature"
   ],
   "window_display": false
  }
 },
 "nbformat": 4,
 "nbformat_minor": 1
}
