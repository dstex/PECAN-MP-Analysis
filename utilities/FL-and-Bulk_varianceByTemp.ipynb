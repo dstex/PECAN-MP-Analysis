{
 "cells": [
  {
   "cell_type": "code",
   "execution_count": 1,
   "metadata": {
    "ExecuteTime": {
     "end_time": "2018-05-14T09:43:39.999464",
     "start_time": "2018-05-14T09:43:38.705305"
    },
    "collapsed": false,
    "run_control": {
     "frozen": false,
     "read_only": false
    }
   },
   "outputs": [],
   "source": [
    "import numpy as np\n",
    "from matplotlib import pyplot as plt\n",
    "import os\n",
    "import warnings\n",
    "warnings.filterwarnings(\"ignore\",category=FutureWarning)\n",
    "import xarray as xr\n",
    "from matplotlib.ticker import MultipleLocator, FormatStrFormatter\n",
    "\n",
    "warnings.filterwarnings(\"ignore\",message='invalid value encountered in less_equal')\n",
    "\n",
    "%matplotlib inline"
   ]
  },
  {
   "cell_type": "code",
   "execution_count": 2,
   "metadata": {
    "ExecuteTime": {
     "end_time": "2018-05-14T09:43:40.014682",
     "start_time": "2018-05-14T09:43:40.001441"
    },
    "collapsed": true
   },
   "outputs": [],
   "source": [
    "savePath = '/Users/danstechman/GoogleDrive/School/Research/PECAN/Microphysics/plots/vertical_profiles'\n",
    "fType = 'pdf'\n",
    "\n",
    "noDispSave = True\n",
    "\n",
    "\n",
    "flights = ['20150617','20150620','20150701','20150702','20150706','20150709']\n",
    "# flights = ['20150620']"
   ]
  },
  {
   "cell_type": "code",
   "execution_count": 3,
   "metadata": {
    "ExecuteTime": {
     "end_time": "2018-05-14T09:43:48.468618",
     "start_time": "2018-05-14T09:43:40.018183"
    },
    "collapsed": false
   },
   "outputs": [
    {
     "name": "stdout",
     "output_type": "stream",
     "text": [
      "Working on 20150617...\n",
      "\tAnalyzing Spiral 1\n",
      "\tAnalyzing Spiral 2\n",
      "\tAnalyzing Spiral 3\n",
      "\tAnalyzing Spiral 4\n",
      "\tAnalyzing Spiral 5\n",
      "\tAnalyzing Spiral 6\n",
      "\tAnalyzing Spiral 7\n",
      "Working on 20150620...\n",
      "\tAnalyzing Spiral 1\n",
      "\tAnalyzing Spiral 2\n",
      "\tAnalyzing Spiral 3\n",
      "\tAnalyzing Spiral 4\n",
      "\tAnalyzing Spiral 5\n",
      "\tAnalyzing Spiral 6\n",
      "\tAnalyzing Spiral 7\n",
      "Working on 20150701...\n",
      "\tAnalyzing Spiral 1\n",
      "Working on 20150702...\n",
      "\tAnalyzing Spiral 1\n",
      "\tAnalyzing Spiral 2\n",
      "\tAnalyzing Spiral 3\n",
      "Working on 20150706...\n",
      "\tAnalyzing Spiral 1\n",
      "\tAnalyzing Spiral 2\n",
      "\tAnalyzing Spiral 3\n",
      "\tAnalyzing Spiral 4\n",
      "\tAnalyzing Spiral 5\n",
      "\tAnalyzing Spiral 6\n",
      "\tAnalyzing Spiral 7\n",
      "\tAnalyzing Spiral 8\n",
      "Working on 20150709...\n",
      "\tAnalyzing Spiral 1\n",
      "\tAnalyzing Spiral 2\n",
      "\tAnalyzing Spiral 3\n",
      "\tAnalyzing Spiral 4\n",
      "\tAnalyzing Spiral 5\n",
      "\tAnalyzing Spiral 6\n",
      "\tAnalyzing Spiral 7\n",
      "\tAnalyzing Spiral 8\n",
      "\tAnalyzing Spiral 9\n",
      "\tAnalyzing Spiral 10\n",
      "\tAnalyzing Spiral 11\n",
      "\tAnalyzing Spiral 12\n",
      "\tAnalyzing Spiral 13\n",
      "\tAnalyzing Spiral 14\n",
      "\tAnalyzing Spiral 15\n",
      "\tAnalyzing Spiral 16\n"
     ]
    }
   ],
   "source": [
    "sTot = 42\n",
    "ntChange = np.zeros((sTot,1))\n",
    "twcChange = np.zeros((sTot,1))\n",
    "tempLapse = np.zeros((sTot,1))\n",
    "iSprl = 0\n",
    "for flight in flights:\n",
    "    print('Working on {}...'.format(flight))\n",
    "\n",
    "    cipFile = '/Users/danstechman/GoogleDrive/PECAN-Data/mp-data/' + flight + '/' + flight + '_CIPfit-spirals-10s1sAvg.nc'\n",
    "    pecanPrmF = '/Users/danstechman/GoogleDrive/PECAN-Data/' + flight + '_PECANparams.nc'\n",
    "    flFile = '/Users/danstechman/GoogleDrive/PECAN-Data/FlightLevelData/Processed/' + flight + '_FltLvl_Processed.nc'\n",
    "    \n",
    "    # Pull out any PECAN parameters\n",
    "    pecanPrms = xr.open_dataset(pecanPrmF,decode_times=False)\n",
    "    mlBotTemp = pecanPrms.mlBotTemp.data\n",
    "    mlTopTemp = pecanPrms.mlTopTemp.data\n",
    "    startT = pecanPrms.startT.data\n",
    "    endT = pecanPrms.endT.data\n",
    "    \n",
    "    # Pull out FL data\n",
    "    flData = xr.open_dataset(flFile,decode_times=False)\n",
    "    timeSecs_FL = flData.time_secs_FL.data\n",
    "    fl_tempC = flData.TA.data\n",
    "    fl_rh = flData.RH_hybrid.data\n",
    "    fl_alt_mMSL = flData.Alt.data\n",
    "    fl_windSpd_ms = flData.windSpd.data\n",
    "\n",
    "    # Pull out any global variables/attributes from the netcdf file\n",
    "    cipData_root = xr.open_dataset(cipFile)\n",
    "    sprlZone = str(cipData_root.sprlZone.data,'utf-8')\n",
    "    mcsType = str(cipData_root.mcsType.data,'utf-8')\n",
    "    numSprls = len(sprlZone)\n",
    "    \n",
    "    \n",
    "    # Loop over each spiral for the current flight\n",
    "    for ix in np.arange(0,numSprls):\n",
    "#     for ix in np.arange(3,4):\n",
    "        print('\\tAnalyzing Spiral {}'.format(ix+1))\n",
    "        \n",
    "         # Get start and end indices for FL variables within current spiral\n",
    "        strtMatch = min(timeSecs_FL, key=lambda x: abs(x - startT[ix]))\n",
    "        endMatch = min(timeSecs_FL, key=lambda x: abs(x - endT[ix]))\n",
    "        flStrtIx = np.squeeze(np.where(timeSecs_FL == strtMatch))\n",
    "        flEndIx = np.squeeze(np.where(timeSecs_FL == endMatch))\n",
    "        \n",
    "        flRHsprl = fl_rh[flStrtIx:flEndIx]\n",
    "        flAltSprl = fl_alt_mMSL[flStrtIx:flEndIx]\n",
    "        flTempCsprl = fl_tempC[flStrtIx:flEndIx]\n",
    "        \n",
    "        # Open the group associated with the current spiral\n",
    "        cipData = xr.open_dataset(cipFile,group='spiral_' + str(ix+1))\n",
    "\n",
    "        Nt = cipData.cipNt_hybrid_igf.data\n",
    "        twc = cipData.cipTWC_hybrid_igf_mlr.data\n",
    "        tempC_10s = cipData.tempC_10s.data\n",
    "        cipTime_10s = cipData.cipTsec_10s.data\n",
    "        \n",
    "        twc[twc == 0] = np.nan\n",
    "        Nt[Nt == 0] = np.nan\n",
    "        \n",
    "        # Get index of temp nearest 0 deg C for CIP variables\n",
    "        negTmatch_cip = min(tempC_10s, key=lambda x: abs(x - 0.0))\n",
    "        negTmatch_cipIx = np.squeeze(np.where(tempC_10s == negTmatch_cip))\n",
    "        if tempC_10s[0] > tempC_10s[-1]:\n",
    "            sprlUp = True\n",
    "            cipTempCsprl = tempC_10s[negTmatch_cipIx:]\n",
    "            cipNtSprl = Nt[negTmatch_cipIx:]\n",
    "            cipTWCsprl = twc[negTmatch_cipIx:]\n",
    "            \n",
    "#             tempLapse[iSprl] = (flTempCsprl[-1] - flTempCsprl[0])/((flAltSprl[-1] - flAltSprl[0])/1000)\n",
    "        else:\n",
    "            sprlUp = False\n",
    "            cipTempCsprl = tempC_10s[:negTmatch_cipIx]\n",
    "            cipNtSprl = Nt[:negTmatch_cipIx]\n",
    "            cipTWCsprl = twc[:negTmatch_cipIx]\n",
    "            \n",
    "#             tempLapse[iSprl] = (flTempCsprl[0] - flTempCsprl[-1])/((flAltSprl[0] - flAltSprl[-1])/1000)\n",
    "        \n",
    "\n",
    "        \n",
    "       \n",
    "        \n",
    "        \n",
    "        \n",
    "            \n",
    "        finiteIx = np.isfinite(np.log10(cipNtSprl)) & np.isfinite(cipTempCsprl)\n",
    "        m_Nt, b_Nt = np.polyfit(np.log10(cipNtSprl[finiteIx]), cipTempCsprl[finiteIx], 1)\n",
    "        NtFit = m_Nt*np.log10(cipNtSprl) + b_Nt\n",
    "        ntChange[iSprl] = 1 - ((10**((-5 - b_Nt)/m_Nt))/(10**((-6 - b_Nt)/m_Nt))) # 1 deg C change percentage\n",
    "        \n",
    "        finiteIx = np.isfinite(np.log10(cipTWCsprl)) & np.isfinite(cipTempCsprl)\n",
    "        m_twc, b_twc = np.polyfit(np.log10(cipTWCsprl[finiteIx]), cipTempCsprl[finiteIx], 1)\n",
    "        twcFit = m_twc*np.log10(cipTWCsprl) + b_twc\n",
    "        twcChange[iSprl] = 1 - ((10**((-5 - b_twc)/m_twc))/(10**((-6 - b_twc)/m_twc))) # 1 deg C change percentage\n",
    "        \n",
    "        finiteIx = np.isfinite(flAltSprl) & np.isfinite(flTempCsprl)\n",
    "        m_temp, b_temp = np.polyfit(flTempCsprl[finiteIx], flAltSprl[finiteIx]/1000, 1)\n",
    "        tempFit = m_temp*flTempCsprl + b_temp\n",
    "        tempLapse[iSprl] = ((6 - b_temp)/m_temp) - ((5 - b_temp)/m_temp)\n",
    "        \n",
    "        iSprl += 1"
   ]
  },
  {
   "cell_type": "code",
   "execution_count": 4,
   "metadata": {
    "ExecuteTime": {
     "end_time": "2018-05-14T09:43:48.476639",
     "start_time": "2018-05-14T09:43:48.471168"
    },
    "collapsed": false
   },
   "outputs": [],
   "source": [
    "np.savetxt('/Users/danstechman/Desktop/tempLapse.csv', tempLapse, delimiter=',')"
   ]
  },
  {
   "cell_type": "code",
   "execution_count": null,
   "metadata": {
    "ExecuteTime": {
     "end_time": "2018-05-13T22:18:59.863232",
     "start_time": "2018-05-13T22:18:59.096506"
    },
    "collapsed": false
   },
   "outputs": [],
   "source": [
    "fig, ax = plt.subplots(figsize=(16,20))\n",
    "\n",
    "                \n",
    "ax.axhline(y=mlTopTemp[ix],color='black',linestyle='--',linewidth=3,label='ML Top')\n",
    "ax.axhline(y=mlBotTemp[ix],color='red',linestyle='--',linewidth=3,label='ML Bottom')\n",
    "ax.plot(np.log10(cipNtSprl),cipTempCsprl,'bo',markeredgecolor='white',markeredgewidth=1,markersize=12)\n",
    "ax.plot(np.log10(cipNtSprl),NtFit,'r-')\n",
    "\n",
    "ax.set_ylim(-18.5,22)\n",
    "# ax.set_xscale('log',nonposx='mask')\n",
    "ax.invert_yaxis()\n",
    "ax.set_ylabel('Temperature ($^{\\circ}$C)',fontsize=24)\n",
    "ax.tick_params(axis='both', which='major', labelsize=22)\n",
    "ax.grid(which='both')\n",
    "ax.legend(loc='lower left',fontsize=18)"
   ]
  }
 ],
 "metadata": {
  "anaconda-cloud": {},
  "kernelspec": {
   "display_name": "Python [conda root]",
   "language": "python",
   "name": "conda-root-py"
  },
  "language_info": {
   "codemirror_mode": {
    "name": "ipython",
    "version": 3
   },
   "file_extension": ".py",
   "mimetype": "text/x-python",
   "name": "python",
   "nbconvert_exporter": "python",
   "pygments_lexer": "ipython3",
   "version": "3.5.2"
  }
 },
 "nbformat": 4,
 "nbformat_minor": 1
}
