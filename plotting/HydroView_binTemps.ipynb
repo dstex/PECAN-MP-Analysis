{
 "cells": [
  {
   "cell_type": "code",
   "execution_count": null,
   "metadata": {
    "ExecuteTime": {
     "end_time": "2017-09-25T14:49:58.309954",
     "start_time": "2017-09-25T14:49:57.123458"
    },
    "collapsed": false,
    "run_control": {
     "frozen": false,
     "read_only": false
    }
   },
   "outputs": [],
   "source": [
    "import xarray as xr\n",
    "import os\n",
    "import numpy as np\n",
    "from datetime import datetime as dt\n",
    "from HydroViewer import selectHydroViewer\n",
    "\n",
    "hydro_viewer = selectHydroViewer.hydro_viewer\n",
    "%matplotlib inline "
   ]
  },
  {
   "cell_type": "code",
   "execution_count": null,
   "metadata": {
    "ExecuteTime": {
     "end_time": "2017-09-25T14:49:58.898606",
     "start_time": "2017-09-25T14:49:58.311241"
    },
    "collapsed": false,
    "run_control": {
     "frozen": false,
     "read_only": false
    }
   },
   "outputs": [],
   "source": [
    "flight = '20150706'\n",
    "probeName = 'CIP'\n",
    "campaign = 'PECAN'\n",
    "runLoc = 'local' # or 'keeling'\n",
    "\n",
    "if runLoc is 'local':\n",
    "    dataDir = '/Users/danstechman/GoogleDrive/PECAN-Data/'\n",
    "    plotDir = dataDir + 'mp-data/' + flight + '/binTemps_imgDump/'\n",
    "    imgFile = dataDir + 'mp-data/' + flight + '/DIMG.' + probeName + '.' + flight + '.cdf'\n",
    "    pbpFile = dataDir + 'mp-data/' + flight + '/proc2.' + flight + '.' + probeName + '.cdf'\n",
    "    flFile = dataDir + 'FlightLevelData/Processed/' + flight + '_FltLvl_Processed.nc'\n",
    "elif runLoc is 'keeling':\n",
    "    dataDir = '/data/pecan/a/stechma2/pecan/'\n",
    "    plotDir = dataDir + 'mp-data/UIOPS/' + flight + '/binTemps_imgDump/'\n",
    "    imgFile = dataDir + 'mp-data/UIOPS/' + flight + '/DIMG.' + probeName + '.' + flight + '.cdf'\n",
    "    pbpFile = dataDir + 'mp-data/UIOPS/' + flight + '/proc2.' + flight + '.' + probeName + '.cdf'\n",
    "    flFile = dataDir + 'flight-level-data/processed/' + flight + '_FltLvl_Processed.nc'\n",
    "    \n",
    "if not os.path.exists(plotDir):\n",
    "    os.makedirs(plotDir)\n",
    "\n",
    "pddSprlTimes = np.load(dataDir + 'pecan_PDD-Sprl_times/' + flight + '_pddSprl_times.npy')[()]\n",
    "\n",
    "flData = xr.open_dataset(flFile)\n",
    "temp = flData.get('TA').to_masked_array()\n",
    "dtNum = flData.get('datetime_FL').data\n",
    "dtStr = np.char.mod('%d',dtNum)\n",
    "flDT = np.asarray([dt.strptime(fDate,'%Y%m%d%H%M%S') for fDate in dtStr])"
   ]
  },
  {
   "cell_type": "code",
   "execution_count": null,
   "metadata": {
    "ExecuteTime": {
     "end_time": "2017-09-25T14:49:58.914892",
     "start_time": "2017-09-25T14:49:58.900793"
    },
    "collapsed": false,
    "run_control": {
     "frozen": false,
     "read_only": false
    }
   },
   "outputs": [],
   "source": [
    "if flight is '20150617':\n",
    "        sprlS = pddSprlTimes['I11S_strtDT']\n",
    "        sprlE = pddSprlTimes['I11S_endDT']\n",
    "    \n",
    "        tempBinEdges = np.arange(-19.5,21.5,1.0)\n",
    "\n",
    "    elif flight is '20150620':\n",
    "        sprlS = pddSprlTimes['U4S_strtDT']\n",
    "        sprlE = pddSprlTimes['U4S_endDT']\n",
    "    \n",
    "        tempBinEdges = np.arange(-19.5,21.5,1.0)\n",
    "        \n",
    "    elif flight is '20150701':\n",
    "        sprlS = pddSprlTimes['I17S_strtDT']\n",
    "        sprlE = pddSprlTimes['I17S_endDT']\n",
    "    \n",
    "        tempBinEdges = np.arange(-19.5,21.5,1.0)\n",
    "    \n",
    "    elif flight is '20150702':\n",
    "        sprlS = pddSprlTimes['U8AS_strtDT']\n",
    "        sprlE = pddSprlTimes['U8AS_endDT']\n",
    "    \n",
    "        tempBinEdges = np.arange(-19.5,22.5,1.0)\n",
    "    \n",
    "    elif flight is '20150706':\n",
    "        sprlS = pddSprlTimes['I20S_strtDT']\n",
    "        sprlE = pddSprlTimes['I20S_endDT']\n",
    "    \n",
    "        tempBinEdges = np.arange(-19.5,20.5,1.0)\n",
    "        \n",
    "    elif flight is '20150709':\n",
    "        sprlS = pddSprlTimes['I21S_strtDT']\n",
    "        sprlE = pddSprlTimes['I21S_endDT']\n",
    "    \n",
    "        tempBinEdges = np.arange(-19.5,21.5,1.0)"
   ]
  },
  {
   "cell_type": "code",
   "execution_count": null,
   "metadata": {
    "ExecuteTime": {
     "end_time": "2017-09-25T14:55:28.696565",
     "start_time": "2017-09-25T14:49:58.917676"
    },
    "collapsed": false,
    "run_control": {
     "frozen": false,
     "read_only": false
    },
    "scrolled": true
   },
   "outputs": [],
   "source": [
    "for sprl in range(0,len(sprlS)):\n",
    "    print('\\n----- Working on Spiral {} of {} -----'.format(sprl+1,len(sprlS)))\n",
    "    strtIx = np.squeeze(np.where(flDT == sprlS[sprl]))\n",
    "    endIx = np.squeeze(np.where(flDT == sprlE[sprl]))\n",
    "    dtSprl = flDT[strtIx:endIx]\n",
    "    tempSprl = temp[strtIx:endIx]\n",
    "    \n",
    "    histIxs = np.digitize(tempSprl,bins=tempBinEdges)\n",
    "    for binIx in range(1,len(tempBinEdges)):\n",
    "        print('Temperature bin = {}C - {}C'.format(tempBinEdges[binIx-1],tempBinEdges[binIx]))\n",
    "        binnedTimes = dtSprl[np.where(histIxs == binIx)]\n",
    "        if len(binnedTimes) == 0:\n",
    "            print('\\tNo particles observed in this temperature range')\n",
    "            continue\n",
    "        else:\n",
    "            print('\\tFound {} frames in this temperature range'.format(len(binnedTimes)))\n",
    "        outDT = []\n",
    "        for dtime in binnedTimes:\n",
    "            outDT.append(int(dt.strftime(dtime,'%H%M%S')))\n",
    "        filePrfx = '{}_S{:02d}_{:02d}C_'.format(flight,sprl+1,int(np.mean(tempBinEdges[binIx-1:binIx+1])))\n",
    "        hydro_viewer(imgFile,pbpFile,plotDir,campaign,probeName,outDT,filePrfx=filePrfx)"
   ]
  }
 ],
 "metadata": {
  "anaconda-cloud": {},
  "kernelspec": {
   "display_name": "Python [conda root]",
   "language": "python",
   "name": "conda-root-py"
  },
  "language_info": {
   "codemirror_mode": {
    "name": "ipython",
    "version": 3
   },
   "file_extension": ".py",
   "mimetype": "text/x-python",
   "name": "python",
   "nbconvert_exporter": "python",
   "pygments_lexer": "ipython3",
   "version": "3.5.2"
  }
 },
 "nbformat": 4,
 "nbformat_minor": 1
}
