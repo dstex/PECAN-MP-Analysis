{
 "cells": [
  {
   "cell_type": "code",
   "execution_count": 1,
   "metadata": {
    "ExecuteTime": {
     "end_time": "2018-08-01T03:06:40.782891Z",
     "start_time": "2018-08-01T03:06:40.160668Z"
    },
    "run_control": {
     "frozen": false,
     "read_only": false
    }
   },
   "outputs": [],
   "source": [
    "import numpy as np\n",
    "from matplotlib import pyplot as plt\n",
    "import os\n",
    "import warnings\n",
    "warnings.filterwarnings(\"ignore\",category=FutureWarning)\n",
    "import xarray as xr\n",
    "from matplotlib.ticker import MultipleLocator, FormatStrFormatter\n",
    "\n",
    "warnings.filterwarnings(\"ignore\",message='invalid value encountered in less_equal')\n",
    "\n",
    "%matplotlib inline"
   ]
  },
  {
   "cell_type": "code",
   "execution_count": 4,
   "metadata": {
    "ExecuteTime": {
     "end_time": "2018-08-01T03:06:55.890918Z",
     "start_time": "2018-08-01T03:06:55.887305Z"
    },
    "run_control": {
     "frozen": false,
     "read_only": false
    }
   },
   "outputs": [],
   "source": [
    "savePath = '/Users/danstechman/GoogleDrive/School/Research/PECAN/Microphysics/plots/vertical_profiles'\n",
    "fType = 'pdf'\n",
    "\n",
    "\n",
    "# flights = ['20150617','20150620','20150701','20150702','20150706','20150709']\n",
    "flights = ['20150620']"
   ]
  },
  {
   "cell_type": "code",
   "execution_count": 5,
   "metadata": {
    "ExecuteTime": {
     "end_time": "2018-08-01T03:06:56.309571Z",
     "start_time": "2018-08-01T03:06:55.893934Z"
    },
    "run_control": {
     "frozen": false,
     "read_only": false
    }
   },
   "outputs": [
    {
     "name": "stdout",
     "output_type": "stream",
     "text": [
      "Working on 20150706...\n",
      "\tAnalyzing Spiral 2\n",
      "17.926551740473972\n",
      "6.244524378263461\n"
     ]
    }
   ],
   "source": [
    "sTot = 1\n",
    "ntChange = np.zeros((sTot,1))\n",
    "twcChange = np.zeros((sTot,1))\n",
    "tempLapse = np.zeros((sTot,1))\n",
    "iSprl = 0\n",
    "for flight in flights:\n",
    "    print('Working on {}...'.format(flight))\n",
    "\n",
    "    cipFile = '/Users/danstechman/GoogleDrive/PECAN-Data/mp-data/' + flight + '/' + flight + '_CIPfit-spirals-10s1sAvg.nc'\n",
    "    pecanPrmF = '/Users/danstechman/GoogleDrive/PECAN-Data/' + flight + '_PECANparams.nc'\n",
    "    flFile = '/Users/danstechman/GoogleDrive/PECAN-Data/FlightLevelData/Processed/' + flight + '_FltLvl_Processed.nc'\n",
    "    \n",
    "    # Pull out any PECAN parameters\n",
    "    pecanPrms = xr.open_dataset(pecanPrmF,decode_times=False)\n",
    "    mlBotTemp = pecanPrms.mlBotTemp.data\n",
    "    mlTopTemp = pecanPrms.mlTopTemp.data\n",
    "    startT = pecanPrms.startT.data\n",
    "    endT = pecanPrms.endT.data\n",
    "    \n",
    "    # Pull out FL data\n",
    "    flData = xr.open_dataset(flFile,decode_times=False)\n",
    "    timeSecs_FL = flData.time_secs_FL.data\n",
    "    fl_tempC = flData.TA.data\n",
    "    fl_rh = flData.RH_hybrid.data\n",
    "    fl_alt_mMSL = flData.Alt.data\n",
    "    fl_windSpd_ms = flData.windSpd.data\n",
    "\n",
    "    # Pull out any global variables/attributes from the netcdf file\n",
    "    cipData_root = xr.open_dataset(cipFile)\n",
    "    sprlZone = str(cipData_root.sprlZone.data,'utf-8')\n",
    "    mcsType = str(cipData_root.mcsType.data,'utf-8')\n",
    "    numSprls = len(sprlZone)\n",
    "    \n",
    "    \n",
    "    # Loop over each spiral for the current flight\n",
    "#     for ix in np.arange(0,numSprls):\n",
    "    for ix in [1]:\n",
    "        print('\\tAnalyzing Spiral {}'.format(ix+1))\n",
    "        \n",
    "         # Get start and end indices for FL variables within current spiral\n",
    "        strtMatch = min(timeSecs_FL, key=lambda x: abs(x - startT[ix]))\n",
    "        endMatch = min(timeSecs_FL, key=lambda x: abs(x - endT[ix]))\n",
    "        flStrtIx = np.squeeze(np.where(timeSecs_FL == strtMatch))\n",
    "        flEndIx = np.squeeze(np.where(timeSecs_FL == endMatch))\n",
    "        \n",
    "        flRHsprl = fl_rh[flStrtIx:flEndIx]\n",
    "        flAltSprl = fl_alt_mMSL[flStrtIx:flEndIx]\n",
    "        flTempCsprl = fl_tempC[flStrtIx:flEndIx]\n",
    "        \n",
    "        # Open the group associated with the current spiral\n",
    "        cipData = xr.open_dataset(cipFile,group='spiral_' + str(ix+1))\n",
    "\n",
    "        Nt = cipData.cipNt_hybrid_igf.data\n",
    "        twc = cipData.cipTWC_hybrid_igf_mlr.data\n",
    "        tempC_10s = cipData.tempC_10s.data\n",
    "        cipTime_10s = cipData.cipTsec_10s.data\n",
    "        \n",
    "        twc[twc == 0] = np.nan\n",
    "        Nt[Nt == 0] = np.nan\n",
    "        \n",
    "        # Get index of temp nearest 0 deg C for CIP variables\n",
    "        negTmatch_cip = min(tempC_10s, key=lambda x: abs(x - 0.0))\n",
    "        negTmatch_cipIx = np.squeeze(np.where(tempC_10s == negTmatch_cip))\n",
    "        if tempC_10s[0] > tempC_10s[-1]:\n",
    "            sprlUp = True\n",
    "            cipTempCsprl = tempC_10s[negTmatch_cipIx:]\n",
    "            cipNtSprl = Nt[negTmatch_cipIx:]\n",
    "            cipTWCsprl = twc[negTmatch_cipIx:]\n",
    "            \n",
    "#             tempLapse[iSprl] = (flTempCsprl[-1] - flTempCsprl[0])/((flAltSprl[-1] - flAltSprl[0])/1000)\n",
    "        else:\n",
    "            sprlUp = False\n",
    "            cipTempCsprl = tempC_10s[:negTmatch_cipIx]\n",
    "            cipNtSprl = Nt[:negTmatch_cipIx]\n",
    "            cipTWCsprl = twc[:negTmatch_cipIx]\n",
    "            \n",
    "#             tempLapse[iSprl] = (flTempCsprl[0] - flTempCsprl[-1])/((flAltSprl[0] - flAltSprl[-1])/1000)\n",
    "\n",
    "        fitIgnrIx = []\n",
    "        if flight == '20150617':\n",
    "            if ix == 0:\n",
    "                fitIgnrIx = np.where(cipNtSprl < 5e-4)\n",
    "            if ix == 2:\n",
    "                fitIgnrIx = np.where(cipNtSprl < 5e-4)\n",
    "        if flight == '20150706':\n",
    "            if ix == 0:\n",
    "#                 fitIgnrIx = np.where((cipTempCsprl < -8) | (cipTempCsprl > -5))\n",
    "#                 fitIgnrIx = np.where(cipTempCsprl < -5)\n",
    "                fitIgnrIx = np.where(cipTempCsprl < -8)\n",
    "#             if ix == 1:\n",
    "#                 fitIgnrIx = np.where(cipNtSprl < 5e-4)\n",
    "        if flight == '20150709':\n",
    "            if ix == 0:\n",
    "                fitIgnrIx = np.where(cipTempCsprl > -6)\n",
    "                \n",
    "        if fitIgnrIx:\n",
    "            cipNtSprl[fitIgnrIx] = np.nan\n",
    "            cipTWCsprl[fitIgnrIx] = np.nan\n",
    "            \n",
    "        finiteIx = np.isfinite(np.log10(cipNtSprl)) & np.isfinite(cipTempCsprl)\n",
    "        pf_Nt = np.poly1d(np.polyfit(cipTempCsprl[finiteIx],np.log10(cipNtSprl[finiteIx]),  1))\n",
    "        ntChange[iSprl] = 1 - (10**pf_Nt(-6)/10**pf_Nt(-5)) # 1 deg C change percentage\n",
    "        \n",
    "        finiteIx = np.isfinite(np.log10(cipTWCsprl)) & np.isfinite(cipTempCsprl)\n",
    "        pf_twc = np.poly1d(np.polyfit(cipTempCsprl[finiteIx],np.log10(cipTWCsprl[finiteIx]),  1))\n",
    "        twcChange[iSprl] = 1 - (10**pf_twc(-6)/10**pf_twc(-5)) # 1 deg C change percentage\n",
    "        \n",
    "        finiteIx = np.isfinite(flAltSprl) & np.isfinite(flTempCsprl)\n",
    "        pf_temp = np.poly1d(np.polyfit(flAltSprl[finiteIx]/1000,flTempCsprl[finiteIx],  1))\n",
    "        tempLapse[iSprl] = pf_temp(6) - pf_temp(5)\n",
    "        \n",
    "#         finiteIx = np.isfinite(flAltSprl) & np.isfinite(flTempCsprl)\n",
    "#         m_temp, b_temp = np.polyfit(flTempCsprl[finiteIx], flAltSprl[finiteIx]/1000, 1)\n",
    "#         tempFit = m_temp*flTempCsprl + b_temp\n",
    "#         tempLapse[iSprl] = ((6 - b_temp)/m_temp) - ((5 - b_temp)/m_temp)\n",
    "        \n",
    "        iSprl += 1\n",
    "        \n",
    "print(ntChange[0][0]*100)\n",
    "print(twcChange[0][0]*100)"
   ]
  },
  {
   "cell_type": "code",
   "execution_count": null,
   "metadata": {
    "ExecuteTime": {
     "end_time": "2018-07-11T23:39:42.290011Z",
     "start_time": "2018-07-11T23:39:42.279170Z"
    }
   },
   "outputs": [],
   "source": [
    "tempLapse"
   ]
  },
  {
   "cell_type": "code",
   "execution_count": null,
   "metadata": {
    "ExecuteTime": {
     "end_time": "2018-07-02T17:14:55.192098Z",
     "start_time": "2018-07-02T17:14:55.189524Z"
    },
    "run_control": {
     "frozen": false,
     "read_only": false
    }
   },
   "outputs": [],
   "source": [
    "# np.savetxt('/Users/danstechman/Desktop/dTWCdT.csv', twcChange, delimiter=',')"
   ]
  },
  {
   "cell_type": "code",
   "execution_count": 6,
   "metadata": {
    "ExecuteTime": {
     "end_time": "2018-08-01T02:56:58.231656Z",
     "start_time": "2018-08-01T02:56:57.521628Z"
    },
    "run_control": {
     "frozen": false,
     "read_only": false
    }
   },
   "outputs": [
    {
     "data": {
      "text/plain": [
       "Text(0.5,1,'20150709 - Spiral 1')"
      ]
     },
     "execution_count": 6,
     "metadata": {},
     "output_type": "execute_result"
    },
    {
     "data": {
      "image/png": "[encoded data removed]",
      "text/plain": [
       "<Figure size 1152x1440 with 1 Axes>"
      ]
     },
     "metadata": {},
     "output_type": "display_data"
    }
   ],
   "source": [
    "fig, ax = plt.subplots(figsize=(16,20))\n",
    "\n",
    "ax.plot(cipNtSprl,cipTempCsprl,'bo',markeredgecolor='white',markeredgewidth=1,markersize=12)\n",
    "ax.plot(10**(pf_Nt(cipTempCsprl)),cipTempCsprl,'r-')\n",
    "# ax.plot(cipTWCsprl,cipTempCsprl,'bo',markeredgecolor='white',markeredgewidth=1,markersize=12)\n",
    "# ax.plot(10**(pf_twc(cipTempCsprl)),cipTempCsprl,'r-')\n",
    "\n",
    "ax.set_ylim(-18.5,5)\n",
    "ax.set_xscale('log',nonposx='mask')\n",
    "ax.invert_yaxis()\n",
    "ax.set_ylabel('Temperature ($^{\\circ}$C)',fontsize=24)\n",
    "ax.tick_params(axis='both', which='major', labelsize=22)\n",
    "ax.grid(which='both')\n",
    "# ax.legend(loc='lower left',fontsize=18)\n",
    "ax.set_title('{} - Spiral {}'.format(flight,ix+1),fontsize=28)"
   ]
  }
 ],
 "metadata": {
  "anaconda-cloud": {},
  "kernelspec": {
   "display_name": "Python 3",
   "language": "python",
   "name": "python3"
  },
  "language_info": {
   "codemirror_mode": {
    "name": "ipython",
    "version": 3
   },
   "file_extension": ".py",
   "mimetype": "text/x-python",
   "name": "python",
   "nbconvert_exporter": "python",
   "pygments_lexer": "ipython3",
   "version": "3.5.5"
  },
  "varInspector": {
   "cols": {
    "lenName": 16,
    "lenType": 16,
    "lenVar": 40
   },
   "kernels_config": {
    "python": {
     "delete_cmd_postfix": "",
     "delete_cmd_prefix": "del ",
     "library": "var_list.py",
     "varRefreshCmd": "print(var_dic_list())"
    },
    "r": {
     "delete_cmd_postfix": ") ",
     "delete_cmd_prefix": "rm(",
     "library": "var_list.r",
     "varRefreshCmd": "cat(var_dic_list()) "
    }
   },
   "types_to_exclude": [
    "module",
    "function",
    "builtin_function_or_method",
    "instance",
    "_Feature"
   ],
   "window_display": false
  }
 },
 "nbformat": 4,
 "nbformat_minor": 1
}
