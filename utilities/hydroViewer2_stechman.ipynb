{
 "cells": [
  {
   "cell_type": "markdown",
   "metadata": {
    "run_control": {
     "frozen": false,
     "read_only": false
    }
   },
   "source": [
    "# Hydrometeor Viewer"
   ]
  },
  {
   "cell_type": "code",
   "execution_count": null,
   "metadata": {
    "ExecuteTime": {
     "end_time": "2017-07-26T10:23:32.350679",
     "start_time": "2017-07-26T10:23:31.051249"
    },
    "collapsed": false,
    "run_control": {
     "frozen": false,
     "read_only": false
    }
   },
   "outputs": [],
   "source": [
    "import numpy as np\n",
    "import scipy.misc as smp\n",
    "import matplotlib as mpl\n",
    "from matplotlib import colors\n",
    "from matplotlib.widgets import Button\n",
    "import matplotlib.pyplot as plt\n",
    "import xarray as xr\n",
    "import glob\n",
    "\n",
    "%matplotlib nbagg"
   ]
  },
  {
   "cell_type": "markdown",
   "metadata": {
    "run_control": {
     "frozen": false,
     "read_only": false
    }
   },
   "source": [
    "Functions to load the particle and image data, & to convert the decimal data to binary."
   ]
  },
  {
   "cell_type": "code",
   "execution_count": null,
   "metadata": {
    "ExecuteTime": {
     "end_time": "2017-07-26T10:23:36.148811",
     "start_time": "2017-07-26T10:23:34.460051"
    },
    "code_folding": [
     8,
     19,
     33,
     57,
     116,
     146,
     197
    ],
    "collapsed": false,
    "run_control": {
     "frozen": false,
     "read_only": false
    }
   },
   "outputs": [],
   "source": [
    "def get_colors(imageMode):\n",
    "    if imageMode==0:\n",
    "        cmap1 = colors.ListedColormap(['black', 'white', 'cyan'])\n",
    "        bounds=[0,1,2,3]\n",
    "        norm = colors.BoundaryNorm(bounds, cmap1.N)\n",
    "        \n",
    "        return cmap1, bounds, norm\n",
    "\n",
    "def probe_defaults(probeName):\n",
    "    invalidSlice = np.array([-1., -1., -1., -1., -1., -1., -1., -1.])\n",
    "    if probeName=='2DS' or probeName=='HVPS':\n",
    "        boundary = np.array([43690, 43690, 43690, 43690, 43690, 43690, 43690, 43690])\n",
    "        boundaryTime = 0;\n",
    "    elif probeName=='CIP' or probeName=='PIP':\n",
    "        boundary = np.array([170, 170, 170, 170, 170, 170, 170, 170])\n",
    "        boundaryTime = 0;\n",
    "        \n",
    "    return boundary, boundaryTime, invalidSlice\n",
    "\n",
    "def get_imageData(inFile, frameStart):\n",
    "    ds = xr.open_dataset(inFile)\n",
    "    yr = ds['year'][frameStart-1:frameStart]\n",
    "    mon = ds['month'][frameStart-1:frameStart]\n",
    "    day = ds['day'][frameStart-1:frameStart]\n",
    "    hr = ds['hour'][frameStart-1:frameStart]\n",
    "    minute = ds['minute'][frameStart-1:frameStart]\n",
    "    sec = ds['second'][frameStart-1:frameStart]\n",
    "    msec = ds['millisec'][frameStart-1:frameStart]\n",
    "    data = ds['data'][frameStart-1:frameStart]\n",
    "    data = data[0].values\n",
    "    \n",
    "    return yr, mon, day, hr, minute, sec, msec, data\n",
    "\n",
    "def load_partData(inFile, probeName):\n",
    "    ds1 = xr.open_dataset(inFile)\n",
    "    time = ds1['Time'].values\n",
    "    frame = ds1['parent_rec_num'].values\n",
    "    partNum = ds1['particle_num'].values\n",
    "    length = ds1['image_length'].values\n",
    "    longestY = ds1['image_longest_y'].values\n",
    "    width = ds1['image_width'].values\n",
    "    dmax = ds1['image_diam_minR'].values\n",
    "    drec = ds1['image_RectangleL'].values\n",
    "    dell = ds1['image_EllipseL'].values\n",
    "    area = ds1['image_area'].values\n",
    "    perim = ds1['image_perimeter'].values\n",
    "    reject = ds1['image_auto_reject']\n",
    "    habit = ds1['holroyd_habit']\n",
    "    if probeName=='2DS' or probeName=='HVPS':\n",
    "        tempTime = ds1['Time_in_seconds'] # time in TAS clock cycles\n",
    "        intArr = np.zeros(len(tempTime.values))\n",
    "        intArr[1:len(tempTime)] = np.diff(tempTime.values) # time difference between particles\n",
    "    else:\n",
    "        intArr = ds1['inter_arrival'].values\n",
    "    \n",
    "    return time, frame, partNum, length, longestY, width, dmax, drec, dell, area, perim, reject, habit, intArr\n",
    "\n",
    "def get_partInfo(probeName, position, partStart, partEnd, hr, minute, sec, frameStart, time, frame, partNum, length,\n",
    "                 longestY, width, dmax, drec, dell, area, perim, reject, habit, intArr):\n",
    "    global sel_partNum, timeIndex, frameIndex, partNumIndex\n",
    "    sel_partNum = np.where((pos[0]>=partStart) & (pos[0]<partEnd))\n",
    "    if len(sel_partNum[0])==0:\n",
    "        print('You selected a particle boundary. Please click on a particle instead.')\n",
    "    else:\n",
    "        sel_partNum = sel_partNum[0][0]+1\n",
    "        sel_frame = frameStart\n",
    "        sel_Time = hr*10000 + minute*100 + sec\n",
    "    \n",
    "        partIndex = np.where((time==sel_Time) & (frame==sel_frame) & (partNum==sel_partNum))\n",
    "        indexShape = (np.asarray(partIndex)).shape\n",
    "        numMatches = indexShape[1] # number of particles that meet criteria (should always equal 1)\n",
    "        \n",
    "        timeIndex = (time[partIndex]).astype(int)\n",
    "        frameIndex = (frame[partIndex]).astype(int)\n",
    "        partNumIndex = (partNum[partIndex]).astype(int)\n",
    "        lengthIndex = (length[partIndex]).astype(int)\n",
    "        widthIndex = (width[partIndex]).astype(int)\n",
    "        longestYIndex = (longestY[partIndex]).astype(int)\n",
    "        dmaxIndex = dmax[partIndex]\n",
    "        drecIndex = drec[partIndex]\n",
    "        dellIndex = dell[partIndex]\n",
    "        areaIndex = area[partIndex]\n",
    "        perimIndex = perim[partIndex]\n",
    "        intArrIndex = intArr[partIndex]\n",
    "        rejectIndex = reject[partIndex]\n",
    "        habitIndex = habit[partIndex]\n",
    "\n",
    "        rejectNumArray = np.array([48, 97, 65, 116, 112, 104, 72, 115, 122, 102, 105, 117, 85])\n",
    "        rejectStrArray = ['Not rejected - 0', 'High aspect ratio - a', 'High area ratio - A',\n",
    "                          'High aspect ratio touching edge - t', 'Low % shadowed area - p', 'Hollow image - h',\n",
    "                          'Hollow image - H', 'Split image - s', 'Zero area image - z', 'Fake zero area image - f',\n",
    "                          'Hollow image - i', 'Hollow image - u', 'Hollow image - U']\n",
    "        for x in np.arange(0,len(rejectNumArray)):\n",
    "            if rejectNumArray[x]==rejectIndex.values:\n",
    "                rejectVal = rejectStrArray[x]\n",
    "\n",
    "        habitNumArray = np.array([77, 67, 116, 111, 108, 97, 103, 115, 104, 105, 100])\n",
    "        habitStrArray = ['Zero image','Center out','Tiny','Oriented','Linear','Aggregate','Graupel','Spherical',\n",
    "                         'Hexagonal','Irregular','Dendrite']\n",
    "        for x in np.arange(0,len(habitNumArray)):\n",
    "            if habitNumArray[x]==habitIndex.values:\n",
    "                habitVal = habitStrArray[x]\n",
    "    \n",
    "        if numMatches != 1:\n",
    "            print('Either no particle was found for the specific frame and particle number, or too many were found.\\nPlease select different values.')\n",
    "        elif probeName=='2DS' or probeName=='HVPS':\n",
    "            print('Time: {}  Frame: {}  Particle: {}\\nLength:{:3d}  Width:{:3d}  LongestY:{:3d}\\nDmax:{:6.3f} mm  Dmax (Rectangle):{:6.3f} mm  Dmax (Ellipse):{:6.3f} mm\\nArea:{:6.3f} mm^2  Perimeter:{:6.3f} mm  Inter-arrival:{:.2e} s\\nReject status: {}  Habit: {}'\n",
    "                  .format(timeIndex[0],frameIndex[0],partNumIndex[0],lengthIndex[0],widthIndex[0],longestYIndex[0],\n",
    "                          dmaxIndex[0],drecIndex[0],dellIndex[0],areaIndex[0],perimIndex[0],intArrIndex[0],\n",
    "                          rejectVal,habitVal))\n",
    "        else: # different formatting of intArr since these data are in xArray's DataArray format and must be converted\n",
    "            print('Time: {}  Frame: {}  Particle: {}\\nLength:{:3d}  Width:{:3d}  LongestY:{:3d}\\nDmax:{:6.3f} mm  Dmax (Rectangle):{:6.3f} mm  Dmax (Ellipse):{:6.3f} mm\\nArea:{:6.3f} mm^2  Perimeter:{:6.3f} mm  Inter-arrival:{:.2e} s\\nReject status: {}  Habit: {}'\n",
    "                  .format(timeIndex[0],frameIndex[0],partNumIndex[0],lengthIndex[0],widthIndex[0],longestYIndex[0],\n",
    "                          dmaxIndex[0],drecIndex[0],dellIndex[0],areaIndex[0],perimIndex[0],intArrIndex[0],\n",
    "                          rejectVal,habitVal))\n",
    "                \n",
    "def get_slice_endpoints(buf): # get particle slice start/end indices, and the indices for the particle boundary\n",
    "    numPart = 0 # number of particles in buffer\n",
    "    startInd = [] # index of the start of a particle\n",
    "    endInd = [] # index of the end of a particle\n",
    "    boundaryInd = [] # index of the particle boundary (series of 8 consecutive '43690' values)\n",
    "    \n",
    "    j = 0\n",
    "    while (buf[j,0] != -1) and (j+1 < buf.shape[0]):\n",
    "        if (np.array_equal(buf[j,:],boundary)) and ((buf[j+1,0]==boundaryTime) or (probeName=='CIP') or\n",
    "                                                   (probeName=='PIP')): # particle boundary\n",
    "            boundaryInd.append(j)\n",
    "            if j>0:\n",
    "                endInd.append(j-1) # index of particle end before the particle boundary (previous particle)\n",
    "                numPart = numPart + 1 # for particle preceeding boundary\n",
    "            startInd.append(j+2) # index of particle start after the particle boundary (next particle)\n",
    "        j = j + 1\n",
    "    \n",
    "    boundaryInd = np.array(boundaryInd, dtype='int')\n",
    "    if (boundaryInd.size>0) or (boundaryInd[0]>0): # no boundaries or first boundary after first slice in buffer\n",
    "        startInd = np.insert(startInd, 0, 0)\n",
    "    startInd = np.array(startInd, dtype='int')\n",
    "    \n",
    "    if boundaryInd[-1]+3 < buf.shape[0]: # particle occurs after last boundary if it's 3rd from last slice in record\n",
    "        endInd.append(buf.shape[0]-1) # last particle ends at end of buffer\n",
    "        endInd = np.array(endInd, dtype='int') \n",
    "    else:\n",
    "        endInd = np.array(endInd, dtype='int') # boundary found at very end of record -- no more particles in buffer\n",
    "        \n",
    "    return numPart, boundaryInd, startInd, endInd\n",
    "    \n",
    "def buffer_integrity(partCount, boundaryInd, partStart, partEnd):\n",
    "    print('There are {} particles and {} boundaries.'.format(partCount, len(boundaryInd)))\n",
    "    if np.any(partEnd-partStart<0): # particle end indices NOT >= start indices [ERROR]\n",
    "        print('Error with particle start/end indices!')\n",
    "    else:\n",
    "        print('Particle start/end indices look OK.')\n",
    "        \n",
    "def image_buffer(buf, probeName, boundaryInd): # generate matrix of 1's and 0's from buffer\n",
    "    if probeName=='2DS' or probeName=='HVPS':\n",
    "        boundaryData = np.tile([2,2,1,1], 32) # alternate 1's and 2's for boundary slice (white & cyan pixels)\n",
    "        buf[buf==-1] = 0 # change invalid values to 0 (unshadowed segment)\n",
    "        buf = 65535 - buf # 0: shadowed; 1: unshadowed\n",
    "        \n",
    "        # convert decimal to binary (8 image words for each slice)\n",
    "        imageData = np.ones([1700,128]) # set up image buffer (1's mean unshadowed pixels)\n",
    "\n",
    "        for x in np.arange(buf.shape[0]):\n",
    "            tempBuf = np.array([np.binary_repr(buf[x,0],16), np.binary_repr(buf[x,1],16), np.binary_repr(buf[x,2],16),\n",
    "                                np.binary_repr(buf[x,3],16), np.binary_repr(buf[x,4],16), np.binary_repr(buf[x,5],16),\n",
    "                                np.binary_repr(buf[x,6],16), np.binary_repr(buf[x,7],16)])\n",
    "            sliceBuf = []\n",
    "            for y in np.arange((buf.shape[1])*16):\n",
    "                sliceBuf.append(tempBuf[(np.floor(y/16)).astype(int)][np.mod(y,16)])\n",
    "            sliceBuf = np.asarray(sliceBuf, dtype='int')\n",
    "            imageData[x,:] = sliceBuf\n",
    "    elif probeName=='CIP' or probeName=='PIP':\n",
    "        boundaryData = np.tile([2,2,1,1], 16) # alternate 1's and 2's for boundary slice (white & cyan pixels)\n",
    "        buf[buf==-1] = 255 # change invalid values to 0 (unshadowed segment)\n",
    "        \n",
    "        # convert decimal to binary (8 image words for each slice)\n",
    "        imageData = np.ones([1700,64]) # set up image buffer (1's mean unshadowed pixels)\n",
    "\n",
    "        for x in np.arange(buf.shape[0]):\n",
    "            tempBuf = np.array([np.binary_repr(int(buf[x,0]),8), np.binary_repr(int(buf[x,1]),8), np.binary_repr(int(buf[x,2]),8),\n",
    "                                np.binary_repr(int(buf[x,3]),8), np.binary_repr(int(buf[x,4]),8), np.binary_repr(int(buf[x,5]),8),\n",
    "                                np.binary_repr(int(buf[x,6]),8), np.binary_repr(int(buf[x,7]),8)])\n",
    "            sliceBuf = []\n",
    "            for y in np.arange((buf.shape[1])*8):\n",
    "                sliceBuf.append(tempBuf[(np.floor(y/8)).astype(int)][np.mod(y,8)])\n",
    "            sliceBuf = np.asarray(sliceBuf, dtype='int')\n",
    "            imageData[x,:] = sliceBuf\n",
    "\n",
    "    imageData[boundaryInd,:] = boundaryData # write in boundary slice\n",
    "    \n",
    "    if boundaryInd[-1]+1 < buf.shape[0]:\n",
    "        imageData[boundaryInd+1,:] = 1.\n",
    "    else:\n",
    "        imageData[boundaryInd[0:-2]+1,:] = 1.\n",
    "    \n",
    "    return(imageData)\n",
    "\n",
    "def annotate_particle_incriments(boundaryInd): # get indices along buffer for every 5 particles (optional plotting)\n",
    "    partInds = boundaryInd[np.arange(3,(boundaryInd.size)-1, 5)]+1\n",
    "    \n",
    "    return partInds"
   ]
  },
  {
   "cell_type": "markdown",
   "metadata": {
    "run_control": {
     "frozen": false,
     "read_only": false
    }
   },
   "source": [
    "User inputs go here. A few notes:\n",
    "- partFile: file path to particle-by-particle file (output data from image_proc_sm.m script)\n",
    "- probeName: '2DC', '2DP', 'CIP', 'PIP', '2DS', 'HVPS'\n",
    "- campaign: 'plows', 'mc3e', 'gcpex', 'pecan', 'olympex', etc.\n",
    "- date: 'yyyymmdd' (for file output path)\n",
    "- annotate: 1 - a red asterisk is overlaid every 5 particles (useful for matching w/ PBP data); 0 - no annotations\n",
    "- imageMode: 0 - all particles shaded black; 1 - rejected particles shaded blue; 2 - particles shaded by reject code; 3 - particles shaded by habit\n",
    "- inFile: file path to decompressed image file (ouput data from read_binary_*.m script)\n",
    "- frameStart: initial frame number to initiate plotting code"
   ]
  },
  {
   "cell_type": "code",
   "execution_count": null,
   "metadata": {
    "ExecuteTime": {
     "end_time": "2017-07-26T10:35:05.979293",
     "start_time": "2017-07-26T10:34:37.900056"
    },
    "collapsed": false,
    "run_control": {
     "frozen": false,
     "read_only": false
    }
   },
   "outputs": [],
   "source": [
    "partFile = '/Users/danstechman/GoogleDrive/PECAN-Data/mp-data/20150706/proc2.20150706.CIP.cdf'\n",
    "probeName = 'CIP'\n",
    "[time, frame, partNum, length, longestY, width, dmax, drec, dell, area, perim, reject, habit, intArr] = load_partData(\n",
    "    partFile, probeName)"
   ]
  },
  {
   "cell_type": "code",
   "execution_count": null,
   "metadata": {
    "ExecuteTime": {
     "end_time": "2017-07-26T10:36:23.128514",
     "start_time": "2017-07-26T10:36:22.610374"
    },
    "collapsed": false,
    "run_control": {
     "frozen": false,
     "read_only": false
    }
   },
   "outputs": [],
   "source": [
    "campaign = 'PECAN'; date = '20150706'\n",
    "annotate = 1.; imageMode = 0.\n",
    "imageFile = '/Users/danstechman/GoogleDrive/PECAN-Data/mp-data/20150706/DIMG.PIP.20150706.cdf'\n",
    "frameStart = 20000\n",
    "\n",
    "[cmap1, bounds, norm] = get_colors(imageMode)\n",
    "[boundary, boundaryTime, invalidSlice] = probe_defaults(probeName)\n",
    "[yr, mon, day, hr, minute, sec, msec, data] = get_imageData(imageFile, frameStart)\n",
    "[partCount, boundaryInd, partStart, partEnd] = get_slice_endpoints(data)\n",
    "img = image_buffer(data, probeName, boundaryInd)\n",
    "\n",
    "frameNo = frameStart"
   ]
  },
  {
   "cell_type": "markdown",
   "metadata": {
    "run_control": {
     "frozen": false,
     "read_only": false
    }
   },
   "source": [
    "Plot image record, with abiliy to select a particlular particle or to advance/rewind frame by frame."
   ]
  },
  {
   "cell_type": "code",
   "execution_count": null,
   "metadata": {
    "ExecuteTime": {
     "end_time": "2017-07-26T10:46:28.218758",
     "start_time": "2017-07-26T10:46:27.863706"
    },
    "collapsed": false,
    "run_control": {
     "frozen": false,
     "read_only": false
    },
    "scrolled": true
   },
   "outputs": [],
   "source": [
    "pos = []\n",
    "def onclick(event):\n",
    "    global pos\n",
    "    pos = [event.xdata, event.ydata]\n",
    "\n",
    "fig, ax = plt.subplots(1, figsize=(16,2))\n",
    "implot = ax.imshow((img[0:1700,:]).T, cmap=cmap1, norm=norm)\n",
    "titleStr = '{} {} - {} Frame #{}: {:02d}{:02d}{:02d}.{:03d} | {} particles'.format(campaign,date,probeName,frameStart, int(hr.values[0]),\n",
    "                                                                        int(minute.values[0]), int(sec.values[0]),\n",
    "                                                                        int(msec.values[0]), partCount)\n",
    "ax.set_title(titleStr, size=10)\n",
    "ax.set_xticks([]), ax.set_yticks([])\n",
    "fig.canvas.mpl_connect('button_press_event', onclick)\n",
    "\n",
    "class Index(object):\n",
    "    ind = frameStart\n",
    "    def next(self, event):\n",
    "        global frameNo, hr, minute, sec, boundaryInd, partStart, partEnd, img\n",
    "        self.ind += 1\n",
    "        frameNo = self.ind\n",
    "        [yr, mon, day, hr, minute, sec, msec, data] = get_imageData(imageFile, frameNo)\n",
    "        [partCount, boundaryInd, partStart, partEnd] = get_slice_endpoints(data)\n",
    "        img = image_buffer(data, probeName, boundaryInd)\n",
    "        implot = ax.imshow((img[0:1700,:]).T, cmap=cmap1, norm=norm)\n",
    "        titleStr = '{} {} - {} Frame #{}: {:02d}{:02d}{:02d}.{:03d} | {} particles'.format(campaign,date,probeName,frameNo, int(hr.values[0]),\n",
    "                                                                                int(minute.values[0]),\n",
    "                                                                                int(sec.values[0]),\n",
    "                                                                                int(msec.values[0]), partCount)\n",
    "        ax.set_title(titleStr, size=10)\n",
    "        plt.draw()\n",
    "        return frameNo\n",
    "    def prev(self, event):\n",
    "        global frameNo, hr, minute, sec, boundaryInd, partStart, partEnd, img\n",
    "        self.ind -= 1\n",
    "        frameNo = self.ind\n",
    "        [yr, mon, day, hr, minute, sec, msec, data] = get_imageData(imageFile, frameNo)\n",
    "        [partCount, boundaryInd, partStart, partEnd] = get_slice_endpoints(data)\n",
    "        img = image_buffer(data, probeName, boundaryInd)\n",
    "        implot = ax.imshow((img[0:1700,:]).T, cmap=cmap1, norm=norm)\n",
    "        titleStr = '{} {} - {} Frame #{}: {:02d}{:02d}{:02d}.{:03d} | {} particles'.format(campaign,date,probeName,frameNo, int(hr.values[0]),\n",
    "                                                                                int(minute.values[0]),\n",
    "                                                                                int(sec.values[0]),\n",
    "                                                                                int(msec.values[0]), partCount)\n",
    "        ax.set_title(titleStr, size=10)\n",
    "        plt.draw()\n",
    "        return frameNo\n",
    "\n",
    "callback = Index()\n",
    "axprev = plt.axes([0.7, 0.05, 0.1, 0.075])\n",
    "axnext = plt.axes([0.81, 0.05, 0.1, 0.075])\n",
    "bnext = Button(axnext, 'Next')\n",
    "bnext.on_clicked(callback.next)\n",
    "bprev = Button(axprev, 'Previous')\n",
    "bprev.on_clicked(callback.prev)\n",
    "plt.show()"
   ]
  },
  {
   "cell_type": "markdown",
   "metadata": {
    "run_control": {
     "frozen": false,
     "read_only": false
    }
   },
   "source": [
    "Display selected particle properties."
   ]
  },
  {
   "cell_type": "code",
   "execution_count": null,
   "metadata": {
    "ExecuteTime": {
     "end_time": "2017-07-25T14:48:20.111246",
     "start_time": "2017-07-25T14:48:19.763605"
    },
    "collapsed": false,
    "run_control": {
     "frozen": false,
     "read_only": false
    },
    "scrolled": true
   },
   "outputs": [],
   "source": [
    "get_partInfo(probeName, pos, partStart, partEnd, hr.values[0], minute.values[0], sec.values[0], frameNo,\n",
    "             time, frame, partNum, length, longestY, width, dmax, drec, dell, area, perim, reject, habit, intArr)"
   ]
  },
  {
   "cell_type": "markdown",
   "metadata": {
    "run_control": {
     "frozen": false,
     "read_only": false
    }
   },
   "source": [
    "Save image of selected particle to file."
   ]
  },
  {
   "cell_type": "code",
   "execution_count": null,
   "metadata": {
    "collapsed": false,
    "run_control": {
     "frozen": false,
     "read_only": false
    }
   },
   "outputs": [],
   "source": [
    "img_sub = np.array(img[partStart[sel_partNum-1]:partEnd[sel_partNum-1]+1,:], dtype=np.byte)\n",
    "image = smp.toimage(img_sub.T, mode='L')\n",
    "outFile = '/data/gpm/a/shared/finlon2/{}/images/{}/individual/{}.{}.{}_{}.png'.format(campaign, date, probeName,\n",
    "                                                                                      timeIndex[0], frameIndex[0],\n",
    "                                                                                      partNumIndex[0])\n",
    "image.save(outFile)\n",
    "print('Particle saved out to file: {}'.format(outFile))"
   ]
  }
 ],
 "metadata": {
  "anaconda-cloud": {},
  "kernelspec": {
   "display_name": "Python [conda root]",
   "language": "python",
   "name": "conda-root-py"
  },
  "language_info": {
   "codemirror_mode": {
    "name": "ipython",
    "version": 3
   },
   "file_extension": ".py",
   "mimetype": "text/x-python",
   "name": "python",
   "nbconvert_exporter": "python",
   "pygments_lexer": "ipython3",
   "version": "3.5.2"
  }
 },
 "nbformat": 4,
 "nbformat_minor": 1
}
