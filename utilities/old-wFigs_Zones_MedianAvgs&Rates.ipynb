{
 "cells": [
  {
   "cell_type": "code",
   "execution_count": 1,
   "metadata": {
    "ExecuteTime": {
     "end_time": "2018-07-20T22:12:06.745849Z",
     "start_time": "2018-07-20T22:12:06.137435Z"
    },
    "run_control": {
     "frozen": false,
     "read_only": false
    }
   },
   "outputs": [],
   "source": [
    "import numpy as np\n",
    "from matplotlib import pyplot as plt\n",
    "import os\n",
    "import warnings\n",
    "warnings.filterwarnings(\"ignore\",category=FutureWarning)\n",
    "import xarray as xr\n",
    "from matplotlib.ticker import MultipleLocator, FormatStrFormatter\n",
    "\n",
    "warnings.filterwarnings(\"ignore\",message='invalid value encountered in less_equal')\n",
    "\n",
    "%matplotlib inline"
   ]
  },
  {
   "cell_type": "code",
   "execution_count": 2,
   "metadata": {
    "ExecuteTime": {
     "end_time": "2018-07-20T22:12:06.753126Z",
     "start_time": "2018-07-20T22:12:06.748319Z"
    }
   },
   "outputs": [],
   "source": [
    "npAllSprls = np.load('/Users/danstechman/GoogleDrive/PECAN-Data/mp-data/allSpirals_stats.npz')"
   ]
  },
  {
   "cell_type": "code",
   "execution_count": 3,
   "metadata": {
    "ExecuteTime": {
     "end_time": "2018-07-20T22:12:06.759970Z",
     "start_time": "2018-07-20T22:12:06.755673Z"
    }
   },
   "outputs": [],
   "source": [
    "temps = npAllSprls['bin_mid']"
   ]
  },
  {
   "cell_type": "code",
   "execution_count": 4,
   "metadata": {
    "ExecuteTime": {
     "end_time": "2018-07-20T22:12:06.769099Z",
     "start_time": "2018-07-20T22:12:06.762697Z"
    }
   },
   "outputs": [],
   "source": [
    "temp_lte0 = npAllSprls['bin_mid'][:20]\n",
    "temp_gt0 = npAllSprls['bin_mid'][20:]\n",
    "temp_gte5 = npAllSprls['bin_mid'][24:]"
   ]
  },
  {
   "cell_type": "markdown",
   "metadata": {},
   "source": [
    "# $dN_t/dT$ for $T \\leq 0^{\\circ}C$"
   ]
  },
  {
   "cell_type": "code",
   "execution_count": null,
   "metadata": {
    "ExecuteTime": {
     "end_time": "2018-07-09T20:57:49.119655Z",
     "start_time": "2018-07-09T20:57:48.385384Z"
    },
    "run_control": {
     "frozen": false,
     "read_only": false
    }
   },
   "outputs": [],
   "source": [
    "ntMed_TZ_lte0 = npAllSprls['binNt_median_TZ'][:20]\n",
    "finiteIx = np.isfinite(np.log10(ntMed_TZ_lte0))\n",
    "pf_ntMed_TZ_lte0 = np.poly1d(np.polyfit(temp_lte0[finiteIx],np.log10(ntMed_TZ_lte0[finiteIx]),  1))\n",
    "ntMed_TZ_lte0_dT = 1 - (10**pf_ntMed_TZ_lte0(-6)/10**pf_ntMed_TZ_lte0(-5)) # 1 deg C change percentage\n",
    "        \n",
    "print(ntMed_TZ_lte0_dT)\n",
    "\n",
    "# fig, ax = plt.subplots(figsize=(16,20))\n",
    "# ax.plot(ntMed_TZ_lte0,temp_lte0,'b-')\n",
    "# ax.plot(ntMed_TZ_lte0,temp_lte0,'bo',markeredgecolor='white',markeredgewidth=1,markersize=12)\n",
    "# ax.plot(10**(pf_ntMed_TZ_lte0(temp_lte0)),temp_lte0,'r-')\n",
    "\n",
    "# ax.set_ylim(-18.5,5)\n",
    "# ax.set_title('TZ\\t\\t$dN_t/dT$ for $T \\leq 0^{\\circ}C$',fontsize=24)\n",
    "# ax.set_xscale('log',nonposx='mask')\n",
    "# ax.invert_yaxis()\n",
    "# ax.set_ylabel('Temperature ($^{\\circ}$C)',fontsize=24)\n",
    "# ax.tick_params(axis='both', which='major', labelsize=22)\n",
    "# ax.grid(which='both')"
   ]
  },
  {
   "cell_type": "code",
   "execution_count": null,
   "metadata": {
    "ExecuteTime": {
     "end_time": "2018-07-09T20:57:57.181014Z",
     "start_time": "2018-07-09T20:57:56.430670Z"
    },
    "run_control": {
     "frozen": false,
     "read_only": false
    }
   },
   "outputs": [],
   "source": [
    "ntMed_SR_lte0 = npAllSprls['binNt_median_SR'][:20]\n",
    "finiteIx = np.isfinite(np.log10(ntMed_SR_lte0))\n",
    "pf_ntMed_SR_lte0 = np.poly1d(np.polyfit(temp_lte0[finiteIx],np.log10(ntMed_SR_lte0[finiteIx]),  1))\n",
    "ntMed_SR_lte0_dT = 1 - (10**pf_ntMed_SR_lte0(-6)/10**pf_ntMed_SR_lte0(-5)) # 1 deg C change percentage\n",
    "        \n",
    "print(ntMed_SR_lte0_dT)\n",
    "\n",
    "# fig, ax = plt.subplots(figsize=(16,20))\n",
    "# ax.plot(ntMed_SR_lte0,temp_lte0,'b-')\n",
    "# ax.plot(ntMed_SR_lte0,temp_lte0,'bo',markeredgecolor='white',markeredgewidth=1,markersize=12)\n",
    "# ax.plot(10**(pf_ntMed_SR_lte0(temp_lte0)),temp_lte0,'r-')\n",
    "\n",
    "# ax.set_ylim(-18.5,5)\n",
    "# ax.set_title('ESR\\t\\t$dN_t/dT$ for $T \\leq 0^{\\circ}C$',fontsize=24)\n",
    "# ax.set_xscale('log',nonposx='mask')\n",
    "# ax.invert_yaxis()\n",
    "# ax.set_ylabel('Temperature ($^{\\circ}$C)',fontsize=24)\n",
    "# ax.tick_params(axis='both', which='major', labelsize=22)\n",
    "# ax.grid(which='both')"
   ]
  },
  {
   "cell_type": "code",
   "execution_count": null,
   "metadata": {
    "ExecuteTime": {
     "end_time": "2018-07-09T20:58:02.512365Z",
     "start_time": "2018-07-09T20:58:01.743795Z"
    },
    "run_control": {
     "frozen": false,
     "read_only": false
    }
   },
   "outputs": [],
   "source": [
    "ntMed_AR_lte0 = npAllSprls['binNt_median_AR'][:20]\n",
    "finiteIx = np.isfinite(np.log10(ntMed_AR_lte0))\n",
    "pf_ntMed_AR_lte0 = np.poly1d(np.polyfit(temp_lte0[finiteIx],np.log10(ntMed_AR_lte0[finiteIx]),  1))\n",
    "ntMed_AR_lte0_dT = 1 - (10**pf_ntMed_AR_lte0(-6)/10**pf_ntMed_AR_lte0(-5)) # 1 deg C change percentage\n",
    "        \n",
    "print(ntMed_AR_lte0_dT)\n",
    "\n",
    "# fig, ax = plt.subplots(figsize=(16,20))\n",
    "# ax.plot(ntMed_AR_lte0,temp_lte0,'b-')\n",
    "# ax.plot(ntMed_AR_lte0,temp_lte0,'bo',markeredgecolor='white',markeredgewidth=1,markersize=12)\n",
    "# ax.plot(10**(pf_ntMed_AR_lte0(temp_lte0)),temp_lte0,'r-')\n",
    "\n",
    "# ax.set_ylim(-18.5,5)\n",
    "# ax.set_title('AR\\t\\t$dN_t/dT$ for $T \\leq 0^{\\circ}C$',fontsize=24)\n",
    "# ax.set_xscale('log',nonposx='mask')\n",
    "# ax.invert_yaxis()\n",
    "# ax.set_ylabel('Temperature ($^{\\circ}$C)',fontsize=24)\n",
    "# ax.tick_params(axis='both', which='major', labelsize=22)\n",
    "# ax.grid(which='both')"
   ]
  },
  {
   "cell_type": "markdown",
   "metadata": {},
   "source": [
    "# $dN_t/dT$ for $T > 0^{\\circ}C$"
   ]
  },
  {
   "cell_type": "code",
   "execution_count": null,
   "metadata": {
    "ExecuteTime": {
     "end_time": "2018-07-09T20:56:48.156601Z",
     "start_time": "2018-07-09T20:56:47.270404Z"
    },
    "run_control": {
     "frozen": false,
     "read_only": false
    }
   },
   "outputs": [],
   "source": [
    "ntMed_TZ_gt0 = npAllSprls['binNt_median_TZ'][20:]\n",
    "finiteIx = np.isfinite(np.log10(ntMed_TZ_gt0))\n",
    "pf_ntMed_TZ_gt0 = np.poly1d(np.polyfit(temp_gt0[finiteIx],np.log10(ntMed_TZ_gt0[finiteIx]),  1))\n",
    "ntMed_TZ_gt0_dT = 1 - (10**pf_ntMed_TZ_gt0(2)/10**pf_ntMed_TZ_gt0(3)) # 1 deg C change percentage\n",
    "        \n",
    "print(ntMed_TZ_gt0_dT)\n",
    "\n",
    "# fig, ax = plt.subplots(figsize=(16,20))\n",
    "# ax.plot(ntMed_TZ_gt0,temp_gt0,'b-')\n",
    "# ax.plot(ntMed_TZ_gt0,temp_gt0,'bo',markeredgecolor='white',markeredgewidth=1,markersize=12)\n",
    "# ax.plot(10**(pf_ntMed_TZ_gt0(temp_gt0)),temp_gt0,'r-')\n",
    "\n",
    "# ax.set_ylim(-5,20)\n",
    "# ax.set_title('TZ\\t\\t$dN_t/dT$ for $T > 0^{\\circ}C$',fontsize=24)\n",
    "# ax.set_xscale('log',nonposx='mask')\n",
    "# ax.invert_yaxis()\n",
    "# ax.set_ylabel('Temperature ($^{\\circ}$C)',fontsize=24)\n",
    "# ax.tick_params(axis='both', which='major', labelsize=22)\n",
    "# ax.grid(which='both')"
   ]
  },
  {
   "cell_type": "code",
   "execution_count": null,
   "metadata": {
    "ExecuteTime": {
     "end_time": "2018-07-09T20:59:15.221462Z",
     "start_time": "2018-07-09T20:59:14.417392Z"
    },
    "run_control": {
     "frozen": false,
     "read_only": false
    },
    "scrolled": true
   },
   "outputs": [],
   "source": [
    "ntMed_SR_gt0 = npAllSprls['binNt_median_SR'][20:]\n",
    "finiteIx = np.isfinite(np.log10(ntMed_SR_gt0))\n",
    "pf_ntMed_SR_gt0 = np.poly1d(np.polyfit(temp_gt0[finiteIx],np.log10(ntMed_SR_gt0[finiteIx]),  1))\n",
    "ntMed_SR_gt0_dT = 1 - (10**pf_ntMed_SR_gt0(2)/10**pf_ntMed_SR_gt0(3)) # 1 deg C change percentage\n",
    "        \n",
    "print(ntMed_SR_gt0_dT)\n",
    "\n",
    "# fig, ax = plt.subplots(figsize=(16,20))\n",
    "# ax.plot(ntMed_SR_gt0,temp_gt0,'b-')\n",
    "# ax.plot(ntMed_SR_gt0,temp_gt0,'bo',markeredgecolor='white',markeredgewidth=1,markersize=12)\n",
    "# ax.plot(10**(pf_ntMed_SR_gt0(temp_gt0)),temp_gt0,'r-')\n",
    "\n",
    "# ax.set_ylim(-5,20)\n",
    "# ax.set_title('ESR\\t\\t$dN_t/dT$ for $T > 0^{\\circ}C$',fontsize=24)\n",
    "# ax.set_xscale('log',nonposx='mask')\n",
    "# ax.invert_yaxis()\n",
    "# ax.set_ylabel('Temperature ($^{\\circ}$C)',fontsize=24)\n",
    "# ax.tick_params(axis='both', which='major', labelsize=22)\n",
    "# ax.grid(which='both')"
   ]
  },
  {
   "cell_type": "code",
   "execution_count": null,
   "metadata": {
    "ExecuteTime": {
     "end_time": "2018-07-09T20:59:59.686896Z",
     "start_time": "2018-07-09T20:59:58.958125Z"
    },
    "run_control": {
     "frozen": false,
     "read_only": false
    }
   },
   "outputs": [],
   "source": [
    "ntMed_AR_gt0 = npAllSprls['binNt_median_AR'][20:]\n",
    "finiteIx = np.isfinite(np.log10(ntMed_AR_gt0))\n",
    "pf_ntMed_AR_gt0 = np.poly1d(np.polyfit(temp_gt0[finiteIx],np.log10(ntMed_AR_gt0[finiteIx]),  1))\n",
    "ntMed_AR_gt0_dT = 1 - (10**pf_ntMed_AR_gt0(2)/10**pf_ntMed_AR_gt0(3)) # 1 deg C change percentage\n",
    "        \n",
    "print(ntMed_AR_gt0_dT)\n",
    "\n",
    "# fig, ax = plt.subplots(figsize=(16,20))\n",
    "# ax.plot(ntMed_AR_gt0,temp_gt0,'b-')\n",
    "# ax.plot(ntMed_AR_gt0,temp_gt0,'bo',markeredgecolor='white',markeredgewidth=1,markersize=12)\n",
    "# ax.plot(10**(pf_ntMed_AR_gt0(temp_gt0)),temp_gt0,'r-')\n",
    "\n",
    "# ax.set_ylim(-5,20)\n",
    "# ax.set_title('AR\\t\\t$dN_t/dT$ for $T > 0^{\\circ}C$',fontsize=24)\n",
    "# ax.set_xscale('log',nonposx='mask')\n",
    "# ax.invert_yaxis()\n",
    "# ax.set_ylabel('Temperature ($^{\\circ}$C)',fontsize=24)\n",
    "# ax.tick_params(axis='both', which='major', labelsize=22)\n",
    "# ax.grid(which='both')"
   ]
  },
  {
   "cell_type": "markdown",
   "metadata": {
    "heading_collapsed": true
   },
   "source": [
    "# $dTWC/dT$ for $T \\leq 0^{\\circ}C$"
   ]
  },
  {
   "cell_type": "code",
   "execution_count": null,
   "metadata": {
    "ExecuteTime": {
     "end_time": "2018-07-09T21:06:42.256625Z",
     "start_time": "2018-07-09T21:06:41.506372Z"
    },
    "hidden": true,
    "run_control": {
     "frozen": false,
     "read_only": false
    }
   },
   "outputs": [],
   "source": [
    "twcMed_TZ_lte0 = npAllSprls['binTWC_median_TZ'][:20]\n",
    "finiteIx = np.isfinite(np.log10(twcMed_TZ_lte0))\n",
    "pf_twcMed_TZ_lte0 = np.poly1d(np.polyfit(temp_lte0[finiteIx],np.log10(twcMed_TZ_lte0[finiteIx]),  1))\n",
    "twcMed_TZ_lte0_dT = 1 - (10**pf_twcMed_TZ_lte0(-6)/10**pf_twcMed_TZ_lte0(-5)) # 1 deg C change percentage\n",
    "        \n",
    "print(twcMed_TZ_lte0_dT)\n",
    "\n",
    "fig, ax = plt.subplots(figsize=(16,20))\n",
    "ax.plot(twcMed_TZ_lte0,temp_lte0,'b-')\n",
    "ax.plot(twcMed_TZ_lte0,temp_lte0,'bo',markeredgecolor='white',markeredgewidth=1,markersize=12)\n",
    "ax.plot(10**(pf_twcMed_TZ_lte0(temp_lte0)),temp_lte0,'r-')\n",
    "\n",
    "ax.set_ylim(-18.5,5)\n",
    "ax.set_title('TZ\\t\\t$dTWC/dT$ for $T \\leq 0^{\\circ}C$',fontsize=24)\n",
    "ax.set_xscale('log',nonposx='mask')\n",
    "ax.invert_yaxis()\n",
    "ax.set_ylabel('Temperature ($^{\\circ}$C)',fontsize=24)\n",
    "ax.tick_params(axis='both', which='major', labelsize=22)\n",
    "ax.grid(which='both')"
   ]
  },
  {
   "cell_type": "code",
   "execution_count": null,
   "metadata": {
    "ExecuteTime": {
     "end_time": "2018-07-09T21:06:43.065020Z",
     "start_time": "2018-07-09T21:06:42.259684Z"
    },
    "hidden": true,
    "run_control": {
     "frozen": false,
     "read_only": false
    }
   },
   "outputs": [],
   "source": [
    "twcMed_SR_lte0 = npAllSprls['binTWC_median_SR'][:20]\n",
    "finiteIx = np.isfinite(np.log10(twcMed_SR_lte0))\n",
    "pf_twcMed_SR_lte0 = np.poly1d(np.polyfit(temp_lte0[finiteIx],np.log10(twcMed_SR_lte0[finiteIx]),  1))\n",
    "twcMed_SR_lte0_dT = 1 - (10**pf_twcMed_SR_lte0(-6)/10**pf_twcMed_SR_lte0(-5)) # 1 deg C change percentage\n",
    "        \n",
    "print(twcMed_SR_lte0_dT)\n",
    "\n",
    "fig, ax = plt.subplots(figsize=(16,20))\n",
    "ax.plot(twcMed_SR_lte0,temp_lte0,'b-')\n",
    "ax.plot(twcMed_SR_lte0,temp_lte0,'bo',markeredgecolor='white',markeredgewidth=1,markersize=12)\n",
    "ax.plot(10**(pf_twcMed_SR_lte0(temp_lte0)),temp_lte0,'r-')\n",
    "\n",
    "ax.set_ylim(-18.5,5)\n",
    "ax.set_title('ESR\\t\\t$dTWC/dT$ for $T \\leq 0^{\\circ}C$',fontsize=24)\n",
    "ax.set_xscale('log',nonposx='mask')\n",
    "ax.invert_yaxis()\n",
    "ax.set_ylabel('Temperature ($^{\\circ}$C)',fontsize=24)\n",
    "ax.tick_params(axis='both', which='major', labelsize=22)\n",
    "ax.grid(which='both')"
   ]
  },
  {
   "cell_type": "code",
   "execution_count": null,
   "metadata": {
    "ExecuteTime": {
     "end_time": "2018-07-09T21:06:43.877121Z",
     "start_time": "2018-07-09T21:06:43.066784Z"
    },
    "hidden": true,
    "run_control": {
     "frozen": false,
     "read_only": false
    }
   },
   "outputs": [],
   "source": [
    "twcMed_AR_lte0 = npAllSprls['binTWC_median_AR'][:20]\n",
    "finiteIx = np.isfinite(np.log10(twcMed_AR_lte0))\n",
    "pf_twcMed_AR_lte0 = np.poly1d(np.polyfit(temp_lte0[finiteIx],np.log10(twcMed_AR_lte0[finiteIx]),  1))\n",
    "twcMed_AR_lte0_dT = 1 - (10**pf_twcMed_AR_lte0(-6)/10**pf_twcMed_AR_lte0(-5)) # 1 deg C change percentage\n",
    "        \n",
    "print(twcMed_AR_lte0_dT)\n",
    "\n",
    "fig, ax = plt.subplots(figsize=(16,20))\n",
    "ax.plot(twcMed_AR_lte0,temp_lte0,'b-')\n",
    "ax.plot(twcMed_AR_lte0,temp_lte0,'bo',markeredgecolor='white',markeredgewidth=1,markersize=12)\n",
    "ax.plot(10**(pf_twcMed_AR_lte0(temp_lte0)),temp_lte0,'r-')\n",
    "\n",
    "ax.set_ylim(-18.5,5)\n",
    "ax.set_title('AR\\t\\t$dTWC/dT$ for $T \\leq 0^{\\circ}C$',fontsize=24)\n",
    "ax.set_xscale('log',nonposx='mask')\n",
    "ax.invert_yaxis()\n",
    "ax.set_ylabel('Temperature ($^{\\circ}$C)',fontsize=24)\n",
    "ax.tick_params(axis='both', which='major', labelsize=22)\n",
    "ax.grid(which='both')"
   ]
  },
  {
   "cell_type": "markdown",
   "metadata": {
    "heading_collapsed": true
   },
   "source": [
    "# $dTWC/dT$ for $T > 0^{\\circ}C$"
   ]
  },
  {
   "cell_type": "code",
   "execution_count": null,
   "metadata": {
    "ExecuteTime": {
     "end_time": "2018-07-09T21:06:44.616150Z",
     "start_time": "2018-07-09T21:06:43.879696Z"
    },
    "hidden": true,
    "run_control": {
     "frozen": false,
     "read_only": false
    }
   },
   "outputs": [],
   "source": [
    "twcMed_TZ_gt0 = npAllSprls['binTWC_median_TZ'][20:]\n",
    "finiteIx = np.isfinite(np.log10(twcMed_TZ_gt0))\n",
    "pf_twcMed_TZ_gt0 = np.poly1d(np.polyfit(temp_gt0[finiteIx],np.log10(twcMed_TZ_gt0[finiteIx]),  1))\n",
    "twcMed_TZ_gt0_dT = 1 - (10**pf_twcMed_TZ_gt0(2)/10**pf_twcMed_TZ_gt0(3)) # 1 deg C change percentage\n",
    "        \n",
    "print(twcMed_TZ_gt0_dT)\n",
    "\n",
    "fig, ax = plt.subplots(figsize=(16,20))\n",
    "ax.plot(twcMed_TZ_gt0,temp_gt0,'b-')\n",
    "ax.plot(twcMed_TZ_gt0,temp_gt0,'bo',markeredgecolor='white',markeredgewidth=1,markersize=12)\n",
    "ax.plot(10**(pf_twcMed_TZ_gt0(temp_gt0)),temp_gt0,'r-')\n",
    "\n",
    "ax.set_ylim(-5,20)\n",
    "ax.set_title('TZ\\t\\t$dTWC/dT$ for $T > 0^{\\circ}C$',fontsize=24)\n",
    "ax.set_xscale('log',nonposx='mask')\n",
    "ax.invert_yaxis()\n",
    "ax.set_ylabel('Temperature ($^{\\circ}$C)',fontsize=24)\n",
    "ax.tick_params(axis='both', which='major', labelsize=22)\n",
    "ax.grid(which='both')"
   ]
  },
  {
   "cell_type": "code",
   "execution_count": null,
   "metadata": {
    "ExecuteTime": {
     "end_time": "2018-07-09T21:06:45.367606Z",
     "start_time": "2018-07-09T21:06:44.617940Z"
    },
    "hidden": true,
    "run_control": {
     "frozen": false,
     "read_only": false
    }
   },
   "outputs": [],
   "source": [
    "twcMed_SR_gt0 = npAllSprls['binTWC_median_SR'][20:]\n",
    "finiteIx = np.isfinite(np.log10(twcMed_SR_gt0))\n",
    "pf_twcMed_SR_gt0 = np.poly1d(np.polyfit(temp_gt0[finiteIx],np.log10(twcMed_SR_gt0[finiteIx]),  1))\n",
    "twcMed_SR_gt0_dT = 1 - (10**pf_twcMed_SR_gt0(2)/10**pf_twcMed_SR_gt0(3)) # 1 deg C change percentage\n",
    "        \n",
    "print(twcMed_SR_gt0_dT)\n",
    "\n",
    "fig, ax = plt.subplots(figsize=(16,20))\n",
    "ax.plot(twcMed_SR_gt0,temp_gt0,'b-')\n",
    "ax.plot(twcMed_SR_gt0,temp_gt0,'bo',markeredgecolor='white',markeredgewidth=1,markersize=12)\n",
    "ax.plot(10**(pf_twcMed_SR_gt0(temp_gt0)),temp_gt0,'r-')\n",
    "\n",
    "ax.set_ylim(-5,20)\n",
    "ax.set_title('ESR\\t\\t$dTWC/dT$ for $T > 0^{\\circ}C$',fontsize=24)\n",
    "ax.set_xscale('log',nonposx='mask')\n",
    "ax.invert_yaxis()\n",
    "ax.set_ylabel('Temperature ($^{\\circ}$C)',fontsize=24)\n",
    "ax.tick_params(axis='both', which='major', labelsize=22)\n",
    "ax.grid(which='both')"
   ]
  },
  {
   "cell_type": "code",
   "execution_count": null,
   "metadata": {
    "ExecuteTime": {
     "end_time": "2018-07-09T21:16:59.509411Z",
     "start_time": "2018-07-09T21:16:58.737496Z"
    },
    "hidden": true,
    "run_control": {
     "frozen": false,
     "read_only": false
    }
   },
   "outputs": [],
   "source": [
    "twcMed_AR_gt0 = npAllSprls['binTWC_median_AR'][20:]\n",
    "finiteIx = np.isfinite(np.log10(twcMed_AR_gt0))\n",
    "pf_twcMed_AR_gt0 = np.poly1d(np.polyfit(temp_gt0[finiteIx],np.log10(twcMed_AR_gt0[finiteIx]),  1))\n",
    "twcMed_AR_gt0_dT = 1 - (10**pf_twcMed_AR_gt0(2)/10**pf_twcMed_AR_gt0(3)) # 1 deg C change percentage\n",
    "        \n",
    "print(twcMed_AR_gt0_dT)\n",
    "\n",
    "fig, ax = plt.subplots(figsize=(16,20))\n",
    "ax.plot(twcMed_AR_gt0,temp_gt0,'b-')\n",
    "ax.plot(twcMed_AR_gt0,temp_gt0,'bo',markeredgecolor='white',markeredgewidth=1,markersize=12)\n",
    "ax.plot(10**(pf_twcMed_AR_gt0(temp_gt0)),temp_gt0,'r-')\n",
    "\n",
    "ax.set_ylim(-5,20)\n",
    "ax.set_title('AR\\t\\t$dTWC/dT$ for $T > 0^{\\circ}C$',fontsize=24)\n",
    "ax.set_xscale('log',nonposx='mask')\n",
    "ax.invert_yaxis()\n",
    "ax.set_ylabel('Temperature ($^{\\circ}$C)',fontsize=24)\n",
    "ax.tick_params(axis='both', which='major', labelsize=22)\n",
    "ax.grid(which='both')"
   ]
  },
  {
   "cell_type": "markdown",
   "metadata": {
    "heading_collapsed": true
   },
   "source": [
    "# $dD_{mm}/dT$ for $T \\leq 0^{\\circ}C$"
   ]
  },
  {
   "cell_type": "code",
   "execution_count": null,
   "metadata": {
    "ExecuteTime": {
     "end_time": "2018-07-09T21:23:02.095297Z",
     "start_time": "2018-07-09T21:23:01.343563Z"
    },
    "hidden": true,
    "run_control": {
     "frozen": false,
     "read_only": false
    }
   },
   "outputs": [],
   "source": [
    "dmmMed_TZ_lte0 = npAllSprls['binDmm_median_TZ'][:20]\n",
    "\n",
    "finiteIx = np.isfinite(dmmMed_TZ_lte0)\n",
    "pf_dmmMed_TZ_lte0 = np.poly1d(np.polyfit(temp_lte0[finiteIx],dmmMed_TZ_lte0[finiteIx],  1))\n",
    "dmmMed_TZ_lte0_dT = pf_dmmMed_TZ_lte0(-5) - pf_dmmMed_TZ_lte0(-6)\n",
    "        \n",
    "print(dmmMed_TZ_lte0_dT)\n",
    "\n",
    "fig, ax = plt.subplots(figsize=(16,20))\n",
    "ax.plot(dmmMed_TZ_lte0,temp_lte0,'b-')\n",
    "ax.plot(dmmMed_TZ_lte0,temp_lte0,'bo',markeredgecolor='white',markeredgewidth=1,markersize=12)\n",
    "ax.plot(pf_dmmMed_TZ_lte0(temp_lte0),temp_lte0,'r-')\n",
    "\n",
    "ax.set_ylim(-18.5,5)\n",
    "ax.set_title('TZ\\t\\t$dD_{mm}/dT$ for $T \\leq 0^{\\circ}C$',fontsize=24)\n",
    "ax.invert_yaxis()\n",
    "ax.set_ylabel('Temperature ($^{\\circ}$C)',fontsize=24)\n",
    "ax.tick_params(axis='both', which='major', labelsize=22)\n",
    "ax.grid(which='both')"
   ]
  },
  {
   "cell_type": "code",
   "execution_count": null,
   "metadata": {
    "ExecuteTime": {
     "end_time": "2018-07-09T21:25:30.931655Z",
     "start_time": "2018-07-09T21:25:30.299143Z"
    },
    "hidden": true,
    "run_control": {
     "frozen": false,
     "read_only": false
    }
   },
   "outputs": [],
   "source": [
    "dmmMed_SR_lte0 = npAllSprls['binDmm_median_SR'][:20]\n",
    "\n",
    "finiteIx = np.isfinite(dmmMed_SR_lte0)\n",
    "pf_dmmMed_SR_lte0 = np.poly1d(np.polyfit(temp_lte0[finiteIx],dmmMed_SR_lte0[finiteIx],  1))\n",
    "dmmMed_SR_lte0_dT = pf_dmmMed_SR_lte0(-5) - pf_dmmMed_SR_lte0(-6)\n",
    "        \n",
    "print(dmmMed_SR_lte0_dT)\n",
    "\n",
    "fig, ax = plt.subplots(figsize=(16,20))\n",
    "ax.plot(dmmMed_SR_lte0,temp_lte0,'b-')\n",
    "ax.plot(dmmMed_SR_lte0,temp_lte0,'bo',markeredgecolor='white',markeredgewidth=1,markersize=12)\n",
    "ax.plot(pf_dmmMed_SR_lte0(temp_lte0),temp_lte0,'r-')\n",
    "\n",
    "ax.set_ylim(-18.5,5)\n",
    "ax.set_title('ESR\\t\\t$dD_{mm}/dT$ for $T \\leq 0^{\\circ}C$',fontsize=24)\n",
    "ax.invert_yaxis()\n",
    "ax.set_ylabel('Temperature ($^{\\circ}$C)',fontsize=24)\n",
    "ax.tick_params(axis='both', which='major', labelsize=22)\n",
    "ax.grid(which='both')"
   ]
  },
  {
   "cell_type": "code",
   "execution_count": null,
   "metadata": {
    "ExecuteTime": {
     "end_time": "2018-07-09T21:27:27.137484Z",
     "start_time": "2018-07-09T21:27:26.445070Z"
    },
    "hidden": true,
    "run_control": {
     "frozen": false,
     "read_only": false
    }
   },
   "outputs": [],
   "source": [
    "dmmMed_AR_lte0 = npAllSprls['binDmm_median_AR'][:20]\n",
    "\n",
    "finiteIx = np.isfinite(dmmMed_AR_lte0)\n",
    "pf_dmmMed_AR_lte0 = np.poly1d(np.polyfit(temp_lte0[finiteIx],dmmMed_AR_lte0[finiteIx],  1))\n",
    "dmmMed_AR_lte0_dT = pf_dmmMed_AR_lte0(-5) - pf_dmmMed_AR_lte0(-6)\n",
    "        \n",
    "print(dmmMed_AR_lte0_dT)\n",
    "\n",
    "fig, ax = plt.subplots(figsize=(16,20))\n",
    "ax.plot(dmmMed_AR_lte0,temp_lte0,'b-')\n",
    "ax.plot(dmmMed_AR_lte0,temp_lte0,'bo',markeredgecolor='white',markeredgewidth=1,markersize=12)\n",
    "ax.plot(pf_dmmMed_AR_lte0(temp_lte0),temp_lte0,'r-')\n",
    "\n",
    "ax.set_ylim(-18.5,5)\n",
    "ax.set_title('AR\\t\\t$dD_{mm}/dT$ for $T \\leq 0^{\\circ}C$',fontsize=24)\n",
    "ax.invert_yaxis()\n",
    "ax.set_ylabel('Temperature ($^{\\circ}$C)',fontsize=24)\n",
    "ax.tick_params(axis='both', which='major', labelsize=22)\n",
    "ax.grid(which='both')"
   ]
  },
  {
   "cell_type": "markdown",
   "metadata": {
    "heading_collapsed": true
   },
   "source": [
    "# $dD_{mm}/dT$ for $T > 0^{\\circ}C$"
   ]
  },
  {
   "cell_type": "code",
   "execution_count": null,
   "metadata": {
    "ExecuteTime": {
     "end_time": "2018-07-09T21:30:09.165874Z",
     "start_time": "2018-07-09T21:30:08.523308Z"
    },
    "hidden": true,
    "run_control": {
     "frozen": false,
     "read_only": false
    }
   },
   "outputs": [],
   "source": [
    "dmmMed_TZ_gt0 = npAllSprls['binDmm_median_TZ'][20:]\n",
    "\n",
    "finiteIx = np.isfinite(dmmMed_TZ_gt0)\n",
    "pf_dmmMed_TZ_gt0 = np.poly1d(np.polyfit(temp_gt0[finiteIx],dmmMed_TZ_gt0[finiteIx],  1))\n",
    "dmmMed_TZ_gt0_dT = pf_dmmMed_TZ_gt0(6) - pf_dmmMed_TZ_gt0(5)\n",
    "        \n",
    "print(dmmMed_TZ_gt0_dT)\n",
    "\n",
    "fig, ax = plt.subplots(figsize=(16,20))\n",
    "ax.plot(dmmMed_TZ_gt0,temp_gt0,'b-')\n",
    "ax.plot(dmmMed_TZ_gt0,temp_gt0,'bo',markeredgecolor='white',markeredgewidth=1,markersize=12)\n",
    "ax.plot(pf_dmmMed_TZ_gt0(temp_gt0),temp_gt0,'r-')\n",
    "\n",
    "ax.set_ylim(-5,20)\n",
    "ax.set_title('TZ\\t\\t$dD_{mm}/dT$ for $T > 0^{\\circ}C$',fontsize=24)\n",
    "ax.invert_yaxis()\n",
    "ax.set_ylabel('Temperature ($^{\\circ}$C)',fontsize=24)\n",
    "ax.tick_params(axis='both', which='major', labelsize=22)\n",
    "ax.grid(which='both')"
   ]
  },
  {
   "cell_type": "code",
   "execution_count": null,
   "metadata": {
    "ExecuteTime": {
     "end_time": "2018-07-09T21:31:13.710772Z",
     "start_time": "2018-07-09T21:31:13.084523Z"
    },
    "hidden": true,
    "run_control": {
     "frozen": false,
     "read_only": false
    }
   },
   "outputs": [],
   "source": [
    "dmmMed_SR_gt0 = npAllSprls['binDmm_median_SR'][20:]\n",
    "\n",
    "finiteIx = np.isfinite(dmmMed_SR_gt0)\n",
    "pf_dmmMed_SR_gt0 = np.poly1d(np.polyfit(temp_gt0[finiteIx],dmmMed_SR_gt0[finiteIx],  1))\n",
    "dmmMed_SR_gt0_dT = pf_dmmMed_SR_gt0(6) - pf_dmmMed_SR_gt0(5)\n",
    "        \n",
    "print(dmmMed_SR_gt0_dT)\n",
    "\n",
    "fig, ax = plt.subplots(figsize=(16,20))\n",
    "ax.plot(dmmMed_SR_gt0,temp_gt0,'b-')\n",
    "ax.plot(dmmMed_SR_gt0,temp_gt0,'bo',markeredgecolor='white',markeredgewidth=1,markersize=12)\n",
    "ax.plot(pf_dmmMed_SR_gt0(temp_gt0),temp_gt0,'r-')\n",
    "\n",
    "ax.set_ylim(-5,20)\n",
    "ax.set_title('ESR\\t\\t$dD_{mm}/dT$ for $T > 0^{\\circ}C$',fontsize=24)\n",
    "ax.invert_yaxis()\n",
    "ax.set_ylabel('Temperature ($^{\\circ}$C)',fontsize=24)\n",
    "ax.tick_params(axis='both', which='major', labelsize=22)\n",
    "ax.grid(which='both')"
   ]
  },
  {
   "cell_type": "code",
   "execution_count": null,
   "metadata": {
    "ExecuteTime": {
     "end_time": "2018-07-09T21:31:46.378084Z",
     "start_time": "2018-07-09T21:31:45.724065Z"
    },
    "hidden": true,
    "run_control": {
     "frozen": false,
     "read_only": false
    }
   },
   "outputs": [],
   "source": [
    "dmmMed_AR_gt0 = npAllSprls['binDmm_median_AR'][20:]\n",
    "\n",
    "finiteIx = np.isfinite(dmmMed_AR_gt0)\n",
    "pf_dmmMed_AR_gt0 = np.poly1d(np.polyfit(temp_gt0[finiteIx],dmmMed_AR_gt0[finiteIx],  1))\n",
    "dmmMed_AR_gt0_dT = pf_dmmMed_AR_gt0(6) - pf_dmmMed_AR_gt0(5)\n",
    "        \n",
    "print(dmmMed_AR_gt0_dT)\n",
    "\n",
    "fig, ax = plt.subplots(figsize=(16,20))\n",
    "ax.plot(dmmMed_AR_gt0,temp_gt0,'b-')\n",
    "ax.plot(dmmMed_AR_gt0,temp_gt0,'bo',markeredgecolor='white',markeredgewidth=1,markersize=12)\n",
    "ax.plot(pf_dmmMed_AR_gt0(temp_gt0),temp_gt0,'r-')\n",
    "\n",
    "ax.set_ylim(-5,20)\n",
    "ax.set_title('AR\\t\\t$dD_{mm}/dT$ for $T > 0^{\\circ}C$',fontsize=24)\n",
    "ax.invert_yaxis()\n",
    "ax.set_ylabel('Temperature ($^{\\circ}$C)',fontsize=24)\n",
    "ax.tick_params(axis='both', which='major', labelsize=22)\n",
    "ax.grid(which='both')"
   ]
  },
  {
   "cell_type": "markdown",
   "metadata": {
    "heading_collapsed": true
   },
   "source": [
    "# $dAR/dT$ for $T \\leq 0^{\\circ}C$"
   ]
  },
  {
   "cell_type": "code",
   "execution_count": null,
   "metadata": {
    "ExecuteTime": {
     "end_time": "2018-07-09T21:41:31.164767Z",
     "start_time": "2018-07-09T21:41:30.555530Z"
    },
    "hidden": true,
    "run_control": {
     "frozen": false,
     "read_only": false
    }
   },
   "outputs": [],
   "source": [
    "ARatMed_TZ_lte0 = npAllSprls['binARat_median_TZ'][:20]\n",
    "\n",
    "finiteIx = np.isfinite(ARatMed_TZ_lte0)\n",
    "pf_ARatMed_TZ_lte0 = np.poly1d(np.polyfit(temp_lte0[finiteIx],ARatMed_TZ_lte0[finiteIx],  1))\n",
    "ARatMed_TZ_lte0_dT = pf_ARatMed_TZ_lte0(-5) - pf_ARatMed_TZ_lte0(-6)\n",
    "        \n",
    "print(ARatMed_TZ_lte0_dT)\n",
    "\n",
    "fig, ax = plt.subplots(figsize=(16,20))\n",
    "ax.plot(ARatMed_TZ_lte0,temp_lte0,'b-')\n",
    "ax.plot(ARatMed_TZ_lte0,temp_lte0,'bo',markeredgecolor='white',markeredgewidth=1,markersize=12)\n",
    "ax.plot(pf_ARatMed_TZ_lte0(temp_lte0),temp_lte0,'r-')\n",
    "\n",
    "ax.set_ylim(-18.5,5)\n",
    "ax.set_title('TZ\\t\\t$dAR/dT$ for $T \\leq 0^{\\circ}C$',fontsize=24)\n",
    "ax.invert_yaxis()\n",
    "ax.set_ylabel('Temperature ($^{\\circ}$C)',fontsize=24)\n",
    "ax.tick_params(axis='both', which='major', labelsize=22)\n",
    "ax.grid(which='both')"
   ]
  },
  {
   "cell_type": "code",
   "execution_count": null,
   "metadata": {
    "ExecuteTime": {
     "end_time": "2018-07-09T21:42:22.831525Z",
     "start_time": "2018-07-09T21:42:22.184864Z"
    },
    "hidden": true,
    "run_control": {
     "frozen": false,
     "read_only": false
    }
   },
   "outputs": [],
   "source": [
    "ARatMed_SR_lte0 = npAllSprls['binARat_median_SR'][:20]\n",
    "\n",
    "finiteIx = np.isfinite(ARatMed_SR_lte0)\n",
    "pf_ARatMed_SR_lte0 = np.poly1d(np.polyfit(temp_lte0[finiteIx],ARatMed_SR_lte0[finiteIx],  1))\n",
    "ARatMed_SR_lte0_dT = pf_ARatMed_SR_lte0(-5) - pf_ARatMed_SR_lte0(-6)\n",
    "        \n",
    "print(ARatMed_SR_lte0_dT)\n",
    "\n",
    "fig, ax = plt.subplots(figsize=(16,20))\n",
    "ax.plot(ARatMed_SR_lte0,temp_lte0,'b-')\n",
    "ax.plot(ARatMed_SR_lte0,temp_lte0,'bo',markeredgecolor='white',markeredgewidth=1,markersize=12)\n",
    "ax.plot(pf_ARatMed_SR_lte0(temp_lte0),temp_lte0,'r-')\n",
    "\n",
    "ax.set_ylim(-18.5,5)\n",
    "ax.set_title('ESR\\t\\t$dAR/dT$ for $T \\leq 0^{\\circ}C$',fontsize=24)\n",
    "ax.invert_yaxis()\n",
    "ax.set_ylabel('Temperature ($^{\\circ}$C)',fontsize=24)\n",
    "ax.tick_params(axis='both', which='major', labelsize=22)\n",
    "ax.grid(which='both')"
   ]
  },
  {
   "cell_type": "code",
   "execution_count": null,
   "metadata": {
    "ExecuteTime": {
     "end_time": "2018-07-09T21:42:23.497495Z",
     "start_time": "2018-07-09T21:42:22.833631Z"
    },
    "hidden": true,
    "run_control": {
     "frozen": false,
     "read_only": false
    }
   },
   "outputs": [],
   "source": [
    "ARatMed_AR_lte0 = npAllSprls['binARat_median_AR'][:20]\n",
    "\n",
    "finiteIx = np.isfinite(ARatMed_AR_lte0)\n",
    "pf_ARatMed_AR_lte0 = np.poly1d(np.polyfit(temp_lte0[finiteIx],ARatMed_AR_lte0[finiteIx],  1))\n",
    "ARatMed_AR_lte0_dT = pf_ARatMed_AR_lte0(-5) - pf_ARatMed_AR_lte0(-6)\n",
    "        \n",
    "print(ARatMed_AR_lte0_dT)\n",
    "\n",
    "fig, ax = plt.subplots(figsize=(16,20))\n",
    "ax.plot(ARatMed_AR_lte0,temp_lte0,'b-')\n",
    "ax.plot(ARatMed_AR_lte0,temp_lte0,'bo',markeredgecolor='white',markeredgewidth=1,markersize=12)\n",
    "ax.plot(pf_ARatMed_AR_lte0(temp_lte0),temp_lte0,'r-')\n",
    "\n",
    "ax.set_ylim(-18.5,5)\n",
    "ax.set_title('AR\\t\\t$dAR/dT$ for $T \\leq 0^{\\circ}C$',fontsize=24)\n",
    "ax.invert_yaxis()\n",
    "ax.set_ylabel('Temperature ($^{\\circ}$C)',fontsize=24)\n",
    "ax.tick_params(axis='both', which='major', labelsize=22)\n",
    "ax.grid(which='both')"
   ]
  },
  {
   "cell_type": "markdown",
   "metadata": {
    "heading_collapsed": true
   },
   "source": [
    "# $dAR/dT$ for $T > 0^{\\circ}C$"
   ]
  },
  {
   "cell_type": "code",
   "execution_count": null,
   "metadata": {
    "ExecuteTime": {
     "end_time": "2018-07-09T21:42:24.193255Z",
     "start_time": "2018-07-09T21:42:23.499947Z"
    },
    "hidden": true,
    "run_control": {
     "frozen": false,
     "read_only": false
    }
   },
   "outputs": [],
   "source": [
    "ARatMed_TZ_gt0 = npAllSprls['binARat_median_TZ'][20:]\n",
    "\n",
    "finiteIx = np.isfinite(ARatMed_TZ_gt0)\n",
    "pf_ARatMed_TZ_gt0 = np.poly1d(np.polyfit(temp_gt0[finiteIx],ARatMed_TZ_gt0[finiteIx],  1))\n",
    "ARatMed_TZ_gt0_dT = pf_ARatMed_TZ_gt0(6) - pf_ARatMed_TZ_gt0(5)\n",
    "        \n",
    "print(ARatMed_TZ_gt0_dT)\n",
    "\n",
    "fig, ax = plt.subplots(figsize=(16,20))\n",
    "ax.plot(ARatMed_TZ_gt0,temp_gt0,'b-')\n",
    "ax.plot(ARatMed_TZ_gt0,temp_gt0,'bo',markeredgecolor='white',markeredgewidth=1,markersize=12)\n",
    "ax.plot(pf_ARatMed_TZ_gt0(temp_gt0),temp_gt0,'r-')\n",
    "\n",
    "ax.set_ylim(-5,20)\n",
    "ax.set_title('TZ\\t\\t$dAR/dT$ for $T > 0^{\\circ}C$',fontsize=24)\n",
    "ax.invert_yaxis()\n",
    "ax.set_ylabel('Temperature ($^{\\circ}$C)',fontsize=24)\n",
    "ax.tick_params(axis='both', which='major', labelsize=22)\n",
    "ax.grid(which='both')"
   ]
  },
  {
   "cell_type": "code",
   "execution_count": null,
   "metadata": {
    "ExecuteTime": {
     "end_time": "2018-07-09T21:42:24.828422Z",
     "start_time": "2018-07-09T21:42:24.195374Z"
    },
    "hidden": true,
    "run_control": {
     "frozen": false,
     "read_only": false
    }
   },
   "outputs": [],
   "source": [
    "ARatMed_SR_gt0 = npAllSprls['binARat_median_SR'][20:]\n",
    "\n",
    "finiteIx = np.isfinite(ARatMed_SR_gt0)\n",
    "pf_ARatMed_SR_gt0 = np.poly1d(np.polyfit(temp_gt0[finiteIx],ARatMed_SR_gt0[finiteIx],  1))\n",
    "ARatMed_SR_gt0_dT = pf_ARatMed_SR_gt0(6) - pf_ARatMed_SR_gt0(5)\n",
    "        \n",
    "print(ARatMed_SR_gt0_dT)\n",
    "\n",
    "fig, ax = plt.subplots(figsize=(16,20))\n",
    "ax.plot(ARatMed_SR_gt0,temp_gt0,'b-')\n",
    "ax.plot(ARatMed_SR_gt0,temp_gt0,'bo',markeredgecolor='white',markeredgewidth=1,markersize=12)\n",
    "ax.plot(pf_ARatMed_SR_gt0(temp_gt0),temp_gt0,'r-')\n",
    "\n",
    "ax.set_ylim(-5,20)\n",
    "ax.set_title('ESR\\t\\t$dAR/dT$ for $T > 0^{\\circ}C$',fontsize=24)\n",
    "ax.invert_yaxis()\n",
    "ax.set_ylabel('Temperature ($^{\\circ}$C)',fontsize=24)\n",
    "ax.tick_params(axis='both', which='major', labelsize=22)\n",
    "ax.grid(which='both')"
   ]
  },
  {
   "cell_type": "code",
   "execution_count": null,
   "metadata": {
    "ExecuteTime": {
     "end_time": "2018-07-09T21:42:25.481778Z",
     "start_time": "2018-07-09T21:42:24.830318Z"
    },
    "hidden": true,
    "run_control": {
     "frozen": false,
     "read_only": false
    }
   },
   "outputs": [],
   "source": [
    "ARatMed_AR_gt0 = npAllSprls['binARat_median_AR'][20:]\n",
    "\n",
    "finiteIx = np.isfinite(ARatMed_AR_gt0)\n",
    "pf_ARatMed_AR_gt0 = np.poly1d(np.polyfit(temp_gt0[finiteIx],ARatMed_AR_gt0[finiteIx],  1))\n",
    "ARatMed_AR_gt0_dT = pf_ARatMed_AR_gt0(6) - pf_ARatMed_AR_gt0(5)\n",
    "        \n",
    "print(ARatMed_AR_gt0_dT)\n",
    "\n",
    "fig, ax = plt.subplots(figsize=(16,20))\n",
    "ax.plot(ARatMed_AR_gt0,temp_gt0,'b-')\n",
    "ax.plot(ARatMed_AR_gt0,temp_gt0,'bo',markeredgecolor='white',markeredgewidth=1,markersize=12)\n",
    "ax.plot(pf_ARatMed_AR_gt0(temp_gt0),temp_gt0,'r-')\n",
    "\n",
    "ax.set_ylim(-5,20)\n",
    "ax.set_title('AR\\t\\t$dAR/dT$ for $T > 0^{\\circ}C$',fontsize=24)\n",
    "ax.invert_yaxis()\n",
    "ax.set_ylabel('Temperature ($^{\\circ}$C)',fontsize=24)\n",
    "ax.tick_params(axis='both', which='major', labelsize=22)\n",
    "ax.grid(which='both')"
   ]
  },
  {
   "cell_type": "markdown",
   "metadata": {
    "heading_collapsed": true
   },
   "source": [
    "# $dRH/dT$ for $T \\leq 0^{\\circ}C$"
   ]
  },
  {
   "cell_type": "code",
   "execution_count": null,
   "metadata": {
    "ExecuteTime": {
     "end_time": "2018-07-09T21:50:09.018034Z",
     "start_time": "2018-07-09T21:50:08.383468Z"
    },
    "hidden": true,
    "run_control": {
     "frozen": false,
     "read_only": false
    }
   },
   "outputs": [],
   "source": [
    "rhMed_TZ_lte0 = npAllSprls['binRH_median_TZ'][:20]\n",
    "\n",
    "finiteIx = np.isfinite(rhMed_TZ_lte0)\n",
    "pf_rhMed_TZ_lte0 = np.poly1d(np.polyfit(temp_lte0[finiteIx],rhMed_TZ_lte0[finiteIx],  1))\n",
    "rhMed_TZ_lte0_dT = pf_rhMed_TZ_lte0(-5) - pf_rhMed_TZ_lte0(-6)\n",
    "        \n",
    "print(rhMed_TZ_lte0_dT)\n",
    "\n",
    "fig, ax = plt.subplots(figsize=(16,20))\n",
    "ax.plot(rhMed_TZ_lte0,temp_lte0,'b-')\n",
    "ax.plot(rhMed_TZ_lte0,temp_lte0,'bo',markeredgecolor='white',markeredgewidth=1,markersize=12)\n",
    "ax.plot(pf_rhMed_TZ_lte0(temp_lte0),temp_lte0,'r-')\n",
    "\n",
    "ax.set_ylim(-18.5,5)\n",
    "ax.set_title('TZ\\t\\t$dRH/dT$ for $T \\leq 0^{\\circ}C$',fontsize=24)\n",
    "ax.invert_yaxis()\n",
    "ax.set_ylabel('Temperature ($^{\\circ}$C)',fontsize=24)\n",
    "ax.tick_params(axis='both', which='major', labelsize=22)\n",
    "ax.grid(which='both')"
   ]
  },
  {
   "cell_type": "code",
   "execution_count": null,
   "metadata": {
    "ExecuteTime": {
     "end_time": "2018-07-09T21:50:41.080839Z",
     "start_time": "2018-07-09T21:50:40.452118Z"
    },
    "hidden": true,
    "run_control": {
     "frozen": false,
     "read_only": false
    }
   },
   "outputs": [],
   "source": [
    "rhMed_SR_lte0 = npAllSprls['binRH_median_SR'][:20]\n",
    "\n",
    "finiteIx = np.isfinite(rhMed_SR_lte0)\n",
    "pf_rhMed_SR_lte0 = np.poly1d(np.polyfit(temp_lte0[finiteIx],rhMed_SR_lte0[finiteIx],  1))\n",
    "rhMed_SR_lte0_dT = pf_rhMed_SR_lte0(-5) - pf_rhMed_SR_lte0(-6)\n",
    "        \n",
    "print(rhMed_SR_lte0_dT)\n",
    "\n",
    "fig, ax = plt.subplots(figsize=(16,20))\n",
    "ax.plot(rhMed_SR_lte0,temp_lte0,'b-')\n",
    "ax.plot(rhMed_SR_lte0,temp_lte0,'bo',markeredgecolor='white',markeredgewidth=1,markersize=12)\n",
    "ax.plot(pf_rhMed_SR_lte0(temp_lte0),temp_lte0,'r-')\n",
    "\n",
    "ax.set_ylim(-18.5,5)\n",
    "ax.set_title('ESR\\t\\t$dRH/dT$ for $T \\leq 0^{\\circ}C$',fontsize=24)\n",
    "ax.invert_yaxis()\n",
    "ax.set_ylabel('Temperature ($^{\\circ}$C)',fontsize=24)\n",
    "ax.tick_params(axis='both', which='major', labelsize=22)\n",
    "ax.grid(which='both')"
   ]
  },
  {
   "cell_type": "code",
   "execution_count": null,
   "metadata": {
    "ExecuteTime": {
     "end_time": "2018-07-09T21:50:57.093013Z",
     "start_time": "2018-07-09T21:50:56.464579Z"
    },
    "hidden": true,
    "run_control": {
     "frozen": false,
     "read_only": false
    }
   },
   "outputs": [],
   "source": [
    "rhMed_AR_lte0 = npAllSprls['binRH_median_AR'][:20]\n",
    "\n",
    "finiteIx = np.isfinite(rhMed_AR_lte0)\n",
    "pf_rhMed_AR_lte0 = np.poly1d(np.polyfit(temp_lte0[finiteIx],rhMed_AR_lte0[finiteIx],  1))\n",
    "rhMed_AR_lte0_dT = pf_rhMed_AR_lte0(-5) - pf_rhMed_AR_lte0(-6)\n",
    "        \n",
    "print(rhMed_AR_lte0_dT)\n",
    "\n",
    "fig, ax = plt.subplots(figsize=(16,20))\n",
    "ax.plot(rhMed_AR_lte0,temp_lte0,'b-')\n",
    "ax.plot(rhMed_AR_lte0,temp_lte0,'bo',markeredgecolor='white',markeredgewidth=1,markersize=12)\n",
    "ax.plot(pf_rhMed_AR_lte0(temp_lte0),temp_lte0,'r-')\n",
    "\n",
    "ax.set_ylim(-18.5,5)\n",
    "ax.set_title('AR\\t\\t$dRH/dT$ for $T \\leq 0^{\\circ}C$',fontsize=24)\n",
    "ax.invert_yaxis()\n",
    "ax.set_ylabel('Temperature ($^{\\circ}$C)',fontsize=24)\n",
    "ax.tick_params(axis='both', which='major', labelsize=22)\n",
    "ax.grid(which='both')"
   ]
  },
  {
   "cell_type": "markdown",
   "metadata": {
    "heading_collapsed": true
   },
   "source": [
    "# $dRH/dT$ for $T > 0^{\\circ}C$"
   ]
  },
  {
   "cell_type": "code",
   "execution_count": null,
   "metadata": {
    "ExecuteTime": {
     "end_time": "2018-07-09T21:52:23.233917Z",
     "start_time": "2018-07-09T21:52:22.571553Z"
    },
    "hidden": true,
    "run_control": {
     "frozen": false,
     "read_only": false
    }
   },
   "outputs": [],
   "source": [
    "rhMed_TZ_gt0 = npAllSprls['binRH_median_TZ'][20:]\n",
    "\n",
    "finiteIx = np.isfinite(rhMed_TZ_gt0)\n",
    "pf_rhMed_TZ_gt0 = np.poly1d(np.polyfit(temp_gt0[finiteIx],rhMed_TZ_gt0[finiteIx],  1))\n",
    "rhMed_TZ_gt0_dT = pf_rhMed_TZ_gt0(6) - pf_rhMed_TZ_gt0(5)\n",
    "        \n",
    "print(rhMed_TZ_gt0_dT)\n",
    "\n",
    "fig, ax = plt.subplots(figsize=(16,20))\n",
    "ax.plot(rhMed_TZ_gt0,temp_gt0,'b-')\n",
    "ax.plot(rhMed_TZ_gt0,temp_gt0,'bo',markeredgecolor='white',markeredgewidth=1,markersize=12)\n",
    "ax.plot(pf_rhMed_TZ_gt0(temp_gt0),temp_gt0,'r-')\n",
    "\n",
    "ax.set_ylim(-5,20)\n",
    "ax.set_title('TZ\\t\\t$dRH/dT$ for $T > 0^{\\circ}C$',fontsize=24)\n",
    "ax.invert_yaxis()\n",
    "ax.set_ylabel('Temperature ($^{\\circ}$C)',fontsize=24)\n",
    "ax.tick_params(axis='both', which='major', labelsize=22)\n",
    "ax.grid(which='both')"
   ]
  },
  {
   "cell_type": "code",
   "execution_count": null,
   "metadata": {
    "ExecuteTime": {
     "end_time": "2018-07-09T21:52:41.498918Z",
     "start_time": "2018-07-09T21:52:40.842686Z"
    },
    "hidden": true,
    "run_control": {
     "frozen": false,
     "read_only": false
    }
   },
   "outputs": [],
   "source": [
    "rhMed_SR_gt0 = npAllSprls['binRH_median_SR'][20:]\n",
    "\n",
    "finiteIx = np.isfinite(rhMed_SR_gt0)\n",
    "pf_rhMed_SR_gt0 = np.poly1d(np.polyfit(temp_gt0[finiteIx],rhMed_SR_gt0[finiteIx],  1))\n",
    "rhMed_SR_gt0_dT = pf_rhMed_SR_gt0(6) - pf_rhMed_SR_gt0(5)\n",
    "        \n",
    "print(rhMed_SR_gt0_dT)\n",
    "\n",
    "fig, ax = plt.subplots(figsize=(16,20))\n",
    "ax.plot(rhMed_SR_gt0,temp_gt0,'b-')\n",
    "ax.plot(rhMed_SR_gt0,temp_gt0,'bo',markeredgecolor='white',markeredgewidth=1,markersize=12)\n",
    "ax.plot(pf_rhMed_SR_gt0(temp_gt0),temp_gt0,'r-')\n",
    "\n",
    "ax.set_ylim(-5,20)\n",
    "ax.set_title('ESR\\t\\t$dRH/dT$ for $T > 0^{\\circ}C$',fontsize=24)\n",
    "ax.invert_yaxis()\n",
    "ax.set_ylabel('Temperature ($^{\\circ}$C)',fontsize=24)\n",
    "ax.tick_params(axis='both', which='major', labelsize=22)\n",
    "ax.grid(which='both')"
   ]
  },
  {
   "cell_type": "code",
   "execution_count": null,
   "metadata": {
    "ExecuteTime": {
     "end_time": "2018-07-09T21:52:55.791974Z",
     "start_time": "2018-07-09T21:52:55.059006Z"
    },
    "hidden": true,
    "run_control": {
     "frozen": false,
     "read_only": false
    }
   },
   "outputs": [],
   "source": [
    "rhMed_AR_gt0 = npAllSprls['binRH_median_AR'][20:]\n",
    "\n",
    "finiteIx = np.isfinite(rhMed_AR_gt0)\n",
    "pf_rhMed_AR_gt0 = np.poly1d(np.polyfit(temp_gt0[finiteIx],rhMed_AR_gt0[finiteIx],  1))\n",
    "rhMed_AR_gt0_dT = pf_rhMed_AR_gt0(6) - pf_rhMed_AR_gt0(5)\n",
    "        \n",
    "print(rhMed_AR_gt0_dT)\n",
    "\n",
    "fig, ax = plt.subplots(figsize=(16,20))\n",
    "ax.plot(rhMed_AR_gt0,temp_gt0,'b-')\n",
    "ax.plot(rhMed_AR_gt0,temp_gt0,'bo',markeredgecolor='white',markeredgewidth=1,markersize=12)\n",
    "ax.plot(pf_rhMed_AR_gt0(temp_gt0),temp_gt0,'r-')\n",
    "\n",
    "ax.set_ylim(-5,20)\n",
    "ax.set_title('AR\\t\\t$dRH/dT$ for $T > 0^{\\circ}C$',fontsize=24)\n",
    "ax.invert_yaxis()\n",
    "ax.set_ylabel('Temperature ($^{\\circ}$C)',fontsize=24)\n",
    "ax.tick_params(axis='both', which='major', labelsize=22)\n",
    "ax.grid(which='both')"
   ]
  },
  {
   "cell_type": "markdown",
   "metadata": {},
   "source": [
    "# ...\n",
    "# ...\n",
    "# ..."
   ]
  },
  {
   "cell_type": "markdown",
   "metadata": {
    "heading_collapsed": true
   },
   "source": [
    "# Average of $N_t$ Median Values for $T \\leq 0^{\\circ}C$"
   ]
  },
  {
   "cell_type": "code",
   "execution_count": null,
   "metadata": {
    "ExecuteTime": {
     "end_time": "2018-07-15T02:37:33.381672Z",
     "start_time": "2018-07-15T02:37:33.372500Z"
    },
    "hidden": true,
    "run_control": {
     "frozen": false,
     "read_only": false
    }
   },
   "outputs": [],
   "source": [
    "ntMed_TZ_lte0 = npAllSprls['binNt_median_TZ'][:20]\n",
    "ntMedAvg_TZ_lte0 = np.nanmean(ntMed_TZ_lte0)\n",
    "print('{}'.format(ntMedAvg_TZ_lte0))\n",
    "\n",
    "ntMed_SR_lte0 = npAllSprls['binNt_median_SR'][:20]\n",
    "ntMedAvg_SR_lte0 = np.nanmean(ntMed_SR_lte0)\n",
    "print('{}'.format(ntMedAvg_SR_lte0))\n",
    "\n",
    "ntMed_AR_lte0 = npAllSprls['binNt_median_AR'][:20]\n",
    "ntMedAvg_AR_lte0 = np.nanmean(ntMed_AR_lte0)\n",
    "print('{}'.format(ntMedAvg_AR_lte0))"
   ]
  },
  {
   "cell_type": "markdown",
   "metadata": {
    "heading_collapsed": true
   },
   "source": [
    "# Average of $N_t$ Median Values for $T \\geq 5^{\\circ}C$"
   ]
  },
  {
   "cell_type": "code",
   "execution_count": null,
   "metadata": {
    "ExecuteTime": {
     "end_time": "2018-07-15T02:37:51.084140Z",
     "start_time": "2018-07-15T02:37:51.077277Z"
    },
    "hidden": true,
    "run_control": {
     "frozen": false,
     "read_only": false
    }
   },
   "outputs": [],
   "source": [
    "ntMed_TZ_gte5 = npAllSprls['binNt_median_TZ'][24:]\n",
    "ntMedAvg_TZ_gte5 = np.nanmean(ntMed_TZ_gte5)\n",
    "print('{}'.format(ntMedAvg_TZ_gte5))\n",
    "\n",
    "ntMed_SR_gte5 = npAllSprls['binNt_median_SR'][24:]\n",
    "ntMedAvg_SR_gte5 = np.nanmean(ntMed_SR_gte5)\n",
    "print('{}'.format(ntMedAvg_SR_gte5))\n",
    "\n",
    "ntMed_AR_gte5 = npAllSprls['binNt_median_AR'][24:]\n",
    "ntMedAvg_AR_gte5 = np.nanmean(ntMed_AR_gte5)\n",
    "print('{}'.format(ntMedAvg_AR_gte5))"
   ]
  },
  {
   "cell_type": "markdown",
   "metadata": {
    "heading_collapsed": true
   },
   "source": [
    "# Average of $TWC$ Median Values for $T \\leq 0^{\\circ}C$"
   ]
  },
  {
   "cell_type": "code",
   "execution_count": null,
   "metadata": {
    "ExecuteTime": {
     "end_time": "2018-07-15T02:38:05.991671Z",
     "start_time": "2018-07-15T02:38:05.982860Z"
    },
    "hidden": true,
    "run_control": {
     "frozen": false,
     "read_only": false
    }
   },
   "outputs": [],
   "source": [
    "twcMed_TZ_lte0 = npAllSprls['binTWC_median_TZ'][:20]\n",
    "twcMedAvg_TZ_lte0 = np.nanmean(twcMed_TZ_lte0)\n",
    "print('{}'.format(twcMedAvg_TZ_lte0))\n",
    "\n",
    "twcMed_SR_lte0 = npAllSprls['binTWC_median_SR'][:20]\n",
    "twcMedAvg_SR_lte0 = np.nanmean(twcMed_SR_lte0)\n",
    "print('{}'.format(twcMedAvg_SR_lte0))\n",
    "\n",
    "twcMed_AR_lte0 = npAllSprls['binTWC_median_AR'][:20]\n",
    "twcMedAvg_AR_lte0 = np.nanmean(twcMed_AR_lte0)\n",
    "print('{}'.format(twcMedAvg_AR_lte0))"
   ]
  },
  {
   "cell_type": "markdown",
   "metadata": {
    "heading_collapsed": true
   },
   "source": [
    "# Average of $TWC$ Median Values for $T \\geq 5^{\\circ}C$"
   ]
  },
  {
   "cell_type": "code",
   "execution_count": null,
   "metadata": {
    "ExecuteTime": {
     "end_time": "2018-07-15T02:38:22.687839Z",
     "start_time": "2018-07-15T02:38:22.676904Z"
    },
    "hidden": true,
    "run_control": {
     "frozen": false,
     "read_only": false
    }
   },
   "outputs": [],
   "source": [
    "twcMed_TZ_gte5 = npAllSprls['binTWC_median_TZ'][24:]\n",
    "twcMedAvg_TZ_gte5 = np.nanmean(twcMed_TZ_gte5)\n",
    "print('{}'.format(twcMedAvg_TZ_gte5))\n",
    "\n",
    "twcMed_SR_gte5 = npAllSprls['binTWC_median_SR'][24:]\n",
    "twcMedAvg_SR_gte5 = np.nanmean(twcMed_SR_gte5)\n",
    "print('{}'.format(twcMedAvg_SR_gte5))\n",
    "\n",
    "twcMed_AR_gte5 = npAllSprls['binTWC_median_AR'][24:]\n",
    "twcMedAvg_AR_gte5 = np.nanmean(twcMed_AR_gte5)\n",
    "print('{}'.format(twcMedAvg_AR_gte5))"
   ]
  },
  {
   "cell_type": "markdown",
   "metadata": {
    "heading_collapsed": true
   },
   "source": [
    "# Average of $D_{mm}$ Median Values for $T \\leq 0^{\\circ}C$"
   ]
  },
  {
   "cell_type": "code",
   "execution_count": null,
   "metadata": {
    "ExecuteTime": {
     "end_time": "2018-07-15T02:38:39.925983Z",
     "start_time": "2018-07-15T02:38:39.918397Z"
    },
    "hidden": true,
    "run_control": {
     "frozen": false,
     "read_only": false
    }
   },
   "outputs": [],
   "source": [
    "DmmMed_TZ_lte0 = npAllSprls['binDmm_median_TZ'][:20]\n",
    "DmmMedAvg_TZ_lte0 = np.nanmean(DmmMed_TZ_lte0)\n",
    "print('{}'.format(DmmMedAvg_TZ_lte0))\n",
    "\n",
    "DmmMed_SR_lte0 = npAllSprls['binDmm_median_SR'][:20]\n",
    "DmmMedAvg_SR_lte0 = np.nanmean(DmmMed_SR_lte0)\n",
    "print('{}'.format(DmmMedAvg_SR_lte0))\n",
    "\n",
    "DmmMed_AR_lte0 = npAllSprls['binDmm_median_AR'][:20]\n",
    "DmmMedAvg_AR_lte0 = np.nanmean(DmmMed_AR_lte0)\n",
    "print('{}'.format(DmmMedAvg_AR_lte0))"
   ]
  },
  {
   "cell_type": "markdown",
   "metadata": {
    "heading_collapsed": true
   },
   "source": [
    "# Average of $D_{mm}$ Median Values for $T \\geq 5^{\\circ}C$"
   ]
  },
  {
   "cell_type": "code",
   "execution_count": null,
   "metadata": {
    "ExecuteTime": {
     "end_time": "2018-07-15T02:38:55.574957Z",
     "start_time": "2018-07-15T02:38:55.566688Z"
    },
    "hidden": true,
    "run_control": {
     "frozen": false,
     "read_only": false
    }
   },
   "outputs": [],
   "source": [
    "DmmMed_TZ_gte5 = npAllSprls['binDmm_median_TZ'][24:]\n",
    "DmmMedAvg_TZ_gte5 = np.nanmean(DmmMed_TZ_gte5)\n",
    "print('{}'.format(DmmMedAvg_TZ_gte5))\n",
    "\n",
    "DmmMed_SR_gte5 = npAllSprls['binDmm_median_SR'][24:]\n",
    "DmmMedAvg_SR_gte5 = np.nanmean(DmmMed_SR_gte5)\n",
    "print('{}'.format(DmmMedAvg_SR_gte5))\n",
    "\n",
    "DmmMed_AR_gte5 = npAllSprls['binDmm_median_AR'][24:]\n",
    "DmmMedAvg_AR_gte5 = np.nanmean(DmmMed_AR_gte5)\n",
    "print('{}'.format(DmmMedAvg_AR_gte5))"
   ]
  },
  {
   "cell_type": "markdown",
   "metadata": {
    "heading_collapsed": true
   },
   "source": [
    "# Average of $AR$ Median Values for $T \\leq 0^{\\circ}C$"
   ]
  },
  {
   "cell_type": "code",
   "execution_count": null,
   "metadata": {
    "ExecuteTime": {
     "end_time": "2018-07-15T02:39:11.157163Z",
     "start_time": "2018-07-15T02:39:11.148800Z"
    },
    "hidden": true,
    "run_control": {
     "frozen": false,
     "read_only": false
    }
   },
   "outputs": [],
   "source": [
    "ARatMed_TZ_lte0 = npAllSprls['binARat_median_TZ'][:20]\n",
    "ARatMedAvg_TZ_lte0 = np.nanmean(ARatMed_TZ_lte0)\n",
    "print('{}'.format(ARatMedAvg_TZ_lte0))\n",
    "\n",
    "ARatMed_SR_lte0 = npAllSprls['binARat_median_SR'][:20]\n",
    "ARatMedAvg_SR_lte0 = np.nanmean(ARatMed_SR_lte0)\n",
    "print('{}'.format(ARatMedAvg_SR_lte0))\n",
    "\n",
    "ARatMed_AR_lte0 = npAllSprls['binARat_median_AR'][:20]\n",
    "ARatMedAvg_AR_lte0 = np.nanmean(ARatMed_AR_lte0)\n",
    "print('{}'.format(ARatMedAvg_AR_lte0))"
   ]
  },
  {
   "cell_type": "markdown",
   "metadata": {
    "heading_collapsed": true
   },
   "source": [
    "# Average of $AR$ Median Values for $T \\geq 5^{\\circ}C$"
   ]
  },
  {
   "cell_type": "code",
   "execution_count": null,
   "metadata": {
    "ExecuteTime": {
     "end_time": "2018-07-15T02:39:31.743213Z",
     "start_time": "2018-07-15T02:39:31.734050Z"
    },
    "hidden": true,
    "run_control": {
     "frozen": false,
     "read_only": false
    }
   },
   "outputs": [],
   "source": [
    "ARatMed_TZ_gte5 = npAllSprls['binARat_median_TZ'][24:]\n",
    "ARatMedAvg_TZ_gte5 = np.nanmean(ARatMed_TZ_gte5)\n",
    "print('{}'.format(ARatMedAvg_TZ_gte5))\n",
    "\n",
    "ARatMed_SR_gte5 = npAllSprls['binARat_median_SR'][24:]\n",
    "ARatMedAvg_SR_gte5 = np.nanmean(ARatMed_SR_gte5)\n",
    "print('{}'.format(ARatMedAvg_SR_gte5))\n",
    "\n",
    "ARatMed_AR_gte5 = npAllSprls['binARat_median_AR'][24:]\n",
    "ARatMedAvg_AR_gte5 = np.nanmean(ARatMed_AR_gte5)\n",
    "print('{}'.format(ARatMedAvg_AR_gte5))"
   ]
  },
  {
   "cell_type": "markdown",
   "metadata": {
    "heading_collapsed": true
   },
   "source": [
    "# Average of $RH$ Median Values for $T \\leq 0^{\\circ}C$"
   ]
  },
  {
   "cell_type": "code",
   "execution_count": null,
   "metadata": {
    "ExecuteTime": {
     "end_time": "2018-07-15T02:39:53.674679Z",
     "start_time": "2018-07-15T02:39:53.664124Z"
    },
    "hidden": true,
    "run_control": {
     "frozen": false,
     "read_only": false
    }
   },
   "outputs": [],
   "source": [
    "rhMed_TZ_lte0 = npAllSprls['binRH_median_TZ'][:20]\n",
    "rhMedAvg_TZ_lte0 = np.nanmean(rhMed_TZ_lte0)\n",
    "print('{}'.format(rhMedAvg_TZ_lte0))\n",
    "\n",
    "rhMed_SR_lte0 = npAllSprls['binRH_median_SR'][:20]\n",
    "rhMedAvg_SR_lte0 = np.nanmean(rhMed_SR_lte0)\n",
    "print('{}'.format(rhMedAvg_SR_lte0))\n",
    "\n",
    "rhMed_AR_lte0 = npAllSprls['binRH_median_AR'][:20]\n",
    "rhMedAvg_AR_lte0 = np.nanmean(rhMed_AR_lte0)\n",
    "print('{}'.format(rhMedAvg_AR_lte0))"
   ]
  },
  {
   "cell_type": "markdown",
   "metadata": {
    "heading_collapsed": true
   },
   "source": [
    "# Average of $RH$ Median Values for $T \\geq 5^{\\circ}C$"
   ]
  },
  {
   "cell_type": "code",
   "execution_count": null,
   "metadata": {
    "ExecuteTime": {
     "end_time": "2018-07-15T02:40:10.271349Z",
     "start_time": "2018-07-15T02:40:10.261888Z"
    },
    "hidden": true,
    "run_control": {
     "frozen": false,
     "read_only": false
    }
   },
   "outputs": [],
   "source": [
    "rhMed_TZ_gte5 = npAllSprls['binRH_median_TZ'][24:]\n",
    "rhMedAvg_TZ_gte5 = np.nanmean(rhMed_TZ_gte5)\n",
    "print('{}'.format(rhMedAvg_TZ_gte5))\n",
    "\n",
    "rhMed_SR_gte5 = npAllSprls['binRH_median_SR'][24:]\n",
    "rhMedAvg_SR_gte5 = np.nanmean(rhMed_SR_gte5)\n",
    "print('{}'.format(rhMedAvg_SR_gte5))\n",
    "\n",
    "rhMed_AR_gte5 = npAllSprls['binRH_median_AR'][24:]\n",
    "rhMedAvg_AR_gte5 = np.nanmean(rhMed_AR_gte5)\n",
    "print('{}'.format(rhMedAvg_AR_gte5))"
   ]
  },
  {
   "cell_type": "markdown",
   "metadata": {},
   "source": [
    "# IQR Crap"
   ]
  },
  {
   "cell_type": "code",
   "execution_count": 5,
   "metadata": {
    "ExecuteTime": {
     "end_time": "2018-07-20T22:12:11.693694Z",
     "start_time": "2018-07-20T22:12:11.689052Z"
    }
   },
   "outputs": [],
   "source": [
    "top = 1\n",
    "bot = 4\n",
    "topTemp = np.where(temps == top)[0][0]\n",
    "botTemp = np.where(temps == bot)[0][0]+1"
   ]
  },
  {
   "cell_type": "code",
   "execution_count": 6,
   "metadata": {
    "ExecuteTime": {
     "end_time": "2018-07-20T22:12:11.717598Z",
     "start_time": "2018-07-20T22:12:11.696890Z"
    }
   },
   "outputs": [
    {
     "name": "stdout",
     "output_type": "stream",
     "text": [
      "StdDev T<=0:\n",
      "[       nan        nan 0.04255942 0.03093237 0.0982552  0.04033663\n",
      " 0.05893312 0.06876636 0.10510475 0.09186531 0.06776093 0.05946396\n",
      " 0.0505815  0.04950092 0.04046586 0.0281963  0.0198174  0.0147025\n",
      " 0.01114647 0.00630322]\n",
      "Min:\t6.30e-03\n",
      "Max:\t1.05e-01\n",
      "Mean:\t4.91e-02\n",
      "Median:\t4.60e-02\n",
      "\n",
      "StdDev 0<T<5:\n",
      "[0.0066027  0.00366156 0.00239544 0.00149231]\n",
      "Min:\t1.49e-03\n",
      "Max:\t6.60e-03\n",
      "Mean:\t3.54e-03\n",
      "Median:\t3.03e-03\n",
      "\n",
      "StdDev T>=5:\n",
      "[8.22425880e-04 7.41081409e-04 7.60571750e-04 5.40307729e-04\n",
      " 4.37779936e-04 5.95536724e-04 5.41883658e-04 4.13352406e-04\n",
      " 4.92408110e-04 1.80143958e-04 1.97504133e-04 1.34181881e-04\n",
      " 1.42614792e-04 7.81164925e-05 3.06177455e-05            nan]\n",
      "Min:\t3.06e-05\n",
      "Max:\t8.22e-04\n",
      "Mean:\t4.07e-04\n",
      "Median:\t4.38e-04\n",
      "\n",
      "StdDev 1.0<=T<=5.0:\n",
      "[0.0066027  0.00366156 0.00239544 0.00149231]\n",
      "Min:\t1.49e-03\n",
      "Max:\t6.60e-03\n",
      "Mean:\t3.54e-03\n",
      "Median:\t3.03e-03\n",
      "\n"
     ]
    }
   ],
   "source": [
    "Nt_stdv_SR_lte0 = npAllSprls['binNt_stdv_SR'][:20]\n",
    "Nt_stdv_SR_gt0lt5 = npAllSprls['binNt_stdv_SR'][20:24]\n",
    "Nt_stdv_SR_gte5 = npAllSprls['binNt_stdv_SR'][24:]\n",
    "Nt_stdv_SR_custom = npAllSprls['binNt_stdv_SR'][topTemp:botTemp]\n",
    "print('StdDev T<=0:\\n{}'.format(Nt_stdv_SR_lte0))\n",
    "print('Min:\\t{:.2e}'.format(np.nanmin(Nt_stdv_SR_lte0)))\n",
    "print('Max:\\t{:.2e}'.format(np.nanmax(Nt_stdv_SR_lte0)))\n",
    "print('Mean:\\t{:.2e}'.format(np.nanmean(Nt_stdv_SR_lte0)))\n",
    "print('Median:\\t{:.2e}\\n'.format(np.nanmedian(Nt_stdv_SR_lte0)))\n",
    "\n",
    "print('StdDev 0<T<5:\\n{}'.format(Nt_stdv_SR_gt0lt5))\n",
    "print('Min:\\t{:.2e}'.format(np.nanmin(Nt_stdv_SR_gt0lt5)))\n",
    "print('Max:\\t{:.2e}'.format(np.nanmax(Nt_stdv_SR_gt0lt5)))\n",
    "print('Mean:\\t{:.2e}'.format(np.nanmean(Nt_stdv_SR_gt0lt5)))\n",
    "print('Median:\\t{:.2e}\\n'.format(np.nanmedian(Nt_stdv_SR_gt0lt5)))\n",
    "\n",
    "print('StdDev T>=5:\\n{}'.format(Nt_stdv_SR_gte5))\n",
    "print('Min:\\t{:.2e}'.format(np.nanmin(Nt_stdv_SR_gte5)))\n",
    "print('Max:\\t{:.2e}'.format(np.nanmax(Nt_stdv_SR_gte5)))\n",
    "print('Mean:\\t{:.2e}'.format(np.nanmean(Nt_stdv_SR_gte5)))\n",
    "print('Median:\\t{:.2e}\\n'.format(np.nanmedian(Nt_stdv_SR_gte5)))\n",
    "\n",
    "print('StdDev {}<=T<={}:\\n{}'.format(temps[topTemp],temps[botTemp],Nt_stdv_SR_custom))\n",
    "print('Min:\\t{:.2e}'.format(np.nanmin(Nt_stdv_SR_custom)))\n",
    "print('Max:\\t{:.2e}'.format(np.nanmax(Nt_stdv_SR_custom)))\n",
    "print('Mean:\\t{:.2e}'.format(np.nanmean(Nt_stdv_SR_custom)))\n",
    "print('Median:\\t{:.2e}\\n'.format(np.nanmedian(Nt_stdv_SR_custom)))"
   ]
  },
  {
   "cell_type": "code",
   "execution_count": 8,
   "metadata": {
    "ExecuteTime": {
     "end_time": "2018-07-21T02:11:37.213296Z",
     "start_time": "2018-07-21T02:11:37.198331Z"
    }
   },
   "outputs": [
    {
     "name": "stdout",
     "output_type": "stream",
     "text": [
      "relStdDev T<=0:\n",
      "[       nan        nan 0.17883354 0.40376687 0.92748839 0.4626925\n",
      " 0.65272504 0.68421449 0.61537768 1.04441698 1.1390607  0.94053537\n",
      " 0.82175297 1.01448959 1.03856811 1.02146908 1.21593557 1.1494163\n",
      " 1.12746275 0.95731595]\n",
      "Min:\t0.179\n",
      "Max:\t1.216\n",
      "Mean:\t0.855\n",
      "Median:\t0.949\n",
      "\n",
      "relStdDev 0<T<5:\n",
      "[1.19671089 1.16705165 1.31075156 1.15462805]\n",
      "Min:\t1.155\n",
      "Max:\t1.311\n",
      "Mean:\t1.207\n",
      "Median:\t1.182\n",
      "\n",
      "relStdDev T>=5:\n",
      "[0.9342157  1.05874622 1.11223146 1.03345458 0.89860678 0.98674203\n",
      " 1.28128558 1.06111426 1.06724571 0.78456412 0.8367635  0.78789877\n",
      " 0.76762208 0.7501262  0.44298434        nan]\n",
      "Min:\t0.443\n",
      "Max:\t1.281\n",
      "Mean:\t0.920\n",
      "Median:\t0.934\n",
      "\n",
      "relStdDev 1.0<=T<=5.0:\n",
      "[1.19671089 1.16705165 1.31075156 1.15462805]\n",
      "Min:\t1.155\n",
      "Max:\t1.311\n",
      "Mean:\t1.207\n",
      "Median:\t1.182\n",
      "\n"
     ]
    }
   ],
   "source": [
    "Nt_rStdv_SR_lte0 = npAllSprls['binNt_stdv_SR'][:20]/npAllSprls['binNt_mean_SR'][:20]\n",
    "Nt_rStdv_SR_gt0lt5 = npAllSprls['binNt_stdv_SR'][20:24]/npAllSprls['binNt_mean_SR'][20:24]\n",
    "Nt_rStdv_SR_gte5 = npAllSprls['binNt_stdv_SR'][24:]/npAllSprls['binNt_mean_SR'][24:]\n",
    "Nt_rStdv_SR_custom = npAllSprls['binNt_stdv_SR'][topTemp:botTemp]/npAllSprls['binNt_mean_SR'][topTemp:botTemp]\n",
    "print('relStdDev T<=0:\\n{}'.format(Nt_rStdv_SR_lte0))\n",
    "print('Min:\\t{:.3f}'.format(np.nanmin(Nt_rStdv_SR_lte0)))\n",
    "print('Max:\\t{:.3f}'.format(np.nanmax(Nt_rStdv_SR_lte0)))\n",
    "print('Mean:\\t{:.3f}'.format(np.nanmean(Nt_rStdv_SR_lte0)))\n",
    "print('Median:\\t{:.3f}\\n'.format(np.nanmedian(Nt_rStdv_SR_lte0)))\n",
    "\n",
    "print('relStdDev 0<T<5:\\n{}'.format(Nt_rStdv_SR_gt0lt5))\n",
    "print('Min:\\t{:.3f}'.format(np.nanmin(Nt_rStdv_SR_gt0lt5)))\n",
    "print('Max:\\t{:.3f}'.format(np.nanmax(Nt_rStdv_SR_gt0lt5)))\n",
    "print('Mean:\\t{:.3f}'.format(np.nanmean(Nt_rStdv_SR_gt0lt5)))\n",
    "print('Median:\\t{:.3f}\\n'.format(np.nanmedian(Nt_rStdv_SR_gt0lt5)))\n",
    "\n",
    "print('relStdDev T>=5:\\n{}'.format(Nt_rStdv_SR_gte5))\n",
    "print('Min:\\t{:.3f}'.format(np.nanmin(Nt_rStdv_SR_gte5)))\n",
    "print('Max:\\t{:.3f}'.format(np.nanmax(Nt_rStdv_SR_gte5)))\n",
    "print('Mean:\\t{:.3f}'.format(np.nanmean(Nt_rStdv_SR_gte5)))\n",
    "print('Median:\\t{:.3f}\\n'.format(np.nanmedian(Nt_rStdv_SR_gte5)))\n",
    "\n",
    "print('relStdDev {}<=T<={}:\\n{}'.format(temps[topTemp],temps[botTemp],Nt_rStdv_SR_custom))\n",
    "print('Min:\\t{:.3f}'.format(np.nanmin(Nt_rStdv_SR_custom)))\n",
    "print('Max:\\t{:.3f}'.format(np.nanmax(Nt_rStdv_SR_custom)))\n",
    "print('Mean:\\t{:.3f}'.format(np.nanmean(Nt_rStdv_SR_custom)))\n",
    "print('Median:\\t{:.3f}\\n'.format(np.nanmedian(Nt_rStdv_SR_custom)))"
   ]
  },
  {
   "cell_type": "code",
   "execution_count": null,
   "metadata": {
    "ExecuteTime": {
     "end_time": "2018-07-20T21:09:22.556337Z",
     "start_time": "2018-07-20T21:09:22.539587Z"
    }
   },
   "outputs": [],
   "source": [
    "Nt_iqr_SR_lte0 = npAllSprls['binNt_75pct_SR'][:20] - npAllSprls['binNt_25pct_SR'][:20]\n",
    "Nt_iqr_SR_gt0lt5 = npAllSprls['binNt_75pct_SR'][20:24] - npAllSprls['binNt_25pct_SR'][20:24]\n",
    "Nt_iqr_SR_gte5 = npAllSprls['binNt_75pct_SR'][24:] - npAllSprls['binNt_25pct_SR'][24:]\n",
    "Nt_iqr_SR_custom = npAllSprls['binNt_75pct_SR'][topTemp:botTemp] - npAllSprls['binNt_25pct_SR'][topTemp:botTemp]\n",
    "print('IQR T<=0:\\n{}'.format(Nt_iqr_SR_lte0))\n",
    "print('Min:\\t{:.2e}'.format(np.nanmin(Nt_iqr_SR_lte0)))\n",
    "print('Max:\\t{:.2e}'.format(np.nanmax(Nt_iqr_SR_lte0)))\n",
    "print('Mean:\\t{:.2e}'.format(np.nanmean(Nt_iqr_SR_lte0)))\n",
    "print('Median:\\t{:.2e}\\n'.format(np.nanmedian(Nt_iqr_SR_lte0)))\n",
    "\n",
    "print('IQR 0<T<5:\\n{}'.format(Nt_iqr_SR_gt0lt5))\n",
    "print('Min:\\t{:.2e}'.format(np.nanmin(Nt_iqr_SR_gt0lt5)))\n",
    "print('Max:\\t{:.2e}'.format(np.nanmax(Nt_iqr_SR_gt0lt5)))\n",
    "print('Mean:\\t{:.2e}'.format(np.nanmean(Nt_iqr_SR_gt0lt5)))\n",
    "print('Median:\\t{:.2e}\\n'.format(np.nanmedian(Nt_iqr_SR_gt0lt5)))\n",
    "\n",
    "print('IQR T>=5:\\n{}'.format(Nt_iqr_SR_gte5))\n",
    "print('Min:\\t{:.2e}'.format(np.nanmin(Nt_iqr_SR_gte5)))\n",
    "print('Max:\\t{:.2e}'.format(np.nanmax(Nt_iqr_SR_gte5)))\n",
    "print('Mean:\\t{:.2e}'.format(np.nanmean(Nt_iqr_SR_gte5)))\n",
    "print('Median:\\t{:.2e}\\n'.format(np.nanmedian(Nt_iqr_SR_gte5)))\n",
    "\n",
    "print('IQR {}<=T<={}:\\n{}'.format(temps[topTemp],temps[botTemp],Nt_iqr_SR_custom))\n",
    "print('Min:\\t{:.2e}'.format(np.nanmin(Nt_iqr_SR_custom)))\n",
    "print('Max:\\t{:.2e}'.format(np.nanmax(Nt_iqr_SR_custom)))\n",
    "print('Mean:\\t{:.2e}'.format(np.nanmean(Nt_iqr_SR_custom)))\n",
    "print('Median:\\t{:.2e}\\n'.format(np.nanmedian(Nt_iqr_SR_custom)))"
   ]
  }
 ],
 "metadata": {
  "anaconda-cloud": {},
  "kernelspec": {
   "display_name": "Python 3",
   "language": "python",
   "name": "python3"
  },
  "language_info": {
   "codemirror_mode": {
    "name": "ipython",
    "version": 3
   },
   "file_extension": ".py",
   "mimetype": "text/x-python",
   "name": "python",
   "nbconvert_exporter": "python",
   "pygments_lexer": "ipython3",
   "version": "3.5.5"
  },
  "varInspector": {
   "cols": {
    "lenName": 16,
    "lenType": 16,
    "lenVar": 40
   },
   "kernels_config": {
    "python": {
     "delete_cmd_postfix": "",
     "delete_cmd_prefix": "del ",
     "library": "var_list.py",
     "varRefreshCmd": "print(var_dic_list())"
    },
    "r": {
     "delete_cmd_postfix": ") ",
     "delete_cmd_prefix": "rm(",
     "library": "var_list.r",
     "varRefreshCmd": "cat(var_dic_list()) "
    }
   },
   "position": {
    "height": "491px",
    "left": "1166px",
    "right": "20px",
    "top": "120px",
    "width": "350px"
   },
   "types_to_exclude": [
    "module",
    "function",
    "builtin_function_or_method",
    "instance",
    "_Feature"
   ],
   "window_display": false
  }
 },
 "nbformat": 4,
 "nbformat_minor": 1
}
