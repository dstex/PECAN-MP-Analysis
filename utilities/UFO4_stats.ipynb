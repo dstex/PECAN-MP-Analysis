{
 "cells": [
  {
   "cell_type": "code",
   "execution_count": 2,
   "metadata": {
    "ExecuteTime": {
     "end_time": "2018-08-19T04:41:59.933637Z",
     "start_time": "2018-08-19T04:41:57.554194Z"
    },
    "run_control": {
     "frozen": false,
     "read_only": false
    },
    "scrolled": true
   },
   "outputs": [],
   "source": [
    "import warnings\n",
    "warnings.filterwarnings(\"ignore\",category=FutureWarning)\n",
    "import xarray as xr\n",
    "import numpy as np\n",
    "from matplotlib import pyplot as plt\n",
    "import os\n",
    "import csv\n",
    "\n",
    "warnings.filterwarnings(\"ignore\",message='invalid value encountered in less_equal')\n",
    "\n",
    "%matplotlib inline"
   ]
  },
  {
   "cell_type": "code",
   "execution_count": 3,
   "metadata": {
    "ExecuteTime": {
     "end_time": "2018-08-19T04:41:59.939929Z",
     "start_time": "2018-08-19T04:41:59.936637Z"
    },
    "run_control": {
     "frozen": false,
     "read_only": false
    }
   },
   "outputs": [],
   "source": [
    "flight = '20150620'"
   ]
  },
  {
   "cell_type": "code",
   "execution_count": 6,
   "metadata": {
    "ExecuteTime": {
     "end_time": "2018-08-19T05:27:25.918463Z",
     "start_time": "2018-08-19T05:27:25.382463Z"
    },
    "code_folding": [],
    "run_control": {
     "frozen": false,
     "read_only": false
    }
   },
   "outputs": [],
   "source": [
    "u4s1 = {'tempC': [],'rh': [],'Nt': [],'twc': [],'Dmm': [],'ar': [],'lmda': []}\n",
    "u4s2 = {'tempC': [],'rh': [],'Nt': [],'twc': [],'Dmm': [],'ar': [],'lmda': []}\n",
    "u4s3 = {'tempC': [],'rh': [],'Nt': [],'twc': [],'Dmm': [],'ar': [],'lmda': []}\n",
    "u4s4 = {'tempC': [],'rh': [],'Nt': [],'twc': [],'Dmm': [],'ar': [],'lmda': []}\n",
    "u4s5 = {'tempC': [],'rh': [],'Nt': [],'twc': [],'Dmm': [],'ar': [],'lmda': []}\n",
    "u4s6 = {'tempC': [],'rh': [],'Nt': [],'twc': [],'Dmm': [],'ar': [],'lmda': []}\n",
    "u4s7 = {'tempC': [],'rh': [],'Nt': [],'twc': [],'Dmm': [],'ar': [],'lmda': []}\n",
    "\n",
    "cipFile = '/Users/danstechman/GoogleDrive/PECAN-Data/mp-data/' + flight + '/' + flight + '_CIPfit-spirals-10s1sAvg.nc'\n",
    "\n",
    "# Pull out any global variables/attributes from the netcdf file\n",
    "cipData_root = xr.open_dataset(cipFile)\n",
    "sprlZone = str(cipData_root.sprlZone.data,'utf-8')\n",
    "mcsType = str(cipData_root.mcsType.data,'utf-8')\n",
    "numSprls = len(sprlZone)\n",
    "\n",
    "# Loop over each spiral for the current flight\n",
    "for ix in np.arange(0,numSprls):\n",
    "    # Open the group associated with the current spiral\n",
    "    cipData = xr.open_dataset(cipFile,group='spiral_' + str(ix+1))\n",
    "\n",
    "    if ix == 0:\n",
    "        u4s1['tempC'] = cipData.tempC_10s.data\n",
    "        u4s1['rh'] = cipData.rh_10s.data\n",
    "        u4s1['Nt'] = cipData.cipNt_hybrid_igf.data\n",
    "        u4s1['twc'] = cipData.cipTWC_hybrid_igf_mlr.data\n",
    "        u4s1['Dmm'] = cipData.cipDmm_hybrid_igf_mlr.data\n",
    "        u4s1['ar'] = cipData.areaRatio_10s.data\n",
    "        u4s1['lmda'] = cipData.cipLmda_10s.data\n",
    "    \n",
    "    if ix == 1:\n",
    "        u4s2['tempC'] = cipData.tempC_10s.data\n",
    "        u4s2['rh'] = cipData.rh_10s.data\n",
    "        u4s2['Nt'] = cipData.cipNt_hybrid_igf.data\n",
    "        u4s2['twc'] = cipData.cipTWC_hybrid_igf_mlr.data\n",
    "        u4s2['Dmm'] = cipData.cipDmm_hybrid_igf_mlr.data\n",
    "        u4s2['ar'] = cipData.areaRatio_10s.data\n",
    "        u4s2['lmda'] = cipData.cipLmda_10s.data\n",
    "        \n",
    "    if ix == 2:\n",
    "        u4s3['tempC'] = cipData.tempC_10s.data\n",
    "        u4s3['rh'] = cipData.rh_10s.data\n",
    "        u4s3['Nt'] = cipData.cipNt_hybrid_igf.data\n",
    "        u4s3['twc'] = cipData.cipTWC_hybrid_igf_mlr.data\n",
    "        u4s3['Dmm'] = cipData.cipDmm_hybrid_igf_mlr.data\n",
    "        u4s3['ar'] = cipData.areaRatio_10s.data\n",
    "        u4s3['lmda'] = cipData.cipLmda_10s.data\n",
    "        \n",
    "    if ix == 3:\n",
    "        u4s4['tempC'] = cipData.tempC_10s.data\n",
    "        u4s4['rh'] = cipData.rh_10s.data\n",
    "        u4s4['Nt'] = cipData.cipNt_hybrid_igf.data\n",
    "        u4s4['twc'] = cipData.cipTWC_hybrid_igf_mlr.data\n",
    "        u4s4['Dmm'] = cipData.cipDmm_hybrid_igf_mlr.data\n",
    "        u4s4['ar'] = cipData.areaRatio_10s.data\n",
    "        u4s4['lmda'] = cipData.cipLmda_10s.data\n",
    "        \n",
    "    if ix == 4:\n",
    "        u4s5['tempC'] = cipData.tempC_10s.data\n",
    "        u4s5['rh'] = cipData.rh_10s.data\n",
    "        u4s5['Nt'] = cipData.cipNt_hybrid_igf.data\n",
    "        u4s5['twc'] = cipData.cipTWC_hybrid_igf_mlr.data\n",
    "        u4s5['Dmm'] = cipData.cipDmm_hybrid_igf_mlr.data\n",
    "        u4s5['ar'] = cipData.areaRatio_10s.data\n",
    "        u4s5['lmda'] = cipData.cipLmda_10s.data\n",
    "        \n",
    "    if ix == 5:\n",
    "        u4s6['tempC'] = cipData.tempC_10s.data\n",
    "        u4s6['rh'] = cipData.rh_10s.data\n",
    "        u4s6['Nt'] = cipData.cipNt_hybrid_igf.data\n",
    "        u4s6['twc'] = cipData.cipTWC_hybrid_igf_mlr.data\n",
    "        u4s6['Dmm'] = cipData.cipDmm_hybrid_igf_mlr.data\n",
    "        u4s6['ar'] = cipData.areaRatio_10s.data\n",
    "        u4s6['lmda'] = cipData.cipLmda_10s.data\n",
    "        \n",
    "    if ix == 6:\n",
    "        u4s7['tempC'] = cipData.tempC_10s.data\n",
    "        u4s7['rh'] = cipData.rh_10s.data\n",
    "        u4s7['Nt'] = cipData.cipNt_hybrid_igf.data\n",
    "        u4s7['twc'] = cipData.cipTWC_hybrid_igf_mlr.data\n",
    "        u4s7['Dmm'] = cipData.cipDmm_hybrid_igf_mlr.data\n",
    "        u4s7['ar'] = cipData.areaRatio_10s.data\n",
    "        u4s7['lmda'] = cipData.cipLmda_10s.data\n",
    "\n",
    "\n",
    "\n",
    "u4s1['Dmm'][u4s1['Dmm'] == 0] = np.nan\n",
    "u4s2['Dmm'][u4s2['Dmm'] == 0] = np.nan\n",
    "u4s3['Dmm'][u4s3['Dmm'] == 0] = np.nan\n",
    "u4s4['Dmm'][u4s4['Dmm'] == 0] = np.nan\n",
    "u4s5['Dmm'][u4s5['Dmm'] == 0] = np.nan\n",
    "u4s6['Dmm'][u4s6['Dmm'] == 0] = np.nan\n",
    "u4s7['Dmm'][u4s7['Dmm'] == 0] = np.nan\n",
    "\n",
    "\n",
    "u4s1['Nt'][u4s1['Nt'] == 0] = np.nan\n",
    "u4s2['Nt'][u4s2['Nt'] == 0] = np.nan\n",
    "u4s3['Nt'][u4s3['Nt'] == 0] = np.nan\n",
    "u4s4['Nt'][u4s4['Nt'] == 0] = np.nan\n",
    "u4s5['Nt'][u4s5['Nt'] == 0] = np.nan\n",
    "u4s6['Nt'][u4s6['Nt'] == 0] = np.nan\n",
    "u4s7['Nt'][u4s7['Nt'] == 0] = np.nan\n",
    "\n",
    "\n",
    "u4s1['twc'][u4s1['twc'] == 0] = np.nan\n",
    "u4s2['twc'][u4s2['twc'] == 0] = np.nan\n",
    "u4s3['twc'][u4s3['twc'] == 0] = np.nan\n",
    "u4s4['twc'][u4s4['twc'] == 0] = np.nan\n",
    "u4s5['twc'][u4s5['twc'] == 0] = np.nan\n",
    "u4s6['twc'][u4s6['twc'] == 0] = np.nan\n",
    "u4s7['twc'][u4s7['twc'] == 0] = np.nan\n",
    "\n",
    "u4s1_lte0 = np.where(u4s1['tempC'] <= 0)\n",
    "u4s2_lte0 = np.where(u4s2['tempC'] <= 0)\n",
    "u4s3_lte0 = np.where(u4s3['tempC'] <= 0)\n",
    "u4s4_lte0 = np.where(u4s4['tempC'] <= 0)\n",
    "u4s5_lte0 = np.where(u4s5['tempC'] <= 0)\n",
    "u4s6_lte0 = np.where(u4s6['tempC'] <= 0)\n",
    "u4s7_lte0 = np.where(u4s7['tempC'] <= 0)\n",
    "\n",
    "\n",
    "u4s2_gte5 = np.where(u4s2['tempC'] >= 5)\n",
    "u4s3_gte5 = np.where(u4s3['tempC'] >= 5)\n",
    "u4s4_gte5 = np.where(u4s4['tempC'] >= 5)\n",
    "u4s5_gte5 = np.where(u4s5['tempC'] >= 5)\n",
    "u4s6_gte5 = np.where(u4s6['tempC'] >= 5)\n",
    "u4s7_gte5 = np.where(u4s7['tempC'] >= 5)\n",
    "\n",
    "\n",
    "u4s1_lte_n9 = np.where(u4s1['tempC'] <= -9)\n",
    "u4s2_lte_n9 = np.where(u4s2['tempC'] <= -9)\n",
    "\n",
    "u4s6_lte2gte_n4 = np.where((u4s6['tempC'] <= 1.5) & (u4s6['tempC'] >= -4))\n",
    "\n",
    "u4s2_gt0lte7 = np.where((u4s2['tempC'] <= 7) & (u4s2['tempC'] > 0))\n",
    "\n",
    "u4s2_lte0gte_n10 = np.where((u4s2['tempC'] <= 0) & (u4s2['tempC'] >= -10))\n",
    "u4s2_gt0 = np.where(u4s2['tempC'] > 0)"
   ]
  },
  {
   "cell_type": "markdown",
   "metadata": {},
   "source": [
    "# Mean $RH$ for $T \\leq 0^{\\circ}C$"
   ]
  },
  {
   "cell_type": "code",
   "execution_count": null,
   "metadata": {
    "ExecuteTime": {
     "end_time": "2018-08-11T04:44:19.369029Z",
     "start_time": "2018-08-11T04:44:19.361468Z"
    }
   },
   "outputs": [],
   "source": [
    "print(np.nanmean(u4s1['rh'][u4s1_lte0]))\n",
    "print(np.nanmean(u4s2['rh'][u4s2_lte0]))\n",
    "print(np.nanmean(u4s3['rh'][u4s3_lte0]))\n",
    "print(np.nanmean(u4s4['rh'][u4s4_lte0]))\n",
    "print(np.nanmean(u4s5['rh'][u4s5_lte0]))\n",
    "print(np.nanmean(u4s6['rh'][u4s6_lte0]))\n",
    "print(np.nanmean(u4s7['rh'][u4s7_lte0]))"
   ]
  },
  {
   "cell_type": "code",
   "execution_count": null,
   "metadata": {
    "ExecuteTime": {
     "end_time": "2018-08-15T16:09:13.944680Z",
     "start_time": "2018-08-15T16:09:13.939730Z"
    }
   },
   "outputs": [],
   "source": [
    "print(np.nanmean(u4s1['rh'][u4s1_lte_n9]))\n",
    "print(np.nanmean(u4s2['rh'][u4s2_lte_n9]))"
   ]
  },
  {
   "cell_type": "code",
   "execution_count": 7,
   "metadata": {
    "ExecuteTime": {
     "end_time": "2018-08-19T05:27:36.544706Z",
     "start_time": "2018-08-19T05:27:36.540782Z"
    }
   },
   "outputs": [
    {
     "name": "stdout",
     "output_type": "stream",
     "text": [
      "40.93532856505565\n"
     ]
    }
   ],
   "source": [
    "print(np.nanmean(u4s2['rh'][u4s2_gt0]))"
   ]
  },
  {
   "cell_type": "markdown",
   "metadata": {},
   "source": [
    "# Mean $𝒜$ for $T \\leq 0^{\\circ}C$"
   ]
  },
  {
   "cell_type": "code",
   "execution_count": null,
   "metadata": {
    "ExecuteTime": {
     "end_time": "2018-08-11T04:44:19.377775Z",
     "start_time": "2018-08-11T04:44:19.371163Z"
    }
   },
   "outputs": [],
   "source": [
    "print(np.nanmean(u4s1['ar'][u4s1_lte0]))\n",
    "print(np.nanmean(u4s2['ar'][u4s2_lte0]))\n",
    "print(np.nanmean(u4s3['ar'][u4s3_lte0]))\n",
    "print(np.nanmean(u4s4['ar'][u4s4_lte0]))\n",
    "print(np.nanmean(u4s5['ar'][u4s5_lte0]))\n",
    "print(np.nanmean(u4s6['ar'][u4s6_lte0]))\n",
    "print(np.nanmean(u4s7['ar'][u4s7_lte0]))"
   ]
  },
  {
   "cell_type": "code",
   "execution_count": null,
   "metadata": {
    "ExecuteTime": {
     "end_time": "2018-08-15T16:09:13.944680Z",
     "start_time": "2018-08-15T16:09:13.939730Z"
    }
   },
   "outputs": [],
   "source": [
    "print(np.nanmean(u4s1['ar'][u4s1_lte_n9]))\n",
    "print(np.nanmean(u4s2['ar'][u4s2_lte_n9]))"
   ]
  },
  {
   "cell_type": "markdown",
   "metadata": {},
   "source": [
    "# Mean $D_{mm}$ for $T \\leq 0^{\\circ}C$"
   ]
  },
  {
   "cell_type": "code",
   "execution_count": null,
   "metadata": {
    "ExecuteTime": {
     "end_time": "2018-08-15T16:31:08.109004Z",
     "start_time": "2018-08-15T16:31:08.096562Z"
    }
   },
   "outputs": [],
   "source": [
    "print(np.nanmean(u4s1['Dmm'][u4s1_lte0]))\n",
    "print(np.nanmean(u4s2['Dmm'][u4s2_lte0]))\n",
    "print(np.nanmean(u4s3['Dmm'][u4s3_lte0]))\n",
    "print(np.nanmean(u4s4['Dmm'][u4s4_lte0]))\n",
    "print(np.nanmean(u4s5['Dmm'][u4s5_lte0]))\n",
    "print(np.nanmean(u4s6['Dmm'][u4s6_lte0]))\n",
    "print(np.nanmean(u4s7['Dmm'][u4s7_lte0]))"
   ]
  },
  {
   "cell_type": "code",
   "execution_count": null,
   "metadata": {
    "ExecuteTime": {
     "end_time": "2018-08-15T16:06:37.777516Z",
     "start_time": "2018-08-15T16:06:37.770331Z"
    }
   },
   "outputs": [],
   "source": [
    "print(np.nanmean(u4s1['Dmm'][u4s1_lte_n9]))\n",
    "print(np.nanmean(u4s2['Dmm'][u4s2_lte_n9]))"
   ]
  },
  {
   "cell_type": "code",
   "execution_count": null,
   "metadata": {
    "ExecuteTime": {
     "end_time": "2018-08-17T16:32:56.726114Z",
     "start_time": "2018-08-17T16:32:56.720542Z"
    }
   },
   "outputs": [],
   "source": [
    "print(np.nanmean(u4s6['Dmm'][u4s6_lte2gte_n4]))"
   ]
  },
  {
   "cell_type": "markdown",
   "metadata": {},
   "source": [
    "# Mean $N_t$ for $T \\leq 0^{\\circ}C$"
   ]
  },
  {
   "cell_type": "code",
   "execution_count": null,
   "metadata": {
    "ExecuteTime": {
     "end_time": "2018-08-17T18:50:28.570647Z",
     "start_time": "2018-08-17T18:50:28.562853Z"
    }
   },
   "outputs": [],
   "source": [
    "print(np.nanmean(u4s1['Nt'][u4s1_lte0]))\n",
    "print(np.nanmean(u4s2['Nt'][u4s2_lte0]))\n",
    "print(np.nanmean(u4s3['Nt'][u4s3_lte0]))\n",
    "print(np.nanmean(u4s4['Nt'][u4s4_lte0]))\n",
    "print(np.nanmean(u4s5['Nt'][u4s5_lte0]))\n",
    "print(np.nanmean(u4s6['Nt'][u4s6_lte0]))\n",
    "print(np.nanmean(u4s7['Nt'][u4s7_lte0]))"
   ]
  },
  {
   "cell_type": "code",
   "execution_count": null,
   "metadata": {
    "ExecuteTime": {
     "end_time": "2018-08-15T16:09:13.944680Z",
     "start_time": "2018-08-15T16:09:13.939730Z"
    }
   },
   "outputs": [],
   "source": [
    "print(np.nanmean(u4s1['Nt'][u4s1_lte_n9]))\n",
    "print(np.nanmean(u4s2['Nt'][u4s2_lte_n9]))"
   ]
  },
  {
   "cell_type": "code",
   "execution_count": null,
   "metadata": {
    "ExecuteTime": {
     "end_time": "2018-08-17T18:55:01.170374Z",
     "start_time": "2018-08-17T18:55:01.148567Z"
    }
   },
   "outputs": [],
   "source": [
    "u4s6['twc'][u4s6_lte0]"
   ]
  },
  {
   "cell_type": "code",
   "execution_count": null,
   "metadata": {
    "ExecuteTime": {
     "end_time": "2018-08-17T18:55:21.403229Z",
     "start_time": "2018-08-17T18:55:21.396512Z"
    }
   },
   "outputs": [],
   "source": [
    "u4s3['twc'][u4s3_lte0]"
   ]
  },
  {
   "cell_type": "code",
   "execution_count": null,
   "metadata": {
    "ExecuteTime": {
     "end_time": "2018-08-17T18:54:03.761842Z",
     "start_time": "2018-08-17T18:54:03.747394Z"
    }
   },
   "outputs": [],
   "source": [
    "np.nanmedian(u4s3['Nt'][u4s3_lte0])"
   ]
  },
  {
   "cell_type": "code",
   "execution_count": null,
   "metadata": {
    "ExecuteTime": {
     "end_time": "2018-08-17T18:54:20.268326Z",
     "start_time": "2018-08-17T18:54:20.262084Z"
    }
   },
   "outputs": [],
   "source": [
    "np.nanmedian(u4s6['Nt'][u4s6_lte0])"
   ]
  },
  {
   "cell_type": "markdown",
   "metadata": {},
   "source": [
    "# Mean TWC for $T \\leq 0^{\\circ}C$"
   ]
  },
  {
   "cell_type": "code",
   "execution_count": null,
   "metadata": {
    "ExecuteTime": {
     "end_time": "2018-08-17T18:50:45.452961Z",
     "start_time": "2018-08-17T18:50:45.445463Z"
    }
   },
   "outputs": [],
   "source": [
    "print(np.nanmean(u4s1['twc'][u4s1_lte0]))\n",
    "print(np.nanmean(u4s2['twc'][u4s2_lte0]))\n",
    "print(np.nanmean(u4s3['twc'][u4s3_lte0]))\n",
    "print(np.nanmean(u4s4['twc'][u4s4_lte0]))\n",
    "print(np.nanmean(u4s5['twc'][u4s5_lte0]))\n",
    "print(np.nanmean(u4s6['twc'][u4s6_lte0]))\n",
    "print(np.nanmean(u4s7['twc'][u4s7_lte0]))"
   ]
  },
  {
   "cell_type": "code",
   "execution_count": null,
   "metadata": {
    "ExecuteTime": {
     "end_time": "2018-08-15T16:09:13.944680Z",
     "start_time": "2018-08-15T16:09:13.939730Z"
    }
   },
   "outputs": [],
   "source": [
    "print(np.nanmean(u4s1['twc'][u4s1_lte_n9]))\n",
    "print(np.nanmean(u4s2['twc'][u4s2_lte_n9]))"
   ]
  },
  {
   "cell_type": "markdown",
   "metadata": {
    "heading_collapsed": true
   },
   "source": [
    "# Mean $\\lambda$ for $T \\leq 0^{\\circ}C$"
   ]
  },
  {
   "cell_type": "code",
   "execution_count": null,
   "metadata": {
    "ExecuteTime": {
     "end_time": "2018-08-11T04:44:19.418559Z",
     "start_time": "2018-08-11T04:44:19.410347Z"
    },
    "hidden": true
   },
   "outputs": [],
   "source": [
    "print(np.nanmean(u4s1['lmda'][u4s1_lte0]))\n",
    "print(np.nanmean(u4s2['lmda'][u4s2_lte0]))\n",
    "print(np.nanmean(u4s3['lmda'][u4s3_lte0]))\n",
    "print(np.nanmean(u4s4['lmda'][u4s4_lte0]))\n",
    "print(np.nanmean(u4s5['lmda'][u4s5_lte0]))\n",
    "print(np.nanmean(u4s6['lmda'][u4s6_lte0]))\n",
    "print(np.nanmean(u4s7['lmda'][u4s7_lte0]))"
   ]
  },
  {
   "cell_type": "markdown",
   "metadata": {
    "heading_collapsed": true
   },
   "source": [
    "# $dRH/dT$ for $T \\leq 0^{\\circ}C$"
   ]
  },
  {
   "cell_type": "code",
   "execution_count": null,
   "metadata": {
    "ExecuteTime": {
     "end_time": "2018-08-11T04:44:19.439929Z",
     "start_time": "2018-08-11T04:44:19.421055Z"
    },
    "hidden": true
   },
   "outputs": [],
   "source": [
    "u4s1_temp = u4s1['tempC'][u4s1_lte0]\n",
    "rh_u4s1 = u4s1['rh'][u4s1_lte0]\n",
    "finiteIx_u4s1 = np.isfinite(rh_u4s1)\n",
    "pf_rh_u4s1 = np.poly1d(np.polyfit(u4s1_temp[finiteIx_u4s1],rh_u4s1[finiteIx_u4s1],  1))\n",
    "rh_u4s1_dT = pf_rh_u4s1(-5) - pf_rh_u4s1(-6)    \n",
    "print(rh_u4s1_dT)\n",
    "\n",
    "u4s2_temp = u4s2['tempC'][u4s2_lte0]\n",
    "rh_u4s2 = u4s2['rh'][u4s2_lte0]\n",
    "finiteIx_u4s2 = np.isfinite(rh_u4s2)\n",
    "pf_rh_u4s2 = np.poly1d(np.polyfit(u4s2_temp[finiteIx_u4s2],rh_u4s2[finiteIx_u4s2],  1))\n",
    "rh_u4s2_dT = pf_rh_u4s2(-5) - pf_rh_u4s2(-6)    \n",
    "print(rh_u4s2_dT)\n",
    "\n",
    "u4s3_temp = u4s3['tempC'][u4s3_lte0]\n",
    "rh_u4s3 = u4s3['rh'][u4s3_lte0]\n",
    "finiteIx_u4s3 = np.isfinite(rh_u4s3)\n",
    "pf_rh_u4s3 = np.poly1d(np.polyfit(u4s3_temp[finiteIx_u4s3],rh_u4s3[finiteIx_u4s3],  1))\n",
    "rh_u4s3_dT = pf_rh_u4s3(-5) - pf_rh_u4s3(-6)    \n",
    "print(rh_u4s3_dT)\n",
    "\n",
    "u4s4_temp = u4s4['tempC'][u4s4_lte0]\n",
    "rh_u4s4 = u4s4['rh'][u4s4_lte0]\n",
    "finiteIx_u4s4 = np.isfinite(rh_u4s4)\n",
    "pf_rh_u4s4 = np.poly1d(np.polyfit(u4s4_temp[finiteIx_u4s4],rh_u4s4[finiteIx_u4s4],  1))\n",
    "rh_u4s4_dT = pf_rh_u4s4(-5) - pf_rh_u4s4(-6)    \n",
    "print(rh_u4s4_dT)\n",
    "\n",
    "u4s5_temp = u4s5['tempC'][u4s5_lte0]\n",
    "rh_u4s5 = u4s5['rh'][u4s5_lte0]\n",
    "finiteIx_u4s5 = np.isfinite(rh_u4s5)\n",
    "pf_rh_u4s5 = np.poly1d(np.polyfit(u4s5_temp[finiteIx_u4s5],rh_u4s5[finiteIx_u4s5],  1))\n",
    "rh_u4s5_dT = pf_rh_u4s5(-5) - pf_rh_u4s5(-6)    \n",
    "print(rh_u4s5_dT)\n",
    "\n",
    "u4s6_temp = u4s6['tempC'][u4s6_lte0]\n",
    "rh_u4s6 = u4s6['rh'][u4s6_lte0]\n",
    "finiteIx_u4s6 = np.isfinite(rh_u4s6)\n",
    "pf_rh_u4s6 = np.poly1d(np.polyfit(u4s6_temp[finiteIx_u4s6],rh_u4s6[finiteIx_u4s6],  1))\n",
    "rh_u4s6_dT = pf_rh_u4s6(-5) - pf_rh_u4s6(-6)    \n",
    "print(rh_u4s6_dT)\n",
    "\n",
    "u4s7_temp = u4s7['tempC'][u4s7_lte0]\n",
    "rh_u4s7 = u4s7['rh'][u4s7_lte0]\n",
    "finiteIx_u4s7 = np.isfinite(rh_u4s7)\n",
    "pf_rh_u4s7 = np.poly1d(np.polyfit(u4s7_temp[finiteIx_u4s7],rh_u4s7[finiteIx_u4s7],  1))\n",
    "rh_u4s7_dT = pf_rh_u4s7(-5) - pf_rh_u4s7(-6)    \n",
    "print(rh_u4s7_dT)"
   ]
  },
  {
   "cell_type": "markdown",
   "metadata": {
    "heading_collapsed": true
   },
   "source": [
    "# $d𝒜/dT$ for $T \\leq 0^{\\circ}C$"
   ]
  },
  {
   "cell_type": "code",
   "execution_count": null,
   "metadata": {
    "ExecuteTime": {
     "end_time": "2018-08-11T04:44:19.462486Z",
     "start_time": "2018-08-11T04:44:19.443285Z"
    },
    "hidden": true
   },
   "outputs": [],
   "source": [
    "u4s1_temp = u4s1['tempC'][u4s1_lte0]\n",
    "ar_u4s1 = u4s1['ar'][u4s1_lte0]\n",
    "finiteIx_u4s1 = np.isfinite(ar_u4s1)\n",
    "pf_ar_u4s1 = np.poly1d(np.polyfit(u4s1_temp[finiteIx_u4s1],ar_u4s1[finiteIx_u4s1],  1))\n",
    "ar_u4s1_dT = pf_ar_u4s1(-5) - pf_ar_u4s1(-6)    \n",
    "print(ar_u4s1_dT)\n",
    "\n",
    "u4s2_temp = u4s2['tempC'][u4s2_lte0]\n",
    "ar_u4s2 = u4s2['ar'][u4s2_lte0]\n",
    "finiteIx_u4s2 = np.isfinite(ar_u4s2)\n",
    "pf_ar_u4s2 = np.poly1d(np.polyfit(u4s2_temp[finiteIx_u4s2],ar_u4s2[finiteIx_u4s2],  1))\n",
    "ar_u4s2_dT = pf_ar_u4s2(-5) - pf_ar_u4s2(-6)    \n",
    "print(ar_u4s2_dT)\n",
    "\n",
    "u4s3_temp = u4s3['tempC'][u4s3_lte0]\n",
    "ar_u4s3 = u4s3['ar'][u4s3_lte0]\n",
    "finiteIx_u4s3 = np.isfinite(ar_u4s3)\n",
    "pf_ar_u4s3 = np.poly1d(np.polyfit(u4s3_temp[finiteIx_u4s3],ar_u4s3[finiteIx_u4s3],  1))\n",
    "ar_u4s3_dT = pf_ar_u4s3(-5) - pf_ar_u4s3(-6)    \n",
    "print(ar_u4s3_dT)\n",
    "\n",
    "u4s4_temp = u4s4['tempC'][u4s4_lte0]\n",
    "ar_u4s4 = u4s4['ar'][u4s4_lte0]\n",
    "finiteIx_u4s4 = np.isfinite(ar_u4s4)\n",
    "pf_ar_u4s4 = np.poly1d(np.polyfit(u4s4_temp[finiteIx_u4s4],ar_u4s4[finiteIx_u4s4],  1))\n",
    "ar_u4s4_dT = pf_ar_u4s4(-5) - pf_ar_u4s4(-6)    \n",
    "print(ar_u4s4_dT)\n",
    "\n",
    "u4s5_temp = u4s5['tempC'][u4s5_lte0]\n",
    "ar_u4s5 = u4s5['ar'][u4s5_lte0]\n",
    "finiteIx_u4s5 = np.isfinite(ar_u4s5)\n",
    "pf_ar_u4s5 = np.poly1d(np.polyfit(u4s5_temp[finiteIx_u4s5],ar_u4s5[finiteIx_u4s5],  1))\n",
    "ar_u4s5_dT = pf_ar_u4s5(-5) - pf_ar_u4s5(-6)    \n",
    "print(ar_u4s5_dT)\n",
    "\n",
    "u4s6_temp = u4s6['tempC'][u4s6_lte0]\n",
    "ar_u4s6 = u4s6['ar'][u4s6_lte0]\n",
    "finiteIx_u4s6 = np.isfinite(ar_u4s6)\n",
    "pf_ar_u4s6 = np.poly1d(np.polyfit(u4s6_temp[finiteIx_u4s6],ar_u4s6[finiteIx_u4s6],  1))\n",
    "ar_u4s6_dT = pf_ar_u4s6(-5) - pf_ar_u4s6(-6)    \n",
    "print(ar_u4s6_dT)\n",
    "\n",
    "u4s7_temp = u4s7['tempC'][u4s7_lte0]\n",
    "ar_u4s7 = u4s7['ar'][u4s7_lte0]\n",
    "finiteIx_u4s7 = np.isfinite(ar_u4s7)\n",
    "pf_ar_u4s7 = np.poly1d(np.polyfit(u4s7_temp[finiteIx_u4s7],ar_u4s7[finiteIx_u4s7],  1))\n",
    "ar_u4s7_dT = pf_ar_u4s7(-5) - pf_ar_u4s7(-6)    \n",
    "print(ar_u4s7_dT)"
   ]
  },
  {
   "cell_type": "markdown",
   "metadata": {},
   "source": [
    "# $dD_{mm}/dT$ for $T \\leq 0^{\\circ}C$"
   ]
  },
  {
   "cell_type": "code",
   "execution_count": null,
   "metadata": {
    "ExecuteTime": {
     "end_time": "2018-08-11T04:44:19.479435Z",
     "start_time": "2018-08-11T04:44:19.464870Z"
    }
   },
   "outputs": [],
   "source": [
    "u4s1_temp = u4s1['tempC'][u4s1_lte0]\n",
    "Dmm_u4s1 = u4s1['Dmm'][u4s1_lte0]\n",
    "finiteIx_u4s1 = np.isfinite(Dmm_u4s1)\n",
    "pf_Dmm_u4s1 = np.poly1d(np.polyfit(u4s1_temp[finiteIx_u4s1],Dmm_u4s1[finiteIx_u4s1],  1))\n",
    "Dmm_u4s1_dT = pf_Dmm_u4s1(-5) - pf_Dmm_u4s1(-6)    \n",
    "print(Dmm_u4s1_dT*1000)\n",
    "\n",
    "u4s2_temp = u4s2['tempC'][u4s2_lte0]\n",
    "Dmm_u4s2 = u4s2['Dmm'][u4s2_lte0]\n",
    "finiteIx_u4s2 = np.isfinite(Dmm_u4s2)\n",
    "pf_Dmm_u4s2 = np.poly1d(np.polyfit(u4s2_temp[finiteIx_u4s2],Dmm_u4s2[finiteIx_u4s2],  1))\n",
    "Dmm_u4s2_dT = pf_Dmm_u4s2(-5) - pf_Dmm_u4s2(-6)    \n",
    "print(Dmm_u4s2_dT*1000)\n",
    "\n",
    "u4s3_temp = u4s3['tempC'][u4s3_lte0]\n",
    "Dmm_u4s3 = u4s3['Dmm'][u4s3_lte0]\n",
    "finiteIx_u4s3 = np.isfinite(Dmm_u4s3)\n",
    "pf_Dmm_u4s3 = np.poly1d(np.polyfit(u4s3_temp[finiteIx_u4s3],Dmm_u4s3[finiteIx_u4s3],  1))\n",
    "Dmm_u4s3_dT = pf_Dmm_u4s3(-5) - pf_Dmm_u4s3(-6)    \n",
    "print(Dmm_u4s3_dT*1000)\n",
    "\n",
    "u4s4_temp = u4s4['tempC'][u4s4_lte0]\n",
    "Dmm_u4s4 = u4s4['Dmm'][u4s4_lte0]\n",
    "finiteIx_u4s4 = np.isfinite(Dmm_u4s4)\n",
    "pf_Dmm_u4s4 = np.poly1d(np.polyfit(u4s4_temp[finiteIx_u4s4],Dmm_u4s4[finiteIx_u4s4],  1))\n",
    "Dmm_u4s4_dT = pf_Dmm_u4s4(-5) - pf_Dmm_u4s4(-6)    \n",
    "print(Dmm_u4s4_dT*1000)\n",
    "\n",
    "u4s5_temp = u4s5['tempC'][u4s5_lte0]\n",
    "Dmm_u4s5 = u4s5['Dmm'][u4s5_lte0]\n",
    "finiteIx_u4s5 = np.isfinite(Dmm_u4s5)\n",
    "pf_Dmm_u4s5 = np.poly1d(np.polyfit(u4s5_temp[finiteIx_u4s5],Dmm_u4s5[finiteIx_u4s5],  1))\n",
    "Dmm_u4s5_dT = pf_Dmm_u4s5(-5) - pf_Dmm_u4s5(-6)    \n",
    "print(Dmm_u4s5_dT*1000)\n",
    "\n",
    "u4s6_temp = u4s6['tempC'][u4s6_lte0]\n",
    "Dmm_u4s6 = u4s6['Dmm'][u4s6_lte0]\n",
    "finiteIx_u4s6 = np.isfinite(Dmm_u4s6)\n",
    "pf_Dmm_u4s6 = np.poly1d(np.polyfit(u4s6_temp[finiteIx_u4s6],Dmm_u4s6[finiteIx_u4s6],  1))\n",
    "Dmm_u4s6_dT = pf_Dmm_u4s6(-5) - pf_Dmm_u4s6(-6)    \n",
    "print(Dmm_u4s6_dT*1000)\n",
    "\n",
    "u4s7_temp = u4s7['tempC'][u4s7_lte0]\n",
    "Dmm_u4s7 = u4s7['Dmm'][u4s7_lte0]\n",
    "finiteIx_u4s7 = np.isfinite(Dmm_u4s7)\n",
    "pf_Dmm_u4s7 = np.poly1d(np.polyfit(u4s7_temp[finiteIx_u4s7],Dmm_u4s7[finiteIx_u4s7],  1))\n",
    "Dmm_u4s7_dT = pf_Dmm_u4s7(-5) - pf_Dmm_u4s7(-6)    \n",
    "print(Dmm_u4s7_dT*1000)"
   ]
  },
  {
   "cell_type": "code",
   "execution_count": null,
   "metadata": {
    "ExecuteTime": {
     "end_time": "2018-08-17T16:33:01.572333Z",
     "start_time": "2018-08-17T16:33:01.566096Z"
    }
   },
   "outputs": [],
   "source": [
    "u4s6_temp = u4s6['tempC'][u4s6_lte2gte_n4]\n",
    "Dmm_u4s6 = u4s6['Dmm'][u4s6_lte2gte_n4]\n",
    "finiteIx_u4s6 = np.isfinite(Dmm_u4s6)\n",
    "pf_Dmm_u4s6 = np.poly1d(np.polyfit(u4s6_temp[finiteIx_u4s6],Dmm_u4s6[finiteIx_u4s6],  1))\n",
    "Dmm_u4s6_dT = pf_Dmm_u4s6(-5) - pf_Dmm_u4s6(-6)    \n",
    "print(Dmm_u4s6_dT*1000)"
   ]
  },
  {
   "cell_type": "markdown",
   "metadata": {
    "heading_collapsed": true
   },
   "source": [
    "# $dN_t/dT$ for $T \\leq 0^{\\circ}C$"
   ]
  },
  {
   "cell_type": "code",
   "execution_count": null,
   "metadata": {
    "ExecuteTime": {
     "end_time": "2018-08-11T04:44:19.502412Z",
     "start_time": "2018-08-11T04:44:19.481821Z"
    },
    "hidden": true
   },
   "outputs": [],
   "source": [
    "u4s1_temp = u4s1['tempC'][u4s1_lte0]\n",
    "Nt_u4s1 = u4s1['Nt'][u4s1_lte0]\n",
    "finiteIx_u4s1 = np.isfinite(np.log10(Nt_u4s1))\n",
    "pf_Nt_u4s1 = np.poly1d(np.polyfit(u4s1_temp[finiteIx_u4s1],np.log10(Nt_u4s1[finiteIx_u4s1]),  1))\n",
    "Nt_u4s1_dT = 1 - (10**pf_Nt_u4s1(-6)/10**pf_Nt_u4s1(-5))  \n",
    "print(Nt_u4s1_dT)\n",
    "\n",
    "u4s2_temp = u4s2['tempC'][u4s2_lte0]\n",
    "Nt_u4s2 = u4s2['Nt'][u4s2_lte0]\n",
    "finiteIx_u4s2 = np.isfinite(np.log10(Nt_u4s2))\n",
    "pf_Nt_u4s2 = np.poly1d(np.polyfit(u4s2_temp[finiteIx_u4s2],np.log10(Nt_u4s2[finiteIx_u4s2]),  1))\n",
    "Nt_u4s2_dT = 1 - (10**pf_Nt_u4s2(-6)/10**pf_Nt_u4s2(-5))  \n",
    "print(Nt_u4s2_dT)\n",
    "\n",
    "u4s3_temp = u4s3['tempC'][u4s3_lte0]\n",
    "Nt_u4s3 = u4s3['Nt'][u4s3_lte0]\n",
    "finiteIx_u4s3 = np.isfinite(np.log10(Nt_u4s3))\n",
    "pf_Nt_u4s3 = np.poly1d(np.polyfit(u4s3_temp[finiteIx_u4s3],np.log10(Nt_u4s3[finiteIx_u4s3]),  1))\n",
    "Nt_u4s3_dT = 1 - (10**pf_Nt_u4s3(-6)/10**pf_Nt_u4s3(-5))  \n",
    "print(Nt_u4s3_dT)\n",
    "\n",
    "u4s4_temp = u4s4['tempC'][u4s4_lte0]\n",
    "Nt_u4s4 = u4s4['Nt'][u4s4_lte0]\n",
    "finiteIx_u4s4 = np.isfinite(np.log10(Nt_u4s4))\n",
    "pf_Nt_u4s4 = np.poly1d(np.polyfit(u4s4_temp[finiteIx_u4s4],np.log10(Nt_u4s4[finiteIx_u4s4]),  1))\n",
    "Nt_u4s4_dT = 1 - (10**pf_Nt_u4s4(-6)/10**pf_Nt_u4s4(-5))  \n",
    "print(Nt_u4s4_dT)\n",
    "\n",
    "u4s5_temp = u4s5['tempC'][u4s5_lte0]\n",
    "Nt_u4s5 = u4s5['Nt'][u4s5_lte0]\n",
    "finiteIx_u4s5 = np.isfinite(np.log10(Nt_u4s5))\n",
    "pf_Nt_u4s5 = np.poly1d(np.polyfit(u4s5_temp[finiteIx_u4s5],np.log10(Nt_u4s5[finiteIx_u4s5]),  1))\n",
    "Nt_u4s5_dT = 1 - (10**pf_Nt_u4s5(-6)/10**pf_Nt_u4s5(-5))  \n",
    "print(Nt_u4s5_dT)\n",
    "\n",
    "u4s6_temp = u4s6['tempC'][u4s6_lte0]\n",
    "Nt_u4s6 = u4s6['Nt'][u4s6_lte0]\n",
    "finiteIx_u4s6 = np.isfinite(np.log10(Nt_u4s6))\n",
    "pf_Nt_u4s6 = np.poly1d(np.polyfit(u4s6_temp[finiteIx_u4s6],np.log10(Nt_u4s6[finiteIx_u4s6]),  1))\n",
    "Nt_u4s6_dT = 1 - (10**pf_Nt_u4s6(-6)/10**pf_Nt_u4s6(-5))  \n",
    "print(Nt_u4s6_dT)\n",
    "\n",
    "u4s7_temp = u4s7['tempC'][u4s7_lte0]\n",
    "Nt_u4s7 = u4s7['Nt'][u4s7_lte0]\n",
    "finiteIx_u4s7 = np.isfinite(np.log10(Nt_u4s7))\n",
    "pf_Nt_u4s7 = np.poly1d(np.polyfit(u4s7_temp[finiteIx_u4s7],np.log10(Nt_u4s7[finiteIx_u4s7]),  1))\n",
    "Nt_u4s7_dT = 1 - (10**pf_Nt_u4s7(-6)/10**pf_Nt_u4s7(-5))  \n",
    "print(Nt_u4s7_dT)"
   ]
  },
  {
   "cell_type": "markdown",
   "metadata": {
    "heading_collapsed": true
   },
   "source": [
    "# $dTWC/dT$ for $T \\leq 0^{\\circ}C$"
   ]
  },
  {
   "cell_type": "code",
   "execution_count": null,
   "metadata": {
    "ExecuteTime": {
     "end_time": "2018-08-11T04:44:19.521088Z",
     "start_time": "2018-08-11T04:44:19.504901Z"
    },
    "hidden": true
   },
   "outputs": [],
   "source": [
    "u4s1_temp = u4s1['tempC'][u4s1_lte0]\n",
    "twc_u4s1 = u4s1['twc'][u4s1_lte0]\n",
    "finiteIx_u4s1 = np.isfinite(np.log10(twc_u4s1))\n",
    "pf_twc_u4s1 = np.poly1d(np.polyfit(u4s1_temp[finiteIx_u4s1],np.log10(twc_u4s1[finiteIx_u4s1]),  1))\n",
    "twc_u4s1_dT = 1 - (10**pf_twc_u4s1(-6)/10**pf_twc_u4s1(-5))  \n",
    "print(twc_u4s1_dT)\n",
    "\n",
    "u4s2_temp = u4s2['tempC'][u4s2_lte0]\n",
    "twc_u4s2 = u4s2['twc'][u4s2_lte0]\n",
    "finiteIx_u4s2 = np.isfinite(np.log10(twc_u4s2))\n",
    "pf_twc_u4s2 = np.poly1d(np.polyfit(u4s2_temp[finiteIx_u4s2],np.log10(twc_u4s2[finiteIx_u4s2]),  1))\n",
    "twc_u4s2_dT = 1 - (10**pf_twc_u4s2(-6)/10**pf_twc_u4s2(-5))  \n",
    "print(twc_u4s2_dT)\n",
    "\n",
    "u4s3_temp = u4s3['tempC'][u4s3_lte0]\n",
    "twc_u4s3 = u4s3['twc'][u4s3_lte0]\n",
    "finiteIx_u4s3 = np.isfinite(np.log10(twc_u4s3))\n",
    "pf_twc_u4s3 = np.poly1d(np.polyfit(u4s3_temp[finiteIx_u4s3],np.log10(twc_u4s3[finiteIx_u4s3]),  1))\n",
    "twc_u4s3_dT = 1 - (10**pf_twc_u4s3(-6)/10**pf_twc_u4s3(-5))  \n",
    "print(twc_u4s3_dT)\n",
    "\n",
    "u4s4_temp = u4s4['tempC'][u4s4_lte0]\n",
    "twc_u4s4 = u4s4['twc'][u4s4_lte0]\n",
    "finiteIx_u4s4 = np.isfinite(np.log10(twc_u4s4))\n",
    "pf_twc_u4s4 = np.poly1d(np.polyfit(u4s4_temp[finiteIx_u4s4],np.log10(twc_u4s4[finiteIx_u4s4]),  1))\n",
    "twc_u4s4_dT = 1 - (10**pf_twc_u4s4(-6)/10**pf_twc_u4s4(-5))  \n",
    "print(twc_u4s4_dT)\n",
    "\n",
    "u4s5_temp = u4s5['tempC'][u4s5_lte0]\n",
    "twc_u4s5 = u4s5['twc'][u4s5_lte0]\n",
    "finiteIx_u4s5 = np.isfinite(np.log10(twc_u4s5))\n",
    "pf_twc_u4s5 = np.poly1d(np.polyfit(u4s5_temp[finiteIx_u4s5],np.log10(twc_u4s5[finiteIx_u4s5]),  1))\n",
    "twc_u4s5_dT = 1 - (10**pf_twc_u4s5(-6)/10**pf_twc_u4s5(-5))  \n",
    "print(twc_u4s5_dT)\n",
    "\n",
    "u4s6_temp = u4s6['tempC'][u4s6_lte0]\n",
    "twc_u4s6 = u4s6['twc'][u4s6_lte0]\n",
    "finiteIx_u4s6 = np.isfinite(np.log10(twc_u4s6))\n",
    "pf_twc_u4s6 = np.poly1d(np.polyfit(u4s6_temp[finiteIx_u4s6],np.log10(twc_u4s6[finiteIx_u4s6]),  1))\n",
    "twc_u4s6_dT = 1 - (10**pf_twc_u4s6(-6)/10**pf_twc_u4s6(-5))  \n",
    "print(twc_u4s6_dT)\n",
    "\n",
    "u4s7_temp = u4s7['tempC'][u4s7_lte0]\n",
    "twc_u4s7 = u4s7['twc'][u4s7_lte0]\n",
    "finiteIx_u4s7 = np.isfinite(np.log10(twc_u4s7))\n",
    "pf_twc_u4s7 = np.poly1d(np.polyfit(u4s7_temp[finiteIx_u4s7],np.log10(twc_u4s7[finiteIx_u4s7]),  1))\n",
    "twc_u4s7_dT = 1 - (10**pf_twc_u4s7(-6)/10**pf_twc_u4s7(-5))  \n",
    "print(twc_u4s7_dT)"
   ]
  },
  {
   "cell_type": "markdown",
   "metadata": {
    "heading_collapsed": true
   },
   "source": [
    "# $d\\lambda/dT$ for $T \\leq 0^{\\circ}C$"
   ]
  },
  {
   "cell_type": "code",
   "execution_count": null,
   "metadata": {
    "ExecuteTime": {
     "end_time": "2018-08-11T04:44:19.545440Z",
     "start_time": "2018-08-11T04:44:19.524216Z"
    },
    "hidden": true
   },
   "outputs": [],
   "source": [
    "u4s1_temp = u4s1['tempC'][u4s1_lte0]\n",
    "lmda_u4s1 = u4s1['lmda'][u4s1_lte0]\n",
    "finiteIx_u4s1 = np.isfinite(lmda_u4s1)\n",
    "pf_lmda_u4s1 = np.poly1d(np.polyfit(u4s1_temp[finiteIx_u4s1],lmda_u4s1[finiteIx_u4s1],  1))\n",
    "lmda_u4s1_dT = pf_lmda_u4s1(-5) - pf_lmda_u4s1(-6)    \n",
    "print(lmda_u4s1_dT)\n",
    "\n",
    "u4s2_temp = u4s2['tempC'][u4s2_lte0]\n",
    "lmda_u4s2 = u4s2['lmda'][u4s2_lte0]\n",
    "finiteIx_u4s2 = np.isfinite(lmda_u4s2)\n",
    "pf_lmda_u4s2 = np.poly1d(np.polyfit(u4s2_temp[finiteIx_u4s2],lmda_u4s2[finiteIx_u4s2],  1))\n",
    "lmda_u4s2_dT = pf_lmda_u4s2(-5) - pf_lmda_u4s2(-6)    \n",
    "print(lmda_u4s2_dT)\n",
    "\n",
    "u4s3_temp = u4s3['tempC'][u4s3_lte0]\n",
    "lmda_u4s3 = u4s3['lmda'][u4s3_lte0]\n",
    "finiteIx_u4s3 = np.isfinite(lmda_u4s3)\n",
    "pf_lmda_u4s3 = np.poly1d(np.polyfit(u4s3_temp[finiteIx_u4s3],lmda_u4s3[finiteIx_u4s3],  1))\n",
    "lmda_u4s3_dT = pf_lmda_u4s3(-5) - pf_lmda_u4s3(-6)    \n",
    "print(lmda_u4s3_dT)\n",
    "\n",
    "u4s4_temp = u4s4['tempC'][u4s4_lte0]\n",
    "lmda_u4s4 = u4s4['lmda'][u4s4_lte0]\n",
    "finiteIx_u4s4 = np.isfinite(lmda_u4s4)\n",
    "pf_lmda_u4s4 = np.poly1d(np.polyfit(u4s4_temp[finiteIx_u4s4],lmda_u4s4[finiteIx_u4s4],  1))\n",
    "lmda_u4s4_dT = pf_lmda_u4s4(-5) - pf_lmda_u4s4(-6)    \n",
    "print(lmda_u4s4_dT)\n",
    "\n",
    "u4s5_temp = u4s5['tempC'][u4s5_lte0]\n",
    "lmda_u4s5 = u4s5['lmda'][u4s5_lte0]\n",
    "finiteIx_u4s5 = np.isfinite(lmda_u4s5)\n",
    "pf_lmda_u4s5 = np.poly1d(np.polyfit(u4s5_temp[finiteIx_u4s5],lmda_u4s5[finiteIx_u4s5],  1))\n",
    "lmda_u4s5_dT = pf_lmda_u4s5(-5) - pf_lmda_u4s5(-6)    \n",
    "print(lmda_u4s5_dT)\n",
    "\n",
    "u4s6_temp = u4s6['tempC'][u4s6_lte0]\n",
    "lmda_u4s6 = u4s6['lmda'][u4s6_lte0]\n",
    "finiteIx_u4s6 = np.isfinite(lmda_u4s6)\n",
    "pf_lmda_u4s6 = np.poly1d(np.polyfit(u4s6_temp[finiteIx_u4s6],lmda_u4s6[finiteIx_u4s6],  1))\n",
    "lmda_u4s6_dT = pf_lmda_u4s6(-5) - pf_lmda_u4s6(-6)    \n",
    "print(lmda_u4s6_dT)\n",
    "\n",
    "u4s7_temp = u4s7['tempC'][u4s7_lte0]\n",
    "lmda_u4s7 = u4s7['lmda'][u4s7_lte0]\n",
    "finiteIx_u4s7 = np.isfinite(lmda_u4s7)\n",
    "pf_lmda_u4s7 = np.poly1d(np.polyfit(u4s7_temp[finiteIx_u4s7],lmda_u4s7[finiteIx_u4s7],  1))\n",
    "lmda_u4s7_dT = pf_lmda_u4s7(-5) - pf_lmda_u4s7(-6)    \n",
    "print(lmda_u4s7_dT)"
   ]
  },
  {
   "cell_type": "markdown",
   "metadata": {},
   "source": [
    "# Mean $RH$ for $T \\geq 5^{\\circ}C$"
   ]
  },
  {
   "cell_type": "code",
   "execution_count": null,
   "metadata": {
    "ExecuteTime": {
     "end_time": "2018-08-11T04:44:19.555449Z",
     "start_time": "2018-08-11T04:44:19.548362Z"
    }
   },
   "outputs": [],
   "source": [
    "print(np.nan)\n",
    "print(np.nanmean(u4s2['rh'][u4s2_gte5]))\n",
    "print(np.nanmean(u4s3['rh'][u4s3_gte5]))\n",
    "print(np.nanmean(u4s4['rh'][u4s4_gte5]))\n",
    "print(np.nanmean(u4s5['rh'][u4s5_gte5]))\n",
    "print(np.nanmean(u4s6['rh'][u4s6_gte5]))\n",
    "print(np.nanmean(u4s7['rh'][u4s7_gte5]))"
   ]
  },
  {
   "cell_type": "markdown",
   "metadata": {},
   "source": [
    "# Mean $𝒜$ for $T \\geq 5^{\\circ}C$"
   ]
  },
  {
   "cell_type": "code",
   "execution_count": null,
   "metadata": {
    "ExecuteTime": {
     "end_time": "2018-08-11T04:44:19.564885Z",
     "start_time": "2018-08-11T04:44:19.558853Z"
    }
   },
   "outputs": [],
   "source": [
    "print(np.nan)\n",
    "print(np.nanmean(u4s2['ar'][u4s2_gte5]))\n",
    "print(np.nan)\n",
    "print(np.nanmean(u4s4['ar'][u4s4_gte5]))\n",
    "print(np.nanmean(u4s5['ar'][u4s5_gte5]))\n",
    "print(np.nanmean(u4s6['ar'][u4s6_gte5]))\n",
    "print(np.nanmean(u4s7['ar'][u4s7_gte5]))"
   ]
  },
  {
   "cell_type": "markdown",
   "metadata": {},
   "source": [
    "# Mean $D_{mm}$ for $T \\geq 5^{\\circ}C$"
   ]
  },
  {
   "cell_type": "code",
   "execution_count": null,
   "metadata": {
    "ExecuteTime": {
     "end_time": "2018-08-15T16:31:45.410414Z",
     "start_time": "2018-08-15T16:31:45.400435Z"
    }
   },
   "outputs": [],
   "source": [
    "print(np.nan)\n",
    "print(np.nanmean(u4s2['Dmm'][u4s2_gte5]))\n",
    "print(np.nan)\n",
    "print(np.nanmean(u4s4['Dmm'][u4s4_gte5]))\n",
    "print(np.nanmean(u4s5['Dmm'][u4s5_gte5]))\n",
    "print(np.nanmean(u4s6['Dmm'][u4s6_gte5]))\n",
    "print(np.nanmean(u4s7['Dmm'][u4s7_gte5]))"
   ]
  },
  {
   "cell_type": "markdown",
   "metadata": {},
   "source": [
    "# Mean $N_t$ for $T \\geq 5^{\\circ}C$"
   ]
  },
  {
   "cell_type": "code",
   "execution_count": null,
   "metadata": {
    "ExecuteTime": {
     "end_time": "2018-08-11T04:44:19.585391Z",
     "start_time": "2018-08-11T04:44:19.578580Z"
    }
   },
   "outputs": [],
   "source": [
    "print(np.nan)\n",
    "print(np.nanmean(u4s2['Nt'][u4s2_gte5]))\n",
    "print(np.nan)\n",
    "print(np.nanmean(u4s4['Nt'][u4s4_gte5]))\n",
    "print(np.nanmean(u4s5['Nt'][u4s5_gte5]))\n",
    "print(np.nanmean(u4s6['Nt'][u4s6_gte5]))\n",
    "print(np.nanmean(u4s7['Nt'][u4s7_gte5]))"
   ]
  },
  {
   "cell_type": "markdown",
   "metadata": {},
   "source": [
    "# Mean TWC for $T \\geq 5^{\\circ}C$"
   ]
  },
  {
   "cell_type": "code",
   "execution_count": null,
   "metadata": {
    "ExecuteTime": {
     "end_time": "2018-08-11T04:44:19.598034Z",
     "start_time": "2018-08-11T04:44:19.587662Z"
    }
   },
   "outputs": [],
   "source": [
    "print(np.nan)\n",
    "print(np.nanmean(u4s2['twc'][u4s2_gte5]))\n",
    "print(np.nan)\n",
    "print(np.nanmean(u4s4['twc'][u4s4_gte5]))\n",
    "print(np.nanmean(u4s5['twc'][u4s5_gte5]))\n",
    "print(np.nanmean(u4s6['twc'][u4s6_gte5]))\n",
    "print(np.nanmean(u4s7['twc'][u4s7_gte5]))"
   ]
  },
  {
   "cell_type": "markdown",
   "metadata": {},
   "source": [
    "# Mean $\\lambda$ for $T \\geq 5^{\\circ}C$"
   ]
  },
  {
   "cell_type": "code",
   "execution_count": null,
   "metadata": {
    "ExecuteTime": {
     "end_time": "2018-08-11T04:44:19.606730Z",
     "start_time": "2018-08-11T04:44:19.600451Z"
    }
   },
   "outputs": [],
   "source": [
    "print(np.nan)\n",
    "print(np.nanmean(u4s2['lmda'][u4s2_gte5]))\n",
    "print(np.nan)\n",
    "print(np.nanmean(u4s4['lmda'][u4s4_gte5]))\n",
    "print(np.nanmean(u4s5['lmda'][u4s5_gte5]))\n",
    "print(np.nanmean(u4s6['lmda'][u4s6_gte5]))\n",
    "print(np.nanmean(u4s7['lmda'][u4s7_gte5]))"
   ]
  },
  {
   "cell_type": "markdown",
   "metadata": {},
   "source": [
    "# $dRH/dT$ for $T \\geq 5^{\\circ}C$"
   ]
  },
  {
   "cell_type": "code",
   "execution_count": null,
   "metadata": {
    "ExecuteTime": {
     "end_time": "2018-08-11T04:44:19.625545Z",
     "start_time": "2018-08-11T04:44:19.609184Z"
    }
   },
   "outputs": [],
   "source": [
    "print(np.nan)\n",
    "\n",
    "u4s2_temp = u4s2['tempC'][u4s2_gte5]\n",
    "rh_u4s2 = u4s2['rh'][u4s2_gte5]\n",
    "finiteIx_u4s2 = np.isfinite(rh_u4s2)\n",
    "pf_rh_u4s2 = np.poly1d(np.polyfit(u4s2_temp[finiteIx_u4s2],rh_u4s2[finiteIx_u4s2],  1))\n",
    "rh_u4s2_dT = pf_rh_u4s2(-5) - pf_rh_u4s2(-6)    \n",
    "print(rh_u4s2_dT)\n",
    "\n",
    "u4s3_temp = u4s3['tempC'][u4s3_gte5]\n",
    "rh_u4s3 = u4s3['rh'][u4s3_gte5]\n",
    "finiteIx_u4s3 = np.isfinite(rh_u4s3)\n",
    "pf_rh_u4s3 = np.poly1d(np.polyfit(u4s3_temp[finiteIx_u4s3],rh_u4s3[finiteIx_u4s3],  1))\n",
    "rh_u4s3_dT = pf_rh_u4s3(-5) - pf_rh_u4s3(-6)    \n",
    "print(rh_u4s3_dT)\n",
    "\n",
    "u4s4_temp = u4s4['tempC'][u4s4_gte5]\n",
    "rh_u4s4 = u4s4['rh'][u4s4_gte5]\n",
    "finiteIx_u4s4 = np.isfinite(rh_u4s4)\n",
    "pf_rh_u4s4 = np.poly1d(np.polyfit(u4s4_temp[finiteIx_u4s4],rh_u4s4[finiteIx_u4s4],  1))\n",
    "rh_u4s4_dT = pf_rh_u4s4(-5) - pf_rh_u4s4(-6)    \n",
    "print(rh_u4s4_dT)\n",
    "\n",
    "u4s5_temp = u4s5['tempC'][u4s5_gte5]\n",
    "rh_u4s5 = u4s5['rh'][u4s5_gte5]\n",
    "finiteIx_u4s5 = np.isfinite(rh_u4s5)\n",
    "pf_rh_u4s5 = np.poly1d(np.polyfit(u4s5_temp[finiteIx_u4s5],rh_u4s5[finiteIx_u4s5],  1))\n",
    "rh_u4s5_dT = pf_rh_u4s5(-5) - pf_rh_u4s5(-6)    \n",
    "print(rh_u4s5_dT)\n",
    "\n",
    "u4s6_temp = u4s6['tempC'][u4s6_gte5]\n",
    "rh_u4s6 = u4s6['rh'][u4s6_gte5]\n",
    "finiteIx_u4s6 = np.isfinite(rh_u4s6)\n",
    "pf_rh_u4s6 = np.poly1d(np.polyfit(u4s6_temp[finiteIx_u4s6],rh_u4s6[finiteIx_u4s6],  1))\n",
    "rh_u4s6_dT = pf_rh_u4s6(-5) - pf_rh_u4s6(-6)    \n",
    "print(rh_u4s6_dT)\n",
    "\n",
    "u4s7_temp = u4s7['tempC'][u4s7_gte5]\n",
    "rh_u4s7 = u4s7['rh'][u4s7_gte5]\n",
    "finiteIx_u4s7 = np.isfinite(rh_u4s7)\n",
    "pf_rh_u4s7 = np.poly1d(np.polyfit(u4s7_temp[finiteIx_u4s7],rh_u4s7[finiteIx_u4s7],  1))\n",
    "rh_u4s7_dT = pf_rh_u4s7(-5) - pf_rh_u4s7(-6)    \n",
    "print(rh_u4s7_dT)"
   ]
  },
  {
   "cell_type": "markdown",
   "metadata": {},
   "source": [
    "# $d𝒜/dT$ for $T \\geq 5^{\\circ}C$"
   ]
  },
  {
   "cell_type": "code",
   "execution_count": null,
   "metadata": {
    "ExecuteTime": {
     "end_time": "2018-08-11T04:44:19.647400Z",
     "start_time": "2018-08-11T04:44:19.631720Z"
    }
   },
   "outputs": [],
   "source": [
    "print(np.nan)\n",
    "\n",
    "u4s2_temp = u4s2['tempC'][u4s2_gte5]\n",
    "ar_u4s2 = u4s2['ar'][u4s2_gte5]\n",
    "finiteIx_u4s2 = np.isfinite(ar_u4s2)\n",
    "pf_ar_u4s2 = np.poly1d(np.polyfit(u4s2_temp[finiteIx_u4s2],ar_u4s2[finiteIx_u4s2],  1))\n",
    "ar_u4s2_dT = pf_ar_u4s2(-5) - pf_ar_u4s2(-6)    \n",
    "print(ar_u4s2_dT)\n",
    "\n",
    "print(np.nan)\n",
    "\n",
    "u4s4_temp = u4s4['tempC'][u4s4_gte5]\n",
    "ar_u4s4 = u4s4['ar'][u4s4_gte5]\n",
    "finiteIx_u4s4 = np.isfinite(ar_u4s4)\n",
    "pf_ar_u4s4 = np.poly1d(np.polyfit(u4s4_temp[finiteIx_u4s4],ar_u4s4[finiteIx_u4s4],  1))\n",
    "ar_u4s4_dT = pf_ar_u4s4(-5) - pf_ar_u4s4(-6)    \n",
    "print(ar_u4s4_dT)\n",
    "\n",
    "u4s5_temp = u4s5['tempC'][u4s5_gte5]\n",
    "ar_u4s5 = u4s5['ar'][u4s5_gte5]\n",
    "finiteIx_u4s5 = np.isfinite(ar_u4s5)\n",
    "pf_ar_u4s5 = np.poly1d(np.polyfit(u4s5_temp[finiteIx_u4s5],ar_u4s5[finiteIx_u4s5],  1))\n",
    "ar_u4s5_dT = pf_ar_u4s5(-5) - pf_ar_u4s5(-6)    \n",
    "print(ar_u4s5_dT)\n",
    "\n",
    "u4s6_temp = u4s6['tempC'][u4s6_gte5]\n",
    "ar_u4s6 = u4s6['ar'][u4s6_gte5]\n",
    "finiteIx_u4s6 = np.isfinite(ar_u4s6)\n",
    "pf_ar_u4s6 = np.poly1d(np.polyfit(u4s6_temp[finiteIx_u4s6],ar_u4s6[finiteIx_u4s6],  1))\n",
    "ar_u4s6_dT = pf_ar_u4s6(-5) - pf_ar_u4s6(-6)    \n",
    "print(ar_u4s6_dT)\n",
    "\n",
    "u4s7_temp = u4s7['tempC'][u4s7_gte5]\n",
    "ar_u4s7 = u4s7['ar'][u4s7_gte5]\n",
    "finiteIx_u4s7 = np.isfinite(ar_u4s7)\n",
    "pf_ar_u4s7 = np.poly1d(np.polyfit(u4s7_temp[finiteIx_u4s7],ar_u4s7[finiteIx_u4s7],  1))\n",
    "ar_u4s7_dT = pf_ar_u4s7(-5) - pf_ar_u4s7(-6)    \n",
    "print(ar_u4s7_dT)"
   ]
  },
  {
   "cell_type": "markdown",
   "metadata": {},
   "source": [
    "# $dD_{mm}/dT$ for $T \\geq 5^{\\circ}C$"
   ]
  },
  {
   "cell_type": "code",
   "execution_count": null,
   "metadata": {
    "ExecuteTime": {
     "end_time": "2018-08-11T04:44:19.660893Z",
     "start_time": "2018-08-11T04:44:19.649562Z"
    }
   },
   "outputs": [],
   "source": [
    "print(np.nan)\n",
    "\n",
    "u4s2_temp = u4s2['tempC'][u4s2_gte5]\n",
    "Dmm_u4s2 = u4s2['Dmm'][u4s2_gte5]\n",
    "finiteIx_u4s2 = np.isfinite(Dmm_u4s2)\n",
    "pf_Dmm_u4s2 = np.poly1d(np.polyfit(u4s2_temp[finiteIx_u4s2],Dmm_u4s2[finiteIx_u4s2],  1))\n",
    "Dmm_u4s2_dT = pf_Dmm_u4s2(-5) - pf_Dmm_u4s2(-6)    \n",
    "print(Dmm_u4s2_dT*1000)\n",
    "   \n",
    "print(np.nan)\n",
    "\n",
    "u4s4_temp = u4s4['tempC'][u4s4_gte5]\n",
    "Dmm_u4s4 = u4s4['Dmm'][u4s4_gte5]\n",
    "finiteIx_u4s4 = np.isfinite(Dmm_u4s4)\n",
    "pf_Dmm_u4s4 = np.poly1d(np.polyfit(u4s4_temp[finiteIx_u4s4],Dmm_u4s4[finiteIx_u4s4],  1))\n",
    "Dmm_u4s4_dT = pf_Dmm_u4s4(-5) - pf_Dmm_u4s4(-6)    \n",
    "print(Dmm_u4s4_dT*1000)\n",
    "\n",
    "u4s5_temp = u4s5['tempC'][u4s5_gte5]\n",
    "Dmm_u4s5 = u4s5['Dmm'][u4s5_gte5]\n",
    "finiteIx_u4s5 = np.isfinite(Dmm_u4s5)\n",
    "pf_Dmm_u4s5 = np.poly1d(np.polyfit(u4s5_temp[finiteIx_u4s5],Dmm_u4s5[finiteIx_u4s5],  1))\n",
    "Dmm_u4s5_dT = pf_Dmm_u4s5(-5) - pf_Dmm_u4s5(-6)    \n",
    "print(Dmm_u4s5_dT*1000)\n",
    "\n",
    "u4s6_temp = u4s6['tempC'][u4s6_gte5]\n",
    "Dmm_u4s6 = u4s6['Dmm'][u4s6_gte5]\n",
    "finiteIx_u4s6 = np.isfinite(Dmm_u4s6)\n",
    "pf_Dmm_u4s6 = np.poly1d(np.polyfit(u4s6_temp[finiteIx_u4s6],Dmm_u4s6[finiteIx_u4s6],  1))\n",
    "Dmm_u4s6_dT = pf_Dmm_u4s6(-5) - pf_Dmm_u4s6(-6)    \n",
    "print(Dmm_u4s6_dT*1000)\n",
    "\n",
    "u4s7_temp = u4s7['tempC'][u4s7_gte5]\n",
    "Dmm_u4s7 = u4s7['Dmm'][u4s7_gte5]\n",
    "finiteIx_u4s7 = np.isfinite(Dmm_u4s7)\n",
    "pf_Dmm_u4s7 = np.poly1d(np.polyfit(u4s7_temp[finiteIx_u4s7],Dmm_u4s7[finiteIx_u4s7],  1))\n",
    "Dmm_u4s7_dT = pf_Dmm_u4s7(-5) - pf_Dmm_u4s7(-6)    \n",
    "print(Dmm_u4s7_dT*1000)"
   ]
  },
  {
   "cell_type": "markdown",
   "metadata": {},
   "source": [
    "# $dN_t/dT$ for $T \\geq 5^{\\circ}C$"
   ]
  },
  {
   "cell_type": "code",
   "execution_count": null,
   "metadata": {
    "ExecuteTime": {
     "end_time": "2018-08-11T04:44:19.678827Z",
     "start_time": "2018-08-11T04:44:19.664576Z"
    }
   },
   "outputs": [],
   "source": [
    "print(np.nan)\n",
    "\n",
    "u4s2_temp = u4s2['tempC'][u4s2_gte5]\n",
    "Nt_u4s2 = u4s2['Nt'][u4s2_gte5]\n",
    "finiteIx_u4s2 = np.isfinite(np.log10(Nt_u4s2))\n",
    "pf_Nt_u4s2 = np.poly1d(np.polyfit(u4s2_temp[finiteIx_u4s2],np.log10(Nt_u4s2[finiteIx_u4s2]),  1))\n",
    "Nt_u4s2_dT = 1 - (10**pf_Nt_u4s2(-6)/10**pf_Nt_u4s2(-5))  \n",
    "print(Nt_u4s2_dT)\n",
    "\n",
    "print(np.nan)\n",
    "\n",
    "u4s4_temp = u4s4['tempC'][u4s4_gte5]\n",
    "Nt_u4s4 = u4s4['Nt'][u4s4_gte5]\n",
    "finiteIx_u4s4 = np.isfinite(np.log10(Nt_u4s4))\n",
    "pf_Nt_u4s4 = np.poly1d(np.polyfit(u4s4_temp[finiteIx_u4s4],np.log10(Nt_u4s4[finiteIx_u4s4]),  1))\n",
    "Nt_u4s4_dT = 1 - (10**pf_Nt_u4s4(-6)/10**pf_Nt_u4s4(-5))  \n",
    "print(Nt_u4s4_dT)\n",
    "\n",
    "u4s5_temp = u4s5['tempC'][u4s5_gte5]\n",
    "Nt_u4s5 = u4s5['Nt'][u4s5_gte5]\n",
    "finiteIx_u4s5 = np.isfinite(np.log10(Nt_u4s5))\n",
    "pf_Nt_u4s5 = np.poly1d(np.polyfit(u4s5_temp[finiteIx_u4s5],np.log10(Nt_u4s5[finiteIx_u4s5]),  1))\n",
    "Nt_u4s5_dT = 1 - (10**pf_Nt_u4s5(-6)/10**pf_Nt_u4s5(-5))  \n",
    "print(Nt_u4s5_dT)\n",
    "\n",
    "u4s6_temp = u4s6['tempC'][u4s6_gte5]\n",
    "Nt_u4s6 = u4s6['Nt'][u4s6_gte5]\n",
    "finiteIx_u4s6 = np.isfinite(np.log10(Nt_u4s6))\n",
    "pf_Nt_u4s6 = np.poly1d(np.polyfit(u4s6_temp[finiteIx_u4s6],np.log10(Nt_u4s6[finiteIx_u4s6]),  1))\n",
    "Nt_u4s6_dT = 1 - (10**pf_Nt_u4s6(-6)/10**pf_Nt_u4s6(-5))  \n",
    "print(Nt_u4s6_dT)\n",
    "\n",
    "u4s7_temp = u4s7['tempC'][u4s7_gte5]\n",
    "Nt_u4s7 = u4s7['Nt'][u4s7_gte5]\n",
    "finiteIx_u4s7 = np.isfinite(np.log10(Nt_u4s7))\n",
    "pf_Nt_u4s7 = np.poly1d(np.polyfit(u4s7_temp[finiteIx_u4s7],np.log10(Nt_u4s7[finiteIx_u4s7]),  1))\n",
    "Nt_u4s7_dT = 1 - (10**pf_Nt_u4s7(-6)/10**pf_Nt_u4s7(-5))  \n",
    "print(Nt_u4s7_dT)"
   ]
  },
  {
   "cell_type": "markdown",
   "metadata": {},
   "source": [
    "# $dTWC/dT$ for $T \\geq 5^{\\circ}C$"
   ]
  },
  {
   "cell_type": "code",
   "execution_count": null,
   "metadata": {
    "ExecuteTime": {
     "end_time": "2018-08-11T04:44:19.694779Z",
     "start_time": "2018-08-11T04:44:19.682688Z"
    }
   },
   "outputs": [],
   "source": [
    "print(np.nan)\n",
    "\n",
    "u4s2_temp = u4s2['tempC'][u4s2_gte5]\n",
    "twc_u4s2 = u4s2['twc'][u4s2_gte5]\n",
    "finiteIx_u4s2 = np.isfinite(np.log10(twc_u4s2))\n",
    "pf_twc_u4s2 = np.poly1d(np.polyfit(u4s2_temp[finiteIx_u4s2],np.log10(twc_u4s2[finiteIx_u4s2]),  1))\n",
    "twc_u4s2_dT = 1 - (10**pf_twc_u4s2(-6)/10**pf_twc_u4s2(-5))  \n",
    "print(twc_u4s2_dT)\n",
    "\n",
    "print(np.nan)\n",
    "\n",
    "u4s4_temp = u4s4['tempC'][u4s4_gte5]\n",
    "twc_u4s4 = u4s4['twc'][u4s4_gte5]\n",
    "finiteIx_u4s4 = np.isfinite(np.log10(twc_u4s4))\n",
    "pf_twc_u4s4 = np.poly1d(np.polyfit(u4s4_temp[finiteIx_u4s4],np.log10(twc_u4s4[finiteIx_u4s4]),  1))\n",
    "twc_u4s4_dT = 1 - (10**pf_twc_u4s4(-6)/10**pf_twc_u4s4(-5))  \n",
    "print(twc_u4s4_dT)\n",
    "\n",
    "u4s5_temp = u4s5['tempC'][u4s5_gte5]\n",
    "twc_u4s5 = u4s5['twc'][u4s5_gte5]\n",
    "finiteIx_u4s5 = np.isfinite(np.log10(twc_u4s5))\n",
    "pf_twc_u4s5 = np.poly1d(np.polyfit(u4s5_temp[finiteIx_u4s5],np.log10(twc_u4s5[finiteIx_u4s5]),  1))\n",
    "twc_u4s5_dT = 1 - (10**pf_twc_u4s5(-6)/10**pf_twc_u4s5(-5))  \n",
    "print(twc_u4s5_dT)\n",
    "\n",
    "u4s6_temp = u4s6['tempC'][u4s6_gte5]\n",
    "twc_u4s6 = u4s6['twc'][u4s6_gte5]\n",
    "finiteIx_u4s6 = np.isfinite(np.log10(twc_u4s6))\n",
    "pf_twc_u4s6 = np.poly1d(np.polyfit(u4s6_temp[finiteIx_u4s6],np.log10(twc_u4s6[finiteIx_u4s6]),  1))\n",
    "twc_u4s6_dT = 1 - (10**pf_twc_u4s6(-6)/10**pf_twc_u4s6(-5))  \n",
    "print(twc_u4s6_dT)\n",
    "\n",
    "u4s7_temp = u4s7['tempC'][u4s7_gte5]\n",
    "twc_u4s7 = u4s7['twc'][u4s7_gte5]\n",
    "finiteIx_u4s7 = np.isfinite(np.log10(twc_u4s7))\n",
    "pf_twc_u4s7 = np.poly1d(np.polyfit(u4s7_temp[finiteIx_u4s7],np.log10(twc_u4s7[finiteIx_u4s7]),  1))\n",
    "twc_u4s7_dT = 1 - (10**pf_twc_u4s7(-6)/10**pf_twc_u4s7(-5))  \n",
    "print(twc_u4s7_dT)"
   ]
  },
  {
   "cell_type": "code",
   "execution_count": null,
   "metadata": {
    "ExecuteTime": {
     "end_time": "2018-08-11T04:44:19.703441Z",
     "start_time": "2018-08-11T04:44:19.697095Z"
    },
    "code_folding": [
     0
    ]
   },
   "outputs": [],
   "source": [
    "# fig, ax = plt.subplots(figsize=(8,10))\n",
    "# ax.plot(Dmm_u4s7[finiteIx_u4s7],u4s7_temp[finiteIx_u4s7],'b-')\n",
    "# ax.plot(Dmm_u4s7[finiteIx_u4s7],u4s7_temp[finiteIx_u4s7],'bo',markeredgecolor='white',markeredgewidth=1,markersize=12)\n",
    "# ax.plot(pf_Dmm_u4s7(u4s7_temp[finiteIx_u4s7]),u4s7_temp[finiteIx_u4s7],'r-')\n",
    "# ax.set_ylim(-15,0)\n",
    "# ax.invert_yaxis()\n",
    "# ax.set_ylabel('Temperature ($^{\\circ}$C)',fontsize=18)\n",
    "# ax.tick_params(axis='both', which='major', labelsize=16)\n",
    "# ax.grid(which='both')\n",
    "\n",
    "# fig, ax = plt.subplots(figsize=(8,10))\n",
    "# ax.plot(Nt_u4s7[finiteIx_u4s7],u4s7_temp[finiteIx_u4s7],'b-')\n",
    "# ax.plot(Nt_u4s7[finiteIx_u4s7],u4s7_temp[finiteIx_u4s7],'bo',markeredgecolor='white',markeredgewidth=1,markersize=12)\n",
    "# ax.plot(10**(pf_Nt_u4s7(u4s7_temp[finiteIx_u4s7])),u4s7_temp[finiteIx_u4s7],'r-')\n",
    "# ax.set_ylim(-15,0)\n",
    "# ax.set_xscale('log',nonposx='mask')\n",
    "# ax.invert_yaxis()\n",
    "# ax.set_ylabel('Temperature ($^{\\circ}$C)',fontsize=18)\n",
    "# ax.tick_params(axis='both', which='major', labelsize=16)\n",
    "# ax.grid(which='both')\n",
    "\n",
    "# fig, ax = plt.subplots(figsize=(8,10))\n",
    "# ax.plot(twc_u4s7[finiteIx_u4s7],u4s7_temp[finiteIx_u4s7],'b-')\n",
    "# ax.plot(twc_u4s7[finiteIx_u4s7],u4s7_temp[finiteIx_u4s7],'bo',markeredgecolor='white',markeredgewidth=1,markersize=12)\n",
    "# ax.plot(10**(pf_twc_u4s7(u4s7_temp[finiteIx_u4s7])),u4s7_temp[finiteIx_u4s7],'r-')\n",
    "# ax.set_ylim(-15,0)\n",
    "# ax.set_xscale('log',nonposx='mask')\n",
    "# ax.invert_yaxis()\n",
    "# ax.set_ylabel('Temperature ($^{\\circ}$C)',fontsize=18)\n",
    "# ax.tick_params(axis='both', which='major', labelsize=16)\n",
    "# ax.grid(which='both')\n",
    "\n",
    "# fig, ax = plt.subplots(figsize=(8,10))\n",
    "# ax.plot(ar_u4s7[finiteIx_u4s7],u4s7_temp[finiteIx_u4s7],'b-')\n",
    "# ax.plot(ar_u4s7[finiteIx_u4s7],u4s7_temp[finiteIx_u4s7],'bo',markeredgecolor='white',markeredgewidth=1,markersize=12)\n",
    "# ax.plot(pf_ar_u4s7(u4s7_temp[finiteIx_u4s7]),u4s7_temp[finiteIx_u4s7],'r-')\n",
    "# ax.set_ylim(-15,0)\n",
    "# ax.invert_yaxis()\n",
    "# ax.set_ylabel('Temperature ($^{\\circ}$C)',fontsize=18)\n",
    "# ax.tick_params(axis='both', which='major', labelsize=16)\n",
    "# ax.grid(which='both')\n",
    "\n",
    "# fig, ax = plt.subplots(figsize=(8,10))\n",
    "# ax.plot(Dmm_u4s7[finiteIx_u4s7],u4s7_temp[finiteIx_u4s7],'b-')\n",
    "# ax.plot(Dmm_u4s7[finiteIx_u4s7],u4s7_temp[finiteIx_u4s7],'bo',markeredgecolor='white',markeredgewidth=1,markersize=12)\n",
    "# ax.plot(pf_Dmm_u4s7(u4s7_temp[finiteIx_u4s7]),u4s7_temp[finiteIx_u4s7],'r-')\n",
    "# ax.set_ylim(0,15)\n",
    "# ax.invert_yaxis()\n",
    "# ax.set_ylabel('Temperature ($^{\\circ}$C)',fontsize=18)\n",
    "# ax.tick_params(axis='both', which='major', labelsize=16)\n",
    "# ax.grid(which='both')\n",
    "\n",
    "# fig, ax = plt.subplots(figsize=(8,10))\n",
    "# ax.plot(Nt_u4s7[finiteIx_u4s7],u4s7_temp[finiteIx_u4s7],'b-')\n",
    "# ax.plot(Nt_u4s7[finiteIx_u4s7],u4s7_temp[finiteIx_u4s7],'bo',markeredgecolor='white',markeredgewidth=1,markersize=12)\n",
    "# ax.plot(10**(pf_Nt_u4s7(u4s7_temp[finiteIx_u4s7])),u4s7_temp[finiteIx_u4s7],'r-')\n",
    "# ax.set_ylim(0,15)\n",
    "# ax.set_xscale('log',nonposx='mask')\n",
    "# ax.invert_yaxis()\n",
    "# ax.set_ylabel('Temperature ($^{\\circ}$C)',fontsize=18)\n",
    "# ax.tick_params(axis='both', which='major', labelsize=16)\n",
    "# ax.grid(which='both')\n",
    "\n",
    "# fig, ax = plt.subplots(figsize=(8,10))\n",
    "# ax.plot(twc_u4s7[finiteIx_u4s7],u4s7_temp[finiteIx_u4s7],'b-')\n",
    "# ax.plot(twc_u4s7[finiteIx_u4s7],u4s7_temp[finiteIx_u4s7],'bo',markeredgecolor='white',markeredgewidth=1,markersize=12)\n",
    "# ax.plot(10**(pf_twc_u4s7(u4s7_temp[finiteIx_u4s7])),u4s7_temp[finiteIx_u4s7],'r-')\n",
    "# ax.set_ylim(0,15)\n",
    "# ax.set_xscale('log',nonposx='mask')\n",
    "# ax.invert_yaxis()\n",
    "# ax.set_ylabel('Temperature ($^{\\circ}$C)',fontsize=18)\n",
    "# ax.tick_params(axis='both', which='major', labelsize=16)\n",
    "# ax.grid(which='both')\n",
    "\n",
    "# fig, ax = plt.subplots(figsize=(8,10))\n",
    "# ax.plot(ar_u4s7[finiteIx_u4s7],u4s7_temp[finiteIx_u4s7],'b-')\n",
    "# ax.plot(ar_u4s7[finiteIx_u4s7],u4s7_temp[finiteIx_u4s7],'bo',markeredgecolor='white',markeredgewidth=1,markersize=12)\n",
    "# ax.plot(pf_ar_u4s7(u4s7_temp[finiteIx_u4s7]),u4s7_temp[finiteIx_u4s7],'r-')\n",
    "# ax.set_ylim(0,15)\n",
    "# ax.invert_yaxis()\n",
    "# ax.set_ylabel('Temperature ($^{\\circ}$C)',fontsize=18)\n",
    "# ax.tick_params(axis='both', which='major', labelsize=16)\n",
    "# ax.grid(which='both')"
   ]
  }
 ],
 "metadata": {
  "anaconda-cloud": {},
  "kernelspec": {
   "display_name": "Python 3",
   "language": "python",
   "name": "python3"
  },
  "language_info": {
   "codemirror_mode": {
    "name": "ipython",
    "version": 3
   },
   "file_extension": ".py",
   "mimetype": "text/x-python",
   "name": "python",
   "nbconvert_exporter": "python",
   "pygments_lexer": "ipython3",
   "version": "3.5.5"
  },
  "varInspector": {
   "cols": {
    "lenName": 16,
    "lenType": 16,
    "lenVar": 40
   },
   "kernels_config": {
    "python": {
     "delete_cmd_postfix": "",
     "delete_cmd_prefix": "del ",
     "library": "var_list.py",
     "varRefreshCmd": "print(var_dic_list())"
    },
    "r": {
     "delete_cmd_postfix": ") ",
     "delete_cmd_prefix": "rm(",
     "library": "var_list.r",
     "varRefreshCmd": "cat(var_dic_list()) "
    }
   },
   "types_to_exclude": [
    "module",
    "function",
    "builtin_function_or_method",
    "instance",
    "_Feature"
   ],
   "window_display": false
  }
 },
 "nbformat": 4,
 "nbformat_minor": 1
}
