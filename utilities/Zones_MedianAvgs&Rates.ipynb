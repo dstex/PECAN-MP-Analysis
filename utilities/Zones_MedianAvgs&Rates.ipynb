{
 "cells": [
  {
   "cell_type": "code",
   "execution_count": 1,
   "metadata": {
    "ExecuteTime": {
     "end_time": "2018-08-22T21:54:54.427546Z",
     "start_time": "2018-08-22T21:54:52.978613Z"
    },
    "run_control": {
     "frozen": false,
     "read_only": false
    }
   },
   "outputs": [],
   "source": [
    "import numpy as np\n",
    "from matplotlib import pyplot as plt\n",
    "import os\n",
    "import warnings\n",
    "warnings.filterwarnings(\"ignore\",category=FutureWarning)\n",
    "import xarray as xr\n",
    "from matplotlib.ticker import MultipleLocator, FormatStrFormatter\n",
    "\n",
    "warnings.filterwarnings(\"ignore\",message='invalid value encountered in less_equal')\n",
    "\n",
    "%matplotlib inline"
   ]
  },
  {
   "cell_type": "code",
   "execution_count": 2,
   "metadata": {
    "ExecuteTime": {
     "end_time": "2018-08-22T21:54:54.444903Z",
     "start_time": "2018-08-22T21:54:54.429945Z"
    }
   },
   "outputs": [],
   "source": [
    "npAllSprls = np.load('/Users/danstechman/GoogleDrive/PECAN-Data/mp-data/allSpirals_excldOutlrs_stats.npz')\n",
    "\n",
    "ufo4_S1 = npAllSprls['tzUFO4_S1'][()]\n",
    "ufo4_S2 = npAllSprls['tzUFO4_S2'][()]\n",
    "iop11S2 = npAllSprls['iop11S2'][()]"
   ]
  },
  {
   "cell_type": "code",
   "execution_count": 3,
   "metadata": {
    "ExecuteTime": {
     "end_time": "2018-08-22T21:54:54.458263Z",
     "start_time": "2018-08-22T21:54:54.447224Z"
    }
   },
   "outputs": [],
   "source": [
    "temps = npAllSprls['bin_mid']\n",
    "temp_lte0 = temps[temps <= 0]\n",
    "temp_gt0 = temps[temps > 0]\n",
    "temp_gte5 = temps[temps >= 5]\n",
    "temp_lte0gt_n5 = temps[(temps > -5) & (temps <= 0)]\n",
    "temp_lte0gt_n6 = temps[(temps > -6) & (temps <= 0)]\n",
    "temp_gt0lte10 = temps[(temps > 0) & (temps <= 10)]\n",
    "temp_lte0gte_n10 = temps[(temps <= 0) & (temps >= -10)]\n",
    "\n",
    "u4temp_lt_n9 = ufo4_S2['tempC'][ufo4_S2['tempC'] < -9]\n",
    "u4temp_gte_n9_lte_n6 = ufo4_S2['tempC'][(ufo4_S2['tempC'] >= -9) & (ufo4_S2['tempC'] <= -6)]\n",
    "u4temp_gt_n9_lte5 = ufo4_S2['tempC'][(ufo4_S2['tempC'] > -9) & (ufo4_S2['tempC'] <= 5)]\n",
    "u4temp_gt_n9 = ufo4_S2['tempC'][ufo4_S2['tempC'] > -9]\n",
    "u4temp_gt_n6_lte0 = ufo4_S2['tempC'][(ufo4_S2['tempC'] > -6) & (ufo4_S2['tempC'] <= 0)]\n",
    "\n",
    "lte0 = np.where(temps <= 0)[0]\n",
    "gt0 = np.where(temps > 0)[0]\n",
    "gte5 = np.where(temps >= 5)[0]\n",
    "gt0lt5 = np.where((temps > 0) & (temps < 5))[0]\n",
    "lte0gt_n5 = np.where((temps > -5) & (temps <= 0))[0]\n",
    "lte0gt_n6 = np.where((temps > -6) & (temps <= 0))[0]\n",
    "gt0lte10 = np.where((temps > 0) & (temps <= 10))[0]\n",
    "lte0gte_n10 = np.where((temps <= 0) & (temps >= -10))[0]\n",
    "\n",
    "u4lt_n9 = np.where(ufo4_S2['tempC'] < -9)[0]\n",
    "u4gte_n9_lte_n6 = np.where((ufo4_S2['tempC'] >= -9) & (ufo4_S2['tempC'] <= -6))[0]\n",
    "u4gt_n9_lte5 = np.where((ufo4_S2['tempC'] > -9) & (ufo4_S2['tempC'] <= 5))[0]\n",
    "u4gt_n9 = np.where(ufo4_S2['tempC'] > -9)[0]\n",
    "u4gt_n6 = np.where(ufo4_S2['tempC'] > -6)[0]\n",
    "u4gt_n6_lte0 = np.where((ufo4_S2['tempC'] > -6) & (ufo4_S2['tempC'] <= 0))[0]"
   ]
  },
  {
   "cell_type": "markdown",
   "metadata": {
    "heading_collapsed": true
   },
   "source": [
    "# $dRH/dT$ for $T \\leq 0^{\\circ}C$"
   ]
  },
  {
   "cell_type": "code",
   "execution_count": null,
   "metadata": {
    "ExecuteTime": {
     "end_time": "2018-08-08T04:49:41.056581Z",
     "start_time": "2018-08-08T04:49:41.042854Z"
    },
    "hidden": true,
    "run_control": {
     "frozen": false,
     "read_only": false
    }
   },
   "outputs": [],
   "source": [
    "# rhMed_TZ_lte0 = npAllSprls['binRH_median_TZ'][lte0]\n",
    "# finiteIx = np.isfinite(rhMed_TZ_lte0)\n",
    "# pf_rhMed_TZ_lte0 = np.poly1d(np.polyfit(temp_lte0[finiteIx],rhMed_TZ_lte0[finiteIx],  1))\n",
    "# rhMed_TZ_lte0_dT = pf_rhMed_TZ_lte0(-5) - pf_rhMed_TZ_lte0(-6)   \n",
    "# print(rhMed_TZ_lte0_dT)\n",
    "\n",
    "rh_u4s1_lte0 = ufo4_S1['rh'][ufo4_S1['tempC'] <= 0]\n",
    "finiteIx_u4s1 = np.isfinite(rh_u4s1_lte0)\n",
    "pf_rh_u4s1_lte0 = np.poly1d(np.polyfit(ufo4_S1['tempC'][ufo4_S1['tempC'] <= 0][finiteIx_u4s1],rh_u4s1_lte0[finiteIx_u4s1],  1))\n",
    "rh_u4s1_lte0_dT = pf_rh_u4s1_lte0(-5) - pf_rh_u4s1_lte0(-6)\n",
    "print(rh_u4s1_lte0_dT)\n",
    "\n",
    "rh_u4s2_lte0 = ufo4_S2['rh'][ufo4_S2['tempC'] <= 0]\n",
    "finiteIx_u4s2 = np.isfinite(rh_u4s2_lte0)\n",
    "pf_rh_u4s2_lte0 = np.poly1d(np.polyfit(ufo4_S2['tempC'][ufo4_S2['tempC'] <= 0][finiteIx_u4s2],rh_u4s2_lte0[finiteIx_u4s2],  1))\n",
    "rh_u4s2_lte0_dT = pf_rh_u4s2_lte0(-5) - pf_rh_u4s2_lte0(-6)\n",
    "print(rh_u4s2_lte0_dT)\n",
    "\n",
    "\n",
    "rhMed_SR_lte0 = npAllSprls['binRH_median_SR'][lte0]\n",
    "finiteIx = np.isfinite(rhMed_SR_lte0)\n",
    "pf_rhMed_SR_lte0 = np.poly1d(np.polyfit(temp_lte0[finiteIx],rhMed_SR_lte0[finiteIx],  1))\n",
    "rhMed_SR_lte0_dT = pf_rhMed_SR_lte0(-5) - pf_rhMed_SR_lte0(-6)\n",
    "        \n",
    "print(rhMed_SR_lte0_dT)\n",
    "\n",
    "rhMed_AR_lte0 = npAllSprls['binRH_median_AR'][lte0]\n",
    "finiteIx = np.isfinite(rhMed_AR_lte0)\n",
    "pf_rhMed_AR_lte0 = np.poly1d(np.polyfit(temp_lte0[finiteIx],rhMed_AR_lte0[finiteIx],  1))\n",
    "rhMed_AR_lte0_dT = pf_rhMed_AR_lte0(-5) - pf_rhMed_AR_lte0(-6)\n",
    "        \n",
    "print(rhMed_AR_lte0_dT)\n",
    "\n",
    "rh_i11s2_lte0 = iop11S2['rh'][iop11S2['tempC'] <= 0]\n",
    "temp_i11s2_lte0 = iop11S2['tempC'][iop11S2['tempC'] <= 0]\n",
    "finiteIx = np.isfinite(rh_i11s2_lte0)\n",
    "pf_rh_i11s2_lte0 = np.poly1d(np.polyfit(temp_i11s2_lte0[finiteIx],rh_i11s2_lte0[finiteIx],  1))\n",
    "rh_i11s2_lte0_dT = pf_rh_i11s2_lte0(-5) - pf_rh_i11s2_lte0(-6)\n",
    "        \n",
    "print(rh_i11s2_lte0_dT)"
   ]
  },
  {
   "cell_type": "code",
   "execution_count": null,
   "metadata": {
    "ExecuteTime": {
     "end_time": "2018-08-03T13:52:44.547249Z",
     "start_time": "2018-08-03T13:52:44.538371Z"
    },
    "hidden": true
   },
   "outputs": [],
   "source": [
    "rh_u4s1_lte0 = ufo4_S1['rh'][ufo4_S1['tempC'] < -9]\n",
    "finiteIx_u4s1 = np.isfinite(rh_u4s1_lte0)\n",
    "pf_rh_u4s1_lte0 = np.poly1d(np.polyfit(ufo4_S1['tempC'][ufo4_S1['tempC'] < -9][finiteIx_u4s1],rh_u4s1_lte0[finiteIx_u4s1],  1))\n",
    "rh_u4s1_lte0_dT = pf_rh_u4s1_lte0(-5) - pf_rh_u4s1_lte0(-6)\n",
    "print(rh_u4s1_lte0_dT)\n",
    "\n",
    "rh_u4s2_lte0 = ufo4_S2['rh'][ufo4_S2['tempC'] < -9]\n",
    "finiteIx_u4s2 = np.isfinite(rh_u4s2_lte0)\n",
    "pf_rh_u4s2_lte0 = np.poly1d(np.polyfit(ufo4_S2['tempC'][ufo4_S2['tempC'] < -9][finiteIx_u4s2],rh_u4s2_lte0[finiteIx_u4s2],  1))\n",
    "rh_u4s2_lte0_dT = pf_rh_u4s2_lte0(-5) - pf_rh_u4s2_lte0(-6)\n",
    "print(rh_u4s2_lte0_dT)"
   ]
  },
  {
   "cell_type": "code",
   "execution_count": null,
   "metadata": {
    "ExecuteTime": {
     "end_time": "2018-08-03T15:30:33.668227Z",
     "start_time": "2018-08-03T15:30:33.661353Z"
    },
    "hidden": true
   },
   "outputs": [],
   "source": [
    "rh_u4s2_lte0 = ufo4_S2['rh'][u4gt_n9]\n",
    "finiteIx_u4s2 = np.isfinite(rh_u4s2_lte0)\n",
    "pf_rh_u4s2_lte0 = np.poly1d(np.polyfit(u4temp_gt_n9[finiteIx_u4s2],rh_u4s2_lte0[finiteIx_u4s2],  1))\n",
    "rh_u4s2_lte0_dT = pf_rh_u4s2_lte0(-5) - pf_rh_u4s2_lte0(-6)\n",
    "print(rh_u4s2_lte0_dT)"
   ]
  },
  {
   "cell_type": "code",
   "execution_count": null,
   "metadata": {
    "ExecuteTime": {
     "end_time": "2018-08-03T21:12:31.250931Z",
     "start_time": "2018-08-03T21:12:31.239173Z"
    },
    "hidden": true
   },
   "outputs": [],
   "source": [
    "rhMed_AR_lte0gte_n10 = npAllSprls['binRH_median_AR'][lte0gte_n10]\n",
    "finiteIx = np.isfinite(rhMed_AR_lte0gte_n10)\n",
    "pf_rhMed_AR_lte0gte_n10 = np.poly1d(np.polyfit(temp_lte0gte_n10[finiteIx],rhMed_AR_lte0gte_n10[finiteIx],  1))\n",
    "rhMed_AR_lte0gte_n10_dT = pf_rhMed_AR_lte0gte_n10(-5) - pf_rhMed_AR_lte0gte_n10(-6)\n",
    "        \n",
    "print(rhMed_AR_lte0gte_n10_dT)"
   ]
  },
  {
   "cell_type": "code",
   "execution_count": null,
   "metadata": {
    "ExecuteTime": {
     "end_time": "2018-08-03T21:15:15.729005Z",
     "start_time": "2018-08-03T21:15:15.721566Z"
    },
    "hidden": true
   },
   "outputs": [],
   "source": [
    "rhMed_AR_gt0lte10 = npAllSprls['binRH_median_AR'][gt0lte10]\n",
    "finiteIx = np.isfinite(rhMed_AR_gt0lte10)\n",
    "pf_rhMed_AR_gt0lte10 = np.poly1d(np.polyfit(temp_gt0lte10[finiteIx],rhMed_AR_gt0lte10[finiteIx],  1))\n",
    "rhMed_AR_gt0lte10_dT = pf_rhMed_AR_gt0lte10(5) - pf_rhMed_AR_gt0lte10(6)\n",
    "        \n",
    "print(rhMed_AR_gt0lte10_dT)"
   ]
  },
  {
   "cell_type": "markdown",
   "metadata": {
    "heading_collapsed": true
   },
   "source": [
    "# $dRH/dT$ for $T > 0^{\\circ}C$"
   ]
  },
  {
   "cell_type": "code",
   "execution_count": null,
   "metadata": {
    "ExecuteTime": {
     "end_time": "2018-08-03T22:28:04.885435Z",
     "start_time": "2018-08-03T22:28:04.876375Z"
    },
    "hidden": true,
    "run_control": {
     "frozen": false,
     "read_only": false
    }
   },
   "outputs": [],
   "source": [
    "# rhMed_TZ_gt0 = npAllSprls['binRH_median_TZ'][gt0]\n",
    "# finiteIx = np.isfinite(rhMed_TZ_gt0)\n",
    "# pf_rhMed_TZ_gt0 = np.poly1d(np.polyfit(temp_gt0[finiteIx],rhMed_TZ_gt0[finiteIx],  1))\n",
    "# rhMed_TZ_gt0_dT = pf_rhMed_TZ_gt0(6) - pf_rhMed_TZ_gt0(5)\n",
    "# print(rhMed_TZ_gt0_dT)\n",
    "\n",
    "rh_u4s2_gt0 = ufo4_S2['rh'][ufo4_S2['tempC'] > 0]\n",
    "finiteIx_u4s2 = np.isfinite(rh_u4s2_gt0)\n",
    "pf_rh_u4s2_gt0 = np.poly1d(np.polyfit(ufo4_S2['tempC'][ufo4_S2['tempC'] > 0][finiteIx_u4s2],rh_u4s2_gt0[finiteIx_u4s2],  1))\n",
    "rh_u4s2_gt0_dT = pf_rh_u4s2_gt0(6) - pf_rh_u4s2_gt0(5)\n",
    "\n",
    "print(rh_u4s2_gt0_dT)\n",
    "\n",
    "rhMed_SR_gt0 = npAllSprls['binRH_median_SR'][gt0]\n",
    "finiteIx = np.isfinite(rhMed_SR_gt0)\n",
    "pf_rhMed_SR_gt0 = np.poly1d(np.polyfit(temp_gt0[finiteIx],rhMed_SR_gt0[finiteIx],  1))\n",
    "rhMed_SR_gt0_dT = pf_rhMed_SR_gt0(6) - pf_rhMed_SR_gt0(5)\n",
    "        \n",
    "print(rhMed_SR_gt0_dT)\n",
    "\n",
    "rhMed_AR_gt0 = npAllSprls['binRH_median_AR'][gt0]\n",
    "finiteIx = np.isfinite(rhMed_AR_gt0)\n",
    "pf_rhMed_AR_gt0 = np.poly1d(np.polyfit(temp_gt0[finiteIx],rhMed_AR_gt0[finiteIx],  1))\n",
    "rhMed_AR_gt0_dT = pf_rhMed_AR_gt0(6) - pf_rhMed_AR_gt0(5)\n",
    "        \n",
    "print(rhMed_AR_gt0_dT)"
   ]
  },
  {
   "cell_type": "markdown",
   "metadata": {
    "heading_collapsed": true
   },
   "source": [
    "# $dRH/dT$ for $T \\geq 5^{\\circ}C$"
   ]
  },
  {
   "cell_type": "code",
   "execution_count": null,
   "metadata": {
    "ExecuteTime": {
     "end_time": "2018-08-08T04:51:28.853582Z",
     "start_time": "2018-08-08T04:51:28.836211Z"
    },
    "hidden": true,
    "run_control": {
     "frozen": false,
     "read_only": false
    }
   },
   "outputs": [],
   "source": [
    "# rhMed_TZ_gte5 = npAllSprls['binRH_median_TZ'][gte5]\n",
    "# finiteIx = np.isfinite(rhMed_TZ_gte5)\n",
    "# pf_rhMed_TZ_gte5 = np.poly1d(np.polyfit(temp_gte5[finiteIx],rhMed_TZ_gte5[finiteIx],  1))\n",
    "# rhMed_TZ_gte5_dT = pf_rhMed_TZ_gte5(6) - pf_rhMed_TZ_gte5(5)\n",
    "# print(rhMed_TZ_gte5_dT)\n",
    "\n",
    "rh_u4s2_gte5 = ufo4_S2['rh'][ufo4_S2['tempC'] >= 5]\n",
    "finiteIx_u4s2 = np.isfinite(rh_u4s2_gte5)\n",
    "pf_rh_u4s2_gte5 = np.poly1d(np.polyfit(ufo4_S2['tempC'][ufo4_S2['tempC'] >= 5][finiteIx_u4s2],rh_u4s2_gte5[finiteIx_u4s2],  1))\n",
    "rh_u4s2_gte5_dT = pf_rh_u4s2_gte5(6) - pf_rh_u4s2_gte5(5)\n",
    "\n",
    "print(rh_u4s2_gte5_dT)\n",
    "\n",
    "rhMed_SR_gte5 = npAllSprls['binRH_median_SR'][gte5]\n",
    "finiteIx = np.isfinite(rhMed_SR_gte5)\n",
    "pf_rhMed_SR_gte5 = np.poly1d(np.polyfit(temp_gte5[finiteIx],rhMed_SR_gte5[finiteIx],  1))\n",
    "rhMed_SR_gte5_dT = pf_rhMed_SR_gte5(6) - pf_rhMed_SR_gte5(5)\n",
    "        \n",
    "print(rhMed_SR_gte5_dT)\n",
    "\n",
    "rhMed_AR_gte5 = npAllSprls['binRH_median_AR'][gte5]\n",
    "finiteIx = np.isfinite(rhMed_AR_gte5)\n",
    "pf_rhMed_AR_gte5 = np.poly1d(np.polyfit(temp_gte5[finiteIx],rhMed_AR_gte5[finiteIx],  1))\n",
    "rhMed_AR_gte5_dT = pf_rhMed_AR_gte5(6) - pf_rhMed_AR_gte5(5)\n",
    "        \n",
    "print(rhMed_AR_gte5_dT)\n",
    "\n",
    "rh_i11s2_gte5 = iop11S2['rh'][iop11S2['tempC'] >= 5]\n",
    "temp_i11s2_gte5 = iop11S2['tempC'][iop11S2['tempC'] >= 5]\n",
    "finiteIx = np.isfinite(rh_i11s2_gte5)\n",
    "pf_rh_i11s2_gte5 = np.poly1d(np.polyfit(temp_i11s2_gte5[finiteIx],rh_i11s2_gte5[finiteIx],  1))\n",
    "rh_i11s2_gte5_dT = pf_rh_i11s2_gte5(6) - pf_rh_i11s2_gte5(5)\n",
    "        \n",
    "print(rh_i11s2_gte5_dT)"
   ]
  },
  {
   "cell_type": "markdown",
   "metadata": {
    "heading_collapsed": true
   },
   "source": [
    "# $d𝒜/dT$ for $T \\leq 0^{\\circ}C$"
   ]
  },
  {
   "cell_type": "code",
   "execution_count": null,
   "metadata": {
    "ExecuteTime": {
     "end_time": "2018-08-08T04:53:12.515089Z",
     "start_time": "2018-08-08T04:53:12.499245Z"
    },
    "hidden": true,
    "run_control": {
     "frozen": false,
     "read_only": false
    }
   },
   "outputs": [],
   "source": [
    "# ARatMed_TZ_lte0 = npAllSprls['binARat_median_TZ'][lte0]\n",
    "# finiteIx = np.isfinite(ARatMed_TZ_lte0)\n",
    "# pf_ARatMed_TZ_lte0 = np.poly1d(np.polyfit(temp_lte0[finiteIx],ARatMed_TZ_lte0[finiteIx],  1))\n",
    "# ARatMed_TZ_lte0_dT = pf_ARatMed_TZ_lte0(-5) - pf_ARatMed_TZ_lte0(-6)\n",
    "# print(ARatMed_TZ_lte0_dT)\n",
    "\n",
    "ar_u4s1_lte0 = ufo4_S1['ar'][ufo4_S1['tempC'] <= 0]\n",
    "ar_u4s2_lte0 = ufo4_S2['ar'][ufo4_S2['tempC'] <= 0]\n",
    "finiteIx_u4s1 = np.isfinite(ar_u4s1_lte0)\n",
    "finiteIx_u4s2 = np.isfinite(ar_u4s2_lte0)\n",
    "pf_ar_u4s1_lte0 = np.poly1d(np.polyfit(ufo4_S1['tempC'][ufo4_S1['tempC'] <= 0][finiteIx_u4s1],ar_u4s1_lte0[finiteIx_u4s1],  1))\n",
    "pf_ar_u4s2_lte0 = np.poly1d(np.polyfit(ufo4_S2['tempC'][ufo4_S2['tempC'] <= 0][finiteIx_u4s2],ar_u4s2_lte0[finiteIx_u4s2],  1))\n",
    "ar_u4s1_lte0_dT = pf_ar_u4s1_lte0(-5) - pf_ar_u4s1_lte0(-6)\n",
    "ar_u4s2_lte0_dT = pf_ar_u4s2_lte0(-5) - pf_ar_u4s2_lte0(-6)\n",
    "\n",
    "print(ar_u4s1_lte0_dT)\n",
    "print(ar_u4s2_lte0_dT)\n",
    "print('**MeanS1&S2: {}'.format(np.nanmean([ar_u4s1_lte0_dT,ar_u4s2_lte0_dT])))\n",
    "\n",
    "ARatMed_SR_lte0 = npAllSprls['binARat_median_SR'][lte0]\n",
    "finiteIx = np.isfinite(ARatMed_SR_lte0)\n",
    "pf_ARatMed_SR_lte0 = np.poly1d(np.polyfit(temp_lte0[finiteIx],ARatMed_SR_lte0[finiteIx],  1))\n",
    "ARatMed_SR_lte0_dT = pf_ARatMed_SR_lte0(-5) - pf_ARatMed_SR_lte0(-6)\n",
    "        \n",
    "print(ARatMed_SR_lte0_dT)\n",
    "\n",
    "ARatMed_AR_lte0 = npAllSprls['binARat_median_AR'][lte0]\n",
    "finiteIx = np.isfinite(ARatMed_AR_lte0)\n",
    "pf_ARatMed_AR_lte0 = np.poly1d(np.polyfit(temp_lte0[finiteIx],ARatMed_AR_lte0[finiteIx],  1))\n",
    "ARatMed_AR_lte0_dT = pf_ARatMed_AR_lte0(-5) - pf_ARatMed_AR_lte0(-6)\n",
    "        \n",
    "print(ARatMed_AR_lte0_dT)\n",
    "\n",
    "ar_i11s2_lte0 = iop11S2['ar'][iop11S2['tempC'] <= 0]\n",
    "temp_i11s2_lte0 = iop11S2['tempC'][iop11S2['tempC'] <= 0]\n",
    "finiteIx = np.isfinite(ar_i11s2_lte0)\n",
    "pf_ar_i11s2_lte0 = np.poly1d(np.polyfit(temp_i11s2_lte0[finiteIx],ar_i11s2_lte0[finiteIx],  1))\n",
    "ar_i11s2_lte0_dT = pf_ar_i11s2_lte0(-5) - pf_ar_i11s2_lte0(-6)\n",
    "        \n",
    "print(ar_i11s2_lte0_dT)"
   ]
  },
  {
   "cell_type": "markdown",
   "metadata": {
    "heading_collapsed": true
   },
   "source": [
    "# $d𝒜/dT$ for $T \\geq 5^{\\circ}C$"
   ]
  },
  {
   "cell_type": "code",
   "execution_count": null,
   "metadata": {
    "ExecuteTime": {
     "end_time": "2018-08-08T04:54:50.136644Z",
     "start_time": "2018-08-08T04:54:50.114982Z"
    },
    "hidden": true,
    "run_control": {
     "frozen": false,
     "read_only": false
    }
   },
   "outputs": [],
   "source": [
    "# ARatMed_TZ_gte5 = npAllSprls['binARat_median_TZ'][gte5]\n",
    "# finiteIx = np.isfinite(ARatMed_TZ_gte5)\n",
    "# pf_ARatMed_TZ_gte5 = np.poly1d(np.polyfit(temp_gte5[finiteIx],ARatMed_TZ_gte5[finiteIx],  1))\n",
    "# ARatMed_TZ_gte5_dT = pf_ARatMed_TZ_gte5(6) - pf_ARatMed_TZ_gte5(5)\n",
    "# print(ARatMed_TZ_gte5_dT)\n",
    "\n",
    "ar_u4s2_gte5 = ufo4_S2['ar'][ufo4_S2['tempC'] > 7]\n",
    "finiteIx_u4s2 = np.isfinite(ar_u4s2_gte5)\n",
    "pf_ar_u4s2_gte5 = np.poly1d(np.polyfit(ufo4_S2['tempC'][ufo4_S2['tempC'] > 7][finiteIx_u4s2],ar_u4s2_gte5[finiteIx_u4s2],  1))\n",
    "ar_u4s2_gte5_dT = pf_ar_u4s2_gte5(6) - pf_ar_u4s2_gte5(5)\n",
    "\n",
    "print(ar_u4s2_gte5_dT)\n",
    "\n",
    "ARatMed_SR_gte5 = npAllSprls['binARat_median_SR'][gte5]\n",
    "finiteIx = np.isfinite(ARatMed_SR_gte5)\n",
    "pf_ARatMed_SR_gte5 = np.poly1d(np.polyfit(temp_gte5[finiteIx],ARatMed_SR_gte5[finiteIx],  1))\n",
    "ARatMed_SR_gte5_dT = pf_ARatMed_SR_gte5(6) - pf_ARatMed_SR_gte5(5)\n",
    "        \n",
    "print(ARatMed_SR_gte5_dT)\n",
    "\n",
    "ARatMed_AR_gte5 = npAllSprls['binARat_median_AR'][gte5]\n",
    "finiteIx = np.isfinite(ARatMed_AR_gte5)\n",
    "pf_ARatMed_AR_gte5 = np.poly1d(np.polyfit(temp_gte5[finiteIx],ARatMed_AR_gte5[finiteIx],  1))\n",
    "ARatMed_AR_gte5_dT = pf_ARatMed_AR_gte5(6) - pf_ARatMed_AR_gte5(5)\n",
    "        \n",
    "print(ARatMed_AR_gte5_dT)\n",
    "\n",
    "ar_i11s2_gte5 = iop11S2['ar'][iop11S2['tempC'] >= 5]\n",
    "temp_i11s2_gte5 = iop11S2['tempC'][iop11S2['tempC'] >= 5]\n",
    "finiteIx = np.isfinite(ar_i11s2_gte5)\n",
    "pf_ar_i11s2_gte5 = np.poly1d(np.polyfit(temp_i11s2_gte5[finiteIx],ar_i11s2_gte5[finiteIx],  1))\n",
    "ar_i11s2_gte5_dT = pf_ar_i11s2_gte5(6) - pf_ar_i11s2_gte5(5)\n",
    "        \n",
    "print(ar_i11s2_gte5_dT)"
   ]
  },
  {
   "cell_type": "markdown",
   "metadata": {
    "heading_collapsed": true
   },
   "source": [
    "# $dD_{mm}/dT$ for $T \\leq 0^{\\circ}C$"
   ]
  },
  {
   "cell_type": "code",
   "execution_count": null,
   "metadata": {
    "ExecuteTime": {
     "end_time": "2018-08-08T04:56:45.345115Z",
     "start_time": "2018-08-08T04:56:45.330914Z"
    },
    "hidden": true,
    "run_control": {
     "frozen": false,
     "read_only": false
    }
   },
   "outputs": [],
   "source": [
    "# temp_lte0 = temps[lte0]\n",
    "# dmmMed_TZ_lte0 = npAllSprls['binDmm_median_TZ'][lte0]\n",
    "# finiteIx = np.isfinite(dmmMed_TZ_lte0)\n",
    "# pf_dmmMed_TZ_lte0 = np.poly1d(np.polyfit(temp_lte0[finiteIx],dmmMed_TZ_lte0[finiteIx],  1))\n",
    "# dmmMed_TZ_lte0_dT = pf_dmmMed_TZ_lte0(-5) - pf_dmmMed_TZ_lte0(-6)\n",
    "# print(dmmMed_TZ_lte0_dT)\n",
    "\n",
    "Dmm_u4s1_lte0 = ufo4_S1['Dmm'][ufo4_S1['tempC'] <= 0]\n",
    "Dmm_u4s2_lte0 = ufo4_S2['Dmm'][ufo4_S2['tempC'] <= 0]\n",
    "finiteIx_u4s1 = np.isfinite(Dmm_u4s1_lte0)\n",
    "finiteIx_u4s2 = np.isfinite(Dmm_u4s2_lte0)\n",
    "pf_Dmm_u4s1_lte0 = np.poly1d(np.polyfit(ufo4_S1['tempC'][ufo4_S1['tempC'] <= 0][finiteIx_u4s1],Dmm_u4s1_lte0[finiteIx_u4s1],  1))\n",
    "pf_Dmm_u4s2_lte0 = np.poly1d(np.polyfit(ufo4_S2['tempC'][ufo4_S2['tempC'] <= 0][finiteIx_u4s2],Dmm_u4s2_lte0[finiteIx_u4s2],  1))\n",
    "Dmm_u4s1_lte0_dT = pf_Dmm_u4s1_lte0(-5) - pf_Dmm_u4s1_lte0(-6)\n",
    "Dmm_u4s2_lte0_dT = pf_Dmm_u4s2_lte0(-5) - pf_Dmm_u4s2_lte0(-6)\n",
    "\n",
    "print(Dmm_u4s1_lte0_dT)\n",
    "print(Dmm_u4s2_lte0_dT)\n",
    "print('**MeanS1&S2: {}'.format(np.nanmean([Dmm_u4s1_lte0_dT,Dmm_u4s2_lte0_dT])))\n",
    "\n",
    "dmmMed_SR_lte0 = npAllSprls['binDmm_median_SR'][lte0]\n",
    "finiteIx = np.isfinite(dmmMed_SR_lte0)\n",
    "pf_dmmMed_SR_lte0 = np.poly1d(np.polyfit(temp_lte0[finiteIx],dmmMed_SR_lte0[finiteIx],  1))\n",
    "dmmMed_SR_lte0_dT = pf_dmmMed_SR_lte0(-5) - pf_dmmMed_SR_lte0(-6)\n",
    "        \n",
    "print(dmmMed_SR_lte0_dT)\n",
    "\n",
    "dmmMed_AR_lte0 = npAllSprls['binDmm_median_AR'][lte0]\n",
    "finiteIx = np.isfinite(dmmMed_AR_lte0)\n",
    "pf_dmmMed_AR_lte0 = np.poly1d(np.polyfit(temp_lte0[finiteIx],dmmMed_AR_lte0[finiteIx],  1))\n",
    "dmmMed_AR_lte0_dT = pf_dmmMed_AR_lte0(-5) - pf_dmmMed_AR_lte0(-6)\n",
    "        \n",
    "print(dmmMed_AR_lte0_dT*1000)\n",
    "\n",
    "# dmmMed_AR_lte0gt_n5 = npAllSprls['binDmm_median_AR'][lte0gt_n5]\n",
    "# finiteIx = np.isfinite(dmmMed_AR_lte0gt_n5)\n",
    "# pf_dmmMed_AR_lte0gt_n5 = np.poly1d(np.polyfit(temp_lte0gt_n5[finiteIx],dmmMed_AR_lte0gt_n5[finiteIx],  1))\n",
    "# dmmMed_AR_lte0gt_n5_dT = pf_dmmMed_AR_lte0gt_n5(-5) - pf_dmmMed_AR_lte0gt_n5(-6)\n",
    "        \n",
    "# print(dmmMed_AR_lte0gt_n5_dT)\n",
    "\n",
    "Dmm_i11s2_lte0 = iop11S2['Dmm'][iop11S2['tempC'] <= 0]\n",
    "temp_i11s2_lte0 = iop11S2['tempC'][iop11S2['tempC'] <= 0]\n",
    "finiteIx = np.isfinite(Dmm_i11s2_lte0)\n",
    "pf_Dmm_i11s2_lte0 = np.poly1d(np.polyfit(temp_i11s2_lte0[finiteIx],Dmm_i11s2_lte0[finiteIx],  1))\n",
    "Dmm_i11s2_lte0_dT = pf_Dmm_i11s2_lte0(-5) - pf_Dmm_i11s2_lte0(-6)\n",
    "        \n",
    "print(Dmm_i11s2_lte0_dT*1000)"
   ]
  },
  {
   "cell_type": "code",
   "execution_count": null,
   "metadata": {
    "ExecuteTime": {
     "end_time": "2018-08-20T14:19:36.929268Z",
     "start_time": "2018-08-20T14:19:36.913859Z"
    },
    "hidden": true
   },
   "outputs": [],
   "source": [
    "Dmm_u4s2_lte0 = ufo4_S2['Dmm'][u4lt_n9]\n",
    "finiteIx_u4s2 = np.isfinite(Dmm_u4s2_lte0)\n",
    "pf_Dmm_u4s2_lte0 = np.poly1d(np.polyfit(u4temp_lt_n9[finiteIx_u4s2],Dmm_u4s2_lte0[finiteIx_u4s2],  1))\n",
    "Dmm_u4s2_lte0_dT = pf_Dmm_u4s2_lte0(-5) - pf_Dmm_u4s2_lte0(-6)\n",
    "print(np.nanmean(Dmm_u4s2_lte0))\n",
    "print(Dmm_u4s2_lte0_dT*1000)"
   ]
  },
  {
   "cell_type": "code",
   "execution_count": null,
   "metadata": {
    "ExecuteTime": {
     "end_time": "2018-08-20T14:19:47.126166Z",
     "start_time": "2018-08-20T14:19:47.121138Z"
    },
    "hidden": true
   },
   "outputs": [],
   "source": [
    "Dmm_u4s2_lte0 = ufo4_S2['Dmm'][u4gte_n9_lte_n6]\n",
    "finiteIx_u4s2 = np.isfinite(Dmm_u4s2_lte0)\n",
    "pf_Dmm_u4s2_lte0 = np.poly1d(np.polyfit(u4temp_gte_n9_lte_n6[finiteIx_u4s2],Dmm_u4s2_lte0[finiteIx_u4s2],  1))\n",
    "Dmm_u4s2_lte0_dT = pf_Dmm_u4s2_lte0(-5) - pf_Dmm_u4s2_lte0(-6)\n",
    "print(np.nanmean(Dmm_u4s2_lte0))\n",
    "print(Dmm_u4s2_lte0_dT*1000)"
   ]
  },
  {
   "cell_type": "code",
   "execution_count": null,
   "metadata": {
    "ExecuteTime": {
     "end_time": "2018-08-20T14:19:56.328018Z",
     "start_time": "2018-08-20T14:19:56.320746Z"
    },
    "hidden": true
   },
   "outputs": [],
   "source": [
    "Dmm_u4s2_lte0 = ufo4_S2['Dmm'][u4gt_n9_lte5]\n",
    "finiteIx_u4s2 = np.isfinite(Dmm_u4s2_lte0)\n",
    "pf_Dmm_u4s2_lte0 = np.poly1d(np.polyfit(u4temp_gt_n9_lte5[finiteIx_u4s2],Dmm_u4s2_lte0[finiteIx_u4s2],  1))\n",
    "Dmm_u4s2_lte0_dT = pf_Dmm_u4s2_lte0(-5) - pf_Dmm_u4s2_lte0(-6)\n",
    "print(np.nanmean(Dmm_u4s2_lte0))\n",
    "print(Dmm_u4s2_lte0_dT*1000)"
   ]
  },
  {
   "cell_type": "code",
   "execution_count": null,
   "metadata": {
    "ExecuteTime": {
     "end_time": "2018-08-20T14:25:34.082509Z",
     "start_time": "2018-08-20T14:25:34.077551Z"
    },
    "hidden": true
   },
   "outputs": [],
   "source": [
    "Dmm_u4s2_lte0 = ufo4_S2['Dmm'][u4gt_n6_lte0]\n",
    "finiteIx_u4s2 = np.isfinite(Dmm_u4s2_lte0)\n",
    "pf_Dmm_u4s2_lte0 = np.poly1d(np.polyfit(u4temp_gt_n6_lte0[finiteIx_u4s2],Dmm_u4s2_lte0[finiteIx_u4s2],  1))\n",
    "Dmm_u4s2_lte0_dT = pf_Dmm_u4s2_lte0(-5) - pf_Dmm_u4s2_lte0(-6)\n",
    "print(np.nanmean(Dmm_u4s2_lte0))\n",
    "print(Dmm_u4s2_lte0_dT*1000)"
   ]
  },
  {
   "cell_type": "markdown",
   "metadata": {
    "heading_collapsed": true
   },
   "source": [
    "# $dD_{mm}/dT$ for $T \\geq 5^{\\circ}C$"
   ]
  },
  {
   "cell_type": "code",
   "execution_count": null,
   "metadata": {
    "ExecuteTime": {
     "end_time": "2018-08-08T04:57:49.615058Z",
     "start_time": "2018-08-08T04:57:49.601646Z"
    },
    "hidden": true,
    "run_control": {
     "frozen": false,
     "read_only": false
    }
   },
   "outputs": [],
   "source": [
    "# dmmMed_TZ_gte5 = npAllSprls['binDmm_median_TZ'][gte5]\n",
    "# finiteIx = np.isfinite(dmmMed_TZ_gte5)\n",
    "# pf_dmmMed_TZ_gte5 = np.poly1d(np.polyfit(temp_gte5[finiteIx],dmmMed_TZ_gte5[finiteIx],  1))\n",
    "# dmmMed_TZ_gte5_dT = pf_dmmMed_TZ_gte5(6) - pf_dmmMed_TZ_gte5(5) \n",
    "# print(dmmMed_TZ_gte5_dT)\n",
    "\n",
    "Dmm_u4s2_gte5 = ufo4_S2['Dmm'][ufo4_S2['tempC'] >= 5]\n",
    "finiteIx_u4s2 = np.isfinite(Dmm_u4s2_gte5)\n",
    "pf_Dmm_u4s2_gte5 = np.poly1d(np.polyfit(ufo4_S2['tempC'][ufo4_S2['tempC'] >= 5][finiteIx_u4s2],Dmm_u4s2_gte5[finiteIx_u4s2],  1))\n",
    "Dmm_u4s2_gte5_dT = pf_Dmm_u4s2_gte5(6) - pf_Dmm_u4s2_gte5(5)\n",
    "\n",
    "print(Dmm_u4s2_gte5_dT)\n",
    "\n",
    "dmmMed_SR_gte5 = npAllSprls['binDmm_median_SR'][gte5]\n",
    "finiteIx = np.isfinite(dmmMed_SR_gte5)\n",
    "pf_dmmMed_SR_gte5 = np.poly1d(np.polyfit(temp_gte5[finiteIx],dmmMed_SR_gte5[finiteIx],  1))\n",
    "dmmMed_SR_gte5_dT = pf_dmmMed_SR_gte5(6) - pf_dmmMed_SR_gte5(5)\n",
    "        \n",
    "print(dmmMed_SR_gte5_dT)\n",
    "\n",
    "dmmMed_AR_gte5 = npAllSprls['binDmm_median_AR'][gte5]\n",
    "finiteIx = np.isfinite(dmmMed_AR_gte5)\n",
    "pf_dmmMed_AR_gte5 = np.poly1d(np.polyfit(temp_gte5[finiteIx],dmmMed_AR_gte5[finiteIx],  1))\n",
    "dmmMed_AR_gte5_dT = pf_dmmMed_AR_gte5(6) - pf_dmmMed_AR_gte5(5)\n",
    "        \n",
    "print(dmmMed_AR_gte5_dT*1000)\n",
    "\n",
    "Dmm_i11s2_gte5 = iop11S2['Dmm'][iop11S2['tempC'] >= 5]\n",
    "temp_i11s2_gte5 = iop11S2['tempC'][iop11S2['tempC'] >= 5]\n",
    "finiteIx = np.isfinite(Dmm_i11s2_gte5)\n",
    "pf_Dmm_i11s2_gte5 = np.poly1d(np.polyfit(temp_i11s2_gte5[finiteIx],Dmm_i11s2_gte5[finiteIx],  1))\n",
    "Dmm_i11s2_gte5_dT = pf_Dmm_i11s2_gte5(6) - pf_Dmm_i11s2_gte5(5)\n",
    "        \n",
    "print(Dmm_i11s2_gte5_dT*1000)"
   ]
  },
  {
   "cell_type": "code",
   "execution_count": null,
   "metadata": {
    "ExecuteTime": {
     "end_time": "2018-08-02T14:51:50.475413Z",
     "start_time": "2018-08-02T14:51:49.854841Z"
    },
    "hidden": true
   },
   "outputs": [],
   "source": [
    "fig, ax = plt.subplots(figsize=(16,20))\n",
    "ax.plot(Dmm_u4s2_gte5[finiteIx_u4s2],ufo4_S2['tempC'][ufo4_S2['tempC'] >= 5][finiteIx_u4s2],'b-')\n",
    "ax.plot(Dmm_u4s2_gte5[finiteIx_u4s2],ufo4_S2['tempC'][ufo4_S2['tempC'] >= 5][finiteIx_u4s2],'bo',markeredgecolor='white',markeredgewidth=1,markersize=12)\n",
    "ax.plot(pf_Dmm_u4s2_gte5(ufo4_S2['tempC'][ufo4_S2['tempC'] >= 5][finiteIx_u4s2]),ufo4_S2['tempC'][ufo4_S2['tempC'] >= 5][finiteIx_u4s2],'r-')\n",
    "\n",
    "ax.set_ylim(-5,20)\n",
    "ax.set_title('TZ\\t\\t$dD_{mm}/dT$ for $T \\geq 5^{\\circ}C$',fontsize=24)\n",
    "ax.invert_yaxis()\n",
    "ax.set_ylabel('Temperature ($^{\\circ}$C)',fontsize=24)\n",
    "ax.tick_params(axis='both', which='major', labelsize=22)\n",
    "ax.grid(which='both')"
   ]
  },
  {
   "cell_type": "markdown",
   "metadata": {},
   "source": [
    "# $dN_t/dT$ for $T \\leq 0^{\\circ}C$"
   ]
  },
  {
   "cell_type": "code",
   "execution_count": null,
   "metadata": {
    "ExecuteTime": {
     "end_time": "2018-08-08T05:04:18.822151Z",
     "start_time": "2018-08-08T05:04:18.806840Z"
    },
    "run_control": {
     "frozen": false,
     "read_only": false
    }
   },
   "outputs": [],
   "source": [
    "# ntMed_TZ_lte0 = npAllSprls['binNt_median_TZ'][lte0]\n",
    "# finiteIx = np.isfinite(np.log10(ntMed_TZ_lte0))\n",
    "# pf_ntMed_TZ_lte0 = np.poly1d(np.polyfit(temp_lte0[finiteIx],np.log10(ntMed_TZ_lte0[finiteIx]),  1))\n",
    "# ntMed_TZ_lte0_dT = 1 - (10**pf_ntMed_TZ_lte0(-6)/10**pf_ntMed_TZ_lte0(-5)) # 1 deg C change percentage\n",
    "# print(ntMed_TZ_lte0_dT)\n",
    "\n",
    "Nt_u4s1_lte0 = ufo4_S1['Nt'][ufo4_S1['tempC'] <= 0]\n",
    "Nt_u4s2_lte0 = ufo4_S2['Nt'][ufo4_S2['tempC'] <= 0]\n",
    "finiteIx_u4s1 = np.isfinite(np.log10(Nt_u4s1_lte0))\n",
    "finiteIx_u4s2 = np.isfinite(np.log10(Nt_u4s2_lte0))\n",
    "pf_Nt_u4s1_lte0 = np.poly1d(np.polyfit(ufo4_S1['tempC'][ufo4_S1['tempC'] <= 0][finiteIx_u4s1],np.log10(Nt_u4s1_lte0[finiteIx_u4s1]),  1))\n",
    "pf_Nt_u4s2_lte0 = np.poly1d(np.polyfit(ufo4_S2['tempC'][ufo4_S2['tempC'] <= 0][finiteIx_u4s2],np.log10(Nt_u4s2_lte0[finiteIx_u4s2]),  1))\n",
    "Nt_u4s1_lte0_dT = 1 - (10**pf_Nt_u4s1_lte0(-6)/10**pf_Nt_u4s1_lte0(-5)) # 1 deg C change percentage\n",
    "Nt_u4s2_lte0_dT = 1 - (10**pf_Nt_u4s2_lte0(-6)/10**pf_Nt_u4s2_lte0(-5))\n",
    "\n",
    "print(Nt_u4s1_lte0_dT)\n",
    "print(Nt_u4s2_lte0_dT)\n",
    "print('**MeanS1&S2: {}'.format(np.nanmean([Nt_u4s1_lte0_dT,Nt_u4s2_lte0_dT])))\n",
    "\n",
    "ntMed_SR_lte0 = npAllSprls['binNt_median_SR'][lte0]\n",
    "finiteIx = np.isfinite(np.log10(ntMed_SR_lte0))\n",
    "pf_ntMed_SR_lte0 = np.poly1d(np.polyfit(temp_lte0[finiteIx],np.log10(ntMed_SR_lte0[finiteIx]),  1))\n",
    "ntMed_SR_lte0_dT = 1 - (10**pf_ntMed_SR_lte0(-6)/10**pf_ntMed_SR_lte0(-5)) # 1 deg C change percentage\n",
    "        \n",
    "print(ntMed_SR_lte0_dT)\n",
    "\n",
    "ntMed_AR_lte0 = npAllSprls['binNt_median_AR'][lte0]\n",
    "finiteIx = np.isfinite(np.log10(ntMed_AR_lte0))\n",
    "pf_ntMed_AR_lte0 = np.poly1d(np.polyfit(temp_lte0[finiteIx],np.log10(ntMed_AR_lte0[finiteIx]),  1))\n",
    "ntMed_AR_lte0_dT = 1 - (10**pf_ntMed_AR_lte0(-6)/10**pf_ntMed_AR_lte0(-5)) # 1 deg C change percentage\n",
    "        \n",
    "print(ntMed_AR_lte0_dT)\n",
    "\n",
    "# NtMed_AR_lte0gt_n5 = npAllSprls['binNt_median_AR'][lte0gt_n5]\n",
    "# finiteIx = np.isfinite(np.log10(NtMed_AR_lte0gt_n5))\n",
    "# pf_NtMed_AR_lte0gt_n5 = np.poly1d(np.polyfit(temp_lte0gt_n5[finiteIx],np.log10(NtMed_AR_lte0gt_n5[finiteIx]),  1))\n",
    "# NtMed_AR_lte0gt_n5_dT = 1 - (10**pf_NtMed_AR_lte0gt_n5(-6)/10**pf_NtMed_AR_lte0gt_n5(-5))\n",
    "        \n",
    "# print(NtMed_AR_lte0gt_n5_dT)\n",
    "\n",
    "temp_i11s2_lte0 = iop11S2['tempC'][iop11S2['tempC'] <= 0]\n",
    "Nt_i11s2_lte0 = iop11S2['Nt'][iop11S2['tempC'] <= 0]\n",
    "finiteIx_i11s2 = np.isfinite(np.log10(Nt_i11s2_lte0))\n",
    "pf_Nt_i11s2_lte0 = np.poly1d(np.polyfit(temp_i11s2_lte0[finiteIx_i11s2],np.log10(Nt_i11s2_lte0[finiteIx_i11s2]),  1))\n",
    "Nt_i11s2_lte0_dT = 1 - (10**pf_Nt_i11s2_lte0(-6)/10**pf_Nt_i11s2_lte0(-5))\n",
    "        \n",
    "print(Nt_i11s2_lte0_dT)"
   ]
  },
  {
   "cell_type": "code",
   "execution_count": 7,
   "metadata": {
    "ExecuteTime": {
     "end_time": "2018-08-22T22:02:49.130648Z",
     "start_time": "2018-08-22T22:02:49.125454Z"
    }
   },
   "outputs": [
    {
     "name": "stdout",
     "output_type": "stream",
     "text": [
      "-0.5611941091945802\n"
     ]
    }
   ],
   "source": [
    "ntMed_AR_lte0gt_n5 = npAllSprls['binNt_median_AR'][lte0gt_n5]\n",
    "finiteIx = np.isfinite(np.log10(ntMed_AR_lte0gt_n5))\n",
    "pf_ntMed_AR_lte0gt_n5 = np.poly1d(np.polyfit(temp_lte0gt_n5[finiteIx],np.log10(ntMed_AR_lte0gt_n5[finiteIx]),  1))\n",
    "ntMed_AR_lte0gt_n5_dT = 1 - (10**pf_ntMed_AR_lte0gt_n5(-6)/10**pf_ntMed_AR_lte0gt_n5(-5)) # 1 deg C change percentage\n",
    "        \n",
    "print(ntMed_AR_lte0gt_n5_dT)"
   ]
  },
  {
   "cell_type": "code",
   "execution_count": 6,
   "metadata": {
    "ExecuteTime": {
     "end_time": "2018-08-22T22:02:32.407607Z",
     "start_time": "2018-08-22T22:02:32.401231Z"
    }
   },
   "outputs": [
    {
     "name": "stdout",
     "output_type": "stream",
     "text": [
      "0.4222947356276514\n"
     ]
    }
   ],
   "source": [
    "temp_i11s2_lte0gt_n6 = iop11S2['tempC'][(iop11S2['tempC'] <= 0) & (iop11S2['tempC'] > -5)]\n",
    "Nt_i11s2_lte0gt_n6 = iop11S2['Nt'][(iop11S2['tempC'] <= 0) & (iop11S2['tempC'] > -5)]\n",
    "finiteIx_i11s2 = np.isfinite(np.log10(Nt_i11s2_lte0gt_n6))\n",
    "pf_Nt_i11s2_lte0gt_n6 = np.poly1d(np.polyfit(temp_i11s2_lte0gt_n6[finiteIx_i11s2],np.log10(Nt_i11s2_lte0gt_n6[finiteIx_i11s2]),  1))\n",
    "Nt_i11s2_lte0gt_n6_dT = 1 - (10**pf_Nt_i11s2_lte0gt_n6(-6)/10**pf_Nt_i11s2_lte0gt_n6(-5))\n",
    "        \n",
    "print(Nt_i11s2_lte0gt_n6_dT)"
   ]
  },
  {
   "cell_type": "markdown",
   "metadata": {},
   "source": [
    "# $dN_t/dT$ for $T \\geq 5^{\\circ}C$"
   ]
  },
  {
   "cell_type": "code",
   "execution_count": null,
   "metadata": {
    "ExecuteTime": {
     "end_time": "2018-08-08T05:05:42.929733Z",
     "start_time": "2018-08-08T05:05:42.913255Z"
    },
    "run_control": {
     "frozen": false,
     "read_only": false
    }
   },
   "outputs": [],
   "source": [
    "# ntMed_TZ_gte5 = npAllSprls['binNt_median_TZ'][gte5]\n",
    "# finiteIx = np.isfinite(np.log10(ntMed_TZ_gte5))\n",
    "# pf_ntMed_TZ_gte5 = np.poly1d(np.polyfit(temp_gte5[finiteIx],np.log10(ntMed_TZ_gte5[finiteIx]),  1))\n",
    "# ntMed_TZ_gte5_dT = 1 - (10**pf_ntMed_TZ_gte5(2)/10**pf_ntMed_TZ_gte5(3)) # 1 deg C change percentage\n",
    "# print(ntMed_TZ_gte5_dT)\n",
    "\n",
    "Nt_u4s2_gte5 = ufo4_S2['Nt'][ufo4_S2['tempC'] >= 5]\n",
    "finiteIx_u4s2 = np.isfinite(np.log10(Nt_u4s2_gte5))\n",
    "pf_Nt_u4s2_gte5 = np.poly1d(np.polyfit(ufo4_S2['tempC'][ufo4_S2['tempC'] >= 5][finiteIx_u4s2],np.log10(Nt_u4s2_gte5[finiteIx_u4s2]),  1))\n",
    "Nt_u4s2_gte5_dT = 1 - (10**pf_Nt_u4s2_gte5(2)/10**pf_Nt_u4s2_gte5(3))\n",
    "\n",
    "print(Nt_u4s2_gte5_dT)\n",
    "\n",
    "ntMed_SR_gte5 = npAllSprls['binNt_median_SR'][gte5]\n",
    "finiteIx = np.isfinite(np.log10(ntMed_SR_gte5))\n",
    "pf_ntMed_SR_gte5 = np.poly1d(np.polyfit(temp_gte5[finiteIx],np.log10(ntMed_SR_gte5[finiteIx]),  1))\n",
    "ntMed_SR_gte5_dT = 1 - (10**pf_ntMed_SR_gte5(2)/10**pf_ntMed_SR_gte5(3)) # 1 deg C change percentage\n",
    "        \n",
    "print(ntMed_SR_gte5_dT)\n",
    "\n",
    "ntMed_AR_gte5 = npAllSprls['binNt_median_AR'][gte5]\n",
    "finiteIx = np.isfinite(np.log10(ntMed_AR_gte5))\n",
    "pf_ntMed_AR_gte5 = np.poly1d(np.polyfit(temp_gte5[finiteIx],np.log10(ntMed_AR_gte5[finiteIx]),  1))\n",
    "ntMed_AR_gte5_dT = 1 - (10**pf_ntMed_AR_gte5(2)/10**pf_ntMed_AR_gte5(3)) # 1 deg C change percentage\n",
    "        \n",
    "print(ntMed_AR_gte5_dT)\n",
    "\n",
    "temp_i11s2_gte5 = iop11S2['tempC'][iop11S2['tempC'] >= 5]\n",
    "Nt_i11s2_gte5 = iop11S2['Nt'][iop11S2['tempC'] >= 5]\n",
    "finiteIx_i11s2 = np.isfinite(np.log10(Nt_i11s2_gte5))\n",
    "pf_Nt_i11s2_gte5 = np.poly1d(np.polyfit(temp_i11s2_gte5[finiteIx_i11s2],np.log10(Nt_i11s2_gte5[finiteIx_i11s2]),  1))\n",
    "Nt_i11s2_gte5_dT = 1 - (10**pf_Nt_i11s2_gte5(2)/10**pf_Nt_i11s2_gte5(3))\n",
    "        \n",
    "print(Nt_i11s2_gte5_dT)"
   ]
  },
  {
   "cell_type": "code",
   "execution_count": null,
   "metadata": {
    "ExecuteTime": {
     "end_time": "2018-08-02T14:43:02.747422Z",
     "start_time": "2018-08-02T14:43:01.781893Z"
    }
   },
   "outputs": [],
   "source": [
    "fig, ax = plt.subplots(figsize=(16,20))\n",
    "ax.plot(Nt_u4s2_gte5[finiteIx_u4s2],ufo4_S2['tempC'][ufo4_S2['tempC'] >= 5][finiteIx_u4s2],'b-')\n",
    "ax.plot(Nt_u4s2_gte5[finiteIx_u4s2],ufo4_S2['tempC'][ufo4_S2['tempC'] >= 5][finiteIx_u4s2],'bo',markeredgecolor='white',markeredgewidth=1,markersize=12)\n",
    "ax.plot(10**(pf_Nt_u4s2_gte5(ufo4_S2['tempC'][ufo4_S2['tempC'] >= 5][finiteIx_u4s2])),ufo4_S2['tempC'][ufo4_S2['tempC'] >= 5][finiteIx_u4s2],'r-')\n",
    "\n",
    "ax.set_ylim(-5,20)\n",
    "ax.set_title('TZ\\t\\t$dN_t/dT$ for $T > 0^{\\circ}C$',fontsize=24)\n",
    "ax.set_xscale('log',nonposx='mask')\n",
    "ax.invert_yaxis()\n",
    "ax.set_ylabel('Temperature ($^{\\circ}$C)',fontsize=24)\n",
    "ax.tick_params(axis='both', which='major', labelsize=22)\n",
    "ax.grid(which='both')"
   ]
  },
  {
   "cell_type": "markdown",
   "metadata": {},
   "source": [
    "# $dTWC/dT$ for $T \\leq 0^{\\circ}C$"
   ]
  },
  {
   "cell_type": "code",
   "execution_count": null,
   "metadata": {
    "ExecuteTime": {
     "end_time": "2018-08-08T05:49:42.068155Z",
     "start_time": "2018-08-08T05:49:42.044890Z"
    },
    "run_control": {
     "frozen": false,
     "read_only": false
    }
   },
   "outputs": [],
   "source": [
    "# twcMed_TZ_lte0 = npAllSprls['binTWC_median_TZ'][lte0]\n",
    "# finiteIx = np.isfinite(np.log10(twcMed_TZ_lte0))\n",
    "# pf_twcMed_TZ_lte0 = np.poly1d(np.polyfit(temp_lte0[finiteIx],np.log10(twcMed_TZ_lte0[finiteIx]),  1))\n",
    "# twcMed_TZ_lte0_dT = 1 - (10**pf_twcMed_TZ_lte0(-6)/10**pf_twcMed_TZ_lte0(-5)) # 1 deg C change percentage\n",
    "# print(twcMed_TZ_lte0_dT)\n",
    "\n",
    "twc_u4s1_lte0 = ufo4_S1['twc'][ufo4_S1['tempC'] <= 0]\n",
    "twc_u4s2_lte0 = ufo4_S2['twc'][ufo4_S2['tempC'] <= 0]\n",
    "finiteIx_u4s1 = np.isfinite(np.log10(twc_u4s1_lte0))\n",
    "finiteIx_u4s2 = np.isfinite(np.log10(twc_u4s2_lte0))\n",
    "pf_twc_u4s1_lte0 = np.poly1d(np.polyfit(ufo4_S1['tempC'][ufo4_S1['tempC'] <= 0][finiteIx_u4s1],np.log10(twc_u4s1_lte0[finiteIx_u4s1]),  1))\n",
    "pf_twc_u4s2_lte0 = np.poly1d(np.polyfit(ufo4_S2['tempC'][ufo4_S2['tempC'] <= 0][finiteIx_u4s2],np.log10(twc_u4s2_lte0[finiteIx_u4s2]),  1))\n",
    "twc_u4s1_lte0_dT = 1 - (10**pf_twc_u4s1_lte0(-6)/10**pf_twc_u4s1_lte0(-5)) # 1 deg C change percentage\n",
    "twc_u4s2_lte0_dT = 1 - (10**pf_twc_u4s2_lte0(-6)/10**pf_twc_u4s2_lte0(-5))\n",
    "\n",
    "print(twc_u4s1_lte0_dT)\n",
    "print(twc_u4s2_lte0_dT)\n",
    "print('**MeanS1&S2: {}'.format(np.nanmean([twc_u4s1_lte0_dT,twc_u4s2_lte0_dT])))\n",
    "\n",
    "twcMed_SR_lte0 = npAllSprls['binTWC_median_SR'][lte0]\n",
    "finiteIx = np.isfinite(np.log10(twcMed_SR_lte0))\n",
    "pf_twcMed_SR_lte0 = np.poly1d(np.polyfit(temp_lte0[finiteIx],np.log10(twcMed_SR_lte0[finiteIx]),  1))\n",
    "twcMed_SR_lte0_dT = 1 - (10**pf_twcMed_SR_lte0(-6)/10**pf_twcMed_SR_lte0(-5)) # 1 deg C change percentage\n",
    "        \n",
    "print(twcMed_SR_lte0_dT)\n",
    "\n",
    "twcMed_AR_lte0 = npAllSprls['binTWC_median_AR'][lte0]\n",
    "finiteIx = np.isfinite(np.log10(twcMed_AR_lte0))\n",
    "pf_twcMed_AR_lte0 = np.poly1d(np.polyfit(temp_lte0[finiteIx],np.log10(twcMed_AR_lte0[finiteIx]),  1))\n",
    "twcMed_AR_lte0_dT = 1 - (10**pf_twcMed_AR_lte0(-6)/10**pf_twcMed_AR_lte0(-5)) # 1 deg C change percentage\n",
    "        \n",
    "print(twcMed_AR_lte0_dT)\n",
    "\n",
    "TWCMed_AR_lte0gt_n6 = npAllSprls['binTWC_median_AR'][lte0gt_n6]\n",
    "finiteIx = np.isfinite(np.log10(TWCMed_AR_lte0gt_n6))\n",
    "pf_TWCMed_AR_lte0gt_n6 = np.poly1d(np.polyfit(temp_lte0gt_n6[finiteIx],np.log10(TWCMed_AR_lte0gt_n6[finiteIx]),  1))\n",
    "TWCMed_AR_lte0gt_n6_dT = 1 - (10**pf_TWCMed_AR_lte0gt_n6(-6)/10**pf_TWCMed_AR_lte0gt_n6(-5))\n",
    "        \n",
    "print(TWCMed_AR_lte0gt_n6_dT)\n",
    "\n",
    "temp_i11s2_lte0 = iop11S2['tempC'][iop11S2['tempC'] <= 0]\n",
    "twc_i11s2_lte0 = iop11S2['twc'][iop11S2['tempC'] <= 0]\n",
    "finiteIx_i11s2 = np.isfinite(np.log10(twc_i11s2_lte0))\n",
    "pf_twc_i11s2_lte0 = np.poly1d(np.polyfit(temp_i11s2_lte0[finiteIx_i11s2],np.log10(twc_i11s2_lte0[finiteIx_i11s2]),  1))\n",
    "twc_i11s2_lte0_dT = 1 - (10**pf_twc_i11s2_lte0(-6)/10**pf_twc_i11s2_lte0(-5))\n",
    "        \n",
    "print(twc_i11s2_lte0_dT)"
   ]
  },
  {
   "cell_type": "code",
   "execution_count": null,
   "metadata": {
    "ExecuteTime": {
     "end_time": "2018-08-03T14:57:30.584173Z",
     "start_time": "2018-08-03T14:57:30.579228Z"
    }
   },
   "outputs": [],
   "source": [
    "twc_u4s2_lte0 = ufo4_S2['twc'][u4lt_n9]\n",
    "finiteIx_u4s2 = np.isfinite(np.log10(twc_u4s2_lte0))\n",
    "pf_twc_u4s2_lte0 = np.poly1d(np.polyfit(u4temp_lt_n9[finiteIx_u4s2],np.log10(twc_u4s2_lte0[finiteIx_u4s2]),  1))\n",
    "twc_u4s2_lte0_dT = 1 - (10**pf_twc_u4s2_lte0(-6)/10**pf_twc_u4s2_lte0(-5))\n",
    "\n",
    "print(twc_u4s2_lte0_dT)"
   ]
  },
  {
   "cell_type": "code",
   "execution_count": null,
   "metadata": {
    "ExecuteTime": {
     "end_time": "2018-08-03T14:52:01.819486Z",
     "start_time": "2018-08-03T14:52:01.812462Z"
    }
   },
   "outputs": [],
   "source": [
    "twc_u4s2_lte0 = ufo4_S2['twc'][u4gte_n9_lte_n6]\n",
    "finiteIx_u4s2 = np.isfinite(np.log10(twc_u4s2_lte0))\n",
    "pf_twc_u4s2_lte0 = np.poly1d(np.polyfit(u4temp_gte_n9_lte_n6[finiteIx_u4s2],np.log10(twc_u4s2_lte0[finiteIx_u4s2]),  1))\n",
    "twc_u4s2_lte0_dT = 1 - (10**pf_twc_u4s2_lte0(-6)/10**pf_twc_u4s2_lte0(-5))\n",
    "\n",
    "print(twc_u4s2_lte0_dT)"
   ]
  },
  {
   "cell_type": "code",
   "execution_count": null,
   "metadata": {
    "ExecuteTime": {
     "end_time": "2018-08-03T15:25:28.254836Z",
     "start_time": "2018-08-03T15:25:28.250187Z"
    }
   },
   "outputs": [],
   "source": [
    "twc_u4s2_lte0 = ufo4_S2['twc'][u4gt_n9_lte5]\n",
    "finiteIx_u4s2 = np.isfinite(np.log10(twc_u4s2_lte0))\n",
    "pf_twc_u4s2_lte0 = np.poly1d(np.polyfit(u4temp_gt_n9_lte5[finiteIx_u4s2],np.log10(twc_u4s2_lte0[finiteIx_u4s2]),  1))\n",
    "twc_u4s2_lte0_dT = 1 - (10**pf_twc_u4s2_lte0(-6)/10**pf_twc_u4s2_lte0(-5))\n",
    "\n",
    "print(twc_u4s2_lte0_dT)"
   ]
  },
  {
   "cell_type": "markdown",
   "metadata": {},
   "source": [
    "# $dTWC/dT$ for $T \\geq 5^{\\circ}C$"
   ]
  },
  {
   "cell_type": "code",
   "execution_count": null,
   "metadata": {
    "ExecuteTime": {
     "end_time": "2018-08-08T05:07:40.539743Z",
     "start_time": "2018-08-08T05:07:40.525907Z"
    },
    "run_control": {
     "frozen": false,
     "read_only": false
    }
   },
   "outputs": [],
   "source": [
    "# twcMed_TZ_gte5 = npAllSprls['binTWC_median_TZ'][gte5]\n",
    "# finiteIx = np.isfinite(np.log10(twcMed_TZ_gte5))\n",
    "# pf_twcMed_TZ_gte5 = np.poly1d(np.polyfit(temp_gte5[finiteIx],np.log10(twcMed_TZ_gte5[finiteIx]),  1))\n",
    "# twcMed_TZ_gte5_dT = 1 - (10**pf_twcMed_TZ_gte5(2)/10**pf_twcMed_TZ_gte5(3)) # 1 deg C change percentage\n",
    "# print(twcMed_TZ_gte5_dT)\n",
    "\n",
    "twc_u4s2_gte5 = ufo4_S2['twc'][ufo4_S2['tempC'] >= 5]\n",
    "finiteIx_u4s2 = np.isfinite(np.log10(twc_u4s2_gte5))\n",
    "pf_twc_u4s2_gte5 = np.poly1d(np.polyfit(ufo4_S2['tempC'][ufo4_S2['tempC'] >= 5][finiteIx_u4s2],np.log10(twc_u4s2_gte5[finiteIx_u4s2]),  1))\n",
    "twc_u4s2_gte5_dT = 1 - (10**pf_twc_u4s2_gte5(2)/10**pf_twc_u4s2_gte5(3))\n",
    "\n",
    "print(twc_u4s2_gte5_dT)\n",
    "\n",
    "twcMed_SR_gte5 = npAllSprls['binTWC_median_SR'][gte5]\n",
    "finiteIx = np.isfinite(np.log10(twcMed_SR_gte5))\n",
    "pf_twcMed_SR_gte5 = np.poly1d(np.polyfit(temp_gte5[finiteIx],np.log10(twcMed_SR_gte5[finiteIx]),  1))\n",
    "twcMed_SR_gte5_dT = 1 - (10**pf_twcMed_SR_gte5(2)/10**pf_twcMed_SR_gte5(3)) # 1 deg C change percentage\n",
    "        \n",
    "print(twcMed_SR_gte5_dT)\n",
    "\n",
    "twcMed_AR_gte5 = npAllSprls['binTWC_median_AR'][gte5]\n",
    "finiteIx = np.isfinite(np.log10(twcMed_AR_gte5))\n",
    "pf_twcMed_AR_gte5 = np.poly1d(np.polyfit(temp_gte5[finiteIx],np.log10(twcMed_AR_gte5[finiteIx]),  1))\n",
    "twcMed_AR_gte5_dT = 1 - (10**pf_twcMed_AR_gte5(2)/10**pf_twcMed_AR_gte5(3)) # 1 deg C change percentage\n",
    "        \n",
    "print(twcMed_AR_gte5_dT)\n",
    "\n",
    "temp_i11s2_gte5 = iop11S2['tempC'][iop11S2['tempC'] >= 5]\n",
    "twc_i11s2_gte5 = iop11S2['twc'][iop11S2['tempC'] >= 5]\n",
    "finiteIx_i11s2 = np.isfinite(np.log10(twc_i11s2_gte5))\n",
    "pf_twc_i11s2_gte5 = np.poly1d(np.polyfit(temp_i11s2_gte5[finiteIx_i11s2],np.log10(twc_i11s2_gte5[finiteIx_i11s2]),  1))\n",
    "twc_i11s2_gte5_dT = 1 - (10**pf_twc_i11s2_gte5(2)/10**pf_twc_i11s2_gte5(3))\n",
    "        \n",
    "print(twc_i11s2_gte5_dT)"
   ]
  },
  {
   "cell_type": "code",
   "execution_count": null,
   "metadata": {
    "ExecuteTime": {
     "end_time": "2018-08-02T14:45:11.436004Z",
     "start_time": "2018-08-02T14:45:10.696842Z"
    }
   },
   "outputs": [],
   "source": [
    "fig, ax = plt.subplots(figsize=(16,20))\n",
    "ax.plot(twc_u4s2_gte5[finiteIx_u4s2],ufo4_S2['tempC'][ufo4_S2['tempC'] >= 5][finiteIx_u4s2],'b-')\n",
    "ax.plot(twc_u4s2_gte5[finiteIx_u4s2],ufo4_S2['tempC'][ufo4_S2['tempC'] >= 5][finiteIx_u4s2],'bo',markeredgecolor='white',markeredgewidth=1,markersize=12)\n",
    "ax.plot(10**(pf_twc_u4s2_gte5(ufo4_S2['tempC'][ufo4_S2['tempC'] >= 5][finiteIx_u4s2])),ufo4_S2['tempC'][ufo4_S2['tempC'] >= 5][finiteIx_u4s2],'r-')\n",
    "\n",
    "ax.set_ylim(-5,20)\n",
    "ax.set_title('TZ\\t\\t$dTWC/dT$ for $T \\geq 5^{\\circ}C$',fontsize=24)\n",
    "ax.set_xscale('log',nonposx='mask')\n",
    "ax.invert_yaxis()\n",
    "ax.set_ylabel('Temperature ($^{\\circ}$C)',fontsize=24)\n",
    "ax.tick_params(axis='both', which='major', labelsize=22)\n",
    "ax.grid(which='both')"
   ]
  },
  {
   "cell_type": "markdown",
   "metadata": {
    "heading_collapsed": true
   },
   "source": [
    "# ...\n",
    "# ...\n",
    "# ..."
   ]
  },
  {
   "cell_type": "markdown",
   "metadata": {},
   "source": [
    "# Average of $RH$ Median Values for $T \\leq 0^{\\circ}C$"
   ]
  },
  {
   "cell_type": "code",
   "execution_count": null,
   "metadata": {
    "ExecuteTime": {
     "end_time": "2018-08-08T06:34:22.692146Z",
     "start_time": "2018-08-08T06:34:22.684445Z"
    },
    "run_control": {
     "frozen": false,
     "read_only": false
    }
   },
   "outputs": [],
   "source": [
    "# rhMed_TZ_lte0 = npAllSprls['binRH_median_TZ'][lte0]\n",
    "# rhMedAvg_TZ_lte0 = np.nanmean(rhMed_TZ_lte0)\n",
    "# print('{}'.format(rhMedAvg_TZ_lte0))\n",
    "\n",
    "print('{}'.format(np.nanmean(ufo4_S1['rh'][ufo4_S1['tempC'] <= 0])))\n",
    "print('{}'.format(np.nanmean(ufo4_S2['rh'][ufo4_S2['tempC'] <= 0])))\n",
    "\n",
    "rhMed_SR_lte0 = npAllSprls['binRH_median_SR'][temps <= 0]\n",
    "rhMedAvg_SR_lte0 = np.nanmean(rhMed_SR_lte0)\n",
    "print('{}'.format(rhMedAvg_SR_lte0))\n",
    "\n",
    "rhMed_AR_lte0 = npAllSprls['binRH_median_AR'][temps <= 0]\n",
    "rhMedAvg_AR_lte0 = np.nanmean(rhMed_AR_lte0)\n",
    "print('{}'.format(rhMedAvg_AR_lte0))\n",
    "print('{}'.format(np.nanmean(iop11S2['rh'][iop11S2['tempC'] <= 0])))\n",
    "print('{}'.format(np.nanmean(iop11S2['rh'][iop11S2['tempC'] > -6])))"
   ]
  },
  {
   "cell_type": "code",
   "execution_count": null,
   "metadata": {
    "ExecuteTime": {
     "end_time": "2018-08-08T05:47:34.554982Z",
     "start_time": "2018-08-08T05:47:34.547824Z"
    }
   },
   "outputs": [],
   "source": [
    "rhMed_AR_lte0gt_n6 = npAllSprls['binRH_median_AR'][lte0gt_n6]\n",
    "rhMedAvg_AR_lte0gt_n6 = np.nanmean(rhMed_AR_lte0gt_n6)\n",
    "print('{}'.format(rhMedAvg_AR_lte0gt_n6))"
   ]
  },
  {
   "cell_type": "code",
   "execution_count": null,
   "metadata": {
    "ExecuteTime": {
     "end_time": "2018-08-03T13:56:58.102005Z",
     "start_time": "2018-08-03T13:56:58.097001Z"
    }
   },
   "outputs": [],
   "source": [
    "print('{}'.format(np.nanmean(ufo4_S1['rh'][ufo4_S1['tempC'] < -9])))\n",
    "print('{}'.format(np.nanmean(ufo4_S2['rh'][ufo4_S2['tempC'] < -9])))"
   ]
  },
  {
   "cell_type": "markdown",
   "metadata": {},
   "source": [
    "# Average of $RH$ Median Values for $T \\geq 5^{\\circ}C$"
   ]
  },
  {
   "cell_type": "code",
   "execution_count": null,
   "metadata": {
    "ExecuteTime": {
     "end_time": "2018-08-08T05:09:18.932273Z",
     "start_time": "2018-08-08T05:09:18.922667Z"
    },
    "run_control": {
     "frozen": false,
     "read_only": false
    }
   },
   "outputs": [],
   "source": [
    "# rhMed_TZ_gte5 = npAllSprls['binRH_median_TZ'][gte5]\n",
    "# rhMedAvg_TZ_gte5 = np.nanmean(rhMed_TZ_gte5)\n",
    "# print('{}'.format(rhMedAvg_TZ_gte5))\n",
    "\n",
    "print('{}'.format(np.nanmean(ufo4_S2['rh'][ufo4_S2['tempC'] >= 5])))\n",
    "\n",
    "rhMed_SR_gte5 = npAllSprls['binRH_median_SR'][gte5]\n",
    "rhMedAvg_SR_gte5 = np.nanmean(rhMed_SR_gte5)\n",
    "print('{}'.format(rhMedAvg_SR_gte5))\n",
    "\n",
    "rhMed_AR_gte5 = npAllSprls['binRH_median_AR'][gte5]\n",
    "rhMedAvg_AR_gte5 = np.nanmean(rhMed_AR_gte5)\n",
    "print('{}'.format(rhMedAvg_AR_gte5))\n",
    "print('{}'.format(np.nanmean(iop11S2['rh'][iop11S2['tempC'] >= 5])))"
   ]
  },
  {
   "cell_type": "markdown",
   "metadata": {},
   "source": [
    "# Average of $𝒜$ Median Values for $T \\leq 0^{\\circ}C$"
   ]
  },
  {
   "cell_type": "code",
   "execution_count": null,
   "metadata": {
    "ExecuteTime": {
     "end_time": "2018-08-08T05:10:03.779674Z",
     "start_time": "2018-08-08T05:10:03.770194Z"
    },
    "run_control": {
     "frozen": false,
     "read_only": false
    }
   },
   "outputs": [],
   "source": [
    "# ARatMed_TZ_lte0 = npAllSprls['binARat_median_TZ'][lte0]\n",
    "# ARatMedAvg_TZ_lte0 = np.nanmean(ARatMed_TZ_lte0)\n",
    "# print('{}'.format(ARatMedAvg_TZ_lte0))\n",
    "\n",
    "print('{}'.format(np.nanmean(ufo4_S1['ar'][ufo4_S1['tempC'] <= 0])))\n",
    "print('{}'.format(np.nanmean(ufo4_S2['ar'][ufo4_S2['tempC'] <= 0])))\n",
    "\n",
    "ARatMed_SR_lte0 = npAllSprls['binARat_median_SR'][lte0]\n",
    "ARatMedAvg_SR_lte0 = np.nanmean(ARatMed_SR_lte0)\n",
    "print('{}'.format(ARatMedAvg_SR_lte0))\n",
    "\n",
    "ARatMed_AR_lte0 = npAllSprls['binARat_median_AR'][lte0]\n",
    "ARatMedAvg_AR_lte0 = np.nanmean(ARatMed_AR_lte0)\n",
    "print('{}'.format(ARatMedAvg_AR_lte0))\n",
    "\n",
    "print('{}'.format(np.nanmean(iop11S2['ar'][iop11S2['tempC'] <= 0])))"
   ]
  },
  {
   "cell_type": "markdown",
   "metadata": {},
   "source": [
    "# Average of $𝒜$ Median Values for $T \\geq 5^{\\circ}C$"
   ]
  },
  {
   "cell_type": "code",
   "execution_count": null,
   "metadata": {
    "ExecuteTime": {
     "end_time": "2018-08-08T05:10:37.989265Z",
     "start_time": "2018-08-08T05:10:37.979334Z"
    },
    "run_control": {
     "frozen": false,
     "read_only": false
    }
   },
   "outputs": [],
   "source": [
    "# ARatMed_TZ_gte5 = npAllSprls['binARat_median_TZ'][gte5]\n",
    "# ARatMedAvg_TZ_gte5 = np.nanmean(ARatMed_TZ_gte5)\n",
    "# print('{}'.format(ARatMedAvg_TZ_gte5))\n",
    "\n",
    "print('{}'.format(np.nanmean(ufo4_S2['ar'][ufo4_S2['tempC'] >= 5])))\n",
    "\n",
    "ARatMed_SR_gte5 = npAllSprls['binARat_median_SR'][gte5]\n",
    "ARatMedAvg_SR_gte5 = np.nanmean(ARatMed_SR_gte5)\n",
    "print('{}'.format(ARatMedAvg_SR_gte5))\n",
    "\n",
    "ARatMed_AR_gte5 = npAllSprls['binARat_median_AR'][gte5]\n",
    "ARatMedAvg_AR_gte5 = np.nanmean(ARatMed_AR_gte5)\n",
    "print('{}'.format(ARatMedAvg_AR_gte5))\n",
    "print('{}'.format(np.nanmean(iop11S2['ar'][iop11S2['tempC'] >= 5])))"
   ]
  },
  {
   "cell_type": "markdown",
   "metadata": {},
   "source": [
    "# Average of $D_{mm}$ Median Values for $T \\leq 0^{\\circ}C$"
   ]
  },
  {
   "cell_type": "code",
   "execution_count": null,
   "metadata": {
    "ExecuteTime": {
     "end_time": "2018-08-08T05:11:10.816200Z",
     "start_time": "2018-08-08T05:11:10.807229Z"
    },
    "run_control": {
     "frozen": false,
     "read_only": false
    }
   },
   "outputs": [],
   "source": [
    "# DmmMed_TZ_lte0 = npAllSprls['binDmm_median_TZ'][lte0]\n",
    "# DmmMedAvg_TZ_lte0 = np.nanmean(DmmMed_TZ_lte0)\n",
    "# print('{}'.format(DmmMedAvg_TZ_lte0))\n",
    "\n",
    "print('{}'.format(np.nanmean(ufo4_S1['Dmm'][ufo4_S1['tempC'] <= 0])))\n",
    "print('{}'.format(np.nanmean(ufo4_S2['Dmm'][ufo4_S2['tempC'] <= 0])))\n",
    "\n",
    "DmmMed_SR_lte0 = npAllSprls['binDmm_median_SR'][lte0]\n",
    "DmmMedAvg_SR_lte0 = np.nanmean(DmmMed_SR_lte0)\n",
    "print('{}'.format(DmmMedAvg_SR_lte0))\n",
    "\n",
    "DmmMed_AR_lte0 = npAllSprls['binDmm_median_AR'][lte0]\n",
    "DmmMedAvg_AR_lte0 = np.nanmean(DmmMed_AR_lte0)\n",
    "print('{}'.format(DmmMedAvg_AR_lte0))\n",
    "print('{}'.format(np.nanmean(iop11S2['Dmm'][iop11S2['tempC'] <= 0])))"
   ]
  },
  {
   "cell_type": "markdown",
   "metadata": {},
   "source": [
    "# Average of $D_{mm}$ Median Values for $T \\geq 5^{\\circ}C$"
   ]
  },
  {
   "cell_type": "code",
   "execution_count": null,
   "metadata": {
    "ExecuteTime": {
     "end_time": "2018-08-08T05:11:42.300233Z",
     "start_time": "2018-08-08T05:11:42.293056Z"
    },
    "run_control": {
     "frozen": false,
     "read_only": false
    }
   },
   "outputs": [],
   "source": [
    "# DmmMed_TZ_gte5 = npAllSprls['binDmm_median_TZ'][gte5]\n",
    "# DmmMedAvg_TZ_gte5 = np.nanmean(DmmMed_TZ_gte5)\n",
    "# print('{}'.format(DmmMedAvg_TZ_gte5))\n",
    "\n",
    "print('{}'.format(np.nanmean(ufo4_S2['Dmm'][ufo4_S2['tempC'] >= 5])))\n",
    "\n",
    "DmmMed_SR_gte5 = npAllSprls['binDmm_median_SR'][gte5]\n",
    "DmmMedAvg_SR_gte5 = np.nanmean(DmmMed_SR_gte5)\n",
    "print('{}'.format(DmmMedAvg_SR_gte5))\n",
    "\n",
    "DmmMed_AR_gte5 = npAllSprls['binDmm_median_AR'][gte5]\n",
    "DmmMedAvg_AR_gte5 = np.nanmean(DmmMed_AR_gte5)\n",
    "print('{}'.format(DmmMedAvg_AR_gte5))\n",
    "\n",
    "print('{}'.format(np.nanmean(iop11S2['Dmm'][iop11S2['tempC'] >= 5])))"
   ]
  },
  {
   "cell_type": "markdown",
   "metadata": {},
   "source": [
    "# Average of $N_t$ Median Values for $T \\leq 0^{\\circ}C$"
   ]
  },
  {
   "cell_type": "code",
   "execution_count": null,
   "metadata": {
    "ExecuteTime": {
     "end_time": "2018-08-08T05:12:15.854707Z",
     "start_time": "2018-08-08T05:12:15.845535Z"
    },
    "run_control": {
     "frozen": false,
     "read_only": false
    }
   },
   "outputs": [],
   "source": [
    "# ntMed_TZ_lte0 = npAllSprls['binNt_median_TZ'][lte0]\n",
    "# ntMedAvg_TZ_lte0 = np.nanmean(ntMed_TZ_lte0)\n",
    "# print('{}'.format(ntMedAvg_TZ_lte0))\n",
    "\n",
    "print('{}'.format(np.nanmean(ufo4_S1['Nt'][ufo4_S1['tempC'] <= 0])))\n",
    "print('{}'.format(np.nanmean(ufo4_S2['Nt'][ufo4_S2['tempC'] <= 0])))\n",
    "\n",
    "ntMed_SR_lte0 = npAllSprls['binNt_median_SR'][lte0]\n",
    "ntMedAvg_SR_lte0 = np.nanmean(ntMed_SR_lte0)\n",
    "print('{}'.format(ntMedAvg_SR_lte0))\n",
    "\n",
    "ntMed_AR_lte0 = npAllSprls['binNt_median_AR'][lte0]\n",
    "ntMedAvg_AR_lte0 = np.nanmean(ntMed_AR_lte0)\n",
    "print('{}'.format(ntMedAvg_AR_lte0))\n",
    "print('{}'.format(np.nanmean(iop11S2['Nt'][iop11S2['tempC'] <= 0])))"
   ]
  },
  {
   "cell_type": "markdown",
   "metadata": {},
   "source": [
    "# Average of $N_t$ Median Values for $T \\geq 5^{\\circ}C$"
   ]
  },
  {
   "cell_type": "code",
   "execution_count": null,
   "metadata": {
    "ExecuteTime": {
     "end_time": "2018-08-08T05:12:50.797083Z",
     "start_time": "2018-08-08T05:12:50.786641Z"
    },
    "run_control": {
     "frozen": false,
     "read_only": false
    }
   },
   "outputs": [],
   "source": [
    "# ntMed_TZ_gte5 = npAllSprls['binNt_median_TZ'][gte5]\n",
    "# ntMedAvg_TZ_gte5 = np.nanmean(ntMed_TZ_gte5)\n",
    "# print('{}'.format(ntMedAvg_TZ_gte5))\n",
    "\n",
    "print('{}'.format(np.nanmean(ufo4_S2['Nt'][ufo4_S2['tempC'] >= 5])))\n",
    "\n",
    "ntMed_SR_gte5 = npAllSprls['binNt_median_SR'][gte5]\n",
    "ntMedAvg_SR_gte5 = np.nanmean(ntMed_SR_gte5)\n",
    "print('{}'.format(ntMedAvg_SR_gte5))\n",
    "\n",
    "ntMed_AR_gte5 = npAllSprls['binNt_median_AR'][gte5]\n",
    "ntMedAvg_AR_gte5 = np.nanmean(ntMed_AR_gte5)\n",
    "print('{}'.format(ntMedAvg_AR_gte5))\n",
    "print('{}'.format(np.nanmean(iop11S2['Nt'][iop11S2['tempC'] >= 5])))"
   ]
  },
  {
   "cell_type": "markdown",
   "metadata": {},
   "source": [
    "# Average of $TWC$ Median Values for $T \\leq 0^{\\circ}C$"
   ]
  },
  {
   "cell_type": "code",
   "execution_count": null,
   "metadata": {
    "ExecuteTime": {
     "end_time": "2018-08-08T05:13:38.474952Z",
     "start_time": "2018-08-08T05:13:38.465710Z"
    },
    "run_control": {
     "frozen": false,
     "read_only": false
    }
   },
   "outputs": [],
   "source": [
    "# twcMed_TZ_lte0 = npAllSprls['binTWC_median_TZ'][lte0]\n",
    "# twcMedAvg_TZ_lte0 = np.nanmean(twcMed_TZ_lte0)\n",
    "# print('{}'.format(twcMedAvg_TZ_lte0))\n",
    "\n",
    "print('{}'.format(np.nanmean(ufo4_S1['twc'][ufo4_S1['tempC'] <= 0])))\n",
    "print('{}'.format(np.nanmean(ufo4_S2['twc'][ufo4_S2['tempC'] <= 0])))\n",
    "\n",
    "twcMed_SR_lte0 = npAllSprls['binTWC_median_SR'][lte0]\n",
    "twcMedAvg_SR_lte0 = np.nanmean(twcMed_SR_lte0)\n",
    "print('{}'.format(twcMedAvg_SR_lte0))\n",
    "\n",
    "twcMed_AR_lte0 = npAllSprls['binTWC_median_AR'][lte0]\n",
    "twcMedAvg_AR_lte0 = np.nanmean(twcMed_AR_lte0)\n",
    "print('{}'.format(twcMedAvg_AR_lte0))\n",
    "print('{}'.format(np.nanmean(iop11S2['twc'][iop11S2['tempC'] <= 0])))"
   ]
  },
  {
   "cell_type": "markdown",
   "metadata": {},
   "source": [
    "# Average of $TWC$ Median Values for $T \\geq 5^{\\circ}C$"
   ]
  },
  {
   "cell_type": "code",
   "execution_count": null,
   "metadata": {
    "ExecuteTime": {
     "end_time": "2018-08-08T05:14:19.970566Z",
     "start_time": "2018-08-08T05:14:19.961563Z"
    },
    "run_control": {
     "frozen": false,
     "read_only": false
    }
   },
   "outputs": [],
   "source": [
    "# twcMed_TZ_gte5 = npAllSprls['binTWC_median_TZ'][gte5]\n",
    "# twcMedAvg_TZ_gte5 = np.nanmean(twcMed_TZ_gte5)\n",
    "# print('{}'.format(twcMedAvg_TZ_gte5))\n",
    "\n",
    "print('{}'.format(np.nanmean(ufo4_S2['twc'][ufo4_S2['tempC'] >= 5])))\n",
    "\n",
    "twcMed_SR_gte5 = npAllSprls['binTWC_median_SR'][gte5]\n",
    "twcMedAvg_SR_gte5 = np.nanmean(twcMed_SR_gte5)\n",
    "print('{}'.format(twcMedAvg_SR_gte5))\n",
    "\n",
    "twcMed_AR_gte5 = npAllSprls['binTWC_median_AR'][gte5]\n",
    "twcMedAvg_AR_gte5 = np.nanmean(twcMed_AR_gte5)\n",
    "print('{}'.format(twcMedAvg_AR_gte5))\n",
    "print('{}'.format(np.nanmean(iop11S2['twc'][iop11S2['tempC'] >= 5])))"
   ]
  },
  {
   "cell_type": "markdown",
   "metadata": {},
   "source": [
    "# ...\n",
    "# ...\n",
    "# ..."
   ]
  },
  {
   "cell_type": "code",
   "execution_count": null,
   "metadata": {
    "ExecuteTime": {
     "end_time": "2018-07-31T16:22:13.966716Z",
     "start_time": "2018-07-31T16:22:13.960517Z"
    }
   },
   "outputs": [],
   "source": [
    "top = -19\n",
    "bot = -9\n",
    "topTemp = np.where(temps == top)[0][0]\n",
    "botTemp = np.where(temps == bot)[0][0]+1"
   ]
  },
  {
   "cell_type": "code",
   "execution_count": null,
   "metadata": {
    "ExecuteTime": {
     "end_time": "2018-07-31T16:22:13.974992Z",
     "start_time": "2018-07-31T16:22:13.968867Z"
    }
   },
   "outputs": [],
   "source": [
    "temps[topTemp:botTemp]"
   ]
  },
  {
   "cell_type": "markdown",
   "metadata": {},
   "source": [
    "# Mean $ℛ_{RH}$ for $T \\leq 0^{\\circ}C$"
   ]
  },
  {
   "cell_type": "code",
   "execution_count": null,
   "metadata": {
    "ExecuteTime": {
     "end_time": "2018-08-08T05:15:18.498453Z",
     "start_time": "2018-08-08T05:15:18.485640Z"
    }
   },
   "outputs": [],
   "source": [
    "# RH_rStdv_TZ_lte0 = npAllSprls['binRH_stdv_TZ'][lte0]/npAllSprls['binRH_mean_TZ'][lte0]\n",
    "# print('Min:\\t{:.3f}'.format(np.nanmin(RH_rStdv_TZ_lte0)))\n",
    "# print('Max:\\t{:.3f}'.format(np.nanmax(RH_rStdv_TZ_lte0)))\n",
    "# print('Median:\\t{:.3f}'.format(np.nanmedian(RH_rStdv_TZ_lte0)))\n",
    "# print('**Mean:\\t{:.3f}\\n'.format(np.nanmean(RH_rStdv_TZ_lte0)))\n",
    "\n",
    "RH_rStdv_SR_lte0 = npAllSprls['binRH_stdv_SR'][lte0]/npAllSprls['binRH_mean_SR'][lte0]\n",
    "print('Min:\\t{:.3f}'.format(np.nanmin(RH_rStdv_SR_lte0)))\n",
    "print('Max:\\t{:.3f}'.format(np.nanmax(RH_rStdv_SR_lte0)))\n",
    "print('Median:\\t{:.3f}'.format(np.nanmedian(RH_rStdv_SR_lte0)))\n",
    "print('**Mean:\\t{:.3f}\\n'.format(np.nanmean(RH_rStdv_SR_lte0)))\n",
    "\n",
    "RH_rStdv_AR_lte0 = npAllSprls['binRH_stdv_AR'][lte0]/npAllSprls['binRH_mean_AR'][lte0]\n",
    "print('Min:\\t{:.3f}'.format(np.nanmin(RH_rStdv_AR_lte0)))\n",
    "print('Max:\\t{:.3f}'.format(np.nanmax(RH_rStdv_AR_lte0)))\n",
    "print('Median:\\t{:.3f}'.format(np.nanmedian(RH_rStdv_AR_lte0)))\n",
    "print('**Mean:\\t{:.3f}\\n'.format(np.nanmean(RH_rStdv_AR_lte0)))"
   ]
  },
  {
   "cell_type": "markdown",
   "metadata": {},
   "source": [
    "# Mean $ℛ_{RH}$ for $0^{\\circ}C < T < 5^{\\circ}C$"
   ]
  },
  {
   "cell_type": "code",
   "execution_count": null,
   "metadata": {
    "ExecuteTime": {
     "end_time": "2018-08-08T05:15:18.517411Z",
     "start_time": "2018-08-08T05:15:18.501155Z"
    }
   },
   "outputs": [],
   "source": [
    "# RH_rStdv_TZ_gt0lt5 = npAllSprls['binRH_stdv_TZ'][gt0lt5]/npAllSprls['binRH_mean_TZ'][gt0lt5]\n",
    "# print('Min:\\t{:.3f}'.format(np.nanmin(RH_rStdv_TZ_gt0lt5)))\n",
    "# print('Max:\\t{:.3f}'.format(np.nanmax(RH_rStdv_TZ_gt0lt5)))\n",
    "# print('Median:\\t{:.3f}'.format(np.nanmedian(RH_rStdv_TZ_gt0lt5)))\n",
    "# print('**Mean:\\t{:.3f}\\n'.format(np.nanmean(RH_rStdv_TZ_gt0lt5)))\n",
    "\n",
    "RH_rStdv_SR_gt0lt5 = npAllSprls['binRH_stdv_SR'][gt0lt5]/npAllSprls['binRH_mean_SR'][gt0lt5]\n",
    "print('Min:\\t{:.3f}'.format(np.nanmin(RH_rStdv_SR_gt0lt5)))\n",
    "print('Max:\\t{:.3f}'.format(np.nanmax(RH_rStdv_SR_gt0lt5)))\n",
    "print('Median:\\t{:.3f}'.format(np.nanmedian(RH_rStdv_SR_gt0lt5)))\n",
    "print('**Mean:\\t{:.3f}\\n'.format(np.nanmean(RH_rStdv_SR_gt0lt5)))\n",
    "\n",
    "RH_rStdv_AR_gt0lt5 = npAllSprls['binRH_stdv_AR'][gt0lt5]/npAllSprls['binRH_mean_AR'][gt0lt5]\n",
    "print('Min:\\t{:.3f}'.format(np.nanmin(RH_rStdv_AR_gt0lt5)))\n",
    "print('Max:\\t{:.3f}'.format(np.nanmax(RH_rStdv_AR_gt0lt5)))\n",
    "print('Median:\\t{:.3f}'.format(np.nanmedian(RH_rStdv_AR_gt0lt5)))\n",
    "print('**Mean:\\t{:.3f}\\n'.format(np.nanmean(RH_rStdv_AR_gt0lt5)))"
   ]
  },
  {
   "cell_type": "markdown",
   "metadata": {},
   "source": [
    "# Mean $ℛ_{RH}$ for $T \\geq 5^{\\circ}C$"
   ]
  },
  {
   "cell_type": "code",
   "execution_count": null,
   "metadata": {
    "ExecuteTime": {
     "end_time": "2018-08-08T05:15:18.532624Z",
     "start_time": "2018-08-08T05:15:18.520188Z"
    }
   },
   "outputs": [],
   "source": [
    "# RH_rStdv_TZ_gte5 = npAllSprls['binRH_stdv_TZ'][gte5]/npAllSprls['binRH_mean_TZ'][gte5]\n",
    "# print('Min:\\t{:.3f}'.format(np.nanmin(RH_rStdv_TZ_gte5)))\n",
    "# print('Max:\\t{:.3f}'.format(np.nanmax(RH_rStdv_TZ_gte5)))\n",
    "# print('Median:\\t{:.3f}'.format(np.nanmedian(RH_rStdv_TZ_gte5)))\n",
    "# print('**Mean:\\t{:.3f}\\n'.format(np.nanmean(RH_rStdv_TZ_gte5)))\n",
    "\n",
    "RH_rStdv_SR_gte5 = npAllSprls['binRH_stdv_SR'][gte5]/npAllSprls['binRH_mean_SR'][gte5]\n",
    "print('Min:\\t{:.3f}'.format(np.nanmin(RH_rStdv_SR_gte5)))\n",
    "print('Max:\\t{:.3f}'.format(np.nanmax(RH_rStdv_SR_gte5)))\n",
    "print('Median:\\t{:.3f}'.format(np.nanmedian(RH_rStdv_SR_gte5)))\n",
    "print('**Mean:\\t{:.3f}\\n'.format(np.nanmean(RH_rStdv_SR_gte5)))\n",
    "\n",
    "RH_rStdv_AR_gte5 = npAllSprls['binRH_stdv_AR'][gte5]/npAllSprls['binRH_mean_AR'][gte5]\n",
    "print('Min:\\t{:.3f}'.format(np.nanmin(RH_rStdv_AR_gte5)))\n",
    "print('Max:\\t{:.3f}'.format(np.nanmax(RH_rStdv_AR_gte5)))\n",
    "print('Median:\\t{:.3f}'.format(np.nanmedian(RH_rStdv_AR_gte5)))\n",
    "print('**Mean:\\t{:.3f}\\n'.format(np.nanmean(RH_rStdv_AR_gte5)))"
   ]
  },
  {
   "cell_type": "markdown",
   "metadata": {},
   "source": [
    "# Mean $ℛ_{𝒜}$ for $T \\leq 0^{\\circ}C$"
   ]
  },
  {
   "cell_type": "code",
   "execution_count": null,
   "metadata": {
    "ExecuteTime": {
     "end_time": "2018-08-08T05:15:18.549923Z",
     "start_time": "2018-08-08T05:15:18.535221Z"
    }
   },
   "outputs": [],
   "source": [
    "# ARat_rStdv_TZ_lte0 = npAllSprls['binARat_stdv_TZ'][lte0]/npAllSprls['binARat_mean_TZ'][lte0]\n",
    "# print('Min:\\t{:.3f}'.format(np.nanmin(ARat_rStdv_TZ_lte0)))\n",
    "# print('Max:\\t{:.3f}'.format(np.nanmax(ARat_rStdv_TZ_lte0)))\n",
    "# print('Median:\\t{:.3f}'.format(np.nanmedian(ARat_rStdv_TZ_lte0)))\n",
    "# print('**Mean:\\t{:.3f}\\n'.format(np.nanmean(ARat_rStdv_TZ_lte0)))\n",
    "\n",
    "ARat_rStdv_SR_lte0 = npAllSprls['binARat_stdv_SR'][lte0]/npAllSprls['binARat_mean_SR'][lte0]\n",
    "print('Min:\\t{:.3f}'.format(np.nanmin(ARat_rStdv_SR_lte0)))\n",
    "print('Max:\\t{:.3f}'.format(np.nanmax(ARat_rStdv_SR_lte0)))\n",
    "print('Median:\\t{:.3f}'.format(np.nanmedian(ARat_rStdv_SR_lte0)))\n",
    "print('**Mean:\\t{:.3f}\\n'.format(np.nanmean(ARat_rStdv_SR_lte0)))\n",
    "\n",
    "ARat_rStdv_AR_lte0 = npAllSprls['binARat_stdv_AR'][lte0]/npAllSprls['binARat_mean_AR'][lte0]\n",
    "print('Min:\\t{:.3f}'.format(np.nanmin(ARat_rStdv_AR_lte0)))\n",
    "print('Max:\\t{:.3f}'.format(np.nanmax(ARat_rStdv_AR_lte0)))\n",
    "print('Median:\\t{:.3f}'.format(np.nanmedian(ARat_rStdv_AR_lte0)))\n",
    "print('**Mean:\\t{:.3f}\\n'.format(np.nanmean(ARat_rStdv_AR_lte0)))"
   ]
  },
  {
   "cell_type": "markdown",
   "metadata": {},
   "source": [
    "# Mean $ℛ_{𝒜}$ for $0^{\\circ}C < T < 5^{\\circ}C$"
   ]
  },
  {
   "cell_type": "code",
   "execution_count": null,
   "metadata": {
    "ExecuteTime": {
     "end_time": "2018-08-08T05:15:18.566711Z",
     "start_time": "2018-08-08T05:15:18.553076Z"
    }
   },
   "outputs": [],
   "source": [
    "# ARat_rStdv_TZ_gt0lt5 = npAllSprls['binARat_stdv_TZ'][gt0lt5]/npAllSprls['binARat_mean_TZ'][gt0lt5]\n",
    "# print('Min:\\t{:.3f}'.format(np.nanmin(ARat_rStdv_TZ_gt0lt5)))\n",
    "# print('Max:\\t{:.3f}'.format(np.nanmax(ARat_rStdv_TZ_gt0lt5)))\n",
    "# print('Median:\\t{:.3f}'.format(np.nanmedian(ARat_rStdv_TZ_gt0lt5)))\n",
    "# print('**Mean:\\t{:.3f}\\n'.format(np.nanmean(ARat_rStdv_TZ_gt0lt5)))\n",
    "\n",
    "ARat_rStdv_SR_gt0lt5 = npAllSprls['binARat_stdv_SR'][gt0lt5]/npAllSprls['binARat_mean_SR'][gt0lt5]\n",
    "print('Min:\\t{:.3f}'.format(np.nanmin(ARat_rStdv_SR_gt0lt5)))\n",
    "print('Max:\\t{:.3f}'.format(np.nanmax(ARat_rStdv_SR_gt0lt5)))\n",
    "print('Median:\\t{:.3f}'.format(np.nanmedian(ARat_rStdv_SR_gt0lt5)))\n",
    "print('**Mean:\\t{:.3f}\\n'.format(np.nanmean(ARat_rStdv_SR_gt0lt5)))\n",
    "\n",
    "ARat_rStdv_AR_gt0lt5 = npAllSprls['binARat_stdv_AR'][gt0lt5]/npAllSprls['binARat_mean_AR'][gt0lt5]\n",
    "print('Min:\\t{:.3f}'.format(np.nanmin(ARat_rStdv_AR_gt0lt5)))\n",
    "print('Max:\\t{:.3f}'.format(np.nanmax(ARat_rStdv_AR_gt0lt5)))\n",
    "print('Median:\\t{:.3f}'.format(np.nanmedian(ARat_rStdv_AR_gt0lt5)))\n",
    "print('**Mean:\\t{:.3f}\\n'.format(np.nanmean(ARat_rStdv_AR_gt0lt5)))"
   ]
  },
  {
   "cell_type": "markdown",
   "metadata": {},
   "source": [
    "# Mean $ℛ_{𝒜}$ for $T \\geq 5^{\\circ}C$"
   ]
  },
  {
   "cell_type": "code",
   "execution_count": null,
   "metadata": {
    "ExecuteTime": {
     "end_time": "2018-08-08T05:15:18.580062Z",
     "start_time": "2018-08-08T05:15:18.569325Z"
    }
   },
   "outputs": [],
   "source": [
    "# ARat_rStdv_TZ_gte5 = npAllSprls['binARat_stdv_TZ'][gte5]/npAllSprls['binARat_mean_TZ'][gte5]\n",
    "# print('Min:\\t{:.3f}'.format(np.nanmin(ARat_rStdv_TZ_gte5)))\n",
    "# print('Max:\\t{:.3f}'.format(np.nanmax(ARat_rStdv_TZ_gte5)))\n",
    "# print('Median:\\t{:.3f}'.format(np.nanmedian(ARat_rStdv_TZ_gte5)))\n",
    "# print('**Mean:\\t{:.3f}\\n'.format(np.nanmean(ARat_rStdv_TZ_gte5)))\n",
    "\n",
    "ARat_rStdv_SR_gte5 = npAllSprls['binARat_stdv_SR'][gte5]/npAllSprls['binARat_mean_SR'][gte5]\n",
    "print('Min:\\t{:.3f}'.format(np.nanmin(ARat_rStdv_SR_gte5)))\n",
    "print('Max:\\t{:.3f}'.format(np.nanmax(ARat_rStdv_SR_gte5)))\n",
    "print('Median:\\t{:.3f}'.format(np.nanmedian(ARat_rStdv_SR_gte5)))\n",
    "print('**Mean:\\t{:.3f}\\n'.format(np.nanmean(ARat_rStdv_SR_gte5)))\n",
    "\n",
    "ARat_rStdv_AR_gte5 = npAllSprls['binARat_stdv_AR'][gte5]/npAllSprls['binARat_mean_AR'][gte5]\n",
    "print('Min:\\t{:.3f}'.format(np.nanmin(ARat_rStdv_AR_gte5)))\n",
    "print('Max:\\t{:.3f}'.format(np.nanmax(ARat_rStdv_AR_gte5)))\n",
    "print('Median:\\t{:.3f}'.format(np.nanmedian(ARat_rStdv_AR_gte5)))\n",
    "print('**Mean:\\t{:.3f}\\n'.format(np.nanmean(ARat_rStdv_AR_gte5)))"
   ]
  },
  {
   "cell_type": "markdown",
   "metadata": {},
   "source": [
    "# Mean $ℛ_{D_{mm}}$ for $T \\leq 0^{\\circ}C$"
   ]
  },
  {
   "cell_type": "code",
   "execution_count": null,
   "metadata": {
    "ExecuteTime": {
     "end_time": "2018-08-08T05:15:18.594987Z",
     "start_time": "2018-08-08T05:15:18.581925Z"
    }
   },
   "outputs": [],
   "source": [
    "# Dmm_rStdv_TZ_lte0 = npAllSprls['binDmm_stdv_TZ'][lte0]/npAllSprls['binDmm_mean_TZ'][lte0]\n",
    "# print('Min:\\t{:.3f}'.format(np.nanmin(Dmm_rStdv_TZ_lte0)))\n",
    "# print('Max:\\t{:.3f}'.format(np.nanmax(Dmm_rStdv_TZ_lte0)))\n",
    "# print('Median:\\t{:.3f}'.format(np.nanmedian(Dmm_rStdv_TZ_lte0)))\n",
    "# print('**Mean:\\t{:.3f}\\n'.format(np.nanmean(Dmm_rStdv_TZ_lte0)))\n",
    "\n",
    "Dmm_rStdv_SR_lte0 = npAllSprls['binDmm_stdv_SR'][lte0]/npAllSprls['binDmm_mean_SR'][lte0]\n",
    "print('Min:\\t{:.3f}'.format(np.nanmin(Dmm_rStdv_SR_lte0)))\n",
    "print('Max:\\t{:.3f}'.format(np.nanmax(Dmm_rStdv_SR_lte0)))\n",
    "print('Median:\\t{:.3f}'.format(np.nanmedian(Dmm_rStdv_SR_lte0)))\n",
    "print('**Mean:\\t{:.3f}\\n'.format(np.nanmean(Dmm_rStdv_SR_lte0)))\n",
    "\n",
    "Dmm_rStdv_AR_lte0 = npAllSprls['binDmm_stdv_AR'][lte0]/npAllSprls['binDmm_mean_AR'][lte0]\n",
    "print('Min:\\t{:.3f}'.format(np.nanmin(Dmm_rStdv_AR_lte0)))\n",
    "print('Max:\\t{:.3f}'.format(np.nanmax(Dmm_rStdv_AR_lte0)))\n",
    "print('Median:\\t{:.3f}'.format(np.nanmedian(Dmm_rStdv_AR_lte0)))\n",
    "print('**Mean:\\t{:.3f}\\n'.format(np.nanmean(Dmm_rStdv_AR_lte0)))"
   ]
  },
  {
   "cell_type": "markdown",
   "metadata": {},
   "source": [
    "# Mean $ℛ_{D_{mm}}$ for $0^{\\circ}C < T < 5^{\\circ}C$"
   ]
  },
  {
   "cell_type": "code",
   "execution_count": null,
   "metadata": {
    "ExecuteTime": {
     "end_time": "2018-08-08T05:15:18.614121Z",
     "start_time": "2018-08-08T05:15:18.597348Z"
    }
   },
   "outputs": [],
   "source": [
    "# Dmm_rStdv_TZ_gt0lt5 = npAllSprls['binDmm_stdv_TZ'][gt0lt5]/npAllSprls['binDmm_mean_TZ'][gt0lt5]\n",
    "# print('Min:\\t{:.3f}'.format(np.nanmin(Dmm_rStdv_TZ_gt0lt5)))\n",
    "# print('Max:\\t{:.3f}'.format(np.nanmax(Dmm_rStdv_TZ_gt0lt5)))\n",
    "# print('Median:\\t{:.3f}'.format(np.nanmedian(Dmm_rStdv_TZ_gt0lt5)))\n",
    "# print('**Mean:\\t{:.3f}\\n'.format(np.nanmean(Dmm_rStdv_TZ_gt0lt5)))\n",
    "\n",
    "Dmm_rStdv_SR_gt0lt5 = npAllSprls['binDmm_stdv_SR'][gt0lt5]/npAllSprls['binDmm_mean_SR'][gt0lt5]\n",
    "print('Min:\\t{:.3f}'.format(np.nanmin(Dmm_rStdv_SR_gt0lt5)))\n",
    "print('Max:\\t{:.3f}'.format(np.nanmax(Dmm_rStdv_SR_gt0lt5)))\n",
    "print('Median:\\t{:.3f}'.format(np.nanmedian(Dmm_rStdv_SR_gt0lt5)))\n",
    "print('**Mean:\\t{:.3f}\\n'.format(np.nanmean(Dmm_rStdv_SR_gt0lt5)))\n",
    "\n",
    "Dmm_rStdv_AR_gt0lt5 = npAllSprls['binDmm_stdv_AR'][gt0lt5]/npAllSprls['binDmm_mean_AR'][gt0lt5]\n",
    "print('Min:\\t{:.3f}'.format(np.nanmin(Dmm_rStdv_AR_gt0lt5)))\n",
    "print('Max:\\t{:.3f}'.format(np.nanmax(Dmm_rStdv_AR_gt0lt5)))\n",
    "print('Median:\\t{:.3f}'.format(np.nanmedian(Dmm_rStdv_AR_gt0lt5)))\n",
    "print('**Mean:\\t{:.3f}\\n'.format(np.nanmean(Dmm_rStdv_AR_gt0lt5)))"
   ]
  },
  {
   "cell_type": "markdown",
   "metadata": {},
   "source": [
    "# Mean $ℛ_{D_{mm}}$ for $T \\geq 5^{\\circ}C$"
   ]
  },
  {
   "cell_type": "code",
   "execution_count": null,
   "metadata": {
    "ExecuteTime": {
     "end_time": "2018-08-08T05:15:18.630713Z",
     "start_time": "2018-08-08T05:15:18.617775Z"
    }
   },
   "outputs": [],
   "source": [
    "# Dmm_rStdv_TZ_gte5 = npAllSprls['binDmm_stdv_TZ'][gte5]/npAllSprls['binDmm_mean_TZ'][gte5]\n",
    "# print('Min:\\t{:.3f}'.format(np.nanmin(Dmm_rStdv_TZ_gte5)))\n",
    "# print('Max:\\t{:.3f}'.format(np.nanmax(Dmm_rStdv_TZ_gte5)))\n",
    "# print('Median:\\t{:.3f}'.format(np.nanmedian(Dmm_rStdv_TZ_gte5)))\n",
    "# print('**Mean:\\t{:.3f}\\n'.format(np.nanmean(Dmm_rStdv_TZ_gte5)))\n",
    "\n",
    "Dmm_rStdv_SR_gte5 = npAllSprls['binDmm_stdv_SR'][gte5]/npAllSprls['binDmm_mean_SR'][gte5]\n",
    "print('Min:\\t{:.3f}'.format(np.nanmin(Dmm_rStdv_SR_gte5)))\n",
    "print('Max:\\t{:.3f}'.format(np.nanmax(Dmm_rStdv_SR_gte5)))\n",
    "print('Median:\\t{:.3f}'.format(np.nanmedian(Dmm_rStdv_SR_gte5)))\n",
    "print('**Mean:\\t{:.3f}\\n'.format(np.nanmean(Dmm_rStdv_SR_gte5)))\n",
    "\n",
    "Dmm_rStdv_AR_gte5 = npAllSprls['binDmm_stdv_AR'][gte5]/npAllSprls['binDmm_mean_AR'][gte5]\n",
    "print('Min:\\t{:.3f}'.format(np.nanmin(Dmm_rStdv_AR_gte5)))\n",
    "print('Max:\\t{:.3f}'.format(np.nanmax(Dmm_rStdv_AR_gte5)))\n",
    "print('Median:\\t{:.3f}'.format(np.nanmedian(Dmm_rStdv_AR_gte5)))\n",
    "print('**Mean:\\t{:.3f}\\n'.format(np.nanmean(Dmm_rStdv_AR_gte5)))"
   ]
  },
  {
   "cell_type": "markdown",
   "metadata": {},
   "source": [
    "# Mean $ℛ_{N_t}$ for $T \\leq 0^{\\circ}C$"
   ]
  },
  {
   "cell_type": "code",
   "execution_count": null,
   "metadata": {
    "ExecuteTime": {
     "end_time": "2018-08-08T05:15:18.647160Z",
     "start_time": "2018-08-08T05:15:18.633170Z"
    }
   },
   "outputs": [],
   "source": [
    "# Nt_rStdv_TZ_lte0 = npAllSprls['binNt_stdv_TZ'][lte0]/npAllSprls['binNt_mean_TZ'][lte0]\n",
    "# print('Min:\\t{:.3f}'.format(np.nanmin(Nt_rStdv_TZ_lte0)))\n",
    "# print('Max:\\t{:.3f}'.format(np.nanmax(Nt_rStdv_TZ_lte0)))\n",
    "# print('Median:\\t{:.3f}'.format(np.nanmedian(Nt_rStdv_TZ_lte0)))\n",
    "# print('**Mean:\\t{:.3f}\\n'.format(np.nanmean(Nt_rStdv_TZ_lte0)))\n",
    "\n",
    "Nt_rStdv_SR_lte0 = npAllSprls['binNt_stdv_SR'][lte0]/npAllSprls['binNt_mean_SR'][lte0]\n",
    "print('Min:\\t{:.3f}'.format(np.nanmin(Nt_rStdv_SR_lte0)))\n",
    "print('Max:\\t{:.3f}'.format(np.nanmax(Nt_rStdv_SR_lte0)))\n",
    "print('Median:\\t{:.3f}'.format(np.nanmedian(Nt_rStdv_SR_lte0)))\n",
    "print('**Mean:\\t{:.3f}\\n'.format(np.nanmean(Nt_rStdv_SR_lte0)))\n",
    "\n",
    "Nt_rStdv_AR_lte0 = npAllSprls['binNt_stdv_AR'][lte0]/npAllSprls['binNt_mean_AR'][lte0]\n",
    "print('Min:\\t{:.3f}'.format(np.nanmin(Nt_rStdv_AR_lte0)))\n",
    "print('Max:\\t{:.3f}'.format(np.nanmax(Nt_rStdv_AR_lte0)))\n",
    "print('Median:\\t{:.3f}'.format(np.nanmedian(Nt_rStdv_AR_lte0)))\n",
    "print('**Mean:\\t{:.3f}\\n'.format(np.nanmean(Nt_rStdv_AR_lte0)))"
   ]
  },
  {
   "cell_type": "markdown",
   "metadata": {},
   "source": [
    "# Mean $ℛ_{N_t}$ for $0^{\\circ}C < T < 5^{\\circ}C$"
   ]
  },
  {
   "cell_type": "code",
   "execution_count": null,
   "metadata": {
    "ExecuteTime": {
     "end_time": "2018-08-08T05:15:18.665819Z",
     "start_time": "2018-08-08T05:15:18.649832Z"
    }
   },
   "outputs": [],
   "source": [
    "# Nt_rStdv_TZ_gt0lt5 = npAllSprls['binNt_stdv_TZ'][gt0lt5]/npAllSprls['binNt_mean_TZ'][gt0lt5]\n",
    "# print('Min:\\t{:.3f}'.format(np.nanmin(Nt_rStdv_TZ_gt0lt5)))\n",
    "# print('Max:\\t{:.3f}'.format(np.nanmax(Nt_rStdv_TZ_gt0lt5)))\n",
    "# print('Median:\\t{:.3f}'.format(np.nanmedian(Nt_rStdv_TZ_gt0lt5)))\n",
    "# print('**Mean:\\t{:.3f}\\n'.format(np.nanmean(Nt_rStdv_TZ_gt0lt5)))\n",
    "\n",
    "Nt_rStdv_SR_gt0lt5 = npAllSprls['binNt_stdv_SR'][gt0lt5]/npAllSprls['binNt_mean_SR'][gt0lt5]\n",
    "print('Min:\\t{:.3f}'.format(np.nanmin(Nt_rStdv_SR_gt0lt5)))\n",
    "print('Max:\\t{:.3f}'.format(np.nanmax(Nt_rStdv_SR_gt0lt5)))\n",
    "print('Median:\\t{:.3f}'.format(np.nanmedian(Nt_rStdv_SR_gt0lt5)))\n",
    "print('**Mean:\\t{:.3f}\\n'.format(np.nanmean(Nt_rStdv_SR_gt0lt5)))\n",
    "\n",
    "Nt_rStdv_AR_gt0lt5 = npAllSprls['binNt_stdv_AR'][gt0lt5]/npAllSprls['binNt_mean_AR'][gt0lt5]\n",
    "print('Min:\\t{:.3f}'.format(np.nanmin(Nt_rStdv_AR_gt0lt5)))\n",
    "print('Max:\\t{:.3f}'.format(np.nanmax(Nt_rStdv_AR_gt0lt5)))\n",
    "print('Median:\\t{:.3f}'.format(np.nanmedian(Nt_rStdv_AR_gt0lt5)))\n",
    "print('**Mean:\\t{:.3f}\\n'.format(np.nanmean(Nt_rStdv_AR_gt0lt5)))"
   ]
  },
  {
   "cell_type": "markdown",
   "metadata": {},
   "source": [
    "# Mean $ℛ_{N_t}$ for $T \\geq 5^{\\circ}C$"
   ]
  },
  {
   "cell_type": "code",
   "execution_count": null,
   "metadata": {
    "ExecuteTime": {
     "end_time": "2018-08-08T05:15:18.679045Z",
     "start_time": "2018-08-08T05:15:18.668308Z"
    }
   },
   "outputs": [],
   "source": [
    "# Nt_rStdv_TZ_gte5 = npAllSprls['binNt_stdv_TZ'][gte5]/npAllSprls['binNt_mean_TZ'][gte5]\n",
    "# print('Min:\\t{:.3f}'.format(np.nanmin(Nt_rStdv_TZ_gte5)))\n",
    "# print('Max:\\t{:.3f}'.format(np.nanmax(Nt_rStdv_TZ_gte5)))\n",
    "# print('Median:\\t{:.3f}'.format(np.nanmedian(Nt_rStdv_TZ_gte5)))\n",
    "# print('**Mean:\\t{:.3f}\\n'.format(np.nanmean(Nt_rStdv_TZ_gte5)))\n",
    "\n",
    "Nt_rStdv_SR_gte5 = npAllSprls['binNt_stdv_SR'][gte5]/npAllSprls['binNt_mean_SR'][gte5]\n",
    "print('Min:\\t{:.3f}'.format(np.nanmin(Nt_rStdv_SR_gte5)))\n",
    "print('Max:\\t{:.3f}'.format(np.nanmax(Nt_rStdv_SR_gte5)))\n",
    "print('Median:\\t{:.3f}'.format(np.nanmedian(Nt_rStdv_SR_gte5)))\n",
    "print('**Mean:\\t{:.3f}\\n'.format(np.nanmean(Nt_rStdv_SR_gte5)))\n",
    "\n",
    "Nt_rStdv_AR_gte5 = npAllSprls['binNt_stdv_AR'][gte5]/npAllSprls['binNt_mean_AR'][gte5]\n",
    "print('Min:\\t{:.3f}'.format(np.nanmin(Nt_rStdv_AR_gte5)))\n",
    "print('Max:\\t{:.3f}'.format(np.nanmax(Nt_rStdv_AR_gte5)))\n",
    "print('Median:\\t{:.3f}'.format(np.nanmedian(Nt_rStdv_AR_gte5)))\n",
    "print('**Mean:\\t{:.3f}\\n'.format(np.nanmean(Nt_rStdv_AR_gte5)))"
   ]
  },
  {
   "cell_type": "markdown",
   "metadata": {},
   "source": [
    "# Mean $ℛ_{TWC}$ for $T \\leq 0^{\\circ}C$"
   ]
  },
  {
   "cell_type": "code",
   "execution_count": null,
   "metadata": {
    "ExecuteTime": {
     "end_time": "2018-08-08T05:15:18.693049Z",
     "start_time": "2018-08-08T05:15:18.681046Z"
    }
   },
   "outputs": [],
   "source": [
    "# TWC_rStdv_TZ_lte0 = npAllSprls['binTWC_stdv_TZ'][lte0]/npAllSprls['binTWC_mean_TZ'][lte0]\n",
    "# print('Min:\\t{:.3f}'.format(np.nanmin(TWC_rStdv_TZ_lte0)))\n",
    "# print('Max:\\t{:.3f}'.format(np.nanmax(TWC_rStdv_TZ_lte0)))\n",
    "# print('Median:\\t{:.3f}'.format(np.nanmedian(TWC_rStdv_TZ_lte0)))\n",
    "# print('**Mean:\\t{:.3f}\\n'.format(np.nanmean(TWC_rStdv_TZ_lte0)))\n",
    "\n",
    "TWC_rStdv_SR_lte0 = npAllSprls['binTWC_stdv_SR'][lte0]/npAllSprls['binTWC_mean_SR'][lte0]\n",
    "print('Min:\\t{:.3f}'.format(np.nanmin(TWC_rStdv_SR_lte0)))\n",
    "print('Max:\\t{:.3f}'.format(np.nanmax(TWC_rStdv_SR_lte0)))\n",
    "print('Median:\\t{:.3f}'.format(np.nanmedian(TWC_rStdv_SR_lte0)))\n",
    "print('**Mean:\\t{:.3f}\\n'.format(np.nanmean(TWC_rStdv_SR_lte0)))\n",
    "\n",
    "TWC_rStdv_AR_lte0 = npAllSprls['binTWC_stdv_AR'][lte0]/npAllSprls['binTWC_mean_AR'][lte0]\n",
    "print('Min:\\t{:.3f}'.format(np.nanmin(TWC_rStdv_AR_lte0)))\n",
    "print('Max:\\t{:.3f}'.format(np.nanmax(TWC_rStdv_AR_lte0)))\n",
    "print('Median:\\t{:.3f}'.format(np.nanmedian(TWC_rStdv_AR_lte0)))\n",
    "print('**Mean:\\t{:.3f}\\n'.format(np.nanmean(TWC_rStdv_AR_lte0)))"
   ]
  },
  {
   "cell_type": "markdown",
   "metadata": {},
   "source": [
    "# Mean $ℛ_{TWC}$ for $0^{\\circ}C < T < 5^{\\circ}C$"
   ]
  },
  {
   "cell_type": "code",
   "execution_count": null,
   "metadata": {
    "ExecuteTime": {
     "end_time": "2018-08-08T05:15:18.711831Z",
     "start_time": "2018-08-08T05:15:18.696026Z"
    }
   },
   "outputs": [],
   "source": [
    "# TWC_rStdv_TZ_gt0lt5 = npAllSprls['binTWC_stdv_TZ'][gt0lt5]/npAllSprls['binTWC_mean_TZ'][gt0lt5]\n",
    "# print('Min:\\t{:.3f}'.format(np.nanmin(TWC_rStdv_TZ_gt0lt5)))\n",
    "# print('Max:\\t{:.3f}'.format(np.nanmax(TWC_rStdv_TZ_gt0lt5)))\n",
    "# print('Median:\\t{:.3f}'.format(np.nanmedian(TWC_rStdv_TZ_gt0lt5)))\n",
    "# print('**Mean:\\t{:.3f}\\n'.format(np.nanmean(TWC_rStdv_TZ_gt0lt5)))\n",
    "\n",
    "TWC_rStdv_SR_gt0lt5 = npAllSprls['binTWC_stdv_SR'][gt0lt5]/npAllSprls['binTWC_mean_SR'][gt0lt5]\n",
    "print('Min:\\t{:.3f}'.format(np.nanmin(TWC_rStdv_SR_gt0lt5)))\n",
    "print('Max:\\t{:.3f}'.format(np.nanmax(TWC_rStdv_SR_gt0lt5)))\n",
    "print('Median:\\t{:.3f}'.format(np.nanmedian(TWC_rStdv_SR_gt0lt5)))\n",
    "print('**Mean:\\t{:.3f}\\n'.format(np.nanmean(TWC_rStdv_SR_gt0lt5)))\n",
    "\n",
    "TWC_rStdv_AR_gt0lt5 = npAllSprls['binTWC_stdv_AR'][gt0lt5]/npAllSprls['binTWC_mean_AR'][gt0lt5]\n",
    "print('Min:\\t{:.3f}'.format(np.nanmin(TWC_rStdv_AR_gt0lt5)))\n",
    "print('Max:\\t{:.3f}'.format(np.nanmax(TWC_rStdv_AR_gt0lt5)))\n",
    "print('Median:\\t{:.3f}'.format(np.nanmedian(TWC_rStdv_AR_gt0lt5)))\n",
    "print('**Mean:\\t{:.3f}\\n'.format(np.nanmean(TWC_rStdv_AR_gt0lt5)))"
   ]
  },
  {
   "cell_type": "markdown",
   "metadata": {},
   "source": [
    "# Mean $ℛ_{TWC}$ for $T \\geq 5^{\\circ}C$"
   ]
  },
  {
   "cell_type": "code",
   "execution_count": null,
   "metadata": {
    "ExecuteTime": {
     "end_time": "2018-08-08T05:15:18.728541Z",
     "start_time": "2018-08-08T05:15:18.716181Z"
    }
   },
   "outputs": [],
   "source": [
    "# TWC_rStdv_TZ_gte5 = npAllSprls['binTWC_stdv_TZ'][gte5]/npAllSprls['binTWC_mean_TZ'][gte5]\n",
    "# print('Min:\\t{:.3f}'.format(np.nanmin(TWC_rStdv_TZ_gte5)))\n",
    "# print('Max:\\t{:.3f}'.format(np.nanmax(TWC_rStdv_TZ_gte5)))\n",
    "# print('Median:\\t{:.3f}'.format(np.nanmedian(TWC_rStdv_TZ_gte5)))\n",
    "# print('**Mean:\\t{:.3f}\\n'.format(np.nanmean(TWC_rStdv_TZ_gte5)))\n",
    "\n",
    "TWC_rStdv_SR_gte5 = npAllSprls['binTWC_stdv_SR'][gte5]/npAllSprls['binTWC_mean_SR'][gte5]\n",
    "print('Min:\\t{:.3f}'.format(np.nanmin(TWC_rStdv_SR_gte5)))\n",
    "print('Max:\\t{:.3f}'.format(np.nanmax(TWC_rStdv_SR_gte5)))\n",
    "print('Median:\\t{:.3f}'.format(np.nanmedian(TWC_rStdv_SR_gte5)))\n",
    "print('**Mean:\\t{:.3f}\\n'.format(np.nanmean(TWC_rStdv_SR_gte5)))\n",
    "\n",
    "TWC_rStdv_AR_gte5 = npAllSprls['binTWC_stdv_AR'][gte5]/npAllSprls['binTWC_mean_AR'][gte5]\n",
    "print('Min:\\t{:.3f}'.format(np.nanmin(TWC_rStdv_AR_gte5)))\n",
    "print('Max:\\t{:.3f}'.format(np.nanmax(TWC_rStdv_AR_gte5)))\n",
    "print('Median:\\t{:.3f}'.format(np.nanmedian(TWC_rStdv_AR_gte5)))\n",
    "print('**Mean:\\t{:.3f}\\n'.format(np.nanmean(TWC_rStdv_AR_gte5)))"
   ]
  },
  {
   "cell_type": "markdown",
   "metadata": {
    "heading_collapsed": true
   },
   "source": [
    "# Standard Deviation"
   ]
  },
  {
   "cell_type": "code",
   "execution_count": null,
   "metadata": {
    "ExecuteTime": {
     "end_time": "2018-07-20T22:12:11.717598Z",
     "start_time": "2018-07-20T22:12:11.696890Z"
    },
    "hidden": true
   },
   "outputs": [],
   "source": [
    "Nt_stdv_SR_lte0 = npAllSprls['binNt_stdv_SR'][lte0]\n",
    "Nt_stdv_SR_gt0lt5 = npAllSprls['binNt_stdv_SR'][gt0lt5]\n",
    "Nt_stdv_SR_gte5 = npAllSprls['binNt_stdv_SR'][gte5]\n",
    "Nt_stdv_SR_custom = npAllSprls['binNt_stdv_SR'][topTemp:botTemp]\n",
    "print('StdDev T<=0:\\n{}'.format(Nt_stdv_SR_lte0))\n",
    "print('Min:\\t{:.2e}'.format(np.nanmin(Nt_stdv_SR_lte0)))\n",
    "print('Max:\\t{:.2e}'.format(np.nanmax(Nt_stdv_SR_lte0)))\n",
    "print('Mean:\\t{:.2e}'.format(np.nanmean(Nt_stdv_SR_lte0)))\n",
    "print('Median:\\t{:.2e}\\n'.format(np.nanmedian(Nt_stdv_SR_lte0)))\n",
    "\n",
    "print('StdDev 0<T<5:\\n{}'.format(Nt_stdv_SR_gt0lt5))\n",
    "print('Min:\\t{:.2e}'.format(np.nanmin(Nt_stdv_SR_gt0lt5)))\n",
    "print('Max:\\t{:.2e}'.format(np.nanmax(Nt_stdv_SR_gt0lt5)))\n",
    "print('Mean:\\t{:.2e}'.format(np.nanmean(Nt_stdv_SR_gt0lt5)))\n",
    "print('Median:\\t{:.2e}\\n'.format(np.nanmedian(Nt_stdv_SR_gt0lt5)))\n",
    "\n",
    "print('StdDev T>=5:\\n{}'.format(Nt_stdv_SR_gte5))\n",
    "print('Min:\\t{:.2e}'.format(np.nanmin(Nt_stdv_SR_gte5)))\n",
    "print('Max:\\t{:.2e}'.format(np.nanmax(Nt_stdv_SR_gte5)))\n",
    "print('Mean:\\t{:.2e}'.format(np.nanmean(Nt_stdv_SR_gte5)))\n",
    "print('Median:\\t{:.2e}\\n'.format(np.nanmedian(Nt_stdv_SR_gte5)))\n",
    "\n",
    "print('StdDev {}<=T<={}:\\n{}'.format(temps[topTemp],temps[botTemp],Nt_stdv_SR_custom))\n",
    "print('Min:\\t{:.2e}'.format(np.nanmin(Nt_stdv_SR_custom)))\n",
    "print('Max:\\t{:.2e}'.format(np.nanmax(Nt_stdv_SR_custom)))\n",
    "print('Mean:\\t{:.2e}'.format(np.nanmean(Nt_stdv_SR_custom)))\n",
    "print('Median:\\t{:.2e}\\n'.format(np.nanmedian(Nt_stdv_SR_custom)))"
   ]
  },
  {
   "cell_type": "markdown",
   "metadata": {
    "heading_collapsed": true
   },
   "source": [
    "# IQR"
   ]
  },
  {
   "cell_type": "code",
   "execution_count": null,
   "metadata": {
    "ExecuteTime": {
     "end_time": "2018-07-20T21:09:22.556337Z",
     "start_time": "2018-07-20T21:09:22.539587Z"
    },
    "hidden": true
   },
   "outputs": [],
   "source": [
    "Nt_iqr_SR_lte0 = npAllSprls['binNt_75pct_SR'][lte0] - npAllSprls['binNt_25pct_SR'][lte0]\n",
    "Nt_iqr_SR_gt0lt5 = npAllSprls['binNt_75pct_SR'][gt0lt5] - npAllSprls['binNt_25pct_SR'][gt0lt5]\n",
    "Nt_iqr_SR_gte5 = npAllSprls['binNt_75pct_SR'][gte5] - npAllSprls['binNt_25pct_SR'][gte5]\n",
    "Nt_iqr_SR_custom = npAllSprls['binNt_75pct_SR'][topTemp:botTemp] - npAllSprls['binNt_25pct_SR'][topTemp:botTemp]\n",
    "print('IQR T<=0:\\n{}'.format(Nt_iqr_SR_lte0))\n",
    "print('Min:\\t{:.2e}'.format(np.nanmin(Nt_iqr_SR_lte0)))\n",
    "print('Max:\\t{:.2e}'.format(np.nanmax(Nt_iqr_SR_lte0)))\n",
    "print('Mean:\\t{:.2e}'.format(np.nanmean(Nt_iqr_SR_lte0)))\n",
    "print('Median:\\t{:.2e}\\n'.format(np.nanmedian(Nt_iqr_SR_lte0)))\n",
    "\n",
    "print('IQR 0<T<5:\\n{}'.format(Nt_iqr_SR_gt0lt5))\n",
    "print('Min:\\t{:.2e}'.format(np.nanmin(Nt_iqr_SR_gt0lt5)))\n",
    "print('Max:\\t{:.2e}'.format(np.nanmax(Nt_iqr_SR_gt0lt5)))\n",
    "print('Mean:\\t{:.2e}'.format(np.nanmean(Nt_iqr_SR_gt0lt5)))\n",
    "print('Median:\\t{:.2e}\\n'.format(np.nanmedian(Nt_iqr_SR_gt0lt5)))\n",
    "\n",
    "print('IQR T>=5:\\n{}'.format(Nt_iqr_SR_gte5))\n",
    "print('Min:\\t{:.2e}'.format(np.nanmin(Nt_iqr_SR_gte5)))\n",
    "print('Max:\\t{:.2e}'.format(np.nanmax(Nt_iqr_SR_gte5)))\n",
    "print('Mean:\\t{:.2e}'.format(np.nanmean(Nt_iqr_SR_gte5)))\n",
    "print('Median:\\t{:.2e}\\n'.format(np.nanmedian(Nt_iqr_SR_gte5)))\n",
    "\n",
    "print('IQR {}<=T<={}:\\n{}'.format(temps[topTemp],temps[botTemp],Nt_iqr_SR_custom))\n",
    "print('Min:\\t{:.2e}'.format(np.nanmin(Nt_iqr_SR_custom)))\n",
    "print('Max:\\t{:.2e}'.format(np.nanmax(Nt_iqr_SR_custom)))\n",
    "print('Mean:\\t{:.2e}'.format(np.nanmean(Nt_iqr_SR_custom)))\n",
    "print('Median:\\t{:.2e}\\n'.format(np.nanmedian(Nt_iqr_SR_custom)))"
   ]
  }
 ],
 "metadata": {
  "anaconda-cloud": {},
  "kernelspec": {
   "display_name": "Python 3",
   "language": "python",
   "name": "python3"
  },
  "language_info": {
   "codemirror_mode": {
    "name": "ipython",
    "version": 3
   },
   "file_extension": ".py",
   "mimetype": "text/x-python",
   "name": "python",
   "nbconvert_exporter": "python",
   "pygments_lexer": "ipython3",
   "version": "3.5.5"
  },
  "varInspector": {
   "cols": {
    "lenName": 16,
    "lenType": 16,
    "lenVar": 40
   },
   "kernels_config": {
    "python": {
     "delete_cmd_postfix": "",
     "delete_cmd_prefix": "del ",
     "library": "var_list.py",
     "varRefreshCmd": "print(var_dic_list())"
    },
    "r": {
     "delete_cmd_postfix": ") ",
     "delete_cmd_prefix": "rm(",
     "library": "var_list.r",
     "varRefreshCmd": "cat(var_dic_list()) "
    }
   },
   "position": {
    "height": "491px",
    "left": "1166px",
    "right": "20px",
    "top": "120px",
    "width": "350px"
   },
   "types_to_exclude": [
    "module",
    "function",
    "builtin_function_or_method",
    "instance",
    "_Feature"
   ],
   "window_display": false
  }
 },
 "nbformat": 4,
 "nbformat_minor": 1
}
